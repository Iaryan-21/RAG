{
 "cells": [
  {
   "cell_type": "code",
   "execution_count": 1,
   "metadata": {},
   "outputs": [],
   "source": [
    "import os \n",
    "import requests"
   ]
  },
  {
   "cell_type": "code",
   "execution_count": 2,
   "metadata": {},
   "outputs": [
    {
     "name": "stdout",
     "output_type": "stream",
     "text": [
      "[INFO] File {pdf_path} already exists.\n"
     ]
    }
   ],
   "source": [
    "pdf_path = \"world_geo.pdf\"\n",
    "if not os.path.exists(pdf_path):\n",
    "    print('[INFO] The file does not exist, Downloading...')\n",
    "    url  = \"https://www.iipa.org.in/upload/world_geo.pdf\"\n",
    "    filename = pdf_path \n",
    "    response = requests.get(url)\n",
    "    if response.status_code == 200:\n",
    "        with open(filename, \"wb\") as file:\n",
    "            file.write(response.content)\n",
    "            print(f\"[INFO] The file has been downloaded as  {filename}\")\n",
    "    else:\n",
    "        print(f\"[INFO] Failed to download the file. Status Code: {response.status_code}\")\n",
    "else:\n",
    "    print(\"[INFO] File {pdf_path} already exists.\")"
   ]
  },
  {
   "cell_type": "markdown",
   "metadata": {},
   "source": [
    "PREPROCESS "
   ]
  },
  {
   "cell_type": "code",
   "execution_count": 3,
   "metadata": {},
   "outputs": [
    {
     "data": {
      "application/vnd.jupyter.widget-view+json": {
       "model_id": "c0d123ff684748418b13072f8053a628",
       "version_major": 2,
       "version_minor": 0
      },
      "text/plain": [
       "0it [00:00, ?it/s]"
      ]
     },
     "metadata": {},
     "output_type": "display_data"
    },
    {
     "data": {
      "text/plain": [
       "[{'page_number': 0,\n",
       "  'page_char_count': 80,\n",
       "  'page_word_count': 20,\n",
       "  'page_sentence_count': 1,\n",
       "  'page_token_count': 20.0,\n",
       "  'text': '1      IIPA2022  22 World Geography  Short Answers PKP-03 by Dr Amit Kumar Singh'},\n",
       " {'page_number': 1,\n",
       "  'page_char_count': 4596,\n",
       "  'page_word_count': 163,\n",
       "  'page_sentence_count': 43,\n",
       "  'page_token_count': 1149.0,\n",
       "  'text': '2  Contents 1.  Origin of Solar System and Sun ........................................................................................................... 6 2. Stars, Sun & Planets ............................................................................................................................. 8 Sun Statistics ....................................................................................................................................... 8 Solar Eclipse ........................................................................................................................................ 9 Lunar Eclipse ....................................................................................................................................... 9 The Planets .......................................................................................................................................... 9 3. Latitudes and Longitudes ................................................................................................................... 11 Latitudes ........................................................................................................................................... 11 Heat Zones ........................................................................................................................................ 12 Longitudes ......................................................................................................................................... 13 Time Zones ........................................................................................................................................ 14 4. Motions of the Earth:  Rotation and Revolution. ................................................................................ 15 Rotation ............................................................................................................................................ 15 The Coriolis Force. ............................................................................................................................. 15 Revolution ......................................................................................................................................... 15 Summer solstice ................................................................................................................................ 16 Winter solstice................................................................................................................................... 17 Equinox ............................................................................................................................................. 17 Effects of revolution .......................................................................................................................... 17 5. Geomorphic Processes: Endogenic Forces and Evolution of Landforms .............................................. 18 Endogenic Forces ............................................................................................................................... 18 Forces of Compression: ............................................................................................................... 20 Exogenic Forces ................................................................................................................................. 20 6. Origin of the Earth ............................................................................................................................. 21 7. Interior Structure of the Earth ........................................................................................................... 24 8. Temperature, Pressure and Density of the Earth’s Interior ................................................................. 28 8. Volcanoes .......................................................................................................................................... 29 Causes of earthquakes ....................................................................................................................... 29 Natural forces .................................................................................................................................... 30 Tectonics ............................................................................................................................................... 30 Wadati–Benioff zone ......................................................................................................................... 31'}]"
      ]
     },
     "execution_count": 3,
     "metadata": {},
     "output_type": "execute_result"
    }
   ],
   "source": [
    "import fitz \n",
    "from tqdm.auto import tqdm \n",
    "\n",
    "def text_formatter(text: str) -> str:\n",
    "    cleaned_text = text.replace(\"\\n\", \"\").strip()\n",
    "    return cleaned_text \n",
    "\n",
    "def o_r_pdf(pdf_path: str) -> list[dict]:\n",
    "    doc = fitz.open(pdf_path)\n",
    "    pages_and_text = []\n",
    "    for page_number, page in tqdm(enumerate(doc)):\n",
    "        text = page.get_text()\n",
    "        text = text_formatter(text=text)\n",
    "        pages_and_text.append({\"page_number\": page_number,\n",
    "        \"page_char_count\" : len(text),\n",
    "        \"page_word_count\" : len(text.split(\" \")),\n",
    "        \"page_sentence_count\" : len(text.split(\". \")),\n",
    "        \"page_token_count\" : len(text) / 4,\n",
    "        \"text\": text}) # One token = 4 characters\n",
    "\n",
    "    return pages_and_text\n",
    "\n",
    "pages_and_text = o_r_pdf(pdf_path = pdf_path)\n",
    "pages_and_text[:2]"
   ]
  },
  {
   "cell_type": "code",
   "execution_count": 4,
   "metadata": {},
   "outputs": [
    {
     "data": {
      "text/plain": [
       "[{'page_number': 59,\n",
       "  'page_char_count': 1195,\n",
       "  'page_word_count': 216,\n",
       "  'page_sentence_count': 10,\n",
       "  'page_token_count': 298.75,\n",
       "  'text': '60  16. Bottom topography of the Atlantic Oceans  Atlantic Ocean The Atlantic Ocean located between North and South Americas in the west and Europe and Africa in the east covers an area of 82,000,000 km2 which is 1/6th of the geographical area of the globe and half of the area of the Pacific Ocean. The ‘S’ shape of the ocean indicates the fact that landmasses (continents) on its either side were once a contiguous part. The Atlantic Ocean was formed due to drifting of North and South Americas to the west due to plate tectonics. The ocean widens to the south of equator and attains the maximum width of 5,920 km at 35°S latitude. It narrows down towards the equator. It is only 2560 km wide between Liberian coast and Cape Sao Roque. The width further increases northward and it becomes 4800 km at 40°N latitude. It narrows down in the extreme north where it maintains its contact with the Arctic Ocean through Norwegian Sea, Denmark Strait and Davis Bay. \\uf0b7 The Atlantic Ocean located between North and South Americas in the west and Europe and Africa in the east covers an area of 82,000,000 km2which is 1/6th of the geographical area of the globe and half of the area of the Pacific Ocean.'},\n",
       " {'page_number': 69,\n",
       "  'page_char_count': 1925,\n",
       "  'page_word_count': 324,\n",
       "  'page_sentence_count': 18,\n",
       "  'page_token_count': 481.25,\n",
       "  'text': '70  (6) Agulhas-Natal basin is an elongated basin which is bordered by Madagascar ridge in the north and north-east, Prince Edward Crozet Ridge in the east and the S.E. African coast in the west and north-west, Average depth is 3,600m. (7) Atlantic- Indian – Antarctic basin is in fact the eastward continu-ation of Atlantic – Antarctic Basin. It stretches upto 70°E longitude and is bordered by Prince Edward Crozet Ridge in the north, Antarctica in the south and Kerguelen Gassberg Ridge in the north-east. Average depth is 3,600m.  (8) Eastern Indian-Antarctic basin is located between Amsterdam – St. Paul Plateau and Indian-Antarctic Ridge in the north and north-east and Antarctica in the south. The depth varies from 3,600m to 4,800m. Kerguelen – Gassberg Ridge separates the basin from the Atlantic – Indian-Antarctic Basin. (9) West Australian basin is the most extensive basin and forms rectangular shape surrounded by S.E. Indian Ridge in the south – west, Ninety East Ridge in the west, continental shelves of Java-Sumatra in the north-east and the continental shelf of west Australia, Aver-age depth varies from 3,600m to 6,100m but the central part of the basin is 6,459 m deep.  (10) Mid-Indian basin is bordered by the central ridge in the west and the south-west, by Ninety East Ridge in the east and by the Bengal plateau in the north. The average depth of outer part ranges from 3,600m to 6,800m while the depth of the central part of the basin ranges between 4,800m and 6,100m.  Deeps and Trenches:  There are very few deeps and trenches in the Indian Ocean. About 60 per cent of the Ocean consists of deep sea plains with depth ranging from 3,600m to 5,487m. Important deep sea plains are Somali Abyssal plain. Ceylon (Sri Lanka) Abyssal plain, Indian Abyssal Plain, (4,380m) etc. Significant trenches are Java or Sunda Trench (7,450m deep), Ob Trench (6,875m deep), Mauritius Trench, Amirante Trench etc'},\n",
       " {'page_number': 37,\n",
       "  'page_char_count': 2328,\n",
       "  'page_word_count': 389,\n",
       "  'page_sentence_count': 17,\n",
       "  'page_token_count': 582.0,\n",
       "  'text': \"38  decline. When the height difference between the uplands and the valley bottoms reaches the maximum, slope decline becomes an important phenomenon. The slope of the upland begins to decline faster than the incision or dissection by any river stream. This effectively leads to the decrease in the relief features of height and the difference between the uplands and the bottom of valleys starts to lessen and diminish gradually. The Old Age Stage The stage following the mature stage is the old age' stage of relief development. In old age, the initially uplifted terrain feature gradually diminishes or reduces to a surface known as the peneplain. During the old age, which is the latest stage in the process, the erosion has been acting upon the terrain so long that although the terrain was at a significant height when uplifted, it is now reduced to a lowland which is known as the peneplain. The peneplain is usually at sea level and sometimes is reduced so much that it drowns around the nearest water bodies. Although some of the peneplains may be submerged, some may maintain the residual height from the initial upliftment. The Second Geomorphic Cycle Following old age, the second geomorphic cycle starts again with the upliftment of the terrain. One of the important factors according to this theory of Davis geomorphic cycle which explains the concepts of geomorphic cycles and landscape development, is the contribution of time in the process of erosion. Time plays an important role according to the theory in the entire of erosion But, there are certain cases when during any of the stages of the geomorphic cycle to upliftment can start before completion of old age. This event when it occurs is known as rejuvenation. It may or may not be a common phenomenon for a particular relief structure. This is because according to Davis, the full geomorphic cycle was a rare or special case as there are continuous geological changes taking place throughout the world which can cause changes in the stages of the geomorphic cycle. This theory of the evolution of landscapes applies to hilltops, valleys, mountains, and river drainage systems. Based on this theory, it is assumed that once the stage of any landform is known, the history of the landform development can be known according to the established principles\"}]"
      ]
     },
     "execution_count": 4,
     "metadata": {},
     "output_type": "execute_result"
    }
   ],
   "source": [
    "import random \n",
    "\n",
    "random.sample(pages_and_text, k=3)"
   ]
  },
  {
   "cell_type": "code",
   "execution_count": 5,
   "metadata": {},
   "outputs": [
    {
     "data": {
      "text/html": [
       "<div>\n",
       "<style scoped>\n",
       "    .dataframe tbody tr th:only-of-type {\n",
       "        vertical-align: middle;\n",
       "    }\n",
       "\n",
       "    .dataframe tbody tr th {\n",
       "        vertical-align: top;\n",
       "    }\n",
       "\n",
       "    .dataframe thead th {\n",
       "        text-align: right;\n",
       "    }\n",
       "</style>\n",
       "<table border=\"1\" class=\"dataframe\">\n",
       "  <thead>\n",
       "    <tr style=\"text-align: right;\">\n",
       "      <th></th>\n",
       "      <th>page_number</th>\n",
       "      <th>page_char_count</th>\n",
       "      <th>page_word_count</th>\n",
       "      <th>page_sentence_count</th>\n",
       "      <th>page_token_count</th>\n",
       "      <th>text</th>\n",
       "    </tr>\n",
       "  </thead>\n",
       "  <tbody>\n",
       "    <tr>\n",
       "      <th>0</th>\n",
       "      <td>0</td>\n",
       "      <td>80</td>\n",
       "      <td>20</td>\n",
       "      <td>1</td>\n",
       "      <td>20.0</td>\n",
       "      <td>1      IIPA2022  22 World Geography  Short Ans...</td>\n",
       "    </tr>\n",
       "    <tr>\n",
       "      <th>1</th>\n",
       "      <td>1</td>\n",
       "      <td>4596</td>\n",
       "      <td>163</td>\n",
       "      <td>43</td>\n",
       "      <td>1149.0</td>\n",
       "      <td>2  Contents 1.  Origin of Solar System and Sun...</td>\n",
       "    </tr>\n",
       "    <tr>\n",
       "      <th>2</th>\n",
       "      <td>2</td>\n",
       "      <td>4448</td>\n",
       "      <td>208</td>\n",
       "      <td>40</td>\n",
       "      <td>1112.0</td>\n",
       "      <td>3  Types of Volcanoes ...........................</td>\n",
       "    </tr>\n",
       "    <tr>\n",
       "      <th>3</th>\n",
       "      <td>3</td>\n",
       "      <td>4560</td>\n",
       "      <td>203</td>\n",
       "      <td>44</td>\n",
       "      <td>1140.0</td>\n",
       "      <td>4  Continental Slope ............................</td>\n",
       "    </tr>\n",
       "    <tr>\n",
       "      <th>4</th>\n",
       "      <td>4</td>\n",
       "      <td>3474</td>\n",
       "      <td>178</td>\n",
       "      <td>31</td>\n",
       "      <td>868.5</td>\n",
       "      <td>5  Insolation or Incoming Solar Radiation .......</td>\n",
       "    </tr>\n",
       "  </tbody>\n",
       "</table>\n",
       "</div>"
      ],
      "text/plain": [
       "   page_number  page_char_count  page_word_count  page_sentence_count  \\\n",
       "0            0               80               20                    1   \n",
       "1            1             4596              163                   43   \n",
       "2            2             4448              208                   40   \n",
       "3            3             4560              203                   44   \n",
       "4            4             3474              178                   31   \n",
       "\n",
       "   page_token_count                                               text  \n",
       "0              20.0  1      IIPA2022  22 World Geography  Short Ans...  \n",
       "1            1149.0  2  Contents 1.  Origin of Solar System and Sun...  \n",
       "2            1112.0  3  Types of Volcanoes ...........................  \n",
       "3            1140.0  4  Continental Slope ............................  \n",
       "4             868.5  5  Insolation or Incoming Solar Radiation .......  "
      ]
     },
     "execution_count": 5,
     "metadata": {},
     "output_type": "execute_result"
    }
   ],
   "source": [
    "import pandas as pd \n",
    "\n",
    "df = pd.DataFrame(pages_and_text)\n",
    "df.head()"
   ]
  },
  {
   "cell_type": "code",
   "execution_count": 6,
   "metadata": {},
   "outputs": [
    {
     "data": {
      "text/html": [
       "<div>\n",
       "<style scoped>\n",
       "    .dataframe tbody tr th:only-of-type {\n",
       "        vertical-align: middle;\n",
       "    }\n",
       "\n",
       "    .dataframe tbody tr th {\n",
       "        vertical-align: top;\n",
       "    }\n",
       "\n",
       "    .dataframe thead th {\n",
       "        text-align: right;\n",
       "    }\n",
       "</style>\n",
       "<table border=\"1\" class=\"dataframe\">\n",
       "  <thead>\n",
       "    <tr style=\"text-align: right;\">\n",
       "      <th></th>\n",
       "      <th>page_number</th>\n",
       "      <th>page_char_count</th>\n",
       "      <th>page_word_count</th>\n",
       "      <th>page_sentence_count</th>\n",
       "      <th>page_token_count</th>\n",
       "    </tr>\n",
       "  </thead>\n",
       "  <tbody>\n",
       "    <tr>\n",
       "      <th>count</th>\n",
       "      <td>129.00</td>\n",
       "      <td>129.00</td>\n",
       "      <td>129.00</td>\n",
       "      <td>129.00</td>\n",
       "      <td>129.00</td>\n",
       "    </tr>\n",
       "    <tr>\n",
       "      <th>mean</th>\n",
       "      <td>64.00</td>\n",
       "      <td>1655.45</td>\n",
       "      <td>262.89</td>\n",
       "      <td>16.95</td>\n",
       "      <td>413.86</td>\n",
       "    </tr>\n",
       "    <tr>\n",
       "      <th>std</th>\n",
       "      <td>37.38</td>\n",
       "      <td>732.36</td>\n",
       "      <td>96.85</td>\n",
       "      <td>7.75</td>\n",
       "      <td>183.09</td>\n",
       "    </tr>\n",
       "    <tr>\n",
       "      <th>min</th>\n",
       "      <td>0.00</td>\n",
       "      <td>80.00</td>\n",
       "      <td>20.00</td>\n",
       "      <td>1.00</td>\n",
       "      <td>20.00</td>\n",
       "    </tr>\n",
       "    <tr>\n",
       "      <th>25%</th>\n",
       "      <td>32.00</td>\n",
       "      <td>1146.00</td>\n",
       "      <td>189.00</td>\n",
       "      <td>12.00</td>\n",
       "      <td>286.50</td>\n",
       "    </tr>\n",
       "    <tr>\n",
       "      <th>50%</th>\n",
       "      <td>64.00</td>\n",
       "      <td>1699.00</td>\n",
       "      <td>264.00</td>\n",
       "      <td>16.00</td>\n",
       "      <td>424.75</td>\n",
       "    </tr>\n",
       "    <tr>\n",
       "      <th>75%</th>\n",
       "      <td>96.00</td>\n",
       "      <td>2055.00</td>\n",
       "      <td>341.00</td>\n",
       "      <td>21.00</td>\n",
       "      <td>513.75</td>\n",
       "    </tr>\n",
       "    <tr>\n",
       "      <th>max</th>\n",
       "      <td>128.00</td>\n",
       "      <td>4596.00</td>\n",
       "      <td>424.00</td>\n",
       "      <td>44.00</td>\n",
       "      <td>1149.00</td>\n",
       "    </tr>\n",
       "  </tbody>\n",
       "</table>\n",
       "</div>"
      ],
      "text/plain": [
       "       page_number  page_char_count  page_word_count  page_sentence_count  \\\n",
       "count       129.00           129.00           129.00               129.00   \n",
       "mean         64.00          1655.45           262.89                16.95   \n",
       "std          37.38           732.36            96.85                 7.75   \n",
       "min           0.00            80.00            20.00                 1.00   \n",
       "25%          32.00          1146.00           189.00                12.00   \n",
       "50%          64.00          1699.00           264.00                16.00   \n",
       "75%          96.00          2055.00           341.00                21.00   \n",
       "max         128.00          4596.00           424.00                44.00   \n",
       "\n",
       "       page_token_count  \n",
       "count            129.00  \n",
       "mean             413.86  \n",
       "std              183.09  \n",
       "min               20.00  \n",
       "25%              286.50  \n",
       "50%              424.75  \n",
       "75%              513.75  \n",
       "max             1149.00  "
      ]
     },
     "execution_count": 6,
     "metadata": {},
     "output_type": "execute_result"
    }
   ],
   "source": [
    "df.describe().round(2)"
   ]
  },
  {
   "cell_type": "code",
   "execution_count": 7,
   "metadata": {},
   "outputs": [
    {
     "data": {
      "text/plain": [
       "[I am a shitty person., I am a good man., I am ugly.]"
      ]
     },
     "execution_count": 7,
     "metadata": {},
     "output_type": "execute_result"
    }
   ],
   "source": [
    "from spacy.lang.en import English\n",
    "\n",
    "nlp = English()\n",
    "#Adding a sentencizer pipeline\n",
    "nlp.add_pipe(\"sentencizer\")\n",
    "\n",
    "#Creating a documnet instance as an example\n",
    "\n",
    "doc = nlp(\"I am a shitty person. I am a good man. I am ugly.\")\n",
    "assert len(list(doc.sents)) == 3\n",
    "\n",
    "list(doc.sents)\n"
   ]
  },
  {
   "cell_type": "code",
   "execution_count": 8,
   "metadata": {},
   "outputs": [
    {
     "data": {
      "text/plain": [
       "{'page_number': 0,\n",
       " 'page_char_count': 80,\n",
       " 'page_word_count': 20,\n",
       " 'page_sentence_count': 1,\n",
       " 'page_token_count': 20.0,\n",
       " 'text': '1      IIPA2022  22 World Geography  Short Answers PKP-03 by Dr Amit Kumar Singh'}"
      ]
     },
     "execution_count": 8,
     "metadata": {},
     "output_type": "execute_result"
    }
   ],
   "source": [
    "pages_and_text[0]"
   ]
  },
  {
   "cell_type": "code",
   "execution_count": 9,
   "metadata": {},
   "outputs": [
    {
     "data": {
      "application/vnd.jupyter.widget-view+json": {
       "model_id": "a8726c3805414574ad8d240f75051e33",
       "version_major": 2,
       "version_minor": 0
      },
      "text/plain": [
       "  0%|          | 0/129 [00:00<?, ?it/s]"
      ]
     },
     "metadata": {},
     "output_type": "display_data"
    }
   ],
   "source": [
    "for item in tqdm(pages_and_text):\n",
    "    item[\"sentences\"] = list(nlp(item[\"text\"]).sents)\n",
    "\n",
    "    item[\"sentences\"] = [str(sentence) for sentence in item[\"sentences\"]]\n",
    "\n",
    "    item[\"page_sentence_count_spacy\"] = len(item[\"sentences\"])\n"
   ]
  },
  {
   "cell_type": "code",
   "execution_count": 10,
   "metadata": {},
   "outputs": [
    {
     "data": {
      "text/plain": [
       "[{'page_number': 19,\n",
       "  'page_char_count': 1344,\n",
       "  'page_word_count': 216,\n",
       "  'page_sentence_count': 14,\n",
       "  'page_token_count': 336.0,\n",
       "  'text': '20  Forces of Compression: Forces of compression are the forces which push rock strata against a hard plane from one side or from both sides. The compressional forces lead to the bending of rock layers and thus lead to the formation of Fold Mountains. Most of the great mountain chains of the world like the Himalayas, the Rockies (N. America), the Andes (S. America), the Alps (Europe) etc are formed in this manner. Exogenic Forces Exogenic forces are those forces which derive their strength from the earth’s exterior or are originated within the earth’s atmosphere. Examples of forces – the wind, waves, water etc. Examples of exogenic processes – weathering, mass movement, erosion, deposition. Exogenic forces are mainly land wearing forces. Exogenic forces can take the form of weathering, erosion, and deposition. Weathering is the breaking of rocks on the earth’s surface by different agents like rivers, wind, sea waves and glaciers. Erosion is the carrying of broken rocks from one place to another by natural agents like wind, water, and glaciers. The actions of exogenic forces result in wearing down (degradation) of relief/elevations and filling up (aggradation) of basins/ depressions, on the earth’s surface. The phenomenon of wearing down of relief variations of the surface of the earth through erosion is known as gradation.',\n",
       "  'sentences': ['20  Forces of Compression: Forces of compression are the forces which push rock strata against a hard plane from one side or from both sides.',\n",
       "   'The compressional forces lead to the bending of rock layers and thus lead to the formation of Fold Mountains.',\n",
       "   'Most of the great mountain chains of the world like the Himalayas, the Rockies (N. America), the Andes (S. America), the Alps (Europe) etc are formed in this manner.',\n",
       "   'Exogenic Forces Exogenic forces are those forces which derive their strength from the earth’s exterior or are originated within the earth’s atmosphere.',\n",
       "   'Examples of forces – the wind, waves, water etc.',\n",
       "   'Examples of exogenic processes – weathering, mass movement, erosion, deposition.',\n",
       "   'Exogenic forces are mainly land wearing forces.',\n",
       "   'Exogenic forces can take the form of weathering, erosion, and deposition.',\n",
       "   'Weathering is the breaking of rocks on the earth’s surface by different agents like rivers, wind, sea waves and glaciers.',\n",
       "   'Erosion is the carrying of broken rocks from one place to another by natural agents like wind, water, and glaciers.',\n",
       "   'The actions of exogenic forces result in wearing down (degradation) of relief/elevations and filling up (aggradation) of basins/ depressions, on the earth’s surface.',\n",
       "   'The phenomenon of wearing down of relief variations of the surface of the earth through erosion is known as gradation.'],\n",
       "  'page_sentence_count_spacy': 12}]"
      ]
     },
     "execution_count": 10,
     "metadata": {},
     "output_type": "execute_result"
    }
   ],
   "source": [
    "random.sample(pages_and_text, k=1)"
   ]
  },
  {
   "cell_type": "code",
   "execution_count": 11,
   "metadata": {},
   "outputs": [
    {
     "data": {
      "text/html": [
       "<div>\n",
       "<style scoped>\n",
       "    .dataframe tbody tr th:only-of-type {\n",
       "        vertical-align: middle;\n",
       "    }\n",
       "\n",
       "    .dataframe tbody tr th {\n",
       "        vertical-align: top;\n",
       "    }\n",
       "\n",
       "    .dataframe thead th {\n",
       "        text-align: right;\n",
       "    }\n",
       "</style>\n",
       "<table border=\"1\" class=\"dataframe\">\n",
       "  <thead>\n",
       "    <tr style=\"text-align: right;\">\n",
       "      <th></th>\n",
       "      <th>page_number</th>\n",
       "      <th>page_char_count</th>\n",
       "      <th>page_word_count</th>\n",
       "      <th>page_sentence_count</th>\n",
       "      <th>page_token_count</th>\n",
       "      <th>page_sentence_count_spacy</th>\n",
       "    </tr>\n",
       "  </thead>\n",
       "  <tbody>\n",
       "    <tr>\n",
       "      <th>count</th>\n",
       "      <td>129.00</td>\n",
       "      <td>129.00</td>\n",
       "      <td>129.00</td>\n",
       "      <td>129.00</td>\n",
       "      <td>129.00</td>\n",
       "      <td>129.00</td>\n",
       "    </tr>\n",
       "    <tr>\n",
       "      <th>mean</th>\n",
       "      <td>64.00</td>\n",
       "      <td>1655.45</td>\n",
       "      <td>262.89</td>\n",
       "      <td>16.95</td>\n",
       "      <td>413.86</td>\n",
       "      <td>15.51</td>\n",
       "    </tr>\n",
       "    <tr>\n",
       "      <th>std</th>\n",
       "      <td>37.38</td>\n",
       "      <td>732.36</td>\n",
       "      <td>96.85</td>\n",
       "      <td>7.75</td>\n",
       "      <td>183.09</td>\n",
       "      <td>6.25</td>\n",
       "    </tr>\n",
       "    <tr>\n",
       "      <th>min</th>\n",
       "      <td>0.00</td>\n",
       "      <td>80.00</td>\n",
       "      <td>20.00</td>\n",
       "      <td>1.00</td>\n",
       "      <td>20.00</td>\n",
       "      <td>1.00</td>\n",
       "    </tr>\n",
       "    <tr>\n",
       "      <th>25%</th>\n",
       "      <td>32.00</td>\n",
       "      <td>1146.00</td>\n",
       "      <td>189.00</td>\n",
       "      <td>12.00</td>\n",
       "      <td>286.50</td>\n",
       "      <td>10.00</td>\n",
       "    </tr>\n",
       "    <tr>\n",
       "      <th>50%</th>\n",
       "      <td>64.00</td>\n",
       "      <td>1699.00</td>\n",
       "      <td>264.00</td>\n",
       "      <td>16.00</td>\n",
       "      <td>424.75</td>\n",
       "      <td>16.00</td>\n",
       "    </tr>\n",
       "    <tr>\n",
       "      <th>75%</th>\n",
       "      <td>96.00</td>\n",
       "      <td>2055.00</td>\n",
       "      <td>341.00</td>\n",
       "      <td>21.00</td>\n",
       "      <td>513.75</td>\n",
       "      <td>20.00</td>\n",
       "    </tr>\n",
       "    <tr>\n",
       "      <th>max</th>\n",
       "      <td>128.00</td>\n",
       "      <td>4596.00</td>\n",
       "      <td>424.00</td>\n",
       "      <td>44.00</td>\n",
       "      <td>1149.00</td>\n",
       "      <td>31.00</td>\n",
       "    </tr>\n",
       "  </tbody>\n",
       "</table>\n",
       "</div>"
      ],
      "text/plain": [
       "       page_number  page_char_count  page_word_count  page_sentence_count  \\\n",
       "count       129.00           129.00           129.00               129.00   \n",
       "mean         64.00          1655.45           262.89                16.95   \n",
       "std          37.38           732.36            96.85                 7.75   \n",
       "min           0.00            80.00            20.00                 1.00   \n",
       "25%          32.00          1146.00           189.00                12.00   \n",
       "50%          64.00          1699.00           264.00                16.00   \n",
       "75%          96.00          2055.00           341.00                21.00   \n",
       "max         128.00          4596.00           424.00                44.00   \n",
       "\n",
       "       page_token_count  page_sentence_count_spacy  \n",
       "count            129.00                     129.00  \n",
       "mean             413.86                      15.51  \n",
       "std              183.09                       6.25  \n",
       "min               20.00                       1.00  \n",
       "25%              286.50                      10.00  \n",
       "50%              424.75                      16.00  \n",
       "75%              513.75                      20.00  \n",
       "max             1149.00                      31.00  "
      ]
     },
     "execution_count": 11,
     "metadata": {},
     "output_type": "execute_result"
    }
   ],
   "source": [
    "df = pd.DataFrame(pages_and_text)\n",
    "df.describe().round(2)"
   ]
  },
  {
   "cell_type": "markdown",
   "metadata": {},
   "source": [
    "CHUNKING : Splitting sentecnces in groups of 10 or less"
   ]
  },
  {
   "cell_type": "code",
   "execution_count": 12,
   "metadata": {},
   "outputs": [
    {
     "data": {
      "text/plain": [
       "[[0, 1, 2, 3, 4, 5, 6, 7, 8, 9],\n",
       " [10, 11, 12, 13, 14, 15, 16, 17, 18, 19],\n",
       " [20, 21, 22, 23, 24, 25, 26, 27, 28, 29],\n",
       " [30, 31, 32, 33, 34, 35, 36, 37, 38, 39],\n",
       " [40, 41, 42, 43, 44, 45, 46, 47, 48, 49],\n",
       " [50, 51, 52, 53, 54, 55, 56, 57, 58, 59],\n",
       " [60, 61, 62, 63, 64, 65, 66, 67, 68, 69]]"
      ]
     },
     "execution_count": 12,
     "metadata": {},
     "output_type": "execute_result"
    }
   ],
   "source": [
    "num_sentence_chunk_size = 10 \n",
    "def split_list(input_list: list, slice_size: int = num_sentence_chunk_size) -> list[list[str]]:\n",
    "    return [input_list[i:i+slice_size] for i in range(0, len(input_list), slice_size)]\n",
    "\n",
    "text_list = list(range(70))\n",
    "split_list(text_list)\n"
   ]
  },
  {
   "cell_type": "code",
   "execution_count": 13,
   "metadata": {},
   "outputs": [
    {
     "data": {
      "application/vnd.jupyter.widget-view+json": {
       "model_id": "df002f7788924dcf968cb1c1aa7a6953",
       "version_major": 2,
       "version_minor": 0
      },
      "text/plain": [
       "  0%|          | 0/129 [00:00<?, ?it/s]"
      ]
     },
     "metadata": {},
     "output_type": "display_data"
    }
   ],
   "source": [
    "for item in tqdm(pages_and_text):\n",
    "    item[\"sentence_chunks\"] = split_list(input_list=item[\"sentences\"], slice_size=num_sentence_chunk_size)\n",
    "    item[\"num_chunks\"] = len(item[\"sentence_chunks\"])"
   ]
  },
  {
   "cell_type": "code",
   "execution_count": 14,
   "metadata": {},
   "outputs": [
    {
     "data": {
      "text/plain": [
       "[{'page_number': 59,\n",
       "  'page_char_count': 1195,\n",
       "  'page_word_count': 216,\n",
       "  'page_sentence_count': 10,\n",
       "  'page_token_count': 298.75,\n",
       "  'text': '60  16. Bottom topography of the Atlantic Oceans  Atlantic Ocean The Atlantic Ocean located between North and South Americas in the west and Europe and Africa in the east covers an area of 82,000,000 km2 which is 1/6th of the geographical area of the globe and half of the area of the Pacific Ocean. The ‘S’ shape of the ocean indicates the fact that landmasses (continents) on its either side were once a contiguous part. The Atlantic Ocean was formed due to drifting of North and South Americas to the west due to plate tectonics. The ocean widens to the south of equator and attains the maximum width of 5,920 km at 35°S latitude. It narrows down towards the equator. It is only 2560 km wide between Liberian coast and Cape Sao Roque. The width further increases northward and it becomes 4800 km at 40°N latitude. It narrows down in the extreme north where it maintains its contact with the Arctic Ocean through Norwegian Sea, Denmark Strait and Davis Bay. \\uf0b7 The Atlantic Ocean located between North and South Americas in the west and Europe and Africa in the east covers an area of 82,000,000 km2which is 1/6th of the geographical area of the globe and half of the area of the Pacific Ocean.',\n",
       "  'sentences': ['60  16.',\n",
       "   'Bottom topography of the Atlantic Oceans  Atlantic Ocean The Atlantic Ocean located between North and South Americas in the west and Europe and Africa in the east covers an area of 82,000,000 km2 which is 1/6th of the geographical area of the globe and half of the area of the Pacific Ocean.',\n",
       "   'The ‘S’ shape of the ocean indicates the fact that landmasses (continents) on its either side were once a contiguous part.',\n",
       "   'The Atlantic Ocean was formed due to drifting of North and South Americas to the west due to plate tectonics.',\n",
       "   'The ocean widens to the south of equator and attains the maximum width of 5,920 km at 35°S latitude.',\n",
       "   'It narrows down towards the equator.',\n",
       "   'It is only 2560 km wide between Liberian coast and Cape Sao Roque.',\n",
       "   'The width further increases northward and it becomes 4800 km at 40°N latitude.',\n",
       "   'It narrows down in the extreme north where it maintains its contact with the Arctic Ocean through Norwegian Sea, Denmark Strait and Davis Bay.',\n",
       "   '\\uf0b7 The Atlantic Ocean located between North and South Americas in the west and Europe and Africa in the east covers an area of 82,000,000 km2which is 1/6th of the geographical area of the globe and half of the area of the Pacific Ocean.'],\n",
       "  'page_sentence_count_spacy': 10,\n",
       "  'sentence_chunks': [['60  16.',\n",
       "    'Bottom topography of the Atlantic Oceans  Atlantic Ocean The Atlantic Ocean located between North and South Americas in the west and Europe and Africa in the east covers an area of 82,000,000 km2 which is 1/6th of the geographical area of the globe and half of the area of the Pacific Ocean.',\n",
       "    'The ‘S’ shape of the ocean indicates the fact that landmasses (continents) on its either side were once a contiguous part.',\n",
       "    'The Atlantic Ocean was formed due to drifting of North and South Americas to the west due to plate tectonics.',\n",
       "    'The ocean widens to the south of equator and attains the maximum width of 5,920 km at 35°S latitude.',\n",
       "    'It narrows down towards the equator.',\n",
       "    'It is only 2560 km wide between Liberian coast and Cape Sao Roque.',\n",
       "    'The width further increases northward and it becomes 4800 km at 40°N latitude.',\n",
       "    'It narrows down in the extreme north where it maintains its contact with the Arctic Ocean through Norwegian Sea, Denmark Strait and Davis Bay.',\n",
       "    '\\uf0b7 The Atlantic Ocean located between North and South Americas in the west and Europe and Africa in the east covers an area of 82,000,000 km2which is 1/6th of the geographical area of the globe and half of the area of the Pacific Ocean.']],\n",
       "  'num_chunks': 1}]"
      ]
     },
     "execution_count": 14,
     "metadata": {},
     "output_type": "execute_result"
    }
   ],
   "source": [
    "random.sample(pages_and_text, k = 1)"
   ]
  },
  {
   "cell_type": "code",
   "execution_count": 15,
   "metadata": {},
   "outputs": [
    {
     "data": {
      "text/html": [
       "<div>\n",
       "<style scoped>\n",
       "    .dataframe tbody tr th:only-of-type {\n",
       "        vertical-align: middle;\n",
       "    }\n",
       "\n",
       "    .dataframe tbody tr th {\n",
       "        vertical-align: top;\n",
       "    }\n",
       "\n",
       "    .dataframe thead th {\n",
       "        text-align: right;\n",
       "    }\n",
       "</style>\n",
       "<table border=\"1\" class=\"dataframe\">\n",
       "  <thead>\n",
       "    <tr style=\"text-align: right;\">\n",
       "      <th></th>\n",
       "      <th>page_number</th>\n",
       "      <th>page_char_count</th>\n",
       "      <th>page_word_count</th>\n",
       "      <th>page_sentence_count</th>\n",
       "      <th>page_token_count</th>\n",
       "      <th>page_sentence_count_spacy</th>\n",
       "      <th>num_chunks</th>\n",
       "    </tr>\n",
       "  </thead>\n",
       "  <tbody>\n",
       "    <tr>\n",
       "      <th>count</th>\n",
       "      <td>129.00</td>\n",
       "      <td>129.00</td>\n",
       "      <td>129.00</td>\n",
       "      <td>129.00</td>\n",
       "      <td>129.00</td>\n",
       "      <td>129.00</td>\n",
       "      <td>129.00</td>\n",
       "    </tr>\n",
       "    <tr>\n",
       "      <th>mean</th>\n",
       "      <td>64.00</td>\n",
       "      <td>1655.45</td>\n",
       "      <td>262.89</td>\n",
       "      <td>16.95</td>\n",
       "      <td>413.86</td>\n",
       "      <td>15.51</td>\n",
       "      <td>1.97</td>\n",
       "    </tr>\n",
       "    <tr>\n",
       "      <th>std</th>\n",
       "      <td>37.38</td>\n",
       "      <td>732.36</td>\n",
       "      <td>96.85</td>\n",
       "      <td>7.75</td>\n",
       "      <td>183.09</td>\n",
       "      <td>6.25</td>\n",
       "      <td>0.71</td>\n",
       "    </tr>\n",
       "    <tr>\n",
       "      <th>min</th>\n",
       "      <td>0.00</td>\n",
       "      <td>80.00</td>\n",
       "      <td>20.00</td>\n",
       "      <td>1.00</td>\n",
       "      <td>20.00</td>\n",
       "      <td>1.00</td>\n",
       "      <td>1.00</td>\n",
       "    </tr>\n",
       "    <tr>\n",
       "      <th>25%</th>\n",
       "      <td>32.00</td>\n",
       "      <td>1146.00</td>\n",
       "      <td>189.00</td>\n",
       "      <td>12.00</td>\n",
       "      <td>286.50</td>\n",
       "      <td>10.00</td>\n",
       "      <td>1.00</td>\n",
       "    </tr>\n",
       "    <tr>\n",
       "      <th>50%</th>\n",
       "      <td>64.00</td>\n",
       "      <td>1699.00</td>\n",
       "      <td>264.00</td>\n",
       "      <td>16.00</td>\n",
       "      <td>424.75</td>\n",
       "      <td>16.00</td>\n",
       "      <td>2.00</td>\n",
       "    </tr>\n",
       "    <tr>\n",
       "      <th>75%</th>\n",
       "      <td>96.00</td>\n",
       "      <td>2055.00</td>\n",
       "      <td>341.00</td>\n",
       "      <td>21.00</td>\n",
       "      <td>513.75</td>\n",
       "      <td>20.00</td>\n",
       "      <td>2.00</td>\n",
       "    </tr>\n",
       "    <tr>\n",
       "      <th>max</th>\n",
       "      <td>128.00</td>\n",
       "      <td>4596.00</td>\n",
       "      <td>424.00</td>\n",
       "      <td>44.00</td>\n",
       "      <td>1149.00</td>\n",
       "      <td>31.00</td>\n",
       "      <td>4.00</td>\n",
       "    </tr>\n",
       "  </tbody>\n",
       "</table>\n",
       "</div>"
      ],
      "text/plain": [
       "       page_number  page_char_count  page_word_count  page_sentence_count  \\\n",
       "count       129.00           129.00           129.00               129.00   \n",
       "mean         64.00          1655.45           262.89                16.95   \n",
       "std          37.38           732.36            96.85                 7.75   \n",
       "min           0.00            80.00            20.00                 1.00   \n",
       "25%          32.00          1146.00           189.00                12.00   \n",
       "50%          64.00          1699.00           264.00                16.00   \n",
       "75%          96.00          2055.00           341.00                21.00   \n",
       "max         128.00          4596.00           424.00                44.00   \n",
       "\n",
       "       page_token_count  page_sentence_count_spacy  num_chunks  \n",
       "count            129.00                     129.00      129.00  \n",
       "mean             413.86                      15.51        1.97  \n",
       "std              183.09                       6.25        0.71  \n",
       "min               20.00                       1.00        1.00  \n",
       "25%              286.50                      10.00        1.00  \n",
       "50%              424.75                      16.00        2.00  \n",
       "75%              513.75                      20.00        2.00  \n",
       "max             1149.00                      31.00        4.00  "
      ]
     },
     "execution_count": 15,
     "metadata": {},
     "output_type": "execute_result"
    }
   ],
   "source": [
    "df = pd.DataFrame(pages_and_text)\n",
    "df.describe().round(2)"
   ]
  },
  {
   "cell_type": "code",
   "execution_count": 16,
   "metadata": {},
   "outputs": [
    {
     "data": {
      "application/vnd.jupyter.widget-view+json": {
       "model_id": "8b973e986dcb497f9651b4de25134e02",
       "version_major": 2,
       "version_minor": 0
      },
      "text/plain": [
       "  0%|          | 0/129 [00:00<?, ?it/s]"
      ]
     },
     "metadata": {},
     "output_type": "display_data"
    },
    {
     "data": {
      "text/plain": [
       "254"
      ]
     },
     "execution_count": 16,
     "metadata": {},
     "output_type": "execute_result"
    }
   ],
   "source": [
    "import re \n",
    "\n",
    "pages_and_chunks = []\n",
    "for item in tqdm(pages_and_text):\n",
    "    for sentence_chunk in item[\"sentence_chunks\"]:\n",
    "        chunk_dict = {}\n",
    "        chunk_dict[\"page_number\"] = item[\"page_number\"]\n",
    "\n",
    "        # join the sentences together into paragraph like structure aka join the list of sentences into one paragraph \n",
    "\n",
    "        joined_sentence_chunk = \"\".join(sentence_chunk).replace(\"  \",\" \").strip()\n",
    "        joined_sentence_chunk = re.sub(r'\\.([A-Z])', r'. \\1', joined_sentence_chunk)\n",
    "\n",
    "        chunk_dict[\"sentence_chunk\"] = joined_sentence_chunk\n",
    "\n",
    "        chunk_dict[\"chunk_char_count\"] = len(joined_sentence_chunk)\n",
    "        chunk_dict[\"chunk_word_count\"] = len([word for word in joined_sentence_chunk.split(\" \")])\n",
    "        chunk_dict[\"chunk_token_count\"] = len(joined_sentence_chunk) / 4\n",
    "\n",
    "        pages_and_chunks.append(chunk_dict)\n",
    "\n",
    "len(pages_and_chunks)"
   ]
  },
  {
   "cell_type": "code",
   "execution_count": 17,
   "metadata": {},
   "outputs": [
    {
     "data": {
      "text/plain": [
       "[{'page_number': 5,\n",
       "  'sentence_chunk': 'The enormous planets Jupiter and Saturn, which are far from the sun and have powerful gravitational fields, did, nevertheless, draw and hold thick gaseous atmospheres of Hydrogen and Helium. Another group of Scientists believe that the Sun has been formed from a moving cloud of gases, which is called Nebula. The Sun and the planets were born out of this cloud. The force of gravity has created them. For over millions of years, these balls of dust and gas are moving around the Sun. The Sun by virtue of its mass and weight, controls the movement of the planets. This force is called the force of gravity. Till 2006, there were nine planets in the solar system. Pluto was the farthest planet from the Sun. In 2006, the International Astronomical Union (IAU) adopted a new definition of a planet.',\n",
       "  'chunk_char_count': 797,\n",
       "  'chunk_word_count': 139,\n",
       "  'chunk_token_count': 199.25}]"
      ]
     },
     "execution_count": 17,
     "metadata": {},
     "output_type": "execute_result"
    }
   ],
   "source": [
    "random.sample(pages_and_chunks, k=1)"
   ]
  },
  {
   "cell_type": "code",
   "execution_count": 18,
   "metadata": {},
   "outputs": [
    {
     "data": {
      "text/html": [
       "<div>\n",
       "<style scoped>\n",
       "    .dataframe tbody tr th:only-of-type {\n",
       "        vertical-align: middle;\n",
       "    }\n",
       "\n",
       "    .dataframe tbody tr th {\n",
       "        vertical-align: top;\n",
       "    }\n",
       "\n",
       "    .dataframe thead th {\n",
       "        text-align: right;\n",
       "    }\n",
       "</style>\n",
       "<table border=\"1\" class=\"dataframe\">\n",
       "  <thead>\n",
       "    <tr style=\"text-align: right;\">\n",
       "      <th></th>\n",
       "      <th>page_number</th>\n",
       "      <th>chunk_char_count</th>\n",
       "      <th>chunk_word_count</th>\n",
       "      <th>chunk_token_count</th>\n",
       "    </tr>\n",
       "  </thead>\n",
       "  <tbody>\n",
       "    <tr>\n",
       "      <th>count</th>\n",
       "      <td>254.00</td>\n",
       "      <td>254.00</td>\n",
       "      <td>254.00</td>\n",
       "      <td>254.00</td>\n",
       "    </tr>\n",
       "    <tr>\n",
       "      <th>mean</th>\n",
       "      <td>62.39</td>\n",
       "      <td>838.00</td>\n",
       "      <td>131.24</td>\n",
       "      <td>209.50</td>\n",
       "    </tr>\n",
       "    <tr>\n",
       "      <th>std</th>\n",
       "      <td>37.55</td>\n",
       "      <td>527.47</td>\n",
       "      <td>60.81</td>\n",
       "      <td>131.87</td>\n",
       "    </tr>\n",
       "    <tr>\n",
       "      <th>min</th>\n",
       "      <td>0.00</td>\n",
       "      <td>5.00</td>\n",
       "      <td>1.00</td>\n",
       "      <td>1.25</td>\n",
       "    </tr>\n",
       "    <tr>\n",
       "      <th>25%</th>\n",
       "      <td>29.25</td>\n",
       "      <td>600.50</td>\n",
       "      <td>95.25</td>\n",
       "      <td>150.12</td>\n",
       "    </tr>\n",
       "    <tr>\n",
       "      <th>50%</th>\n",
       "      <td>61.00</td>\n",
       "      <td>832.50</td>\n",
       "      <td>137.50</td>\n",
       "      <td>208.12</td>\n",
       "    </tr>\n",
       "    <tr>\n",
       "      <th>75%</th>\n",
       "      <td>94.00</td>\n",
       "      <td>1050.25</td>\n",
       "      <td>174.00</td>\n",
       "      <td>262.56</td>\n",
       "    </tr>\n",
       "    <tr>\n",
       "      <th>max</th>\n",
       "      <td>128.00</td>\n",
       "      <td>4446.00</td>\n",
       "      <td>321.00</td>\n",
       "      <td>1111.50</td>\n",
       "    </tr>\n",
       "  </tbody>\n",
       "</table>\n",
       "</div>"
      ],
      "text/plain": [
       "       page_number  chunk_char_count  chunk_word_count  chunk_token_count\n",
       "count       254.00            254.00            254.00             254.00\n",
       "mean         62.39            838.00            131.24             209.50\n",
       "std          37.55            527.47             60.81             131.87\n",
       "min           0.00              5.00              1.00               1.25\n",
       "25%          29.25            600.50             95.25             150.12\n",
       "50%          61.00            832.50            137.50             208.12\n",
       "75%          94.00           1050.25            174.00             262.56\n",
       "max         128.00           4446.00            321.00            1111.50"
      ]
     },
     "execution_count": 18,
     "metadata": {},
     "output_type": "execute_result"
    }
   ],
   "source": [
    "df = pd.DataFrame(pages_and_chunks)\n",
    "df.describe().round(2)"
   ]
  },
  {
   "cell_type": "code",
   "execution_count": 19,
   "metadata": {},
   "outputs": [
    {
     "name": "stdout",
     "output_type": "stream",
     "text": [
      "Processing row 117: {'page_number': 56, 'sentence_chunk': 'The deepest section is less than 55m (180 feet) underwater.', 'chunk_char_count': 59, 'chunk_word_count': 10, 'chunk_token_count': 14.75}\n",
      "Processing row 188: {'page_number': 93, 'sentence_chunk': 'It is largely responsible', 'chunk_char_count': 25, 'chunk_word_count': 4, 'chunk_token_count': 6.25}\n",
      "Processing row 173: {'page_number': 85, 'sentence_chunk': 'It is the layer of the ocean', 'chunk_char_count': 28, 'chunk_word_count': 7, 'chunk_token_count': 7.0}\n",
      "Processing row 145: {'page_number': 70, 'sentence_chunk': 'wide.', 'chunk_char_count': 5, 'chunk_word_count': 1, 'chunk_token_count': 1.25}\n",
      "Processing row 17: {'page_number': 8, 'sentence_chunk': 'The earth is the only planet where some special', 'chunk_char_count': 47, 'chunk_word_count': 9, 'chunk_token_count': 11.75}\n"
     ]
    }
   ],
   "source": [
    "min_token_length = 15\n",
    "for index, row in df[df[\"chunk_token_count\"] <= min_token_length].sample(5).iterrows():\n",
    "    # Example processing code\n",
    "    print(f\"Processing row {index}: {row.to_dict()}\")"
   ]
  },
  {
   "cell_type": "code",
   "execution_count": 20,
   "metadata": {},
   "outputs": [
    {
     "data": {
      "text/plain": [
       "[{'page_number': 0,\n",
       "  'sentence_chunk': '1   IIPA2022 22 World Geography Short Answers PKP-03 by Dr Amit Kumar Singh',\n",
       "  'chunk_char_count': 75,\n",
       "  'chunk_word_count': 15,\n",
       "  'chunk_token_count': 18.75},\n",
       " {'page_number': 1,\n",
       "  'sentence_chunk': '2 Contents 1. Origin of Solar System and Sun ........................................................................................................... 6 2. Stars, Sun & Planets ............................................................................................................................. 8 Sun Statistics ....................................................................................................................................... 8 Solar Eclipse ........................................................................................................................................ 9 Lunar Eclipse ....................................................................................................................................... 9 The Planets .......................................................................................................................................... 9 3. Latitudes and Longitudes ................................................................................................................... 11 Latitudes ........................................................................................................................................... 11 Heat Zones ........................................................................................................................................ 12 Longitudes ......................................................................................................................................... 13 Time Zones ........................................................................................................................................ 14 4. Motions of the Earth: Rotation and Revolution. ................................................................................15 Rotation ............................................................................................................................................ 15 The Coriolis Force. .............................................................................................................................15 Revolution ......................................................................................................................................... 15 Summer solstice ................................................................................................................................ 16 Winter solstice................................................................................................................................... 17 Equinox ............................................................................................................................................. 17 Effects of revolution .......................................................................................................................... 17 5. Geomorphic Processes: Endogenic Forces and Evolution of Landforms .............................................. 18 Endogenic Forces ............................................................................................................................... 18 Forces of Compression: ............................................................................................................... 20 Exogenic Forces ................................................................................................................................. 20 6. Origin of the Earth ............................................................................................................................. 21 7. Interior Structure of the Earth ........................................................................................................... 24 8.',\n",
       "  'chunk_char_count': 3711,\n",
       "  'chunk_word_count': 128,\n",
       "  'chunk_token_count': 927.75}]"
      ]
     },
     "execution_count": 20,
     "metadata": {},
     "output_type": "execute_result"
    }
   ],
   "source": [
    "pages_and_chunks_over_min_token_length = df[df[\"chunk_token_count\"] > min_token_length].to_dict(orient=\"records\")\n",
    "pages_and_chunks_over_min_token_length[:2]"
   ]
  },
  {
   "cell_type": "code",
   "execution_count": 21,
   "metadata": {},
   "outputs": [
    {
     "data": {
      "text/plain": [
       "[{'page_number': 102,\n",
       "  'sentence_chunk': '103 \\uf0b7 Very small suspended particles in the troposphere scatter visible spectrum both to space and towards the earth’s surface. This process adds colour to the sky.\\uf0b7 The red colour of the rising and the setting sun and the blue colour of the sky are the results of scattering of the light within the atmosphere. Note: Maximum insolation is received over the subtropical desert, where the cloudiness is the least. The equator receives comparatively less insolation than the tropics. Generally, at the same latitude, the insolation is more over the continent than over the oceans. In winter, the middle and higher latitudes receive less radiation than in summer. Heating and Cooling of the Atmosphere The sun is the ultimate source of atmospheric heat and energy. There are different ways of heating and cooling of the atmosphere. They are: 1.',\n",
       "  'chunk_char_count': 841,\n",
       "  'chunk_word_count': 139,\n",
       "  'chunk_token_count': 210.25}]"
      ]
     },
     "execution_count": 21,
     "metadata": {},
     "output_type": "execute_result"
    }
   ],
   "source": [
    "random.sample(pages_and_chunks_over_min_token_length, k=1)"
   ]
  },
  {
   "cell_type": "markdown",
   "metadata": {},
   "source": [
    "Embedding : \n",
    "\n",
    "A useful numerical representation and it is a learned representation. \n",
    "\n",
    "\n",
    "{\n",
    "    the: 0,\n",
    "    a : 1,\n",
    "    ...\n",
    "}"
   ]
  },
  {
   "cell_type": "code",
   "execution_count": 22,
   "metadata": {},
   "outputs": [
    {
     "name": "stdout",
     "output_type": "stream",
     "text": [
      "Sentence: The sentence transformer provides an easier way to create embeddings\n",
      "Embedding: [-6.87679276e-02 -3.37028988e-02  3.68130989e-02  1.77186411e-02\n",
      "  4.59097102e-02  7.25906864e-02 -2.06882749e-02  5.50199449e-02\n",
      "  9.44427922e-02 -4.44253236e-02  5.07963672e-02  1.03461584e-02\n",
      "  1.73806325e-02  6.51761219e-02  1.94573663e-02  8.53722095e-02\n",
      "  1.59757044e-02  1.02003165e-01 -7.83813745e-02 -1.06738113e-01\n",
      "  6.44140691e-03  3.28693613e-02  2.74741929e-02 -6.96152300e-02\n",
      "  5.03769144e-02  6.34706169e-02 -3.52961197e-02  1.27846533e-02\n",
      "  7.83551186e-02 -6.58561103e-03 -1.30254106e-04 -5.40848300e-02\n",
      " -4.96062227e-02  9.75598618e-02 -3.67665738e-02  2.29739342e-02\n",
      "  4.46881354e-02  7.04804882e-02 -4.62974384e-02 -1.74799059e-02\n",
      "  2.25367192e-02  6.00746274e-03  6.89678341e-02  5.03606237e-02\n",
      "  4.12279330e-02 -3.38686742e-02 -4.16970216e-02 -9.08160862e-03\n",
      " -2.03304458e-02  1.73994787e-02 -4.90085445e-02 -2.83183008e-02\n",
      " -9.13968324e-05  6.86822906e-02 -4.36346717e-02  3.69178727e-02\n",
      " -6.90459413e-03 -3.20158452e-02  2.52354913e-03 -6.85855746e-02\n",
      " -4.81875651e-02 -9.25176684e-03  1.03307832e-02  1.69749036e-02\n",
      " -1.78921968e-02 -1.13739651e-02  3.19042020e-02  5.38398325e-02\n",
      " -5.49549349e-02  6.68595657e-02 -7.65900910e-02  5.46232611e-03\n",
      " -1.15826309e-01  9.60018486e-03 -3.74539010e-02  7.58875022e-03\n",
      "  4.65456657e-02 -1.15772821e-01  8.94280225e-02 -2.34372145e-03\n",
      "  1.73093528e-02 -1.20465988e-02  3.93723510e-02  3.37575786e-02\n",
      "  8.00869688e-02 -8.22895765e-03  2.39798743e-02 -3.51164006e-02\n",
      " -6.94097057e-02  3.77034955e-02 -4.85910922e-02 -9.18819308e-02\n",
      "  5.83603941e-02  4.40986501e-03 -1.20912483e-02 -1.27744796e-02\n",
      " -3.97725813e-02 -5.00653870e-04  1.40866144e-02  5.66037968e-02\n",
      "  1.56822354e-02 -2.10518036e-02  9.34683755e-02 -8.01688880e-02\n",
      " -1.12757288e-01 -7.87602291e-02 -2.69983001e-02 -2.18164176e-02\n",
      " -3.66850421e-02 -4.73495759e-02 -3.21252979e-02  1.76445115e-02\n",
      " -2.15697065e-02 -3.85149270e-02  3.16064246e-02 -4.57879566e-02\n",
      " -3.12290061e-02 -7.00655906e-03  4.54271100e-02 -1.14645960e-03\n",
      "  2.64526866e-02  8.82452577e-02 -7.63642415e-02  5.18464893e-02\n",
      " -2.81740306e-03 -2.06319541e-02  2.71378234e-02 -1.00582708e-33\n",
      " -1.07749468e-02  4.13874388e-02 -6.81093289e-03  3.25223841e-02\n",
      "  1.13953017e-02  3.53020653e-02 -2.98740342e-02  8.70845020e-02\n",
      " -7.74921849e-02 -5.14865713e-03 -4.48307991e-02  1.19366124e-02\n",
      " -1.13251405e-02  6.49724230e-02  1.69319119e-02 -5.33052310e-02\n",
      " -2.77446471e-02  6.50201179e-03 -2.01725829e-02 -6.40443387e-03\n",
      " -5.52309193e-02  1.56156961e-02  3.54719609e-02 -3.09683029e-02\n",
      " -1.03251092e-01 -1.65417716e-02  1.04272917e-01 -4.96324413e-02\n",
      " -4.14637513e-02 -2.51165796e-02 -1.09986097e-01 -1.63342785e-02\n",
      " -2.38763653e-02 -4.13740017e-02  3.54845747e-02  1.25507521e-03\n",
      "  6.51698336e-02 -2.38405913e-02  2.17610914e-02 -3.54964659e-02\n",
      " -3.11643770e-03  1.38565879e-02  1.27461739e-02 -3.37173464e-04\n",
      "  4.26195841e-03  4.37224992e-02  2.12069042e-02 -4.74625081e-03\n",
      "  5.14270291e-02 -2.24460550e-02  2.57520787e-02  1.92213356e-02\n",
      " -9.47185829e-02 -5.48141487e-02  1.52076080e-01  2.10959334e-02\n",
      "  3.70705910e-02  2.82545597e-03  5.27914986e-02 -2.61936747e-02\n",
      " -1.38948718e-02  4.20912355e-02  7.86099285e-02  4.76716756e-04\n",
      "  3.60689424e-02 -2.34179012e-02 -2.14259923e-02 -4.05512005e-02\n",
      "  2.33605951e-02  3.96905690e-02 -4.11944166e-02  5.74228764e-02\n",
      " -4.58913296e-02 -2.31523346e-02 -4.11412381e-02  4.64314334e-02\n",
      " -3.06732766e-02 -3.12650390e-02 -1.81305800e-02  5.10102212e-02\n",
      " -6.67907298e-02 -1.12753674e-01  4.42469493e-02 -2.75396258e-02\n",
      " -3.92000787e-02 -7.78408423e-02  2.17873976e-02 -7.24924654e-02\n",
      "  6.46489710e-02  2.13152468e-02  8.73979589e-04 -2.38038972e-02\n",
      " -4.39096801e-02  3.88069414e-02  7.77469054e-02  3.23705866e-34\n",
      " -2.52612866e-02  3.41512114e-02 -7.45880976e-02  6.26159683e-02\n",
      " -1.07799014e-02 -3.75766270e-02 -9.09988955e-03  7.52478167e-02\n",
      "  5.52241784e-03  1.64570771e-02 -5.29753454e-02 -1.98995546e-02\n",
      "  3.22357342e-02 -7.59625286e-02  8.67645666e-02  9.30388737e-03\n",
      " -1.76651292e-02  6.23803735e-02 -2.72998810e-02  2.82911696e-02\n",
      "  2.04400513e-02  1.28177702e-01 -1.03742287e-01  8.67593959e-02\n",
      " -1.35309482e-02  3.28688100e-02 -4.39105481e-02 -5.70200058e-03\n",
      " -6.58262894e-02 -2.82265320e-02 -1.53196882e-02 -7.35465735e-02\n",
      " -2.45342348e-02 -3.03788874e-02 -8.76193717e-02  2.39365045e-02\n",
      "  4.60261367e-02 -2.49296669e-02  3.90817877e-03 -2.87758131e-02\n",
      "  5.68682291e-02  3.27360518e-02 -5.70328981e-02  3.90080810e-02\n",
      " -4.68344018e-02 -1.40709206e-02 -7.04647973e-02 -4.22255322e-02\n",
      "  7.75480866e-02  4.24332395e-02 -3.50074880e-02  3.06135602e-02\n",
      " -1.20127276e-01 -3.26633416e-02 -1.07247513e-02 -1.00981414e-01\n",
      "  2.05557942e-02 -1.15367241e-01  1.65078193e-02 -4.05668244e-02\n",
      " -8.55142921e-02 -1.25411851e-02  7.45692402e-02 -1.45346299e-01\n",
      "  8.12425911e-02 -9.21378657e-02 -1.84134615e-03  4.44831066e-02\n",
      "  4.30682255e-03 -3.07436753e-02  5.90836909e-03 -2.19446756e-02\n",
      " -9.72906966e-03  3.92566621e-02  2.38869786e-02 -6.90441728e-02\n",
      "  5.65967821e-02  2.38647480e-02 -6.73484281e-02 -6.58002347e-02\n",
      "  2.65292488e-02 -6.06528558e-02  9.16197971e-02 -2.64470954e-03\n",
      "  2.64308788e-02  6.81605563e-02  6.02900945e-02  6.14075596e-03\n",
      "  5.05560823e-02  6.90624490e-02 -7.44455457e-02  3.23930047e-02\n",
      "  1.19900610e-02  1.43940315e-01  1.52405230e-02 -2.12866009e-08\n",
      " -9.39775258e-02 -2.78655812e-02 -5.25544323e-02  1.11419531e-02\n",
      " -1.03561714e-01 -7.05890879e-02  1.61912479e-02  5.45051321e-02\n",
      " -5.98398633e-02 -2.15389710e-02  3.85510065e-02 -1.88656114e-02\n",
      " -5.32027371e-02 -1.13321682e-02  5.07651009e-02  6.07884079e-02\n",
      " -2.82418560e-02  4.12526801e-02  3.61577943e-02  1.25971725e-02\n",
      "  3.74282934e-02  1.18428446e-01 -1.88708790e-02  1.76252518e-02\n",
      " -2.00628862e-02  1.75880250e-02 -3.91747393e-02  1.72035266e-02\n",
      "  3.70857082e-02  5.36556356e-02  3.93491499e-02  7.20073879e-02\n",
      " -3.66443172e-02 -1.34420982e-02 -4.34219204e-02  8.19855928e-02\n",
      "  6.44632280e-02 -7.93300793e-02  9.13539063e-03 -2.55014151e-02\n",
      "  5.90690523e-02  4.23957333e-02 -1.34529546e-01  4.96289954e-02\n",
      "  7.58513063e-02  2.55390555e-02  1.97976269e-02 -8.04002360e-02\n",
      "  4.70413361e-03 -2.36170217e-02  3.10665723e-02 -7.45723620e-02\n",
      "  7.71500031e-03  7.41320755e-03  4.43007350e-02  3.11509650e-02\n",
      "  5.93497977e-02 -7.99792260e-03  2.08049547e-02  1.45604732e-02\n",
      " -1.08556042e-03  1.19826004e-01  6.10035397e-02  1.50353629e-02]\n",
      "Sentence: Sentences can be embedded one by one in  a list.\n",
      "Embedding: [ 2.34562010e-02  5.04969358e-02  3.62801962e-02  8.40570778e-02\n",
      "  8.38222504e-02  6.86819553e-02  6.75586239e-02  1.95872635e-02\n",
      "  1.52933691e-03  6.59169070e-03  5.71367033e-02  1.02151604e-02\n",
      "  9.43638980e-02  7.78843649e-04  5.57758249e-02  5.33892028e-02\n",
      " -2.34669540e-02  3.58688086e-02 -1.66711416e-02 -1.08843803e-01\n",
      "  5.36137186e-02  1.10756218e-01  1.84781440e-02 -1.06742410e-02\n",
      "  4.69324850e-02  2.16549411e-02 -8.65305662e-02 -4.53591086e-02\n",
      "  1.63873658e-02  2.40867734e-02 -2.77060661e-02 -3.74498293e-02\n",
      "  9.99350846e-03  1.37798935e-01  5.72514348e-02  5.35186604e-02\n",
      "  1.30889006e-02  7.63708875e-02 -3.32987197e-02  3.68363522e-02\n",
      "  6.97019836e-03 -2.44817771e-02  1.97166502e-02 -3.94643210e-02\n",
      "  2.64263414e-02 -2.43917219e-02 -8.45639929e-02  1.97547069e-03\n",
      " -3.02783921e-02 -2.19528992e-02 -1.11278221e-01 -2.24502268e-03\n",
      " -2.86021419e-02  3.21093500e-02 -3.41776037e-03  3.66487503e-02\n",
      " -5.48485145e-02  3.01607419e-02 -2.99916156e-02 -8.08264092e-02\n",
      "  4.61397786e-03 -6.20851386e-03 -2.92639639e-02  4.78845723e-02\n",
      "  8.64440054e-02 -3.44822854e-02 -3.60888615e-03  2.36842688e-02\n",
      " -9.89451483e-02  7.38301575e-02  6.91904593e-03  7.23988609e-03\n",
      " -3.56053673e-02  1.57569982e-02 -3.82516608e-02  7.54485130e-02\n",
      "  4.69764434e-02 -6.74450323e-02  5.50501421e-02 -6.02270383e-03\n",
      " -7.59381279e-02 -6.91862702e-02  2.31363028e-02 -4.89070378e-02\n",
      "  2.79097706e-02 -1.80530790e-02  6.63264766e-02 -2.49256864e-02\n",
      " -7.17949942e-02  1.94571987e-02 -4.91897874e-02 -1.14477023e-01\n",
      "  1.30430177e-01  1.88731365e-02  2.59168502e-02  1.91457453e-03\n",
      " -4.42710565e-03 -4.33737300e-02 -3.43133919e-02  3.92626673e-02\n",
      "  1.45519515e-02  3.36262323e-02  1.75937712e-02  4.89758290e-02\n",
      " -1.11074127e-01 -8.39057714e-02 -2.36757994e-02 -9.92257670e-02\n",
      " -2.80635841e-02 -1.14719205e-01 -5.07724322e-02 -1.21308062e-02\n",
      " -4.09743888e-03 -4.77542467e-02 -3.18622738e-02 -5.18417433e-02\n",
      "  1.00784339e-02  5.58730699e-02  6.14986867e-02  4.94404808e-02\n",
      " -1.74057763e-02  1.41190551e-02  2.05283589e-03  1.79378241e-02\n",
      "  1.89320594e-02 -1.36386156e-01  1.42506687e-02 -2.30035153e-33\n",
      "  7.43086729e-03 -4.26524580e-02 -1.02691930e-02  1.39285075e-02\n",
      " -1.89134218e-02  1.86081212e-02 -4.81545962e-02  2.61902586e-02\n",
      " -9.37767103e-02  4.86198999e-03  4.30310518e-02 -2.27912106e-02\n",
      "  4.85814176e-02  9.30522382e-02  6.40039444e-02  6.42339662e-02\n",
      " -1.82280056e-02  3.63280699e-02 -5.84935118e-03 -2.32544243e-02\n",
      " -5.86852133e-02  1.77683216e-02 -4.47665974e-02 -8.44887421e-02\n",
      " -8.42232928e-02  9.25981440e-03  5.97419813e-02 -2.95801405e-02\n",
      " -7.54821524e-02  1.25554502e-02 -8.13761875e-02 -1.51116429e-02\n",
      " -1.44936033e-02 -5.76119265e-03  6.12267740e-02  2.69740205e-02\n",
      "  1.53938783e-02 -1.15823997e-02  2.55164318e-02 -3.55113223e-02\n",
      " -3.09047829e-02  2.29721665e-02  1.08077992e-02 -6.91494439e-03\n",
      "  6.40903562e-02  2.04285067e-02 -6.44225553e-02  4.20355909e-02\n",
      "  2.22385079e-02  3.81492823e-02  1.85648352e-02  3.89926061e-02\n",
      " -4.65582944e-02 -6.81159124e-02  1.04047410e-01 -4.39194310e-03\n",
      "  1.70658082e-02  5.03848679e-02  8.11258852e-02  3.58308181e-02\n",
      " -4.18341383e-02  5.80770895e-02 -5.01157390e-03 -2.46487129e-02\n",
      "  5.57436943e-02  2.02163868e-02 -5.15893660e-02  2.41516028e-02\n",
      "  4.42923903e-02  5.82633242e-02 -1.42395664e-02  1.95245557e-02\n",
      " -3.81640047e-02  2.67726723e-02 -8.35532770e-02  1.16667449e-02\n",
      " -3.55731550e-04 -9.80331376e-02 -2.17714664e-02  6.97679892e-02\n",
      " -9.90377925e-03 -1.60572454e-01  4.94299158e-02  6.80043846e-02\n",
      " -3.87471244e-02 -2.53120493e-02  6.46560341e-02 -3.52340415e-02\n",
      " -3.05989129e-03 -1.52612096e-02 -3.01798619e-02  1.68791991e-02\n",
      "  6.06986359e-02 -4.25344259e-02  2.18794495e-02 -8.20348212e-34\n",
      "  1.97171830e-02  7.16511682e-02 -4.44211774e-02  3.09457479e-04\n",
      "  3.51275504e-02  1.22673158e-02 -1.67626925e-02 -3.92125808e-02\n",
      "  7.62008270e-03  9.19555221e-03 -7.65620098e-02  3.08363661e-02\n",
      "  2.05694139e-02 -5.98649010e-02  7.65812816e-03  3.03743109e-02\n",
      " -6.32073805e-02  3.69734280e-02 -6.02561012e-02  9.38951448e-02\n",
      " -1.61635911e-03  6.18234947e-02 -7.57937133e-03  1.23016790e-01\n",
      "  1.57071687e-02  1.24654854e-02  1.36130918e-02  7.14537594e-03\n",
      " -1.04872599e-01 -8.83669220e-03  4.67151916e-03 -4.98601012e-02\n",
      " -4.56141531e-02 -2.10940815e-03 -1.98097881e-02  2.29895283e-02\n",
      "  7.12533072e-02 -7.95306489e-02 -3.50563079e-02  1.78258847e-02\n",
      "  7.54968002e-02  1.53332986e-02 -4.38045301e-02 -5.18485857e-03\n",
      "  6.87599601e-03 -7.80403465e-02 -1.27029046e-01 -4.40337621e-02\n",
      " -1.25352899e-02  8.26816559e-02 -1.37119874e-01  3.63219939e-02\n",
      " -6.54136539e-02 -2.02189945e-02 -3.50613631e-02 -1.44013586e-02\n",
      " -2.24526860e-02 -9.29972157e-03  5.17099537e-02 -5.71056344e-02\n",
      " -6.56510815e-02  4.68977019e-02  4.96112183e-02  5.62314782e-03\n",
      "  1.28392518e-01 -1.01799414e-01 -8.09403136e-02 -2.91944705e-02\n",
      " -6.41308576e-02 -8.07524696e-02  6.07690308e-03 -1.77998580e-02\n",
      " -7.22399279e-02  5.02039585e-03 -3.23373862e-02 -5.11335172e-02\n",
      "  1.87427904e-02 -5.10505922e-02 -5.54828122e-02 -7.15813413e-02\n",
      "  2.14546118e-02 -1.26460241e-02  3.28274183e-02 -4.50537838e-02\n",
      " -3.27254529e-03  1.39265116e-02  1.61140170e-02  5.98623417e-02\n",
      "  9.27938335e-03  3.23143825e-02 -7.63854235e-02 -2.88207177e-02\n",
      "  9.13241655e-02  8.85293633e-02 -7.08486736e-02 -2.29233219e-08\n",
      " -6.71488047e-02 -4.62040491e-02  2.35784799e-02  7.15207383e-02\n",
      " -3.49114463e-02 -2.32234895e-02  1.08716432e-02 -3.25037092e-02\n",
      "  6.91366242e-03 -1.91858448e-02  6.17897585e-02  6.29242808e-02\n",
      " -5.70245311e-02  4.22191061e-03  5.37954010e-02  3.44344899e-02\n",
      " -4.56024669e-02 -2.81630699e-02 -2.16048304e-02  3.74481156e-02\n",
      "  7.27643520e-02  2.84791421e-02  4.56924690e-03 -2.21464550e-03\n",
      " -1.12677040e-02  1.96439493e-03 -4.89865541e-02  4.96323779e-02\n",
      "  1.73492078e-02  8.99152160e-02  5.94952740e-02  2.10371986e-02\n",
      "  1.13805747e-02  2.25257152e-03  5.27376495e-02  2.04671212e-02\n",
      "  6.14038594e-02 -4.07887958e-02  6.48776675e-03 -6.20214567e-02\n",
      " -9.29149240e-03  1.58366468e-02 -1.20839976e-01  8.75867084e-02\n",
      "  1.04563914e-01 -6.51321420e-03 -4.26220335e-02 -1.30629152e-01\n",
      " -1.85518917e-02 -3.28313038e-02 -5.28651290e-03 -1.24127893e-02\n",
      "  5.18216826e-02 -4.54208441e-02  2.46770866e-02  1.28300413e-02\n",
      "  8.51354599e-02  6.37834845e-03  2.29973849e-02 -2.99788732e-02\n",
      "  3.60932574e-02  5.88046648e-02  7.13888183e-02  6.02300745e-03]\n",
      "Sentence: I like chimps!\n",
      "Embedding: [-5.03895581e-02 -6.14672191e-02  5.85084036e-02 -1.36389432e-03\n",
      " -4.39966656e-02 -1.29542705e-02  5.76724559e-02  1.21858912e-02\n",
      "  2.72746831e-02  1.91462412e-01  1.06477641e-01 -6.79736510e-02\n",
      "  4.52792225e-03  2.77071446e-02 -1.24746105e-02  1.10872574e-02\n",
      "  2.26032156e-02 -2.75606755e-02  3.47521640e-02  6.58257455e-02\n",
      " -1.49257764e-01 -1.98502000e-03  5.23316897e-02  2.85540055e-02\n",
      " -9.04282779e-02  4.04951088e-02 -3.66965011e-02  3.33050415e-02\n",
      " -1.38024800e-02 -1.97847411e-02 -3.90186012e-02  4.52924855e-02\n",
      " -2.46524699e-02  1.40734343e-02 -5.28036570e-03  2.14657895e-02\n",
      "  4.88234535e-02 -7.47252314e-04  6.56650215e-02  7.36807212e-02\n",
      "  2.45942567e-02  1.80621278e-02  5.26422113e-02  6.91990415e-03\n",
      "  4.30193078e-03 -4.39660549e-02 -1.67878848e-02 -3.96978520e-02\n",
      "  3.19559835e-02  3.62758413e-02  7.22988024e-02  3.82770486e-02\n",
      " -1.54527770e-02  3.94500829e-02 -8.87635425e-02  2.98357885e-02\n",
      " -3.44498828e-02 -6.49661869e-02 -1.27031673e-02  1.85289085e-02\n",
      " -1.93558857e-02  5.02249487e-02 -1.82857402e-02 -3.52413580e-02\n",
      "  4.70584333e-02  6.29996555e-03 -3.62707116e-02  5.16247079e-02\n",
      "  7.12430626e-02  3.87424678e-02  2.17272341e-02  1.39931655e-02\n",
      " -8.75555128e-02  9.91654024e-02 -3.50190364e-02  6.08499683e-02\n",
      "  2.87940297e-02 -5.55279739e-02  4.02005669e-03 -6.18098266e-02\n",
      "  3.05869542e-02 -1.34347305e-01 -3.83747071e-02 -2.72424147e-02\n",
      "  5.72041869e-02 -9.97929722e-02 -5.96362278e-02  5.04909717e-02\n",
      " -9.34253410e-02  1.74306370e-02 -3.97309139e-02  4.46865242e-03\n",
      " -3.31359170e-02 -1.01257628e-02 -3.87913696e-02 -1.42149283e-02\n",
      "  5.79873612e-03 -3.19358855e-02 -4.39845026e-02  3.46319154e-02\n",
      "  4.14513238e-03 -4.32821875e-03 -8.38482566e-03 -1.33997891e-02\n",
      "  6.40562624e-02 -1.16826827e-02 -2.12685764e-02 -2.38750409e-03\n",
      "  5.76025918e-02 -4.76685762e-02 -2.48323809e-02  1.24272956e-02\n",
      "  8.66533071e-03  3.99895683e-02  2.16092728e-02  2.60635857e-02\n",
      "  6.14137277e-02  2.36181021e-02  1.29287308e-02 -4.05123159e-02\n",
      "  2.75769178e-02  6.99955821e-02 -5.56990281e-02 -4.27023470e-02\n",
      "  1.03140622e-02 -7.34609812e-02 -4.52268198e-02 -2.55267304e-33\n",
      " -3.14963497e-02 -2.96381544e-02  1.62708294e-02 -5.77213727e-02\n",
      " -7.49109918e-03  1.04023986e-01  9.56929475e-03  1.36843463e-02\n",
      " -3.33494730e-02  1.36411758e-02 -7.71164745e-02  4.41396907e-02\n",
      " -8.96742940e-02  5.71785234e-02 -6.62337691e-02  7.58530125e-02\n",
      " -1.16916262e-02 -2.65661981e-02 -4.47014049e-02 -3.17676924e-02\n",
      " -1.10764168e-01  9.99058262e-02 -3.12930555e-03  1.14331268e-01\n",
      "  7.67265260e-02 -4.13873009e-02  3.10686175e-02 -7.89814368e-02\n",
      "  2.62702852e-02  3.65729630e-02  6.09319508e-02 -5.86012332e-03\n",
      "  6.73439726e-02 -2.46585198e-02 -6.40334859e-02 -9.14736744e-03\n",
      " -1.99769959e-02 -3.34195718e-02 -1.18792951e-02  5.76154776e-02\n",
      "  1.41913891e-01 -2.38173790e-02 -1.04535175e-02  2.92496644e-02\n",
      "  2.50194445e-02  8.88118446e-02  4.70647141e-02 -6.51798174e-02\n",
      " -1.18810907e-02 -4.49835137e-02 -8.16946477e-02  3.33049521e-02\n",
      " -3.55287432e-03  9.70981121e-02  6.09557368e-02 -2.87725516e-02\n",
      "  7.59818628e-02  5.88495992e-02 -7.23869354e-02 -3.77033800e-02\n",
      " -3.38143967e-02  4.97004054e-02  8.02541338e-03 -1.01223789e-01\n",
      "  6.47683218e-02 -2.40483116e-02  1.39391515e-02  5.51315816e-03\n",
      " -3.97145450e-02  8.58040061e-03 -1.80228371e-02 -1.46756703e-02\n",
      " -6.46481141e-02 -4.56237681e-02 -5.49628809e-02 -4.93130982e-02\n",
      "  6.11644518e-03 -1.62594356e-02 -7.00784177e-02 -4.02119309e-02\n",
      "  5.47560938e-02  5.66531904e-03 -3.83725502e-02 -4.28383835e-02\n",
      "  2.95965355e-02  5.56629449e-02 -1.23395026e-02 -6.23725355e-02\n",
      "  3.35836411e-02 -1.20125286e-01  9.34983138e-04 -4.36949581e-02\n",
      "  1.01309836e-01  1.38552638e-03 -9.65481102e-02  2.03259485e-33\n",
      " -3.08361351e-02 -7.51965865e-02  7.82577787e-03  3.43953483e-02\n",
      " -1.37807976e-03  1.39485477e-02 -2.97280867e-02  3.42815481e-02\n",
      " -1.97508205e-02  4.95158434e-02 -3.75355929e-02 -7.35877752e-02\n",
      "  1.07115079e-02 -6.93368688e-02  3.86689492e-02  1.62804183e-02\n",
      " -2.23719999e-02  4.38082479e-02  1.22680375e-02  2.88698748e-02\n",
      " -9.20813531e-02  4.33656611e-02  8.07396602e-03  6.62843511e-02\n",
      " -2.86565106e-02  5.87168857e-02 -3.34658176e-02  1.50844092e-02\n",
      "  4.10941467e-02 -1.68584811e-03 -4.13405970e-02 -5.49265370e-03\n",
      " -2.66718902e-02 -9.62639004e-02  9.03298184e-02  8.12147185e-03\n",
      " -5.27468547e-02  2.16072751e-03 -2.20485199e-02 -3.15363286e-03\n",
      " -2.72034910e-02  4.54933681e-02  1.05301112e-01  5.53802997e-02\n",
      "  2.45364718e-02  5.56701422e-02  1.32532110e-02 -2.53130365e-02\n",
      " -1.65923923e-01  7.86747560e-02 -8.87606889e-02 -7.01542646e-02\n",
      " -1.21792089e-02 -6.54759482e-02  2.74718590e-02 -7.65440753e-03\n",
      "  3.91046889e-02  2.72671636e-02  8.30634311e-03 -6.74693286e-02\n",
      " -4.82386313e-02  8.65726396e-02 -7.54872337e-04  9.32681486e-02\n",
      " -5.18589504e-02  3.05247419e-02 -4.76895794e-02  2.83688530e-02\n",
      " -6.69254661e-02 -1.56003265e-02  1.99851263e-02  2.44775899e-02\n",
      " -5.15124090e-02 -3.00857821e-03  4.33253758e-02  5.77313974e-02\n",
      "  5.54815680e-03  1.73258353e-02  6.34559721e-04 -8.21737014e-03\n",
      " -4.13725227e-02  5.67102470e-02 -5.28849363e-02  9.39597338e-02\n",
      " -4.13791696e-03  1.06951073e-01 -6.86169490e-02  6.62300140e-02\n",
      " -3.92055623e-02  4.30370606e-02  1.98719241e-02 -2.40004249e-02\n",
      "  2.75401268e-02  5.41222058e-02  2.63041761e-02 -1.42085170e-08\n",
      " -4.43897918e-02  3.07961386e-02  9.35088247e-02  1.38152214e-02\n",
      "  7.24121630e-02  3.11913062e-02 -6.53117523e-02  2.99269222e-02\n",
      " -3.54033411e-02  3.95207964e-02  9.89954546e-02  6.04506545e-02\n",
      " -4.35765535e-02  1.11937664e-01  3.30828987e-02  5.40800244e-02\n",
      "  1.52631002e-02 -1.87421534e-02  3.94094251e-02  3.30153778e-02\n",
      " -9.15746093e-02  6.12948686e-02  3.42441201e-02 -7.91175105e-03\n",
      " -3.09676491e-02 -4.25526723e-02 -5.39993383e-02 -3.32054310e-02\n",
      " -1.56531073e-02 -2.28381087e-03  1.52435983e-02  4.85041514e-02\n",
      " -7.01286718e-02  1.88123528e-02  2.72077154e-02 -7.29025379e-02\n",
      "  3.18952091e-02 -5.83889112e-02  3.55917811e-02 -5.49941510e-02\n",
      "  2.44111437e-02  9.13497433e-02 -3.58737856e-02 -6.13239259e-02\n",
      " -5.66225797e-02 -6.64727166e-02  1.35982901e-01 -5.26488982e-02\n",
      " -5.40736550e-03 -3.35669182e-02 -5.34035787e-02  2.83863599e-04\n",
      " -9.10548586e-03  1.82443019e-02  3.14710103e-03 -2.66890004e-02\n",
      " -2.70780772e-02 -3.29775512e-02  1.36963576e-02  3.54641164e-03\n",
      "  7.77155757e-02 -1.03237212e-03  1.25779137e-02  1.04688173e-02]\n"
     ]
    }
   ],
   "source": [
    "from sentence_transformers import SentenceTransformer\n",
    "embedding_model = SentenceTransformer(model_name_or_path=\"all-MiniLM-L6-v2\", device=\"cuda\")\n",
    "\n",
    "#create a list of sentences\n",
    "sentences = [\"The sentence transformer provides an easier way to create embeddings\",\n",
    "\"Sentences can be embedded one by one in  a list.\",\"I like chimps!\"]\n",
    "\n",
    "embeddings = embedding_model.encode(sentences)\n",
    "embedding_dict = dict(zip(sentences, embeddings))\n",
    "\n",
    "for sentence, embedding in embedding_dict.items():\n",
    "    print(f\"Sentence: {sentence}\")\n",
    "    print(f\"Embedding: {embedding}\")\n"
   ]
  },
  {
   "cell_type": "code",
   "execution_count": 23,
   "metadata": {},
   "outputs": [
    {
     "data": {
      "text/plain": [
       "(384,)"
      ]
     },
     "execution_count": 23,
     "metadata": {},
     "output_type": "execute_result"
    }
   ],
   "source": [
    "embeddings[0].shape"
   ]
  },
  {
   "cell_type": "code",
   "execution_count": 24,
   "metadata": {},
   "outputs": [
    {
     "data": {
      "text/plain": [
       "array([-5.49600795e-02,  7.83105660e-03,  4.53742296e-02,  1.39820976e-02,\n",
       "        6.11195201e-03,  3.69756743e-02,  5.68162501e-02,  8.16691294e-03,\n",
       "        6.46039024e-02,  3.74894403e-02, -3.10413670e-02, -6.54169619e-02,\n",
       "        1.80261638e-02,  6.76760525e-02,  4.60806005e-02, -7.25531531e-03,\n",
       "        2.34833471e-02, -2.68905833e-02,  1.29956920e-02, -7.20567331e-02,\n",
       "       -9.44685936e-02,  5.52156940e-02,  1.91131495e-02, -3.16299573e-02,\n",
       "       -1.05778776e-01, -7.45278969e-02,  8.34871829e-03,  2.31317915e-02,\n",
       "       -3.54232354e-04, -7.11231679e-02, -5.96878044e-02, -5.54632954e-02,\n",
       "        5.56221679e-02, -1.30626699e-02, -3.61372530e-02,  3.70618589e-02,\n",
       "        2.22168909e-03, -6.46472201e-02,  8.49302262e-02,  5.51789813e-02,\n",
       "        2.26267688e-02,  1.08027235e-02,  5.81755862e-02, -3.67338285e-02,\n",
       "        4.32514399e-03,  3.97136211e-02, -4.81586643e-02, -4.30390351e-02,\n",
       "        8.91654417e-02,  2.15336047e-02,  1.61640719e-02, -1.13695618e-02,\n",
       "       -2.48991884e-02, -1.93060320e-02,  7.13130692e-04, -7.61300251e-02,\n",
       "        7.05540588e-04, -2.79393606e-03,  2.87220180e-02, -1.07267946e-01,\n",
       "        2.40209065e-02,  2.52172556e-02,  8.31540972e-02,  4.93042395e-02,\n",
       "       -4.65862378e-02,  8.21733009e-03, -6.76511601e-02,  4.32646461e-03,\n",
       "       -4.95705009e-02,  2.01068819e-02, -4.73854691e-02,  4.63152528e-02,\n",
       "        2.10734457e-02,  2.06837654e-02, -6.20998889e-02,  2.73506828e-02,\n",
       "        1.20313121e-02, -5.65622188e-03,  5.58706149e-02,  3.88068631e-02,\n",
       "       -1.72146894e-02, -8.65979791e-02, -4.79585677e-02, -3.99901122e-02,\n",
       "        5.63694239e-02,  7.42410542e-03,  7.63115473e-03, -2.44431421e-02,\n",
       "       -1.36953607e-01, -6.02578521e-02,  5.68667501e-02, -7.82264248e-02,\n",
       "       -1.04917409e-02,  6.03944669e-03,  3.33753154e-02, -1.45564927e-02,\n",
       "        7.96595365e-02, -2.39041485e-02, -8.19318965e-02,  4.01981361e-02,\n",
       "        6.82571018e-03, -3.68535845e-03, -4.12449762e-02, -2.38769539e-02,\n",
       "        9.59254652e-02,  3.29386257e-02, -6.35863170e-02, -2.25207433e-02,\n",
       "        4.65457551e-02, -2.87959483e-02, -1.91543177e-02, -5.98253831e-02,\n",
       "        5.14846034e-02,  4.29321229e-02,  1.68866925e-02,  2.06657723e-02,\n",
       "       -8.81084800e-02,  1.39543461e-02, -2.76021678e-02,  4.72101085e-02,\n",
       "        6.00902960e-02,  4.61964533e-02,  5.99851161e-02, -4.39711325e-02,\n",
       "        2.04956885e-02, -4.23200391e-02,  1.92181487e-02, -5.05641981e-33,\n",
       "       -4.38572019e-02, -1.49445564e-01,  1.42569570e-02, -5.39034382e-02,\n",
       "        5.11020869e-02,  3.54335364e-03, -2.35214271e-02,  6.12249561e-02,\n",
       "       -3.37794498e-02, -4.37697805e-02,  5.57839312e-03,  3.35345827e-02,\n",
       "       -7.06644207e-02, -4.86969342e-03, -7.91716576e-02,  1.47650531e-02,\n",
       "        1.75150530e-03, -2.67026108e-02,  2.24309061e-02, -2.93508936e-02,\n",
       "       -3.27186100e-02,  9.22697559e-02,  3.13220136e-02,  5.45774251e-02,\n",
       "       -3.64611577e-03, -7.11301416e-02,  2.42386237e-02, -8.36432055e-02,\n",
       "       -1.94490291e-02,  6.69258237e-02,  2.34407652e-03, -5.81086725e-02,\n",
       "       -4.95857894e-02, -3.97896729e-02, -5.41834384e-02, -1.62331805e-01,\n",
       "       -6.83057681e-02, -1.13732651e-01, -7.54948929e-02,  9.66755226e-02,\n",
       "        1.07830346e-01, -4.98480462e-02,  2.12896783e-02,  7.83078466e-03,\n",
       "        1.20079108e-02,  5.10554872e-02,  1.11472765e-02,  5.14429845e-02,\n",
       "       -5.09402230e-02, -6.37520328e-02, -4.63540852e-02,  1.48576954e-02,\n",
       "        3.13781984e-02,  5.79339406e-03,  1.63812451e-02, -4.65569682e-02,\n",
       "        1.99234001e-02, -8.93521006e-04, -1.06337294e-01, -1.84209440e-02,\n",
       "       -8.15503672e-03,  4.84539494e-02,  5.97528070e-02, -3.75877656e-02,\n",
       "        6.72566891e-02,  1.44453710e-02, -7.03199580e-02,  4.76214066e-02,\n",
       "       -2.35914309e-02,  1.22914109e-02,  1.95271373e-02,  4.69163917e-02,\n",
       "       -6.45028288e-03, -1.08371474e-01, -7.21184462e-02, -2.84807589e-02,\n",
       "        7.67807290e-02, -2.36132704e-02, -6.97739720e-02, -8.28638971e-02,\n",
       "       -2.62784846e-02,  8.13153312e-02,  6.01355731e-02, -3.55249383e-02,\n",
       "        1.80024817e-03,  4.12517525e-02,  3.08602285e-02, -1.37925282e-01,\n",
       "       -3.96382883e-02,  2.79344036e-03, -3.31620052e-02, -3.71249318e-02,\n",
       "       -2.36930083e-02, -2.94195339e-02,  5.97177539e-04,  3.38022327e-33,\n",
       "       -4.52104174e-02, -1.21455062e-02,  8.77070725e-02,  4.17135991e-02,\n",
       "        2.41243914e-02, -6.11979105e-02,  6.38392419e-02,  3.95441353e-02,\n",
       "       -1.01737827e-02,  6.40861019e-02, -8.05489048e-02, -1.22738397e-02,\n",
       "        1.75221078e-02, -3.22027393e-02,  1.19832747e-01,  4.00542878e-02,\n",
       "       -1.15988599e-02, -5.71138151e-02,  2.08319761e-02, -7.80186951e-02,\n",
       "       -8.66118297e-02, -3.73095609e-02, -2.82104523e-03, -1.93584748e-02,\n",
       "        1.27566857e-02,  9.85823274e-02, -1.22164220e-01, -2.36943047e-02,\n",
       "        8.28758106e-02, -4.52696532e-02,  2.47298554e-02,  1.66624244e-02,\n",
       "       -2.80225165e-02, -2.82864701e-02,  7.60416733e-03,  2.18003057e-02,\n",
       "       -1.08128274e-02, -6.40086383e-02,  2.58201119e-02,  1.59007311e-02,\n",
       "        7.71203563e-02, -1.35682002e-02,  1.20291607e-02,  3.67132910e-02,\n",
       "        6.87916800e-02,  1.74665507e-02, -2.65180748e-02,  3.71758528e-02,\n",
       "        2.51802057e-02,  1.75939873e-02, -9.33496468e-03,  2.67637577e-02,\n",
       "        3.74240242e-02, -7.89473727e-02,  9.28874314e-02,  5.88733815e-02,\n",
       "        8.68418589e-02,  2.69784406e-02,  8.09528902e-02, -2.55871774e-03,\n",
       "       -2.20000092e-02,  7.65951397e-03, -2.39915438e-02,  1.48094863e-01,\n",
       "       -4.11624014e-02,  2.28909273e-02, -2.83704815e-03, -2.25433130e-02,\n",
       "       -5.38721099e-04, -5.19690774e-02,  7.22926855e-03,  3.20883393e-02,\n",
       "       -7.45337456e-02, -6.31510317e-02,  2.19589435e-02,  4.18236218e-02,\n",
       "        9.09962803e-02,  1.33736376e-02,  8.60184729e-02,  3.93631458e-02,\n",
       "        3.52128968e-03,  2.52754390e-02,  5.50691923e-03,  4.41386476e-02,\n",
       "        6.14710152e-03, -6.63163885e-03, -6.84239483e-03,  7.01528415e-02,\n",
       "        4.42563929e-02,  2.71485206e-02, -1.29470993e-02,  4.67813537e-02,\n",
       "       -6.02583699e-02, -9.13207512e-03,  7.55845904e-02, -1.53584914e-08,\n",
       "       -3.55314906e-03,  3.47466432e-02,  3.93344760e-02, -2.53867079e-02,\n",
       "        8.17901492e-02, -3.44565436e-02, -1.86920632e-02, -7.07681850e-02,\n",
       "       -6.45923913e-02,  4.67595086e-02,  8.04153681e-02,  1.78137757e-02,\n",
       "       -4.65446152e-02,  5.23922518e-02,  9.68680382e-02,  9.01224907e-04,\n",
       "        7.04625323e-02, -7.34828413e-02,  2.18108632e-02,  2.88814586e-02,\n",
       "       -8.06514174e-02, -3.54911922e-03,  2.69268709e-03, -4.87121083e-02,\n",
       "       -7.85891116e-02, -1.04503617e-01, -5.08781150e-02,  1.32969981e-02,\n",
       "        4.56696786e-02,  5.24098724e-02,  6.90319715e-03,  1.56807546e-02,\n",
       "        3.73750902e-03,  2.00063698e-02,  3.75503376e-02,  4.58808569e-03,\n",
       "       -6.42179605e-03, -6.04713596e-02,  9.40657854e-02, -3.74567062e-02,\n",
       "        7.53589645e-02,  2.13474222e-02, -3.94246168e-03, -1.14910444e-02,\n",
       "       -4.52816151e-02,  3.37237194e-02,  4.97347750e-02, -7.94536099e-02,\n",
       "       -5.06274961e-02,  1.12635186e-02, -6.33969009e-02, -1.69334058e-02,\n",
       "        4.66358513e-02,  1.12328835e-01,  5.61044998e-02, -2.13249363e-02,\n",
       "       -7.45305568e-02,  9.84970760e-03, -2.36960966e-02,  4.31105271e-02,\n",
       "        3.08117457e-02,  1.00340664e-01,  5.29931188e-02,  3.23624834e-02],\n",
       "      dtype=float32)"
      ]
     },
     "execution_count": 24,
     "metadata": {},
     "output_type": "execute_result"
    }
   ],
   "source": [
    "embedding = embedding_model.encode(\"My favourite animal is the donkey\")\n",
    "embedding"
   ]
  },
  {
   "cell_type": "code",
   "execution_count": 25,
   "metadata": {},
   "outputs": [
    {
     "data": {
      "application/vnd.jupyter.widget-view+json": {
       "model_id": "7284bb28da7f442a929a8b2ed0852dd5",
       "version_major": 2,
       "version_minor": 0
      },
      "text/plain": [
       "  0%|          | 0/249 [00:00<?, ?it/s]"
      ]
     },
     "metadata": {},
     "output_type": "display_data"
    },
    {
     "name": "stdout",
     "output_type": "stream",
     "text": [
      "CPU times: user 1.27 s, sys: 14.6 ms, total: 1.28 s\n",
      "Wall time: 1.26 s\n"
     ]
    }
   ],
   "source": [
    "%%time \n",
    "\n",
    "embedding_model.to(\"cuda\")\n",
    "\n",
    "for item in tqdm(pages_and_chunks_over_min_token_length):\n",
    "    item[\"embedding\"] = embedding_model.encode(item[\"sentence_chunk\"])\n",
    "\n"
   ]
  },
  {
   "cell_type": "code",
   "execution_count": 26,
   "metadata": {},
   "outputs": [
    {
     "name": "stdout",
     "output_type": "stream",
     "text": [
      "CPU times: user 89 μs, sys: 0 ns, total: 89 μs\n",
      "Wall time: 93.7 μs\n"
     ]
    },
    {
     "data": {
      "text/plain": [
       "'Deflation Hollows Deflation is the removal of loose particles from the ground by the action of wind. When deflation causes a shallow depression by persistent movements of wind, they are called as deflation hollows. Mushroom Tables Ventifacts are rocks that have been abraded, pitted, etched, grooved, or polished by wind-driven sand or ice crystals. These geomorphic features are most typically found in arid environments where there is little vegetation to interfere with aeolian particle transport, where there are frequently strong winds, and where there is a steady but not overwhelming supply of sand. Mushroom Tables / Mushroom rocks are Ventifacts in the shape of a mushroom. In deserts, a greater amount of sand and rock particles are transported close to the ground by the winds which cause more bottom erosion in overlying rocks than the top. This'"
      ]
     },
     "execution_count": 26,
     "metadata": {},
     "output_type": "execute_result"
    }
   ],
   "source": [
    "%%time \n",
    "\n",
    "text_chunks = [item[\"sentence_chunk\"] for item in pages_and_chunks_over_min_token_length]\n",
    "text_chunks[100]"
   ]
  },
  {
   "cell_type": "code",
   "execution_count": 27,
   "metadata": {},
   "outputs": [
    {
     "data": {
      "text/plain": [
       "249"
      ]
     },
     "execution_count": 27,
     "metadata": {},
     "output_type": "execute_result"
    }
   ],
   "source": [
    "len(text_chunks)"
   ]
  },
  {
   "cell_type": "code",
   "execution_count": 28,
   "metadata": {},
   "outputs": [
    {
     "name": "stdout",
     "output_type": "stream",
     "text": [
      "CPU times: user 584 ms, sys: 53.2 ms, total: 638 ms\n",
      "Wall time: 184 ms\n"
     ]
    },
    {
     "data": {
      "text/plain": [
       "tensor([[ 0.0561,  0.0737,  0.0419,  ..., -0.0218, -0.1246,  0.0038],\n",
       "        [-0.0754,  0.0494, -0.0252,  ...,  0.0150, -0.0143,  0.0286],\n",
       "        [ 0.0264, -0.0255,  0.0595,  ..., -0.0240, -0.0227, -0.0092],\n",
       "        ...,\n",
       "        [-0.0200,  0.0131,  0.1068,  ..., -0.0089,  0.0557, -0.0017],\n",
       "        [-0.0557,  0.0520,  0.1518,  ..., -0.0607, -0.0696, -0.0524],\n",
       "        [-0.0396,  0.0280,  0.1182,  ..., -0.0675, -0.1298, -0.0064]],\n",
       "       device='cuda:0')"
      ]
     },
     "execution_count": 28,
     "metadata": {},
     "output_type": "execute_result"
    }
   ],
   "source": [
    "%%time \n",
    "\n",
    "text_chunk_embeddings = embedding_model.encode(text_chunks, batch_size=32, convert_to_tensor=True)\n",
    "text_chunk_embeddings"
   ]
  },
  {
   "cell_type": "code",
   "execution_count": 29,
   "metadata": {},
   "outputs": [],
   "source": [
    "## Saving embeddings to file\n",
    "text_chunks_and_embeddings_df = pd.DataFrame(pages_and_chunks_over_min_token_length)\n",
    "embeddings_df_save_path = \" text_chunks_and_embeddings_df.csv\"\n",
    "text_chunks_and_embeddings_df.to_csv(embeddings_df_save_path, index=False)"
   ]
  },
  {
   "cell_type": "code",
   "execution_count": 30,
   "metadata": {},
   "outputs": [
    {
     "data": {
      "text/html": [
       "<div>\n",
       "<style scoped>\n",
       "    .dataframe tbody tr th:only-of-type {\n",
       "        vertical-align: middle;\n",
       "    }\n",
       "\n",
       "    .dataframe tbody tr th {\n",
       "        vertical-align: top;\n",
       "    }\n",
       "\n",
       "    .dataframe thead th {\n",
       "        text-align: right;\n",
       "    }\n",
       "</style>\n",
       "<table border=\"1\" class=\"dataframe\">\n",
       "  <thead>\n",
       "    <tr style=\"text-align: right;\">\n",
       "      <th></th>\n",
       "      <th>page_number</th>\n",
       "      <th>sentence_chunk</th>\n",
       "      <th>chunk_char_count</th>\n",
       "      <th>chunk_word_count</th>\n",
       "      <th>chunk_token_count</th>\n",
       "      <th>embedding</th>\n",
       "    </tr>\n",
       "  </thead>\n",
       "  <tbody>\n",
       "    <tr>\n",
       "      <th>0</th>\n",
       "      <td>0</td>\n",
       "      <td>1   IIPA2022 22 World Geography Short Answers ...</td>\n",
       "      <td>75</td>\n",
       "      <td>15</td>\n",
       "      <td>18.75</td>\n",
       "      <td>[ 5.60791492e-02  7.36621767e-02  4.18551788e-...</td>\n",
       "    </tr>\n",
       "    <tr>\n",
       "      <th>1</th>\n",
       "      <td>1</td>\n",
       "      <td>2 Contents 1. Origin of Solar System and Sun ....</td>\n",
       "      <td>3711</td>\n",
       "      <td>128</td>\n",
       "      <td>927.75</td>\n",
       "      <td>[-7.53975585e-02  4.93803062e-02 -2.51828190e-...</td>\n",
       "    </tr>\n",
       "    <tr>\n",
       "      <th>2</th>\n",
       "      <td>1</td>\n",
       "      <td>Temperature, Pressure and Density of the Earth...</td>\n",
       "      <td>879</td>\n",
       "      <td>30</td>\n",
       "      <td>219.75</td>\n",
       "      <td>[ 2.63881180e-02 -2.54815575e-02  5.94870076e-...</td>\n",
       "    </tr>\n",
       "    <tr>\n",
       "      <th>3</th>\n",
       "      <td>2</td>\n",
       "      <td>3 Types of Volcanoes ............................</td>\n",
       "      <td>4446</td>\n",
       "      <td>206</td>\n",
       "      <td>1111.50</td>\n",
       "      <td>[ 7.03720823e-02 -3.47200930e-02  5.47501668e-...</td>\n",
       "    </tr>\n",
       "    <tr>\n",
       "      <th>4</th>\n",
       "      <td>3</td>\n",
       "      <td>4 Continental Slope .............................</td>\n",
       "      <td>3865</td>\n",
       "      <td>167</td>\n",
       "      <td>966.25</td>\n",
       "      <td>[ 1.10680545e-02  4.12429596e-04 -1.85156576e-...</td>\n",
       "    </tr>\n",
       "  </tbody>\n",
       "</table>\n",
       "</div>"
      ],
      "text/plain": [
       "   page_number                                     sentence_chunk  \\\n",
       "0            0  1   IIPA2022 22 World Geography Short Answers ...   \n",
       "1            1  2 Contents 1. Origin of Solar System and Sun ....   \n",
       "2            1  Temperature, Pressure and Density of the Earth...   \n",
       "3            2  3 Types of Volcanoes ............................   \n",
       "4            3  4 Continental Slope .............................   \n",
       "\n",
       "   chunk_char_count  chunk_word_count  chunk_token_count  \\\n",
       "0                75                15              18.75   \n",
       "1              3711               128             927.75   \n",
       "2               879                30             219.75   \n",
       "3              4446               206            1111.50   \n",
       "4              3865               167             966.25   \n",
       "\n",
       "                                           embedding  \n",
       "0  [ 5.60791492e-02  7.36621767e-02  4.18551788e-...  \n",
       "1  [-7.53975585e-02  4.93803062e-02 -2.51828190e-...  \n",
       "2  [ 2.63881180e-02 -2.54815575e-02  5.94870076e-...  \n",
       "3  [ 7.03720823e-02 -3.47200930e-02  5.47501668e-...  \n",
       "4  [ 1.10680545e-02  4.12429596e-04 -1.85156576e-...  "
      ]
     },
     "execution_count": 30,
     "metadata": {},
     "output_type": "execute_result"
    }
   ],
   "source": [
    "## viewing the saved file\n",
    "\n",
    "text_chunks_and_embeddings_df_load = pd.read_csv(embeddings_df_save_path)\n",
    "text_chunks_and_embeddings_df_load.head()\n"
   ]
  },
  {
   "cell_type": "markdown",
   "metadata": {},
   "source": [
    "RAG : Search and Answer :: \n",
    "\n",
    "Retrieve relevant passages based on Query and use those passages to augment an input to an LLM so it can generate an output based on those relevant passages."
   ]
  },
  {
   "cell_type": "code",
   "execution_count": 31,
   "metadata": {},
   "outputs": [
    {
     "data": {
      "text/html": [
       "<div>\n",
       "<style scoped>\n",
       "    .dataframe tbody tr th:only-of-type {\n",
       "        vertical-align: middle;\n",
       "    }\n",
       "\n",
       "    .dataframe tbody tr th {\n",
       "        vertical-align: top;\n",
       "    }\n",
       "\n",
       "    .dataframe thead th {\n",
       "        text-align: right;\n",
       "    }\n",
       "</style>\n",
       "<table border=\"1\" class=\"dataframe\">\n",
       "  <thead>\n",
       "    <tr style=\"text-align: right;\">\n",
       "      <th></th>\n",
       "      <th>page_number</th>\n",
       "      <th>sentence_chunk</th>\n",
       "      <th>chunk_char_count</th>\n",
       "      <th>chunk_word_count</th>\n",
       "      <th>chunk_token_count</th>\n",
       "      <th>embedding</th>\n",
       "    </tr>\n",
       "  </thead>\n",
       "  <tbody>\n",
       "    <tr>\n",
       "      <th>0</th>\n",
       "      <td>0</td>\n",
       "      <td>1   IIPA2022 22 World Geography Short Answers ...</td>\n",
       "      <td>75</td>\n",
       "      <td>15</td>\n",
       "      <td>18.75</td>\n",
       "      <td>[0.0560791492, 0.0736621767, 0.0418551788, 0.0...</td>\n",
       "    </tr>\n",
       "    <tr>\n",
       "      <th>1</th>\n",
       "      <td>1</td>\n",
       "      <td>2 Contents 1. Origin of Solar System and Sun ....</td>\n",
       "      <td>3711</td>\n",
       "      <td>128</td>\n",
       "      <td>927.75</td>\n",
       "      <td>[-0.0753975585, 0.0493803062, -0.025182819, 0....</td>\n",
       "    </tr>\n",
       "    <tr>\n",
       "      <th>2</th>\n",
       "      <td>1</td>\n",
       "      <td>Temperature, Pressure and Density of the Earth...</td>\n",
       "      <td>879</td>\n",
       "      <td>30</td>\n",
       "      <td>219.75</td>\n",
       "      <td>[0.026388118, -0.0254815575, 0.0594870076, 0.0...</td>\n",
       "    </tr>\n",
       "    <tr>\n",
       "      <th>3</th>\n",
       "      <td>2</td>\n",
       "      <td>3 Types of Volcanoes ............................</td>\n",
       "      <td>4446</td>\n",
       "      <td>206</td>\n",
       "      <td>1111.50</td>\n",
       "      <td>[0.0703720823, -0.034720093, 0.0547501668, -0....</td>\n",
       "    </tr>\n",
       "    <tr>\n",
       "      <th>4</th>\n",
       "      <td>3</td>\n",
       "      <td>4 Continental Slope .............................</td>\n",
       "      <td>3865</td>\n",
       "      <td>167</td>\n",
       "      <td>966.25</td>\n",
       "      <td>[0.0110680545, 0.000412429596, -0.0185156576, ...</td>\n",
       "    </tr>\n",
       "  </tbody>\n",
       "</table>\n",
       "</div>"
      ],
      "text/plain": [
       "   page_number                                     sentence_chunk  \\\n",
       "0            0  1   IIPA2022 22 World Geography Short Answers ...   \n",
       "1            1  2 Contents 1. Origin of Solar System and Sun ....   \n",
       "2            1  Temperature, Pressure and Density of the Earth...   \n",
       "3            2  3 Types of Volcanoes ............................   \n",
       "4            3  4 Continental Slope .............................   \n",
       "\n",
       "   chunk_char_count  chunk_word_count  chunk_token_count  \\\n",
       "0                75                15              18.75   \n",
       "1              3711               128             927.75   \n",
       "2               879                30             219.75   \n",
       "3              4446               206            1111.50   \n",
       "4              3865               167             966.25   \n",
       "\n",
       "                                           embedding  \n",
       "0  [0.0560791492, 0.0736621767, 0.0418551788, 0.0...  \n",
       "1  [-0.0753975585, 0.0493803062, -0.025182819, 0....  \n",
       "2  [0.026388118, -0.0254815575, 0.0594870076, 0.0...  \n",
       "3  [0.0703720823, -0.034720093, 0.0547501668, -0....  \n",
       "4  [0.0110680545, 0.000412429596, -0.0185156576, ...  "
      ]
     },
     "execution_count": 31,
     "metadata": {},
     "output_type": "execute_result"
    }
   ],
   "source": [
    " #Simimlarity Search \n",
    "import torch \n",
    "import numpy as np \n",
    "device = \"cuda\" if torch.cuda.is_available() else \"cpu\"\n",
    "import pandas as pd\n",
    "\n",
    "text_chunks_and_embeddings_df_load[\"embedding\"] = text_chunks_and_embeddings_df_load[\"embedding\"].apply(lambda x: np.array([float(i) for i in str(x).strip(\"[]\").split()]))\n",
    "\n",
    "embeddings = torch.tensor(np.stack(text_chunks_and_embeddings_df_load[\"embedding\"].tolist(), axis=0), dtype=torch.float32).to(device)\n",
    "\n",
    "pages_and_chunks =  text_chunks_and_embeddings_df_load.to_dict(orient=\"records\")\n",
    "\n",
    "text_chunks_and_embeddings_df_load.head()"
   ]
  },
  {
   "cell_type": "code",
   "execution_count": 32,
   "metadata": {},
   "outputs": [
    {
     "data": {
      "text/plain": [
       "torch.Size([249, 384])"
      ]
     },
     "execution_count": 32,
     "metadata": {},
     "output_type": "execute_result"
    }
   ],
   "source": [
    "embeddings.shape\n",
    "\n",
    "#259 embeddings all of size 384"
   ]
  },
  {
   "cell_type": "code",
   "execution_count": 33,
   "metadata": {},
   "outputs": [],
   "source": [
    "from sentence_transformers import util, SentenceTransformer\n",
    "embedding_model = SentenceTransformer(model_name_or_path=\"all-MiniLM-L6-v2\", device=device)\n"
   ]
  },
  {
   "cell_type": "markdown",
   "metadata": {},
   "source": [
    "SEMANTIC SEARCH PIPELINE\n",
    "\n",
    "1. Defining a Query String\n",
    "2. Turn the query into an embedding. \n",
    "3. Perform a dot product or cosine simmilarity function between the text embeddings and the query embedding. \n",
    "4. Sort the results from 3 in descending order."
   ]
  },
  {
   "cell_type": "code",
   "execution_count": 34,
   "metadata": {},
   "outputs": [
    {
     "name": "stdout",
     "output_type": "stream",
     "text": [
      "query: magma\n"
     ]
    },
    {
     "data": {
      "text/plain": [
       "torch.return_types.topk(\n",
       "values=tensor([0.4164, 0.3998, 0.3970, 0.3786, 0.3774], device='cuda:0'),\n",
       "indices=tensor([ 66,  55,  64, 176,   3], device='cuda:0'))"
      ]
     },
     "execution_count": 34,
     "metadata": {},
     "output_type": "execute_result"
    }
   ],
   "source": [
    "# Defining the Query String \n",
    "\n",
    "query = \"magma\"\n",
    "print(f\"query: {query}\")\n",
    "\n",
    "# turning the query into an embedding using the same model\n",
    "\n",
    "query_embedding = embedding_model.encode(query, convert_to_tensor=True).to(\"cuda\")\n",
    "\n",
    "# getting simmilarity scores using the dot product \n",
    "\n",
    "\n",
    "dot_scores = util.dot_score(a=query_embedding, b=embeddings)[0]\n",
    "results_dot_product = torch.topk(dot_scores, k=5)\n",
    "results_dot_product"
   ]
  },
  {
   "cell_type": "code",
   "execution_count": 35,
   "metadata": {},
   "outputs": [
    {
     "data": {
      "text/plain": [
       "{'page_number': 31,\n",
       " 'sentence_chunk': 'They are characterized by the eruption of a cooler and more viscous lavas than basalt. These volcanoes often result in explosive eruptions. Along with lava, large quantities of pyroclastic materials and ashes find their way to the ground. This material accumulates in the vicinity of the vent openings and leading to the formation of layers, and this makes the mount appears as composite volcanoes. Caldera: These are the most explosive of the earth’s volcanoes. They are usually so explosive that when they erupt they tend to collapse on themselves rather than building any tall structure. The collapsed depressions are called calderas. Their explosiveness indicates that its magma chamber is large and in close vicinity. A caldera differs from a crater in such a way that a caldera is a huge depression caused by a collapse',\n",
       " 'chunk_char_count': 825,\n",
       " 'chunk_word_count': 135,\n",
       " 'chunk_token_count': 206.25,\n",
       " 'embedding': array([ 1.15415016e-02,  5.53036283e-04,  4.58008423e-02,  2.34390739e-02,\n",
       "         8.58042669e-03, -4.95388843e-02, -5.52833304e-02,  1.05462722e-01,\n",
       "         6.99015707e-02, -3.77584547e-02, -2.59698667e-02, -3.62556875e-02,\n",
       "         3.73414122e-02,  1.42473052e-03,  2.52975114e-02, -7.05171973e-02,\n",
       "        -4.35879156e-02, -3.18011902e-02,  3.40007693e-02,  3.20784189e-02,\n",
       "         4.76203226e-02,  4.92640622e-02, -1.17460288e-01,  6.30685911e-02,\n",
       "         3.78701016e-02,  1.14580445e-01, -1.90294906e-02,  2.11340142e-03,\n",
       "         3.86633561e-03,  1.14158746e-02, -1.84443910e-02, -1.03423901e-01,\n",
       "        -4.43095015e-03,  1.09865116e-02,  2.99497675e-02,  6.01669811e-02,\n",
       "        -7.55644664e-02,  6.57924414e-02,  6.65216474e-03,  1.28608914e-02,\n",
       "        -3.58812027e-02, -2.33158190e-02,  1.93089116e-02, -5.49373403e-02,\n",
       "         8.81303102e-03,  6.32145032e-02,  7.16189854e-03, -5.29050827e-02,\n",
       "        -4.91483249e-02, -1.04070585e-02,  1.85210817e-02, -3.05625722e-02,\n",
       "        -6.15151003e-02,  5.91181731e-03, -2.06912439e-02, -9.33913291e-02,\n",
       "         1.25394752e-02, -1.36222215e-02,  9.48464721e-02,  2.06400007e-02,\n",
       "         3.95459682e-02, -6.95559196e-03,  2.60273851e-02,  1.08644683e-02,\n",
       "         6.56885356e-02,  2.09875517e-02,  1.00886799e-01,  2.51954291e-02,\n",
       "        -2.10699625e-02, -1.42238270e-02,  5.40549718e-02,  7.86356032e-02,\n",
       "         2.68750619e-02,  5.32464357e-03, -3.55498604e-02,  6.19558133e-02,\n",
       "        -2.47648489e-02, -1.60614122e-02, -9.64932516e-02,  1.08662471e-01,\n",
       "         3.51664126e-02,  1.30233884e-01, -5.44270389e-02, -1.01407677e-01,\n",
       "        -8.90607666e-03,  3.25220264e-02, -1.71134342e-02, -1.35746384e-02,\n",
       "        -5.68749048e-02,  3.19814682e-02, -2.61757914e-02,  9.10718143e-02,\n",
       "        -1.18872859e-02,  5.21309264e-02,  3.17430422e-02,  2.72013675e-02,\n",
       "         4.02014069e-02, -1.97535306e-02,  6.83135837e-02, -4.10070010e-02,\n",
       "        -3.76047902e-02,  1.07195675e-02, -4.75969128e-02,  7.01603433e-03,\n",
       "        -1.31528014e-02, -5.03930859e-02, -3.31242271e-02,  2.00434960e-02,\n",
       "         2.64100693e-02,  7.99669549e-02,  9.37355217e-03, -6.33839145e-02,\n",
       "        -2.08871588e-02, -1.21764384e-01, -8.15233868e-03, -3.87859270e-02,\n",
       "        -7.80844465e-02,  6.23434223e-02, -1.00139804e-01,  4.26448445e-04,\n",
       "         1.73352808e-02, -4.63903286e-02,  3.40891033e-02, -7.82710221e-03,\n",
       "         2.96250377e-02, -4.72067595e-02, -8.38140845e-02, -2.07831883e-33,\n",
       "         1.86070222e-02,  4.71238941e-02, -7.49664381e-02,  1.06135532e-01,\n",
       "        -3.02510592e-03, -2.39244662e-02, -3.34855206e-02,  4.29110229e-03,\n",
       "         5.34082670e-03,  6.09406978e-02, -3.55768837e-02,  6.64760619e-02,\n",
       "         5.05523430e-03,  6.91361055e-02, -6.23681769e-02, -4.87657823e-02,\n",
       "         6.51090369e-02,  2.99674887e-02, -1.29369676e-01, -3.56948376e-02,\n",
       "        -2.73316517e-03, -1.55765312e-02,  3.39248516e-02,  3.38990726e-02,\n",
       "        -1.48411049e-02,  5.73582295e-03, -1.53847160e-02, -1.50516685e-02,\n",
       "        -1.56869844e-01, -4.53577451e-02,  3.83818559e-02, -6.91507086e-02,\n",
       "        -2.31943745e-02,  2.15783436e-02,  7.64466152e-02, -3.19445878e-02,\n",
       "        -2.66609639e-02,  2.31682807e-02, -3.55494209e-02, -1.14371749e-02,\n",
       "        -7.28012174e-02, -6.81703538e-02, -3.21845151e-02,  1.18317619e-01,\n",
       "         6.03900924e-02, -3.20814773e-02, -2.57351510e-02,  1.85221154e-02,\n",
       "        -5.36511652e-02, -1.00765720e-01,  5.77507820e-03, -7.52539048e-03,\n",
       "         7.02904072e-04,  3.46987657e-02,  3.70885953e-02,  2.78507825e-02,\n",
       "         4.64476598e-03, -1.04264423e-01,  1.04088765e-02,  2.67211273e-02,\n",
       "         5.63715249e-02,  3.07920463e-02, -5.08593991e-02, -3.90207581e-02,\n",
       "        -5.07901721e-02, -2.92626265e-02, -3.35312411e-02,  1.28124515e-02,\n",
       "         8.41878727e-02,  3.79231311e-02,  3.61397974e-02,  5.86824492e-02,\n",
       "        -1.86145809e-02,  2.08500703e-03,  3.18863010e-03, -4.70615700e-02,\n",
       "         9.68611892e-03, -3.52919381e-03, -2.01813355e-02,  1.31525561e-01,\n",
       "        -5.87317571e-02, -6.07030243e-02,  3.85515392e-03, -2.59580426e-02,\n",
       "        -7.42463544e-02,  3.43076028e-02,  4.49772142e-02, -2.90787667e-02,\n",
       "        -4.94827032e-02,  3.63800712e-02, -7.29981363e-02, -5.59763722e-02,\n",
       "         7.88023546e-02, -5.47682159e-02,  5.99534735e-02, -6.67269644e-34,\n",
       "         8.10054466e-02,  3.41884117e-03, -3.71125266e-02, -4.69904914e-02,\n",
       "        -1.40955960e-02,  2.05405205e-02, -9.72735975e-03,  6.25482872e-02,\n",
       "        -1.38557330e-01, -3.97175886e-02, -5.78743741e-02,  5.32294996e-02,\n",
       "         1.25444802e-02, -1.51989246e-02, -7.45324092e-03, -2.03706361e-02,\n",
       "         6.86987191e-02, -5.48654683e-02,  5.19326217e-02, -7.13045709e-04,\n",
       "        -1.75439157e-02,  3.45560722e-02, -6.36081249e-02, -8.76891240e-02,\n",
       "         5.49396090e-02, -1.53141981e-02, -1.01715244e-01, -2.92454064e-02,\n",
       "         3.05644199e-02,  2.98249349e-03, -5.51715046e-02,  5.68061285e-02,\n",
       "         4.66972403e-03,  1.01671144e-02, -6.91791102e-02,  9.52171683e-02,\n",
       "        -1.90118514e-02, -9.56970081e-02,  3.07130478e-02, -8.82584751e-02,\n",
       "         1.23178037e-02,  7.11713061e-02,  5.78509877e-03,  3.35705094e-02,\n",
       "        -4.70822081e-02,  2.47440711e-02,  1.39016777e-01,  2.12952495e-02,\n",
       "         3.25711183e-02,  4.48357128e-02,  3.48411538e-02,  2.55764909e-02,\n",
       "        -7.80473277e-02,  8.69353339e-02,  7.07903877e-02, -5.85430190e-02,\n",
       "        -6.69496506e-02, -5.57633266e-02, -6.34311289e-02, -7.38706216e-02,\n",
       "         4.47501726e-02, -5.37950844e-02,  2.74494998e-02,  1.00153238e-01,\n",
       "        -3.37059684e-02, -3.68980616e-02, -4.46696915e-02, -4.41004969e-02,\n",
       "        -1.64040085e-02,  7.57420212e-02,  1.32270604e-02,  1.36280721e-02,\n",
       "        -1.06391227e-02, -8.77710730e-02, -3.09630320e-03, -5.11274040e-02,\n",
       "        -3.99894954e-04,  2.96266600e-02,  3.56427347e-03, -6.26678690e-02,\n",
       "         1.18269483e-02,  8.77447368e-04,  4.24126443e-03,  8.36919155e-03,\n",
       "         8.22766498e-03, -1.01443753e-02,  5.45586571e-02, -1.43741919e-02,\n",
       "        -4.50717360e-02,  4.42924313e-02, -1.04838535e-02,  1.71686930e-03,\n",
       "         1.02154225e-01,  5.61055616e-02,  6.95895869e-03, -4.27861373e-08,\n",
       "         8.33983812e-03, -1.03042740e-03, -7.83225149e-03, -5.19271940e-02,\n",
       "         7.40593895e-02, -8.18206463e-03,  1.33783491e-02,  6.23495504e-02,\n",
       "         3.83343510e-02, -9.75572988e-02, -3.45737971e-02, -6.80932179e-02,\n",
       "        -3.09432726e-02, -3.37129757e-02,  8.49313736e-02,  3.80670764e-02,\n",
       "        -6.51196437e-03,  8.56126621e-02, -1.83825451e-03, -2.33512768e-03,\n",
       "        -1.81014091e-02, -2.38102395e-02, -4.04821634e-02, -2.60691233e-02,\n",
       "         5.37126176e-02,  5.09298667e-02,  6.08117543e-02, -6.46496043e-02,\n",
       "        -4.69038263e-02, -1.46680372e-03,  1.92803610e-02, -5.92108630e-02,\n",
       "        -1.56363007e-02, -9.56135988e-02,  4.10118774e-02,  1.24436907e-01,\n",
       "        -1.36829372e-02, -1.52924061e-02, -1.15888473e-02, -1.04031853e-01,\n",
       "        -4.03286070e-02, -5.78793138e-02,  2.93889269e-02,  5.57177849e-02,\n",
       "        -5.47580160e-02, -1.00357430e-02, -2.35999636e-02,  1.22683886e-02,\n",
       "         4.59863618e-02,  4.66232337e-02,  5.09021431e-03, -1.64341107e-02,\n",
       "         7.37113282e-02, -3.62423137e-02,  2.00984403e-02,  2.21790876e-02,\n",
       "         1.01825520e-01,  4.75628814e-03,  3.57795097e-02,  3.90291549e-02,\n",
       "         3.33283320e-02,  3.66366049e-03,  8.94296840e-02, -1.41052892e-02])}"
      ]
     },
     "execution_count": 35,
     "metadata": {},
     "output_type": "execute_result"
    }
   ],
   "source": [
    "#checking for working \n",
    "pages_and_chunks[66]"
   ]
  },
  {
   "cell_type": "code",
   "execution_count": 36,
   "metadata": {},
   "outputs": [
    {
     "name": "stdout",
     "output_type": "stream",
     "text": [
      "Larger Embeddings: torch.Size([24900, 384])\n"
     ]
    }
   ],
   "source": [
    "## for larger Embeddings \n",
    "\n",
    "larger_embeddings = torch.randn(100*embeddings.shape[0], 384).to(device)\n",
    "print(f\"Larger Embeddings: {larger_embeddings.shape}\")\n"
   ]
  },
  {
   "cell_type": "code",
   "execution_count": 37,
   "metadata": {},
   "outputs": [],
   "source": [
    "import textwrap\n",
    "\n",
    "def print_wrapped(text, wrap_length=80):\n",
    "        wrapped_text = textwrap.fill(text, wrap_length)\n",
    "        print(wrapped_text)"
   ]
  },
  {
   "cell_type": "code",
   "execution_count": 38,
   "metadata": {},
   "outputs": [
    {
     "name": "stdout",
     "output_type": "stream",
     "text": [
      "Query : 'magma'\n",
      "\n",
      "Results:\n",
      "Score: 0.4164\n",
      "Text:\n",
      "They are characterized by the eruption of a cooler and more viscous lavas than\n",
      "basalt. These volcanoes often result in explosive eruptions. Along with lava,\n",
      "large quantities of pyroclastic materials and ashes find their way to the\n",
      "ground. This material accumulates in the vicinity of the vent openings and\n",
      "leading to the formation of layers, and this makes the mount appears as\n",
      "composite volcanoes. Caldera: These are the most explosive of the earth’s\n",
      "volcanoes. They are usually so explosive that when they erupt they tend to\n",
      "collapse on themselves rather than building any tall structure. The collapsed\n",
      "depressions are called calderas. Their explosiveness indicates that its magma\n",
      "chamber is large and in close vicinity. A caldera differs from a crater in such\n",
      "a way that a caldera is a huge depression caused by a collapse\n",
      "Page Number: 31\n",
      "\n",
      "\n",
      "Score: 0.3998\n",
      "Text:\n",
      "27 asthenosphere is the main source of magma and it is the layer over which the\n",
      "lithospheric plates/ continental plates move (plate tectonics). The\n",
      "discontinuity between the upper mantle and the lower mantle is known as Repetti\n",
      "Discontinuity. The portion of the mantle which is just below the lithosphere and\n",
      "asthenosphere, but above the core is called as Mesosphere. Core It is the\n",
      "innermost layer surrounding the earth’s centre. The core is separated from the\n",
      "mantle by Guttenberg’s Discontinuity. It is composed mainly of iron (Fe) and\n",
      "nickel (Ni) and hence it is also called as NIFE. The core constitutes nearly 15%\n",
      "of earth’s volume and 32.5% of earth’s mass. The core is the densest layer of\n",
      "the earth with its density ranges between 9.5-14.5g/cm3. The Core consists of\n",
      "two sub-layers: the inner core and the outer core. The inner core is in solid\n",
      "state and the outer core is in the liquid state (or semi-liquid).\n",
      "Page Number: 26\n",
      "\n",
      "\n",
      "Score: 0.3970\n",
      "Text:\n",
      " The process by which solid, liquid and gaseous material escape from the\n",
      "earth’s interior to the surface of the earth is called as Volcanism. Types of\n",
      "Volcanoes Volcanoes are classified on the basis of nature of eruption and the\n",
      "form developed at the surface. Shield Volcanoes Shied Volcanoes are not very\n",
      "steep but are far and wider. They extend to great height as well as distance.\n",
      "They are the largest of all volcanoes in the world as the lava flows to a far\n",
      "distance. The Hawaiian volcanoes are the most famous examples. Shield volcanoes\n",
      "have low slopes and consist almost entirely of frozen lavas.\n",
      "Page Number: 30\n",
      "\n",
      "\n",
      "Score: 0.3786\n",
      "Text:\n",
      "90 Mineral dissolved in sea-water 1. Salt 2. Bromine 3. Magnesium 4. Gold 5.\n",
      "Zinc 6. Uranium 7. Thorium Continental Shelf and Slope Deposits  Sulfur –\n",
      "associated with marine volcanism. Ex. Gulf of Mexico – a rich source of sulfur\n",
      "Magnetite reserves are found along the circum pacific volcanic belt.\n",
      "Page Number: 89\n",
      "\n",
      "\n",
      "Score: 0.3774\n",
      "Text:\n",
      "3 Types of Volcanoes ...........................................................\n",
      "................................................................. 31\n",
      "Distribution of Earthquakes ....................................................\n",
      "........................................................... 33 Measurement of Ea\n",
      "rthquakes.......................................................................\n",
      "..................................... 34 Richter scale: ........................\n",
      "................................................................................\n",
      "......................... 35 9. Concepts of geomorphic cycles and Landscape\n",
      "development ............................................................ 36 The\n",
      "Geomorphic Cycle ...............................................................\n",
      "........................................................ 36 Stages of the\n",
      "Geomorphic Cycle ...............................................................\n",
      "...................................... 37 The Second Geomorphic Cycle ..........\n",
      "................................................................................\n",
      "............. 38 Drawbacks of the Common Theories of the Geomorphic Cycle\n",
      "...................................................... 39 10. Erosion and\n",
      "Deposition: Action of Running Water and Groundwater\n",
      "............................................... 40 Courses of a river ..........\n",
      "................................................................................\n",
      "..................................... 40 Erosion Types .........................\n",
      "................................................................................\n",
      "........................... 41 Transportation types ............................\n",
      "................................................................................\n",
      "............. 41 Erosional Landforms due to Running Water ......................\n",
      "............................................................. 42 Depositional\n",
      "Landforms due to Running Water\n",
      "..............................................................................\n",
      "43 What does Groundwater do?....................................................\n",
      ".........................................................44 11. Erosion and\n",
      "Deposition: Action of Glaciers .................................................\n",
      "...................................... 47 Erosional landforms due to Glaciers ..\n",
      "................................................................................\n",
      "................. 47 Depositional Landforms due to Glaciers ....................\n",
      "......................................................................... 48 12.\n",
      "Erosion and Deposition: Action of Wind and Waves\n",
      "......................................................................... 50\n",
      "Erosional Landforms due to Wind ................................................\n",
      "...................................................... 50 Depositional Landforms\n",
      "of Wind ........................................................................\n",
      "................................ 51 13. Action of Waves:........................\n",
      "................................................................................\n",
      "...................... 52 Erosional Landforms due to Waves .....................\n",
      "...............................................................................\n",
      "52 Depositional Landforms due to Waves .........................................\n",
      "...................................................... 53 14. Major Landforms –\n",
      "Mountains, Plateaus, and Plains\n",
      "........................................................................ 54\n",
      "External Process ...............................................................\n",
      "................................................................. 54 Internal\n",
      "Process ........................................................................\n",
      "......................................................... 54 Types of Landforms \n",
      "................................................................................\n",
      "........................................... 54 15. Ocean Floor .................\n",
      "................................................................................\n",
      ".................................... 57 Oceanic Topography .....................\n",
      "................................................................................\n",
      "..................... 57 Continental Shelf .....................................\n",
      "................................................................................\n",
      "...... 57\n",
      "Page Number: 2\n",
      "\n",
      "\n"
     ]
    }
   ],
   "source": [
    "print(f\"Query : '{query}'\\n\")\n",
    "print(\"Results:\")\n",
    "\n",
    "for score, idx in zip(results_dot_product[0], results_dot_product[1]):\n",
    "    print(f\"Score: {score:.4f}\")\n",
    "    print(\"Text:\")\n",
    "    print_wrapped(pages_and_chunks[idx][\"sentence_chunk\"])\n",
    "    print(f\"Page Number: {pages_and_chunks[idx]['page_number']}\")\n",
    "    print(\"\\n\")"
   ]
  },
  {
   "cell_type": "markdown",
   "metadata": {},
   "source": [
    "Automatically returning the page number for our related query and depiction of the most relevant page from the pdf"
   ]
  },
  {
   "cell_type": "code",
   "execution_count": 39,
   "metadata": {},
   "outputs": [
    {
     "data": {
      "image/png": "[encoded data removed]",
      "text/plain": [
       "<Figure size 1300x1000 with 1 Axes>"
      ]
     },
     "metadata": {},
     "output_type": "display_data"
    }
   ],
   "source": [
    "doc = fitz.open(pdf_path)\n",
    "page = doc.load_page(30)\n",
    "img = page.get_pixmap(dpi=300)\n",
    "img.save(\"output_filename.png\")\n",
    "doc.close()\n",
    "\n",
    "img_array = np.frombuffer(img.samples_mv, \n",
    "dtype=np.uint8).reshape(img.h, img.w, img.n)\n",
    "\n",
    "import matplotlib.pyplot as plt \n",
    "plt.figure(figsize=(13,10))\n",
    "plt.imshow(img_array)\n",
    "plt.title(f\"Query: {query} | Most relevant page to our query\")\n",
    "plt.axis(\"off\")\n",
    "plt.show()"
   ]
  },
  {
   "cell_type": "markdown",
   "metadata": {},
   "source": [
    "Cosine Simmilarity : Vectors that are aligned in the direction have a value close to 1. \n",
    "Vectors that are opposite in direction have a value close to -1"
   ]
  },
  {
   "cell_type": "code",
   "execution_count": 40,
   "metadata": {},
   "outputs": [],
   "source": [
    "# def dot_product(vector1, vector2):\n",
    "#     return torch.dot(vector1, vector2)\n",
    "\n",
    "# def cosine_simm(vector1, vector2):\n",
    "#     dot_prod = torch.dot(vector1, vector2)\n",
    "#     norm_vect_1 = torch.sqrt(torch.sum(vector1**2))\n",
    "#     norm_vect_2 = torch.sqrt(torch.sum(vector2**2))\n",
    "\n",
    "#     return dot_prod/ (norm_vect_1*norm_vect_2)\n",
    "\n",
    "# vector1 = torch.tensor([1,2,3,4], dtype=torch.float32)\n",
    "# vector2 = torch.tensor([1,2,3,4], dtype=torch.float32)\n",
    "# vector3 = torch.tensor([-1,-2,-3,-4], dtype=torch.float32)\n",
    "# vector4 = torch.tensor([9,7,5,3], dtype=torch.float32)\n",
    "\n",
    "# print(dot_product(vector1,vector2))\n",
    "# print(dot_product(vector1,vector3))\n",
    "# print(dot_product(vector1,vector4))\n",
    "\n",
    "\n",
    "\n",
    "# print(cosine_simm(vector1,vector2))\n",
    "# print(cosine_simm(vector1,vector3))\n",
    "# print(cosine_simm(vector1,vector4))\n",
    "\n",
    "\n"
   ]
  },
  {
   "cell_type": "code",
   "execution_count": 41,
   "metadata": {},
   "outputs": [],
   "source": [
    "from timeit import default_timer as timer"
   ]
  },
  {
   "cell_type": "code",
   "execution_count": 42,
   "metadata": {},
   "outputs": [],
   "source": [
    "def retreive_relevant_resource(query: str,\n",
    "                                embeddings: torch.tensor,\n",
    "                                model: SentenceTransformer=embedding_model,\n",
    "                                n_resources_to_return: int=5,\n",
    "                                print_time: bool=True):\n",
    "            #Embed query \n",
    "            query_embedding = model.encode(query, convert_to_tensor=True)\n",
    "            start_time = timer()\n",
    "            dot_scores = util.dot_score(query_embedding, embeddings)[0]\n",
    "            end_time = timer()\n",
    "\n",
    "            if print_time:\n",
    "                print(f\"[INFO] Time taken to get scores on: ({len(embeddings)} embeddings: {end_time-start_time:.5f}) seconds.\")\n",
    "\n",
    "            scores, indices = torch.topk(input=dot_scores, k = n_resources_to_return)\n",
    "\n",
    "            return scores, indices\n",
    "\n",
    "def print_top_results_and_scores(query: str, \n",
    "                embeddings: torch.tensor,\n",
    "                pages_and_chunks: list[dict]=pages_and_chunks,\n",
    "                n_resources_to_return: int=5):\n",
    "                scores , indices = retreive_relevant_resource(query=query, embeddings=embeddings, n_resources_to_return=n_resources_to_return)\n"
   ]
  },
  {
   "cell_type": "markdown",
   "metadata": {},
   "source": [
    "LLM : Local Generation\n",
    "\n",
    "Goes from text input to text output."
   ]
  },
  {
   "cell_type": "code",
   "execution_count": 43,
   "metadata": {},
   "outputs": [
    {
     "name": "stdout",
     "output_type": "stream",
     "text": [
      "Avalailable : 24\n"
     ]
    }
   ],
   "source": [
    "# Get GPU available memory \n",
    "\n",
    "gpu_memory_bytes = torch.cuda.get_device_properties(0).total_memory\n",
    "gpu_memory_gb = round(gpu_memory_bytes/(2**30))\n",
    "print(f\"Avalailable : {gpu_memory_gb}\")"
   ]
  },
  {
   "cell_type": "code",
   "execution_count": 44,
   "metadata": {},
   "outputs": [
    {
     "name": "stdout",
     "output_type": "stream",
     "text": [
      "Tue Jul  2 17:34:23 2024       \n",
      "+---------------------------------------------------------------------------------------+\n",
      "| NVIDIA-SMI 535.183.01             Driver Version: 535.183.01   CUDA Version: 12.2     |\n",
      "|-----------------------------------------+----------------------+----------------------+\n",
      "| GPU  Name                 Persistence-M | Bus-Id        Disp.A | Volatile Uncorr. ECC |\n",
      "| Fan  Temp   Perf          Pwr:Usage/Cap |         Memory-Usage | GPU-Util  Compute M. |\n",
      "|                                         |                      |               MIG M. |\n",
      "|=========================================+======================+======================|\n",
      "|   0  NVIDIA GeForce RTX 3090        Off | 00000000:1A:00.0 Off |                  N/A |\n",
      "| 31%   43C    P2             108W / 350W |    666MiB / 24576MiB |      0%      Default |\n",
      "|                                         |                      |                  N/A |\n",
      "+-----------------------------------------+----------------------+----------------------+\n",
      "|   1  NVIDIA GeForce RTX 3090        Off | 00000000:68:00.0  On |                  N/A |\n",
      "| 31%   43C    P8              39W / 350W |    620MiB / 24576MiB |     32%      Default |\n",
      "|                                         |                      |                  N/A |\n",
      "+-----------------------------------------+----------------------+----------------------+\n",
      "                                                                                         \n",
      "+---------------------------------------------------------------------------------------+\n",
      "| Processes:                                                                            |\n",
      "|  GPU   GI   CI        PID   Type   Process name                            GPU Memory |\n",
      "|        ID   ID                                                             Usage      |\n",
      "|=======================================================================================|\n",
      "|    0   N/A  N/A      1111      G   /usr/lib/xorg/Xorg                            4MiB |\n",
      "|    0   N/A  N/A      2023      G   /usr/lib/xorg/Xorg                            4MiB |\n",
      "|    0   N/A  N/A   1523213      C   ...onda3/envs/aorta_aryan_1/bin/python      644MiB |\n",
      "|    1   N/A  N/A      1111      G   /usr/lib/xorg/Xorg                           35MiB |\n",
      "|    1   N/A  N/A      2023      G   /usr/lib/xorg/Xorg                          146MiB |\n",
      "|    1   N/A  N/A      2149      G   /usr/bin/gnome-shell                         69MiB |\n",
      "|    1   N/A  N/A   1436179      G   /usr/lib/firefox/firefox                    229MiB |\n",
      "|    1   N/A  N/A   1522782      G   ...sion,SpareRendererForSitePerProcess       66MiB |\n",
      "+---------------------------------------------------------------------------------------+\n"
     ]
    },
    {
     "name": "stderr",
     "output_type": "stream",
     "text": [
      "huggingface/tokenizers: The current process just got forked, after parallelism has already been used. Disabling parallelism to avoid deadlocks...\n",
      "To disable this warning, you can either:\n",
      "\t- Avoid using `tokenizers` before the fork if possible\n",
      "\t- Explicitly set the environment variable TOKENIZERS_PARALLELISM=(true | false)\n"
     ]
    }
   ],
   "source": [
    "!nvidia-smi"
   ]
  },
  {
   "cell_type": "code",
   "execution_count": 45,
   "metadata": {},
   "outputs": [],
   "source": [
    "# !pip install transformers"
   ]
  },
  {
   "cell_type": "code",
   "execution_count": 53,
   "metadata": {},
   "outputs": [
    {
     "data": {
      "application/vnd.jupyter.widget-view+json": {
       "model_id": "f67f9c93cb3a4c56a47d4a78ec2a3b14",
       "version_major": 2,
       "version_minor": 0
      },
      "text/plain": [
       "Loading checkpoint shards:   0%|          | 0/4 [00:00<?, ?it/s]"
      ]
     },
     "metadata": {},
     "output_type": "display_data"
    },
    {
     "name": "stderr",
     "output_type": "stream",
     "text": [
      "/home/jmessou/anaconda3/envs/aorta_aryan_1/lib/python3.12/site-packages/transformers/generation/utils.py:1249: UserWarning: Using the model-agnostic default `max_length` (=20) to control the generation length. We recommend setting `max_new_tokens` to control the maximum length of the generation.\n",
      "  warnings.warn(\n"
     ]
    },
    {
     "name": "stdout",
     "output_type": "stream",
     "text": [
      "Who are you?\n",
      "\n",
      "I am Gemma, an open-weights AI assistant. I am a\n"
     ]
    }
   ],
   "source": [
    "import torch\n",
    "from transformers import AutoTokenizer, AutoModelForCausalLM\n",
    "from transformers.utils import is_flash_attn_2_available\n",
    "from transformers import BitsAndBytesConfig\n",
    "\n",
    "# Define use_quantization_config\n",
    "use_quantization_config = True\n",
    "\n",
    "# Quantization Config Creation\n",
    "quantization_config = BitsAndBytesConfig(load_in_4bit=True, bnb_4bit_compute_dtype=torch.float16)\n",
    "\n",
    "# Check for flash attention availability\n",
    "torch.cuda.get_device_capability(0)[0]\n",
    "if (is_flash_attn_2_available()) and (torch.cuda.get_device_capability(0)[0] >= 8):\n",
    "    attn_implementation = \"flash_attention_2\"\n",
    "else:\n",
    "    attn_implementation = \"sdpa\"  # scale dot product attention\n",
    "\n",
    "model_id = \"google/gemma-2-9b-it\"\n",
    "\n",
    "# Load tokenizer\n",
    "tokenizer = AutoTokenizer.from_pretrained(pretrained_model_name_or_path=model_id)\n",
    "\n",
    "try:\n",
    "    # Load model with optional quantization config and attention implementation\n",
    "    llm_model = AutoModelForCausalLM.from_pretrained(\n",
    "        pretrained_model_name_or_path=model_id,\n",
    "        torch_dtype=torch.float16,\n",
    "        quantization_config=quantization_config if use_quantization_config else None,\n",
    "        low_cpu_mem_usage=True  # Set this to True for low CPU memory usage\n",
    "    )\n",
    "    \n",
    "    # Example usage\n",
    "    input_text = \"Who are you?\"\n",
    "    inputs = tokenizer(input_text, return_tensors=\"pt\").to(\"cuda\" if torch.cuda.is_available() else \"cpu\")\n",
    "    outputs = llm_model.generate(input_ids=inputs['input_ids'], attention_mask=inputs['attention_mask'])\n",
    "    print(tokenizer.decode(outputs[0], skip_special_tokens=True))\n",
    "\n",
    "except ImportError as e:\n",
    "    print(\"ImportError:\", e)\n",
    "    print(\"Please ensure that 'bitsandbytes' is installed and updated: pip install -U bitsandbytes\")\n",
    "\n",
    "except Exception as e:\n",
    "    print(\"An error occurred:\", e)\n"
   ]
  },
  {
   "cell_type": "code",
   "execution_count": 54,
   "metadata": {},
   "outputs": [
    {
     "data": {
      "text/plain": [
       "Gemma2ForCausalLM(\n",
       "  (model): Gemma2Model(\n",
       "    (embed_tokens): Embedding(256000, 3584, padding_idx=0)\n",
       "    (layers): ModuleList(\n",
       "      (0-41): 42 x Gemma2DecoderLayer(\n",
       "        (self_attn): Gemma2SdpaAttention(\n",
       "          (q_proj): Linear4bit(in_features=3584, out_features=4096, bias=False)\n",
       "          (k_proj): Linear4bit(in_features=3584, out_features=2048, bias=False)\n",
       "          (v_proj): Linear4bit(in_features=3584, out_features=2048, bias=False)\n",
       "          (o_proj): Linear4bit(in_features=4096, out_features=3584, bias=False)\n",
       "          (rotary_emb): Gemma2RotaryEmbedding()\n",
       "        )\n",
       "        (mlp): Gemma2MLP(\n",
       "          (gate_proj): Linear4bit(in_features=3584, out_features=14336, bias=False)\n",
       "          (up_proj): Linear4bit(in_features=3584, out_features=14336, bias=False)\n",
       "          (down_proj): Linear4bit(in_features=14336, out_features=3584, bias=False)\n",
       "          (act_fn): PytorchGELUTanh()\n",
       "        )\n",
       "        (input_layernorm): Gemma2RMSNorm()\n",
       "        (post_attention_layernorm): Gemma2RMSNorm()\n",
       "        (pre_feedforward_layernorm): Gemma2RMSNorm()\n",
       "        (post_feedforward_layernorm): Gemma2RMSNorm()\n",
       "      )\n",
       "    )\n",
       "    (norm): Gemma2RMSNorm()\n",
       "  )\n",
       "  (lm_head): Linear(in_features=3584, out_features=256000, bias=False)\n",
       ")"
      ]
     },
     "execution_count": 54,
     "metadata": {},
     "output_type": "execute_result"
    }
   ],
   "source": [
    "llm_model"
   ]
  },
  {
   "cell_type": "code",
   "execution_count": 55,
   "metadata": {},
   "outputs": [
    {
     "data": {
      "text/plain": [
       "{'model_mem_bytes': 5998039040, 'model_mem_mb': 5720, 'model_mem_gb': 6}"
      ]
     },
     "execution_count": 55,
     "metadata": {},
     "output_type": "execute_result"
    }
   ],
   "source": [
    "def get_model_num_params(model: torch.nn.Module):\n",
    "    return sum([param.numel() for param in model.parameters()])\n",
    "\n",
    "def get_model_mem_size(model: torch.nn.Module):\n",
    "    mem_params = sum([param.nelement()*param.element_size() for param in model.parameters()])\n",
    "    mem_buffers = sum([buf.nelement() * buf.element_size() for buf in model.buffers()])\n",
    "    model_mem_bytes = mem_params + mem_buffers\n",
    "    model_meme_mb = model_mem_bytes/(1024**2)\n",
    "    model_meme_gb = model_mem_bytes/(1024**3)\n",
    "\n",
    "    return {\"model_mem_bytes\" : model_mem_bytes,\n",
    "            \"model_mem_mb\" : round(model_meme_mb),\n",
    "            \"model_mem_gb\" : round(model_meme_gb)}\n",
    "\n",
    "get_model_num_params(llm_model)\n",
    "get_model_mem_size(llm_model)\n"
   ]
  },
  {
   "cell_type": "markdown",
   "metadata": {},
   "source": [
    "GENERATING TEXT WITH LLM"
   ]
  },
  {
   "cell_type": "code",
   "execution_count": 56,
   "metadata": {},
   "outputs": [
    {
     "name": "stdout",
     "output_type": "stream",
     "text": [
      "Input Text: \n",
      "Tell me about rivers:\n",
      "\n",
      "Prompt (formatted):\n",
      "<bos><start_of_turn>user\n",
      "Tell me about rivers:<end_of_turn>\n",
      "<start_of_turn>model\n",
      "\n"
     ]
    }
   ],
   "source": [
    "input_text = \"Tell me about rivers:\"\n",
    "print(f\"Input Text: \\n{input_text}\")\n",
    "#prompt template ::::::\n",
    "\n",
    "dialogue_template =[ \n",
    "    {\"role\":\"user\",\n",
    "    \"content\":input_text}]\n",
    "\n",
    "prompt = tokenizer.apply_chat_template(conversation=dialogue_template, tokenize=False, add_generation_prompt=True)\n",
    "print(f\"\\nPrompt (formatted):\\n{prompt}\")\n",
    "\n"
   ]
  },
  {
   "cell_type": "code",
   "execution_count": 60,
   "metadata": {},
   "outputs": [
    {
     "name": "stdout",
     "output_type": "stream",
     "text": [
      "Input text:\n",
      "Tell me about potatoes:\n",
      "\n",
      "Prompt (formatted):\n",
      "<bos><start_of_turn>user\n",
      "Tell me about potatoes:<end_of_turn>\n",
      "<start_of_turn>model\n",
      "\n"
     ]
    }
   ],
   "source": [
    "input_text = \"Tell me about potatoes:\"\n",
    "\n",
    "print(f\"Input text:\\n{input_text}\")\n",
    "\n",
    "# Create prompt template for instruction-tuned model\n",
    "dialogue_template = [\n",
    "    {\"role\": \"user\",\n",
    "     \"content\": input_text}\n",
    "]\n",
    "\n",
    "# Apply the chat template\n",
    "prompt = tokenizer.apply_chat_template(conversation=dialogue_template,\n",
    "                                       tokenize=False, # keep as raw text (not tokenized)\n",
    "                                       add_generation_prompt=True)\n",
    "print(f\"\\nPrompt (formatted):\\n{prompt}\")\n"
   ]
  },
  {
   "cell_type": "code",
   "execution_count": 61,
   "metadata": {},
   "outputs": [
    {
     "name": "stdout",
     "output_type": "stream",
     "text": [
      "RAG answer:\n",
      "tensor([[     2,      2,    106,   1645,    108,  27445,    682,   1105,  25741,\n",
      "         235292,    107,    108,    106,   2516,    108,   1620,    139, 235280,\n",
      "          20555,  95672,   1280,    573, 143918,  67031, 235248, 246776,    109,\n",
      "            651,  28251, 235269,    476,  64965,   2960,    604,  62062,  20455,\n",
      "         235269,    603,    476,  36726,  30434,    675,    476,   7277,   4281,\n",
      "            578,  20016,  84285, 235265, 235248,    109,    688,  92567,    578,\n",
      "           7874,  66058,    109, 235287,   5231,  26850,    577,    573,  89657,\n",
      "          66058,  94036,  52102,    575,    573,   1536, 120169,    576,    573,\n",
      "          89657,  34309,    575,   4316,   5783, 235269,   1570,    984,   1049,\n",
      "          44169,    731,  41660,  29691,    604,  13669,    576,   1658, 235265,\n",
      "            108, 235287,   5231,  11195,  53894,  66058,    139,  51590,  63020,\n",
      "          62600,  11261,  25741,    577,   4238,    575,    573, 235248, 235274,\n",
      "         235318,    489,   7861, 235269,   1570,    984,  21166,  20360, 145123,\n",
      "         235265, 235248,    108, 235287,   5231,  58287,  24099,  66058,  94036,\n",
      "           5981,    476,  20305,   2960,   4303,    575,  14083, 235269,   8133,\n",
      "            577,    573,  56249,  28251,  82953,    575,    573, 235248, 235274,\n",
      "         235315,    489,   7861, 235265,    108, 235287,   5231,  32189, 137755,\n",
      "          66058,  12948, 235269,  25741,    708,  13968,  20455,    578,    708,\n",
      "            476,   2621,  38152,    575,  41687, 157373, 235265,    109,    688,\n",
      "           8916,   1385,    578, 166573,  66058,    109, 235287,   5231,  81573,\n",
      "            618,  66058,  94036,    708,   4247,  30073,  38099,   3151, 152484,\n",
      "         235269,    948,   4659,  37132,    604,    573,   4829, 235265,    108,\n",
      "         235287,   5231,  16190,  77208,   8548,   8860,    600,  66058,    714,\n",
      "           1546,   3818,  28251,   6202,    603,    649,  16190,  77208,   8548,\n",
      "           8860,    600,  23016,    108, 235287,   5231,  68258,  20319,  66058,\n",
      "          94036,  52837,    575,   4989,  97604,    675,   1578, 235290, 200082,\n",
      "           8360, 235265,    108, 235287,   5231,  90249,    574,  66058,  94036,\n",
      "            708,  59754,    575,    573,   3881,   1452,    573,   7907,   1303,\n",
      "           1355, 235265,    109,    688, 191268,   9986,  66058,    109, 235287,\n",
      "           5231, 156615,  56227,  66058,  94036,    708,    476,   1426,   4303,\n",
      "            576]], device='cuda:0')\n"
     ]
    }
   ],
   "source": [
    "input_ids = tokenizer(prompt, return_tensors=\"pt\").to(\"cuda\")\n",
    "\n",
    "outputs = llm_model.generate(**input_ids,max_new_tokens=256)\n",
    "# Turn the output tokens into text\n",
    "\n",
    "print(f\"RAG answer:\\n{outputs}\")"
   ]
  },
  {
   "cell_type": "code",
   "execution_count": 62,
   "metadata": {},
   "outputs": [
    {
     "name": "stdout",
     "output_type": "stream",
     "text": [
      "ModelOutput (decoded) : \n",
      "<bos><bos><start_of_turn>user\n",
      "Tell me about potatoes:<end_of_turn>\n",
      "<start_of_turn>model\n",
      "##  A Deep Dive into the Humble Potato 🥔\n",
      "\n",
      "The potato, a staple food for billions worldwide, is a fascinating tuber with a rich history and surprising versatility. \n",
      "\n",
      "**Origins and History:**\n",
      "\n",
      "* **Native to the Andes:** Potatoes originated in the high altitudes of the Andes Mountains in South America, where they were cultivated by indigenous peoples for thousands of years.\n",
      "* **Global Spread:**  Spanish conquistadors introduced potatoes to Europe in the 16th century, where they initially faced skepticism. \n",
      "* **Irish Connection:** Potatoes became a crucial food source in Ireland, leading to the devastating potato famine in the 19th century.\n",
      "* **Modern Staple:** Today, potatoes are grown worldwide and are a key ingredient in countless cuisines.\n",
      "\n",
      "**Botany and Cultivation:**\n",
      "\n",
      "* **Tubers:** Potatoes are actually underground stems called tubers, which store nutrients for the plant.\n",
      "* **Solanum tuberosum:** The most common potato species is *Solanum tuberosum*.\n",
      "* **Growing Conditions:** Potatoes thrive in cool climates with well-drained soil.\n",
      "* **Harvesting:** Potatoes are harvested in the fall after the leaves die back.\n",
      "\n",
      "**Nutritional Value:**\n",
      "\n",
      "* **Carbohydrates:** Potatoes are a good source of\n"
     ]
    }
   ],
   "source": [
    "# Decode the poutput tokens to text\n",
    "\n",
    "outputs_decoded = tokenizer.decode(outputs[0])\n",
    "print(f\"ModelOutput (decoded) : \\n{outputs_decoded}\")"
   ]
  },
  {
   "cell_type": "code",
   "execution_count": 74,
   "metadata": {},
   "outputs": [
    {
     "name": "stdout",
     "output_type": "stream",
     "text": [
      "Query: How does wind affect soil erosion?\n",
      "[INFO] Time taken to get scores on: (249 embeddings: 0.00011) seconds.\n"
     ]
    },
    {
     "data": {
      "text/plain": [
       "(tensor([0.5624, 0.5613, 0.5102, 0.5007, 0.4904], device='cuda:0'),\n",
       " tensor([ 99,  43,  81, 212,  78], device='cuda:0'))"
      ]
     },
     "execution_count": 74,
     "metadata": {},
     "output_type": "execute_result"
    }
   ],
   "source": [
    "query_list = [\n",
    "    \"what is magma?\",\n",
    "    \"what is a hill?\",\n",
    "    \"How does wind affect soil erosion?\",\n",
    "    \"what is the longets river in the world?\"\n",
    "]\n",
    "\n",
    "import random \n",
    "query = random.choice(query_list)\n",
    "print(f\"Query: {query}\")\n",
    "\n",
    "scores, indices = retreive_relevant_resource(query=query, embeddings=embeddings)\n",
    "scores, indices\n"
   ]
  },
  {
   "cell_type": "markdown",
   "metadata": {},
   "source": [
    "Augmenting our prompt with context items:"
   ]
  },
  {
   "cell_type": "code",
   "execution_count": 75,
   "metadata": {},
   "outputs": [
    {
     "name": "stdout",
     "output_type": "stream",
     "text": [
      "Query : what is a hill?\n",
      "[INFO] Time taken to get scores on: (249 embeddings: 0.00008) seconds.\n",
      "- 36 9. Concepts of geomorphic cycles and Landscape development Many of us love visiting hill stations for vacations. It is a balm for the tired soul and does wonders for the mind. Some of us might love trekking up mountains and settling down on the top to either view sunrise or sunset or just stare in awe at the magnificent landscape all around. Have we ever looked at those fascinating mountains or the green plains and wondered how they might have been formed?Certainly, the process would not be simple!Set by William M. Davis, the theory of the geomorphic cycle tries to tell us how terrains are developed across landscapes. The model involves explanations for many different structures such as hilltops, valleys, mountains, and rivers. Because it describes the processes of erosion and deposition which eventually lead to relief or terrain formation, it is also known as the cycle of erosion or the theory of land evolution. Meaning of Geomorphic Cycle The geomorphic cycle is any cycle of events that leads to the formation of any relief (terrain) development in landscapes.\n",
      "Let us look at them individually. Mountains A Mountain is any landmass that is higher and steeper than a hill. A hill is a landform that extends above the surrounding terrain. In general, the mountains are higher than 2000 ft. Like in any other natural elevation such as atmosphere, as you go higher, the temperature drops and the\n",
      "Erosion, transportation, and deposition continue until the slopes are almost completely flattened leaving finally a lowland of faint relief called peneplains with some low resistant remnants called monadnocks. Erosional Landforms due to Running Water Valleys, Gorges, Canyon As we discussed above, valleys are formed as a result of running water. The rills which are formed by the overland flow of water later develop into gullies. These gullies gradually deepen and widen to form valleys. A gorge is a deep valley with very steep to straight sides. A canyon is characterized by steep step-like side slopes and may be as deep as a gorge. A gorge is almost equal in width at its top as well as bottom and is formed in hard rocks while a canyon is wider at its top than at its bottom and is formed in horizontal bedded sedimentary rocks. Potholes, Plunge pools Potholes are more or less circular depressions over the rocky beds of hills streams. Once a small and shallow depression forms, pebbles and boulders get collected in those depressions and get rotated by flowing water. Consequently, the depressions grow in dimensions to form potholes.\n",
      "37 accepted, it is still the primary and widely proclaimed theory of the geomorphic cycle that describes the various events leading to the formation of landscapes. Stages of the Geomorphic Cycle The Youthful Stage The initial stage as put forward by the Davis geomorphic cycle is the youthful stage of landscape development. This stage of terrain development begins with the upliftment of the landform. It includes either the uplifted or to-be-uplifted periods of the development process. During this stage due to the processes that favour the uplifting of the landform, significant folds are produced in the crust of the Earth. These folds are generally the mountains or the block mountains. This uplifting process of mountain formation is widely known and an accepted phenomenon. The folding or uplifting can occur due to a variety of phenomena such as the movement and clashing of the tectonic plates of which the Himalayan mountain range is an example. During the youthful stage, the rivers flowing through the uplifted landform would create another distinction between the uplands and valley bottoms. The differences between the uplands and the valley bottoms increase rapidly throughout this stage and even during the height of the youthful stage.\n",
      "It is a model explaining the formation of many different terrain structures such as hilltops, valleys, mountains, and river drainage systems. It is also known as the geographic cycle or the cycle of erosion for the development of various landscapes. Hence, a geomorphic cycle is the theory of evolution of landforms that includes many distinct events of erosion and deposition due to a variety of reasons that will be discussed below in this article. The Geomorphic Cycle William M. Davis first set the theory of the geomorphic cycle and laid down some concepts of geomorphic cycles and landscape development. According to the theory, there are commonly three stages of the cycle of erosion and the development of any landforms. The three periods are classified from youth to maturity and old age. These stages were considered to be gradually transitioning from one period to another. This model that explains the concepts of geomorphic cycles and landscape development is known as the Davis geomorphic cycle. Although certain aspects of the Davis geomorphic cycle are not currently\n"
     ]
    }
   ],
   "source": [
    "def prompt_formatter(query:str, context_items:list[dict]) -> str:\n",
    "    context = \"- \" + \"\\n\".join([item[\"sentence_chunk\"]for item in context_items])\n",
    "    prompt = context\n",
    "    return prompt\n",
    "\n",
    "query = random.choice(query_list)\n",
    "print(f\"Query : {query}\")\n",
    "\n",
    "scores, indices = retreive_relevant_resource(query=query, embeddings=embeddings)\n",
    "\n",
    "context_items = [pages_and_chunks[i] for i in indices]\n",
    "\n",
    "prompt = prompt_formatter(query=query,\n",
    "                          context_items=context_items)\n",
    "\n",
    "print(prompt)"
   ]
  },
  {
   "cell_type": "code",
   "execution_count": null,
   "metadata": {},
   "outputs": [],
   "source": []
  }
 ],
 "metadata": {
  "kernelspec": {
   "display_name": "Python 3",
   "language": "python",
   "name": "python3"
  },
  "language_info": {
   "codemirror_mode": {
    "name": "ipython",
    "version": 3
   },
   "file_extension": ".py",
   "mimetype": "text/x-python",
   "name": "python",
   "nbconvert_exporter": "python",
   "pygments_lexer": "ipython3",
   "version": "3.12.2"
  }
 },
 "nbformat": 4,
 "nbformat_minor": 2
}
