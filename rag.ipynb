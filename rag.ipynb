{
 "cells": [
  {
   "cell_type": "code",
   "execution_count": 1,
   "metadata": {},
   "outputs": [],
   "source": [
    "import os \n",
    "import requests"
   ]
  },
  {
   "cell_type": "code",
   "execution_count": 2,
   "metadata": {},
   "outputs": [
    {
     "name": "stdout",
     "output_type": "stream",
     "text": [
      "[INFO] File {pdf_path} already exists.\n"
     ]
    }
   ],
   "source": [
    "pdf_path = \"world_geo.pdf\"\n",
    "if not os.path.exists(pdf_path):\n",
    "    print('[INFO] The file does not exist, Downloading...')\n",
    "    url  = \"https://www.iipa.org.in/upload/world_geo.pdf\"\n",
    "    filename = pdf_path \n",
    "    response = requests.get(url)\n",
    "    if response.status_code == 200:\n",
    "        with open(filename, \"wb\") as file:\n",
    "            file.write(response.content)\n",
    "            print(f\"[INFO] The file has been downloaded as  {filename}\")\n",
    "    else:\n",
    "        print(f\"[INFO] Failed to download the file. Status Code: {response.status_code}\")\n",
    "else:\n",
    "    print(\"[INFO] File {pdf_path} already exists.\")"
   ]
  },
  {
   "cell_type": "markdown",
   "metadata": {},
   "source": [
    "PREPROCESS "
   ]
  },
  {
   "cell_type": "code",
   "execution_count": 3,
   "metadata": {},
   "outputs": [
    {
     "data": {
      "application/vnd.jupyter.widget-view+json": {
       "model_id": "2899e5f7d32d4ff1a4a7df0741415596",
       "version_major": 2,
       "version_minor": 0
      },
      "text/plain": [
       "0it [00:00, ?it/s]"
      ]
     },
     "metadata": {},
     "output_type": "display_data"
    },
    {
     "data": {
      "text/plain": [
       "[{'page_number': 0,\n",
       "  'page_char_count': 80,\n",
       "  'page_word_count': 20,\n",
       "  'page_sentence_count': 1,\n",
       "  'page_token_count': 20.0,\n",
       "  'text': '1      IIPA2022  22 World Geography  Short Answers PKP-03 by Dr Amit Kumar Singh'},\n",
       " {'page_number': 1,\n",
       "  'page_char_count': 4596,\n",
       "  'page_word_count': 163,\n",
       "  'page_sentence_count': 43,\n",
       "  'page_token_count': 1149.0,\n",
       "  'text': '2  Contents 1.  Origin of Solar System and Sun ........................................................................................................... 6 2. Stars, Sun & Planets ............................................................................................................................. 8 Sun Statistics ....................................................................................................................................... 8 Solar Eclipse ........................................................................................................................................ 9 Lunar Eclipse ....................................................................................................................................... 9 The Planets .......................................................................................................................................... 9 3. Latitudes and Longitudes ................................................................................................................... 11 Latitudes ........................................................................................................................................... 11 Heat Zones ........................................................................................................................................ 12 Longitudes ......................................................................................................................................... 13 Time Zones ........................................................................................................................................ 14 4. Motions of the Earth:  Rotation and Revolution. ................................................................................ 15 Rotation ............................................................................................................................................ 15 The Coriolis Force. ............................................................................................................................. 15 Revolution ......................................................................................................................................... 15 Summer solstice ................................................................................................................................ 16 Winter solstice................................................................................................................................... 17 Equinox ............................................................................................................................................. 17 Effects of revolution .......................................................................................................................... 17 5. Geomorphic Processes: Endogenic Forces and Evolution of Landforms .............................................. 18 Endogenic Forces ............................................................................................................................... 18 Forces of Compression: ............................................................................................................... 20 Exogenic Forces ................................................................................................................................. 20 6. Origin of the Earth ............................................................................................................................. 21 7. Interior Structure of the Earth ........................................................................................................... 24 8. Temperature, Pressure and Density of the Earth’s Interior ................................................................. 28 8. Volcanoes .......................................................................................................................................... 29 Causes of earthquakes ....................................................................................................................... 29 Natural forces .................................................................................................................................... 30 Tectonics ............................................................................................................................................... 30 Wadati–Benioff zone ......................................................................................................................... 31'}]"
      ]
     },
     "execution_count": 3,
     "metadata": {},
     "output_type": "execute_result"
    }
   ],
   "source": [
    "import fitz \n",
    "from tqdm.auto import tqdm \n",
    "\n",
    "def text_formatter(text: str) -> str:\n",
    "    cleaned_text = text.replace(\"\\n\", \"\").strip()\n",
    "    return cleaned_text \n",
    "\n",
    "def o_r_pdf(pdf_path: str) -> list[dict]:\n",
    "    doc = fitz.open(pdf_path)\n",
    "    pages_and_text = []\n",
    "    for page_number, page in tqdm(enumerate(doc)):\n",
    "        text = page.get_text()\n",
    "        text = text_formatter(text=text)\n",
    "        pages_and_text.append({\"page_number\": page_number,\n",
    "        \"page_char_count\" : len(text),\n",
    "        \"page_word_count\" : len(text.split(\" \")),\n",
    "        \"page_sentence_count\" : len(text.split(\". \")),\n",
    "        \"page_token_count\" : len(text) / 4,\n",
    "        \"text\": text}) # One token = 4 characters\n",
    "\n",
    "    return pages_and_text\n",
    "\n",
    "pages_and_text = o_r_pdf(pdf_path = pdf_path)\n",
    "pages_and_text[:2]"
   ]
  },
  {
   "cell_type": "code",
   "execution_count": 4,
   "metadata": {},
   "outputs": [
    {
     "data": {
      "text/plain": [
       "[{'page_number': 99,\n",
       "  'page_char_count': 671,\n",
       "  'page_word_count': 119,\n",
       "  'page_sentence_count': 6,\n",
       "  'page_token_count': 167.75,\n",
       "  'text': '100  Factors influencing Insolation \\uf0b7 The amount of insolation received on the earth’s surface is not uniform everywhere. It varies according to the place and time. When the tropical regions receive maximum annual insolation, it gradually decreases towards the poles. Insolation is more in summers and less in winters. The major factors which influence the amount of insolation received are: o Rotation of the earth on its axis o The angle of incidence of the sun’s rays o Duration of the day o Transparency of the atmosphere 1. Rotation of the earth on its axis \\uf0b7 The earth rotates on its own axis which makes an angle of 66.5 with the plane of its orbit around the sun.'},\n",
       " {'page_number': 42,\n",
       "  'page_char_count': 2024,\n",
       "  'page_word_count': 357,\n",
       "  'page_sentence_count': 20,\n",
       "  'page_token_count': 506.0,\n",
       "  'text': '43  Incised or Entrenched Meanders They are very deep wide meanders (loop-like channels) found cut in hard rocks. In the course of time, they deepen and widen to form gorges or canyons in hard rock. The difference between a normal meander and an incised/entrenched meander is that the latter found on hard rocks. River Terraces They are surfaces marking old valley floor or flood plains. They are basically the result of vertical erosion by the stream. When the terraces are of the same elevation on either side of the river, they are called as paired terraces. When the terraces are seen only on one side with none on the other or one at quite a different elevation on the other side, they are called as unpaired terraces. Depositional Landforms due to Running Water Alluvial Fans They are found in the middle course of a river at the foot of slope/ mountains. When the stream moves from the higher level break into foot slope plain of low gradient, it loses its energy needed to transport much of its load. Thus, they get dumped and spread as a broad low to the high cone-shaped deposits called an alluvial fan. The deposits are not roughly very well sorted. Deltas Deltas are like an alluvial fan but develop at a different location. They are found in the mouth of the river, which is the final location of depositional activity of a river. Unlike alluvial fans, the deposits making up deltas are very well sorted with clear stratification. The coarser material settle out first and the finer materials like silt and clay are carried out into the sea.  Flood Plains, Natural Levees Deposition develops a flood plain just as erosion makes valleys. A riverbed made of river deposits is the active flood plain and the flood plain above the bank of the river is the inactive flood plain. Natural levees are found along the banks of large rivers. They are low, linear and parallel ridges of coarse deposits along the banks of a river. The levee deposits are coarser than the deposits spread by flood water away from the river.'},\n",
       " {'page_number': 49,\n",
       "  'page_char_count': 1931,\n",
       "  'page_word_count': 324,\n",
       "  'page_sentence_count': 17,\n",
       "  'page_token_count': 482.75,\n",
       "  'text': '50  12. Erosion and Deposition: Action of Wind and Waves  The wind is the main geomorphic agent in the hot deserts. Winds in hot deserts have greater speed which causes erosional and depositional activities in the desert. The landforms which are created by erosional and depositional activities of wind are called as Aeolian Landforms. This process is not unique to the Earth, and it has been observed and studied on other planets, including Mars. An erg (also known as sand sea / dune sea / sand sheet if it lacks dunes) is a broad, flat area of desert covered with wind-swept sand with little or no vegetative cover. It is defined as a desert area that contains more than 125 square kilometres of aeolian or wind-blown sand and where sand covers more than 20% of the surface. Smaller areas are known as “dune fields”. The largest hot desert in the world, the Sahara, contains several ergs. Erosional Landforms due to Wind Pediplains When the high relief structures in deserts are reduced to low featureless plains by the activities of wind, they are called as Pediplains. Deflation Hollows Deflation is the removal of loose particles from the ground by the action of wind. When deflation causes a shallow depression by persistent movements of wind, they are called as deflation hollows. Mushroom Tables Ventifacts are rocks that have been abraded, pitted, etched, grooved, or polished by wind-driven sand or ice crystals. These geomorphic features are most typically found in arid environments where there is little vegetation to interfere with aeolian particle transport, where there are frequently strong winds, and where there is a steady but not overwhelming supply of sand. Mushroom Tables / Mushroom rocks are Ventifacts in the shape of a mushroom. In deserts, a greater amount of sand and rock particles are transported close to the ground by the winds which cause more bottom erosion in overlying rocks than the top. This'}]"
      ]
     },
     "execution_count": 4,
     "metadata": {},
     "output_type": "execute_result"
    }
   ],
   "source": [
    "import random \n",
    "\n",
    "random.sample(pages_and_text, k=3)"
   ]
  },
  {
   "cell_type": "code",
   "execution_count": 5,
   "metadata": {},
   "outputs": [
    {
     "data": {
      "text/html": [
       "<div>\n",
       "<style scoped>\n",
       "    .dataframe tbody tr th:only-of-type {\n",
       "        vertical-align: middle;\n",
       "    }\n",
       "\n",
       "    .dataframe tbody tr th {\n",
       "        vertical-align: top;\n",
       "    }\n",
       "\n",
       "    .dataframe thead th {\n",
       "        text-align: right;\n",
       "    }\n",
       "</style>\n",
       "<table border=\"1\" class=\"dataframe\">\n",
       "  <thead>\n",
       "    <tr style=\"text-align: right;\">\n",
       "      <th></th>\n",
       "      <th>page_number</th>\n",
       "      <th>page_char_count</th>\n",
       "      <th>page_word_count</th>\n",
       "      <th>page_sentence_count</th>\n",
       "      <th>page_token_count</th>\n",
       "      <th>text</th>\n",
       "    </tr>\n",
       "  </thead>\n",
       "  <tbody>\n",
       "    <tr>\n",
       "      <th>0</th>\n",
       "      <td>0</td>\n",
       "      <td>80</td>\n",
       "      <td>20</td>\n",
       "      <td>1</td>\n",
       "      <td>20.0</td>\n",
       "      <td>1      IIPA2022  22 World Geography  Short Ans...</td>\n",
       "    </tr>\n",
       "    <tr>\n",
       "      <th>1</th>\n",
       "      <td>1</td>\n",
       "      <td>4596</td>\n",
       "      <td>163</td>\n",
       "      <td>43</td>\n",
       "      <td>1149.0</td>\n",
       "      <td>2  Contents 1.  Origin of Solar System and Sun...</td>\n",
       "    </tr>\n",
       "    <tr>\n",
       "      <th>2</th>\n",
       "      <td>2</td>\n",
       "      <td>4448</td>\n",
       "      <td>208</td>\n",
       "      <td>40</td>\n",
       "      <td>1112.0</td>\n",
       "      <td>3  Types of Volcanoes ...........................</td>\n",
       "    </tr>\n",
       "    <tr>\n",
       "      <th>3</th>\n",
       "      <td>3</td>\n",
       "      <td>4560</td>\n",
       "      <td>203</td>\n",
       "      <td>44</td>\n",
       "      <td>1140.0</td>\n",
       "      <td>4  Continental Slope ............................</td>\n",
       "    </tr>\n",
       "    <tr>\n",
       "      <th>4</th>\n",
       "      <td>4</td>\n",
       "      <td>3474</td>\n",
       "      <td>178</td>\n",
       "      <td>31</td>\n",
       "      <td>868.5</td>\n",
       "      <td>5  Insolation or Incoming Solar Radiation .......</td>\n",
       "    </tr>\n",
       "  </tbody>\n",
       "</table>\n",
       "</div>"
      ],
      "text/plain": [
       "   page_number  page_char_count  page_word_count  page_sentence_count  \\\n",
       "0            0               80               20                    1   \n",
       "1            1             4596              163                   43   \n",
       "2            2             4448              208                   40   \n",
       "3            3             4560              203                   44   \n",
       "4            4             3474              178                   31   \n",
       "\n",
       "   page_token_count                                               text  \n",
       "0              20.0  1      IIPA2022  22 World Geography  Short Ans...  \n",
       "1            1149.0  2  Contents 1.  Origin of Solar System and Sun...  \n",
       "2            1112.0  3  Types of Volcanoes ...........................  \n",
       "3            1140.0  4  Continental Slope ............................  \n",
       "4             868.5  5  Insolation or Incoming Solar Radiation .......  "
      ]
     },
     "execution_count": 5,
     "metadata": {},
     "output_type": "execute_result"
    }
   ],
   "source": [
    "import pandas as pd \n",
    "\n",
    "df = pd.DataFrame(pages_and_text)\n",
    "df.head()"
   ]
  },
  {
   "cell_type": "code",
   "execution_count": 6,
   "metadata": {},
   "outputs": [
    {
     "data": {
      "text/html": [
       "<div>\n",
       "<style scoped>\n",
       "    .dataframe tbody tr th:only-of-type {\n",
       "        vertical-align: middle;\n",
       "    }\n",
       "\n",
       "    .dataframe tbody tr th {\n",
       "        vertical-align: top;\n",
       "    }\n",
       "\n",
       "    .dataframe thead th {\n",
       "        text-align: right;\n",
       "    }\n",
       "</style>\n",
       "<table border=\"1\" class=\"dataframe\">\n",
       "  <thead>\n",
       "    <tr style=\"text-align: right;\">\n",
       "      <th></th>\n",
       "      <th>page_number</th>\n",
       "      <th>page_char_count</th>\n",
       "      <th>page_word_count</th>\n",
       "      <th>page_sentence_count</th>\n",
       "      <th>page_token_count</th>\n",
       "    </tr>\n",
       "  </thead>\n",
       "  <tbody>\n",
       "    <tr>\n",
       "      <th>count</th>\n",
       "      <td>129.00</td>\n",
       "      <td>129.00</td>\n",
       "      <td>129.00</td>\n",
       "      <td>129.00</td>\n",
       "      <td>129.00</td>\n",
       "    </tr>\n",
       "    <tr>\n",
       "      <th>mean</th>\n",
       "      <td>64.00</td>\n",
       "      <td>1655.45</td>\n",
       "      <td>262.89</td>\n",
       "      <td>16.95</td>\n",
       "      <td>413.86</td>\n",
       "    </tr>\n",
       "    <tr>\n",
       "      <th>std</th>\n",
       "      <td>37.38</td>\n",
       "      <td>732.36</td>\n",
       "      <td>96.85</td>\n",
       "      <td>7.75</td>\n",
       "      <td>183.09</td>\n",
       "    </tr>\n",
       "    <tr>\n",
       "      <th>min</th>\n",
       "      <td>0.00</td>\n",
       "      <td>80.00</td>\n",
       "      <td>20.00</td>\n",
       "      <td>1.00</td>\n",
       "      <td>20.00</td>\n",
       "    </tr>\n",
       "    <tr>\n",
       "      <th>25%</th>\n",
       "      <td>32.00</td>\n",
       "      <td>1146.00</td>\n",
       "      <td>189.00</td>\n",
       "      <td>12.00</td>\n",
       "      <td>286.50</td>\n",
       "    </tr>\n",
       "    <tr>\n",
       "      <th>50%</th>\n",
       "      <td>64.00</td>\n",
       "      <td>1699.00</td>\n",
       "      <td>264.00</td>\n",
       "      <td>16.00</td>\n",
       "      <td>424.75</td>\n",
       "    </tr>\n",
       "    <tr>\n",
       "      <th>75%</th>\n",
       "      <td>96.00</td>\n",
       "      <td>2055.00</td>\n",
       "      <td>341.00</td>\n",
       "      <td>21.00</td>\n",
       "      <td>513.75</td>\n",
       "    </tr>\n",
       "    <tr>\n",
       "      <th>max</th>\n",
       "      <td>128.00</td>\n",
       "      <td>4596.00</td>\n",
       "      <td>424.00</td>\n",
       "      <td>44.00</td>\n",
       "      <td>1149.00</td>\n",
       "    </tr>\n",
       "  </tbody>\n",
       "</table>\n",
       "</div>"
      ],
      "text/plain": [
       "       page_number  page_char_count  page_word_count  page_sentence_count  \\\n",
       "count       129.00           129.00           129.00               129.00   \n",
       "mean         64.00          1655.45           262.89                16.95   \n",
       "std          37.38           732.36            96.85                 7.75   \n",
       "min           0.00            80.00            20.00                 1.00   \n",
       "25%          32.00          1146.00           189.00                12.00   \n",
       "50%          64.00          1699.00           264.00                16.00   \n",
       "75%          96.00          2055.00           341.00                21.00   \n",
       "max         128.00          4596.00           424.00                44.00   \n",
       "\n",
       "       page_token_count  \n",
       "count            129.00  \n",
       "mean             413.86  \n",
       "std              183.09  \n",
       "min               20.00  \n",
       "25%              286.50  \n",
       "50%              424.75  \n",
       "75%              513.75  \n",
       "max             1149.00  "
      ]
     },
     "execution_count": 6,
     "metadata": {},
     "output_type": "execute_result"
    }
   ],
   "source": [
    "df.describe().round(2)"
   ]
  },
  {
   "cell_type": "code",
   "execution_count": 7,
   "metadata": {},
   "outputs": [
    {
     "data": {
      "text/plain": [
       "[I am a shitty person., I am a good man., I am ugly.]"
      ]
     },
     "execution_count": 7,
     "metadata": {},
     "output_type": "execute_result"
    }
   ],
   "source": [
    "from spacy.lang.en import English\n",
    "\n",
    "nlp = English()\n",
    "#Adding a sentencizer pipeline\n",
    "nlp.add_pipe(\"sentencizer\")\n",
    "\n",
    "#Creating a documnet instance as an example\n",
    "\n",
    "doc = nlp(\"I am a shitty person. I am a good man. I am ugly.\")\n",
    "assert len(list(doc.sents)) == 3\n",
    "\n",
    "list(doc.sents)\n"
   ]
  },
  {
   "cell_type": "code",
   "execution_count": 8,
   "metadata": {},
   "outputs": [
    {
     "data": {
      "text/plain": [
       "{'page_number': 0,\n",
       " 'page_char_count': 80,\n",
       " 'page_word_count': 20,\n",
       " 'page_sentence_count': 1,\n",
       " 'page_token_count': 20.0,\n",
       " 'text': '1      IIPA2022  22 World Geography  Short Answers PKP-03 by Dr Amit Kumar Singh'}"
      ]
     },
     "execution_count": 8,
     "metadata": {},
     "output_type": "execute_result"
    }
   ],
   "source": [
    "pages_and_text[0]"
   ]
  },
  {
   "cell_type": "code",
   "execution_count": 9,
   "metadata": {},
   "outputs": [
    {
     "data": {
      "application/vnd.jupyter.widget-view+json": {
       "model_id": "92257de2f4414e728531380ef7fd2ac5",
       "version_major": 2,
       "version_minor": 0
      },
      "text/plain": [
       "  0%|          | 0/129 [00:00<?, ?it/s]"
      ]
     },
     "metadata": {},
     "output_type": "display_data"
    }
   ],
   "source": [
    "for item in tqdm(pages_and_text):\n",
    "    item[\"sentences\"] = list(nlp(item[\"text\"]).sents)\n",
    "\n",
    "    item[\"sentences\"] = [str(sentence) for sentence in item[\"sentences\"]]\n",
    "\n",
    "    item[\"page_sentence_count_spacy\"] = len(item[\"sentences\"])\n"
   ]
  },
  {
   "cell_type": "code",
   "execution_count": 10,
   "metadata": {},
   "outputs": [
    {
     "data": {
      "text/plain": [
       "[{'page_number': 81,\n",
       "  'page_char_count': 1790,\n",
       "  'page_word_count': 337,\n",
       "  'page_sentence_count': 23,\n",
       "  'page_token_count': 447.5,\n",
       "  'text': '82  \\uf0b7 Note: The water movements which are caused by the meteorological effects like the said above are called as surges and they are not regular like tides. \\uf0b7 The moon’s gravitational pull to a great extent is the major cause of the occurrence of tides (the moon’s gravitational attraction is more effective on the earth than that of the sun). \\uf0b7 Sun’s gravitational pull and the centrifugal force due to the rotation of earth are the other forces which act along with the moon’s gravitational pull. \\uf0b7 The highest tides in the world occur in the Bay of Fundi in Canada. \\uf0b7 When the tide is channeled between islands or into bays and estuaries, they are termed as Tidal Currents. \\uf0b7 The regular interval between two high or two low tides is 12 hours 25 minutes. Flow Tide and Ebb Tide A flow tide or a flood tide is a rising tide or incoming tide which results in a high tide. It is thus the time period between a low tide and a high tide (i.e., the rising time). Ebb Tide is the receding or outgoing tide. It is the period between high tide and low tide during which water flows away from the shore. Types of Tides A. Tides based on the Frequency 1. Semi-diurnal Tide: They are the most common tidal pattern, featuring two high tides and two low tides each day. 2. Diurnal Tides: Only one high tide and one low tide each day. 3. Mixed Tide: Tides having variations in heights are known as mixed tides. They generally occur along the west coast of North America.  B. Tides based on the Sun, the Moon, and the Earth’s Positions 1. Spring Tides: When the sun, the moon, and the earth are in a straight line, the height of the tide will be higher than normal. These are called as a spring tides. They occur twice in a month-one on the full moon (Poornima) and the other on the new moon (Amavasya).',\n",
       "  'sentences': ['82  \\uf0b7 Note: The water movements which are caused by the meteorological effects like the said above are called as surges and they are not regular like tides.',\n",
       "   '\\uf0b7 The moon’s gravitational pull to a great extent is the major cause of the occurrence of tides (the moon’s gravitational attraction is more effective on the earth than that of the sun).',\n",
       "   '\\uf0b7 Sun’s gravitational pull and the centrifugal force due to the rotation of earth are the other forces which act along with the moon’s gravitational pull.',\n",
       "   '\\uf0b7 The highest tides in the world occur in the Bay of Fundi in Canada.',\n",
       "   '\\uf0b7 When the tide is channeled between islands or into bays and estuaries, they are termed as Tidal Currents.',\n",
       "   '\\uf0b7 The regular interval between two high or two low tides is 12 hours 25 minutes.',\n",
       "   'Flow Tide and Ebb Tide A flow tide or a flood tide is a rising tide or incoming tide which results in a high tide.',\n",
       "   'It is thus the time period between a low tide and a high tide (i.e., the rising time).',\n",
       "   'Ebb Tide is the receding or outgoing tide.',\n",
       "   'It is the period between high tide and low tide during which water flows away from the shore.',\n",
       "   'Types of Tides A. Tides based on the Frequency 1.',\n",
       "   'Semi-diurnal Tide: They are the most common tidal pattern, featuring two high tides and two low tides each day.',\n",
       "   '2.',\n",
       "   'Diurnal Tides: Only one high tide and one low tide each day.',\n",
       "   '3.',\n",
       "   'Mixed Tide: Tides having variations in heights are known as mixed tides.',\n",
       "   'They generally occur along the west coast of North America.',\n",
       "   ' B. Tides based on the Sun, the Moon, and the Earth’s Positions 1.',\n",
       "   'Spring Tides: When the sun, the moon, and the earth are in a straight line, the height of the tide will be higher than normal.',\n",
       "   'These are called as a spring tides.',\n",
       "   'They occur twice in a month-one on the full moon (Poornima) and the other on the new moon (Amavasya).'],\n",
       "  'page_sentence_count_spacy': 21}]"
      ]
     },
     "execution_count": 10,
     "metadata": {},
     "output_type": "execute_result"
    }
   ],
   "source": [
    "random.sample(pages_and_text, k=1)"
   ]
  },
  {
   "cell_type": "code",
   "execution_count": 11,
   "metadata": {},
   "outputs": [
    {
     "data": {
      "text/html": [
       "<div>\n",
       "<style scoped>\n",
       "    .dataframe tbody tr th:only-of-type {\n",
       "        vertical-align: middle;\n",
       "    }\n",
       "\n",
       "    .dataframe tbody tr th {\n",
       "        vertical-align: top;\n",
       "    }\n",
       "\n",
       "    .dataframe thead th {\n",
       "        text-align: right;\n",
       "    }\n",
       "</style>\n",
       "<table border=\"1\" class=\"dataframe\">\n",
       "  <thead>\n",
       "    <tr style=\"text-align: right;\">\n",
       "      <th></th>\n",
       "      <th>page_number</th>\n",
       "      <th>page_char_count</th>\n",
       "      <th>page_word_count</th>\n",
       "      <th>page_sentence_count</th>\n",
       "      <th>page_token_count</th>\n",
       "      <th>page_sentence_count_spacy</th>\n",
       "    </tr>\n",
       "  </thead>\n",
       "  <tbody>\n",
       "    <tr>\n",
       "      <th>count</th>\n",
       "      <td>129.00</td>\n",
       "      <td>129.00</td>\n",
       "      <td>129.00</td>\n",
       "      <td>129.00</td>\n",
       "      <td>129.00</td>\n",
       "      <td>129.00</td>\n",
       "    </tr>\n",
       "    <tr>\n",
       "      <th>mean</th>\n",
       "      <td>64.00</td>\n",
       "      <td>1655.45</td>\n",
       "      <td>262.89</td>\n",
       "      <td>16.95</td>\n",
       "      <td>413.86</td>\n",
       "      <td>15.51</td>\n",
       "    </tr>\n",
       "    <tr>\n",
       "      <th>std</th>\n",
       "      <td>37.38</td>\n",
       "      <td>732.36</td>\n",
       "      <td>96.85</td>\n",
       "      <td>7.75</td>\n",
       "      <td>183.09</td>\n",
       "      <td>6.25</td>\n",
       "    </tr>\n",
       "    <tr>\n",
       "      <th>min</th>\n",
       "      <td>0.00</td>\n",
       "      <td>80.00</td>\n",
       "      <td>20.00</td>\n",
       "      <td>1.00</td>\n",
       "      <td>20.00</td>\n",
       "      <td>1.00</td>\n",
       "    </tr>\n",
       "    <tr>\n",
       "      <th>25%</th>\n",
       "      <td>32.00</td>\n",
       "      <td>1146.00</td>\n",
       "      <td>189.00</td>\n",
       "      <td>12.00</td>\n",
       "      <td>286.50</td>\n",
       "      <td>10.00</td>\n",
       "    </tr>\n",
       "    <tr>\n",
       "      <th>50%</th>\n",
       "      <td>64.00</td>\n",
       "      <td>1699.00</td>\n",
       "      <td>264.00</td>\n",
       "      <td>16.00</td>\n",
       "      <td>424.75</td>\n",
       "      <td>16.00</td>\n",
       "    </tr>\n",
       "    <tr>\n",
       "      <th>75%</th>\n",
       "      <td>96.00</td>\n",
       "      <td>2055.00</td>\n",
       "      <td>341.00</td>\n",
       "      <td>21.00</td>\n",
       "      <td>513.75</td>\n",
       "      <td>20.00</td>\n",
       "    </tr>\n",
       "    <tr>\n",
       "      <th>max</th>\n",
       "      <td>128.00</td>\n",
       "      <td>4596.00</td>\n",
       "      <td>424.00</td>\n",
       "      <td>44.00</td>\n",
       "      <td>1149.00</td>\n",
       "      <td>31.00</td>\n",
       "    </tr>\n",
       "  </tbody>\n",
       "</table>\n",
       "</div>"
      ],
      "text/plain": [
       "       page_number  page_char_count  page_word_count  page_sentence_count  \\\n",
       "count       129.00           129.00           129.00               129.00   \n",
       "mean         64.00          1655.45           262.89                16.95   \n",
       "std          37.38           732.36            96.85                 7.75   \n",
       "min           0.00            80.00            20.00                 1.00   \n",
       "25%          32.00          1146.00           189.00                12.00   \n",
       "50%          64.00          1699.00           264.00                16.00   \n",
       "75%          96.00          2055.00           341.00                21.00   \n",
       "max         128.00          4596.00           424.00                44.00   \n",
       "\n",
       "       page_token_count  page_sentence_count_spacy  \n",
       "count            129.00                     129.00  \n",
       "mean             413.86                      15.51  \n",
       "std              183.09                       6.25  \n",
       "min               20.00                       1.00  \n",
       "25%              286.50                      10.00  \n",
       "50%              424.75                      16.00  \n",
       "75%              513.75                      20.00  \n",
       "max             1149.00                      31.00  "
      ]
     },
     "execution_count": 11,
     "metadata": {},
     "output_type": "execute_result"
    }
   ],
   "source": [
    "df = pd.DataFrame(pages_and_text)\n",
    "df.describe().round(2)"
   ]
  },
  {
   "cell_type": "markdown",
   "metadata": {},
   "source": [
    "CHUNKING : Splitting sentecnces in groups of 10 or less"
   ]
  },
  {
   "cell_type": "code",
   "execution_count": 12,
   "metadata": {},
   "outputs": [
    {
     "data": {
      "text/plain": [
       "[[0, 1, 2, 3, 4, 5, 6, 7, 8, 9],\n",
       " [10, 11, 12, 13, 14, 15, 16, 17, 18, 19],\n",
       " [20, 21, 22, 23, 24, 25, 26, 27, 28, 29],\n",
       " [30, 31, 32, 33, 34, 35, 36, 37, 38, 39],\n",
       " [40, 41, 42, 43, 44, 45, 46, 47, 48, 49],\n",
       " [50, 51, 52, 53, 54, 55, 56, 57, 58, 59],\n",
       " [60, 61, 62, 63, 64, 65, 66, 67, 68, 69]]"
      ]
     },
     "execution_count": 12,
     "metadata": {},
     "output_type": "execute_result"
    }
   ],
   "source": [
    "num_sentence_chunk_size = 10 \n",
    "def split_list(input_list: list, slice_size: int = num_sentence_chunk_size) -> list[list[str]]:\n",
    "    return [input_list[i:i+slice_size] for i in range(0, len(input_list), slice_size)]\n",
    "\n",
    "text_list = list(range(70))\n",
    "split_list(text_list)\n"
   ]
  },
  {
   "cell_type": "code",
   "execution_count": 13,
   "metadata": {},
   "outputs": [
    {
     "data": {
      "application/vnd.jupyter.widget-view+json": {
       "model_id": "7bef7dc4b0f74615ab1928fe8cb1df3e",
       "version_major": 2,
       "version_minor": 0
      },
      "text/plain": [
       "  0%|          | 0/129 [00:00<?, ?it/s]"
      ]
     },
     "metadata": {},
     "output_type": "display_data"
    }
   ],
   "source": [
    "for item in tqdm(pages_and_text):\n",
    "    item[\"sentence_chunks\"] = split_list(input_list=item[\"sentences\"], slice_size=num_sentence_chunk_size)\n",
    "    item[\"num_chunks\"] = len(item[\"sentence_chunks\"])"
   ]
  },
  {
   "cell_type": "code",
   "execution_count": 14,
   "metadata": {},
   "outputs": [
    {
     "data": {
      "text/plain": [
       "[{'page_number': 26,\n",
       "  'page_char_count': 1110,\n",
       "  'page_word_count': 189,\n",
       "  'page_sentence_count': 12,\n",
       "  'page_token_count': 277.5,\n",
       "  'text': '27  asthenosphere is the main source of magma and it is the layer over which the lithospheric plates/ continental plates move (plate tectonics).  The discontinuity between the upper mantle and the lower mantle is known as Repetti Discontinuity. The portion of the mantle which is just below the lithosphere and asthenosphere, but above the core is called as Mesosphere. Core It is the innermost layer surrounding the earth’s centre. The core is separated from the mantle by Guttenberg’s Discontinuity. It is composed mainly of iron (Fe) and nickel (Ni) and hence it is also called as NIFE. The core constitutes nearly 15% of earth’s volume and 32.5% of earth’s mass. The core is the densest layer of the earth with its density ranges between 9.5-14.5g/cm3. The Core consists of two sub-layers: the inner core and the outer core. The inner core is in solid state and the outer core is in the liquid state (or semi-liquid). The discontinuity between the upper core and the lower core is called as Lehmann Discontinuity. Barysphere is sometimes used to refer the core of the earth or sometimes the whole interior.',\n",
       "  'sentences': ['27  asthenosphere is the main source of magma and it is the layer over which the lithospheric plates/ continental plates move (plate tectonics).',\n",
       "   ' The discontinuity between the upper mantle and the lower mantle is known as Repetti Discontinuity.',\n",
       "   'The portion of the mantle which is just below the lithosphere and asthenosphere, but above the core is called as Mesosphere.',\n",
       "   'Core It is the innermost layer surrounding the earth’s centre.',\n",
       "   'The core is separated from the mantle by Guttenberg’s Discontinuity.',\n",
       "   'It is composed mainly of iron (Fe) and nickel (Ni) and hence it is also called as NIFE.',\n",
       "   'The core constitutes nearly 15% of earth’s volume and 32.5% of earth’s mass.',\n",
       "   'The core is the densest layer of the earth with its density ranges between 9.5-14.5g/cm3.',\n",
       "   'The Core consists of two sub-layers: the inner core and the outer core.',\n",
       "   'The inner core is in solid state and the outer core is in the liquid state (or semi-liquid).',\n",
       "   'The discontinuity between the upper core and the lower core is called as Lehmann Discontinuity.',\n",
       "   'Barysphere is sometimes used to refer the core of the earth or sometimes the whole interior.'],\n",
       "  'page_sentence_count_spacy': 12,\n",
       "  'sentence_chunks': [['27  asthenosphere is the main source of magma and it is the layer over which the lithospheric plates/ continental plates move (plate tectonics).',\n",
       "    ' The discontinuity between the upper mantle and the lower mantle is known as Repetti Discontinuity.',\n",
       "    'The portion of the mantle which is just below the lithosphere and asthenosphere, but above the core is called as Mesosphere.',\n",
       "    'Core It is the innermost layer surrounding the earth’s centre.',\n",
       "    'The core is separated from the mantle by Guttenberg’s Discontinuity.',\n",
       "    'It is composed mainly of iron (Fe) and nickel (Ni) and hence it is also called as NIFE.',\n",
       "    'The core constitutes nearly 15% of earth’s volume and 32.5% of earth’s mass.',\n",
       "    'The core is the densest layer of the earth with its density ranges between 9.5-14.5g/cm3.',\n",
       "    'The Core consists of two sub-layers: the inner core and the outer core.',\n",
       "    'The inner core is in solid state and the outer core is in the liquid state (or semi-liquid).'],\n",
       "   ['The discontinuity between the upper core and the lower core is called as Lehmann Discontinuity.',\n",
       "    'Barysphere is sometimes used to refer the core of the earth or sometimes the whole interior.']],\n",
       "  'num_chunks': 2}]"
      ]
     },
     "execution_count": 14,
     "metadata": {},
     "output_type": "execute_result"
    }
   ],
   "source": [
    "random.sample(pages_and_text, k = 1)"
   ]
  },
  {
   "cell_type": "code",
   "execution_count": 15,
   "metadata": {},
   "outputs": [
    {
     "data": {
      "text/html": [
       "<div>\n",
       "<style scoped>\n",
       "    .dataframe tbody tr th:only-of-type {\n",
       "        vertical-align: middle;\n",
       "    }\n",
       "\n",
       "    .dataframe tbody tr th {\n",
       "        vertical-align: top;\n",
       "    }\n",
       "\n",
       "    .dataframe thead th {\n",
       "        text-align: right;\n",
       "    }\n",
       "</style>\n",
       "<table border=\"1\" class=\"dataframe\">\n",
       "  <thead>\n",
       "    <tr style=\"text-align: right;\">\n",
       "      <th></th>\n",
       "      <th>page_number</th>\n",
       "      <th>page_char_count</th>\n",
       "      <th>page_word_count</th>\n",
       "      <th>page_sentence_count</th>\n",
       "      <th>page_token_count</th>\n",
       "      <th>page_sentence_count_spacy</th>\n",
       "      <th>num_chunks</th>\n",
       "    </tr>\n",
       "  </thead>\n",
       "  <tbody>\n",
       "    <tr>\n",
       "      <th>count</th>\n",
       "      <td>129.00</td>\n",
       "      <td>129.00</td>\n",
       "      <td>129.00</td>\n",
       "      <td>129.00</td>\n",
       "      <td>129.00</td>\n",
       "      <td>129.00</td>\n",
       "      <td>129.00</td>\n",
       "    </tr>\n",
       "    <tr>\n",
       "      <th>mean</th>\n",
       "      <td>64.00</td>\n",
       "      <td>1655.45</td>\n",
       "      <td>262.89</td>\n",
       "      <td>16.95</td>\n",
       "      <td>413.86</td>\n",
       "      <td>15.51</td>\n",
       "      <td>1.97</td>\n",
       "    </tr>\n",
       "    <tr>\n",
       "      <th>std</th>\n",
       "      <td>37.38</td>\n",
       "      <td>732.36</td>\n",
       "      <td>96.85</td>\n",
       "      <td>7.75</td>\n",
       "      <td>183.09</td>\n",
       "      <td>6.25</td>\n",
       "      <td>0.71</td>\n",
       "    </tr>\n",
       "    <tr>\n",
       "      <th>min</th>\n",
       "      <td>0.00</td>\n",
       "      <td>80.00</td>\n",
       "      <td>20.00</td>\n",
       "      <td>1.00</td>\n",
       "      <td>20.00</td>\n",
       "      <td>1.00</td>\n",
       "      <td>1.00</td>\n",
       "    </tr>\n",
       "    <tr>\n",
       "      <th>25%</th>\n",
       "      <td>32.00</td>\n",
       "      <td>1146.00</td>\n",
       "      <td>189.00</td>\n",
       "      <td>12.00</td>\n",
       "      <td>286.50</td>\n",
       "      <td>10.00</td>\n",
       "      <td>1.00</td>\n",
       "    </tr>\n",
       "    <tr>\n",
       "      <th>50%</th>\n",
       "      <td>64.00</td>\n",
       "      <td>1699.00</td>\n",
       "      <td>264.00</td>\n",
       "      <td>16.00</td>\n",
       "      <td>424.75</td>\n",
       "      <td>16.00</td>\n",
       "      <td>2.00</td>\n",
       "    </tr>\n",
       "    <tr>\n",
       "      <th>75%</th>\n",
       "      <td>96.00</td>\n",
       "      <td>2055.00</td>\n",
       "      <td>341.00</td>\n",
       "      <td>21.00</td>\n",
       "      <td>513.75</td>\n",
       "      <td>20.00</td>\n",
       "      <td>2.00</td>\n",
       "    </tr>\n",
       "    <tr>\n",
       "      <th>max</th>\n",
       "      <td>128.00</td>\n",
       "      <td>4596.00</td>\n",
       "      <td>424.00</td>\n",
       "      <td>44.00</td>\n",
       "      <td>1149.00</td>\n",
       "      <td>31.00</td>\n",
       "      <td>4.00</td>\n",
       "    </tr>\n",
       "  </tbody>\n",
       "</table>\n",
       "</div>"
      ],
      "text/plain": [
       "       page_number  page_char_count  page_word_count  page_sentence_count  \\\n",
       "count       129.00           129.00           129.00               129.00   \n",
       "mean         64.00          1655.45           262.89                16.95   \n",
       "std          37.38           732.36            96.85                 7.75   \n",
       "min           0.00            80.00            20.00                 1.00   \n",
       "25%          32.00          1146.00           189.00                12.00   \n",
       "50%          64.00          1699.00           264.00                16.00   \n",
       "75%          96.00          2055.00           341.00                21.00   \n",
       "max         128.00          4596.00           424.00                44.00   \n",
       "\n",
       "       page_token_count  page_sentence_count_spacy  num_chunks  \n",
       "count            129.00                     129.00      129.00  \n",
       "mean             413.86                      15.51        1.97  \n",
       "std              183.09                       6.25        0.71  \n",
       "min               20.00                       1.00        1.00  \n",
       "25%              286.50                      10.00        1.00  \n",
       "50%              424.75                      16.00        2.00  \n",
       "75%              513.75                      20.00        2.00  \n",
       "max             1149.00                      31.00        4.00  "
      ]
     },
     "execution_count": 15,
     "metadata": {},
     "output_type": "execute_result"
    }
   ],
   "source": [
    "df = pd.DataFrame(pages_and_text)\n",
    "df.describe().round(2)"
   ]
  },
  {
   "cell_type": "code",
   "execution_count": 16,
   "metadata": {},
   "outputs": [
    {
     "data": {
      "application/vnd.jupyter.widget-view+json": {
       "model_id": "4f7f5ddab26b43ab818ca089abce4c8e",
       "version_major": 2,
       "version_minor": 0
      },
      "text/plain": [
       "  0%|          | 0/129 [00:00<?, ?it/s]"
      ]
     },
     "metadata": {},
     "output_type": "display_data"
    },
    {
     "data": {
      "text/plain": [
       "254"
      ]
     },
     "execution_count": 16,
     "metadata": {},
     "output_type": "execute_result"
    }
   ],
   "source": [
    "import re \n",
    "\n",
    "pages_and_chunks = []\n",
    "for item in tqdm(pages_and_text):\n",
    "    for sentence_chunk in item[\"sentence_chunks\"]:\n",
    "        chunk_dict = {}\n",
    "        chunk_dict[\"page_number\"] = item[\"page_number\"]\n",
    "\n",
    "        # join the sentences together into paragraph like structure aka join the list of sentences into one paragraph \n",
    "\n",
    "        joined_sentence_chunk = \"\".join(sentence_chunk).replace(\"  \",\" \").strip()\n",
    "        joined_sentence_chunk = re.sub(r'\\.([A-Z])', r'. \\1', joined_sentence_chunk)\n",
    "\n",
    "        chunk_dict[\"sentence_chunk\"] = joined_sentence_chunk\n",
    "\n",
    "        chunk_dict[\"chunk_char_count\"] = len(joined_sentence_chunk)\n",
    "        chunk_dict[\"chunk_word_count\"] = len([word for word in joined_sentence_chunk.split(\" \")])\n",
    "        chunk_dict[\"chunk_token_count\"] = len(joined_sentence_chunk) / 4\n",
    "\n",
    "        pages_and_chunks.append(chunk_dict)\n",
    "\n",
    "len(pages_and_chunks)"
   ]
  },
  {
   "cell_type": "code",
   "execution_count": 17,
   "metadata": {},
   "outputs": [
    {
     "data": {
      "text/plain": [
       "[{'page_number': 41,\n",
       "  'sentence_chunk': 'Erosion, transportation, and deposition continue until the slopes are almost completely flattened leaving finally a lowland of faint relief called peneplains with some low resistant remnants called monadnocks. Erosional Landforms due to Running Water Valleys, Gorges, Canyon As we discussed above, valleys are formed as a result of running water. The rills which are formed by the overland flow of water later develop into gullies. These gullies gradually deepen and widen to form valleys. A gorge is a deep valley with very steep to straight sides. A canyon is characterized by steep step-like side slopes and may be as deep as a gorge. A gorge is almost equal in width at its top as well as bottom and is formed in hard rocks while a canyon is wider at its top than at its bottom and is formed in horizontal bedded sedimentary rocks. Potholes, Plunge pools Potholes are more or less circular depressions over the rocky beds of hills streams. Once a small and shallow depression forms, pebbles and boulders get collected in those depressions and get rotated by flowing water. Consequently, the depressions grow in dimensions to form potholes.',\n",
       "  'chunk_char_count': 1143,\n",
       "  'chunk_word_count': 190,\n",
       "  'chunk_token_count': 285.75}]"
      ]
     },
     "execution_count": 17,
     "metadata": {},
     "output_type": "execute_result"
    }
   ],
   "source": [
    "random.sample(pages_and_chunks, k=1)"
   ]
  },
  {
   "cell_type": "code",
   "execution_count": 18,
   "metadata": {},
   "outputs": [
    {
     "data": {
      "text/html": [
       "<div>\n",
       "<style scoped>\n",
       "    .dataframe tbody tr th:only-of-type {\n",
       "        vertical-align: middle;\n",
       "    }\n",
       "\n",
       "    .dataframe tbody tr th {\n",
       "        vertical-align: top;\n",
       "    }\n",
       "\n",
       "    .dataframe thead th {\n",
       "        text-align: right;\n",
       "    }\n",
       "</style>\n",
       "<table border=\"1\" class=\"dataframe\">\n",
       "  <thead>\n",
       "    <tr style=\"text-align: right;\">\n",
       "      <th></th>\n",
       "      <th>page_number</th>\n",
       "      <th>chunk_char_count</th>\n",
       "      <th>chunk_word_count</th>\n",
       "      <th>chunk_token_count</th>\n",
       "    </tr>\n",
       "  </thead>\n",
       "  <tbody>\n",
       "    <tr>\n",
       "      <th>count</th>\n",
       "      <td>254.00</td>\n",
       "      <td>254.00</td>\n",
       "      <td>254.00</td>\n",
       "      <td>254.00</td>\n",
       "    </tr>\n",
       "    <tr>\n",
       "      <th>mean</th>\n",
       "      <td>62.39</td>\n",
       "      <td>838.00</td>\n",
       "      <td>131.24</td>\n",
       "      <td>209.50</td>\n",
       "    </tr>\n",
       "    <tr>\n",
       "      <th>std</th>\n",
       "      <td>37.55</td>\n",
       "      <td>527.47</td>\n",
       "      <td>60.81</td>\n",
       "      <td>131.87</td>\n",
       "    </tr>\n",
       "    <tr>\n",
       "      <th>min</th>\n",
       "      <td>0.00</td>\n",
       "      <td>5.00</td>\n",
       "      <td>1.00</td>\n",
       "      <td>1.25</td>\n",
       "    </tr>\n",
       "    <tr>\n",
       "      <th>25%</th>\n",
       "      <td>29.25</td>\n",
       "      <td>600.50</td>\n",
       "      <td>95.25</td>\n",
       "      <td>150.12</td>\n",
       "    </tr>\n",
       "    <tr>\n",
       "      <th>50%</th>\n",
       "      <td>61.00</td>\n",
       "      <td>832.50</td>\n",
       "      <td>137.50</td>\n",
       "      <td>208.12</td>\n",
       "    </tr>\n",
       "    <tr>\n",
       "      <th>75%</th>\n",
       "      <td>94.00</td>\n",
       "      <td>1050.25</td>\n",
       "      <td>174.00</td>\n",
       "      <td>262.56</td>\n",
       "    </tr>\n",
       "    <tr>\n",
       "      <th>max</th>\n",
       "      <td>128.00</td>\n",
       "      <td>4446.00</td>\n",
       "      <td>321.00</td>\n",
       "      <td>1111.50</td>\n",
       "    </tr>\n",
       "  </tbody>\n",
       "</table>\n",
       "</div>"
      ],
      "text/plain": [
       "       page_number  chunk_char_count  chunk_word_count  chunk_token_count\n",
       "count       254.00            254.00            254.00             254.00\n",
       "mean         62.39            838.00            131.24             209.50\n",
       "std          37.55            527.47             60.81             131.87\n",
       "min           0.00              5.00              1.00               1.25\n",
       "25%          29.25            600.50             95.25             150.12\n",
       "50%          61.00            832.50            137.50             208.12\n",
       "75%          94.00           1050.25            174.00             262.56\n",
       "max         128.00           4446.00            321.00            1111.50"
      ]
     },
     "execution_count": 18,
     "metadata": {},
     "output_type": "execute_result"
    }
   ],
   "source": [
    "df = pd.DataFrame(pages_and_chunks)\n",
    "df.describe().round(2)"
   ]
  },
  {
   "cell_type": "code",
   "execution_count": 19,
   "metadata": {},
   "outputs": [
    {
     "name": "stdout",
     "output_type": "stream",
     "text": [
      "Processing row 17: {'page_number': 8, 'sentence_chunk': 'The earth is the only planet where some special', 'chunk_char_count': 47, 'chunk_word_count': 9, 'chunk_token_count': 11.75}\n",
      "Processing row 173: {'page_number': 85, 'sentence_chunk': 'It is the layer of the ocean', 'chunk_char_count': 28, 'chunk_word_count': 7, 'chunk_token_count': 7.0}\n",
      "Processing row 145: {'page_number': 70, 'sentence_chunk': 'wide.', 'chunk_char_count': 5, 'chunk_word_count': 1, 'chunk_token_count': 1.25}\n",
      "Processing row 188: {'page_number': 93, 'sentence_chunk': 'It is largely responsible', 'chunk_char_count': 25, 'chunk_word_count': 4, 'chunk_token_count': 6.25}\n",
      "Processing row 117: {'page_number': 56, 'sentence_chunk': 'The deepest section is less than 55m (180 feet) underwater.', 'chunk_char_count': 59, 'chunk_word_count': 10, 'chunk_token_count': 14.75}\n"
     ]
    }
   ],
   "source": [
    "min_token_length = 15\n",
    "for index, row in df[df[\"chunk_token_count\"] <= min_token_length].sample(5).iterrows():\n",
    "    # Example processing code\n",
    "    print(f\"Processing row {index}: {row.to_dict()}\")"
   ]
  },
  {
   "cell_type": "code",
   "execution_count": 20,
   "metadata": {},
   "outputs": [
    {
     "data": {
      "text/plain": [
       "[{'page_number': 0,\n",
       "  'sentence_chunk': '1   IIPA2022 22 World Geography Short Answers PKP-03 by Dr Amit Kumar Singh',\n",
       "  'chunk_char_count': 75,\n",
       "  'chunk_word_count': 15,\n",
       "  'chunk_token_count': 18.75},\n",
       " {'page_number': 1,\n",
       "  'sentence_chunk': '2 Contents 1. Origin of Solar System and Sun ........................................................................................................... 6 2. Stars, Sun & Planets ............................................................................................................................. 8 Sun Statistics ....................................................................................................................................... 8 Solar Eclipse ........................................................................................................................................ 9 Lunar Eclipse ....................................................................................................................................... 9 The Planets .......................................................................................................................................... 9 3. Latitudes and Longitudes ................................................................................................................... 11 Latitudes ........................................................................................................................................... 11 Heat Zones ........................................................................................................................................ 12 Longitudes ......................................................................................................................................... 13 Time Zones ........................................................................................................................................ 14 4. Motions of the Earth: Rotation and Revolution. ................................................................................15 Rotation ............................................................................................................................................ 15 The Coriolis Force. .............................................................................................................................15 Revolution ......................................................................................................................................... 15 Summer solstice ................................................................................................................................ 16 Winter solstice................................................................................................................................... 17 Equinox ............................................................................................................................................. 17 Effects of revolution .......................................................................................................................... 17 5. Geomorphic Processes: Endogenic Forces and Evolution of Landforms .............................................. 18 Endogenic Forces ............................................................................................................................... 18 Forces of Compression: ............................................................................................................... 20 Exogenic Forces ................................................................................................................................. 20 6. Origin of the Earth ............................................................................................................................. 21 7. Interior Structure of the Earth ........................................................................................................... 24 8.',\n",
       "  'chunk_char_count': 3711,\n",
       "  'chunk_word_count': 128,\n",
       "  'chunk_token_count': 927.75}]"
      ]
     },
     "execution_count": 20,
     "metadata": {},
     "output_type": "execute_result"
    }
   ],
   "source": [
    "pages_and_chunks_over_min_token_length = df[df[\"chunk_token_count\"] > min_token_length].to_dict(orient=\"records\")\n",
    "pages_and_chunks_over_min_token_length[:2]"
   ]
  },
  {
   "cell_type": "code",
   "execution_count": 21,
   "metadata": {},
   "outputs": [
    {
     "data": {
      "text/plain": [
       "[{'page_number': 3,\n",
       "  'sentence_chunk': 'Ocean thermal energy conversion (OTEC) ........................................................................................ 91 25. Composition and Structure of Atmosphere ...................................................................................... 94 Composition ...................................................................................................................................... 94 Layers of Earth Atmoshpheres ........................................................................................................... 96 26. Insolation and Heat Balance of the Earth ......................................................................................... 99',\n",
       "  'chunk_char_count': 692,\n",
       "  'chunk_word_count': 34,\n",
       "  'chunk_token_count': 173.0}]"
      ]
     },
     "execution_count": 21,
     "metadata": {},
     "output_type": "execute_result"
    }
   ],
   "source": [
    "random.sample(pages_and_chunks_over_min_token_length, k=1)"
   ]
  },
  {
   "cell_type": "markdown",
   "metadata": {},
   "source": [
    "Embedding : \n",
    "\n",
    "A useful numerical representation and it is a learned representation. \n",
    "\n",
    "\n",
    "{\n",
    "    the: 0,\n",
    "    a : 1,\n",
    "    ...\n",
    "}"
   ]
  },
  {
   "cell_type": "code",
   "execution_count": 22,
   "metadata": {},
   "outputs": [
    {
     "name": "stderr",
     "output_type": "stream",
     "text": [
      "comet_ml is installed but `COMET_API_KEY` is not set.\n"
     ]
    },
    {
     "name": "stdout",
     "output_type": "stream",
     "text": [
      "WARNING:tensorflow:From C:\\Users\\aryan\\AppData\\Local\\Packages\\PythonSoftwareFoundation.Python.3.11_qbz5n2kfra8p0\\LocalCache\\local-packages\\Python311\\site-packages\\keras\\src\\losses.py:2976: The name tf.losses.sparse_softmax_cross_entropy is deprecated. Please use tf.compat.v1.losses.sparse_softmax_cross_entropy instead.\n",
      "\n"
     ]
    },
    {
     "name": "stderr",
     "output_type": "stream",
     "text": [
      "C:\\Users\\aryan\\AppData\\Local\\Packages\\PythonSoftwareFoundation.Python.3.11_qbz5n2kfra8p0\\LocalCache\\local-packages\\Python311\\site-packages\\huggingface_hub\\file_download.py:1132: FutureWarning: `resume_download` is deprecated and will be removed in version 1.0.0. Downloads always resume when possible. If you want to force a new download, use `force_download=True`.\n",
      "  warnings.warn(\n"
     ]
    },
    {
     "name": "stdout",
     "output_type": "stream",
     "text": [
      "Sentence: The sentence transformer provides an easier way to create embeddings\n",
      "Embedding: [-6.87679201e-02 -3.37028950e-02  3.68130989e-02  1.77186299e-02\n",
      "  4.59097028e-02  7.25906417e-02 -2.06882395e-02  5.50199710e-02\n",
      "  9.44427997e-02 -4.44253236e-02  5.07963374e-02  1.03461444e-02\n",
      "  1.73806529e-02  6.51760772e-02  1.94573663e-02  8.53721723e-02\n",
      "  1.59757342e-02  1.02003135e-01 -7.83813596e-02 -1.06738113e-01\n",
      "  6.44138968e-03  3.28693874e-02  2.74742004e-02 -6.96152002e-02\n",
      "  5.03769144e-02  6.34706244e-02 -3.52961123e-02  1.27846748e-02\n",
      "  7.83551186e-02 -6.58562314e-03 -1.30270229e-04 -5.40848039e-02\n",
      " -4.96062152e-02  9.75598395e-02 -3.67665216e-02  2.29739249e-02\n",
      "  4.46881577e-02  7.04804584e-02 -4.62974198e-02 -1.74799338e-02\n",
      "  2.25367267e-02  6.00746088e-03  6.89678416e-02  5.03606573e-02\n",
      "  4.12279367e-02 -3.38686816e-02 -4.16970365e-02 -9.08160862e-03\n",
      " -2.03304663e-02  1.73994489e-02 -4.90085185e-02 -2.83182859e-02\n",
      " -9.14116317e-05  6.86822906e-02 -4.36346792e-02  3.69178839e-02\n",
      " -6.90460717e-03 -3.20158079e-02  2.52354122e-03 -6.85855821e-02\n",
      " -4.81875949e-02 -9.25179292e-03  1.03308130e-02  1.69749241e-02\n",
      " -1.78921726e-02 -1.13739530e-02  3.19042057e-02  5.38398288e-02\n",
      " -5.49549572e-02  6.68595508e-02 -7.65900984e-02  5.46231028e-03\n",
      " -1.15826361e-01  9.60020069e-03 -3.74539308e-02  7.58873811e-03\n",
      "  4.65456918e-02 -1.15772821e-01  8.94280449e-02 -2.34374637e-03\n",
      "  1.73093881e-02 -1.20466305e-02  3.93723436e-02  3.37575749e-02\n",
      "  8.00869614e-02 -8.22894927e-03  2.39798911e-02 -3.51164080e-02\n",
      " -6.94097057e-02  3.77035066e-02 -4.85910997e-02 -9.18819308e-02\n",
      "  5.83603904e-02  4.40987246e-03 -1.20912418e-02 -1.27744842e-02\n",
      " -3.97725850e-02 -5.00577502e-04  1.40865864e-02  5.66038489e-02\n",
      "  1.56822428e-02 -2.10517570e-02  9.34684202e-02 -8.01689103e-02\n",
      " -1.12757288e-01 -7.87602663e-02 -2.69982908e-02 -2.18163859e-02\n",
      " -3.66850570e-02 -4.73496020e-02 -3.21253240e-02  1.76445544e-02\n",
      " -2.15696972e-02 -3.85149121e-02  3.16064060e-02 -4.57879677e-02\n",
      " -3.12289931e-02 -7.00653205e-03  4.54271212e-02 -1.14641699e-03\n",
      "  2.64526661e-02  8.82452577e-02 -7.63642713e-02  5.18464856e-02\n",
      " -2.81736953e-03 -2.06319764e-02  2.71378327e-02 -1.00582790e-33\n",
      " -1.07749533e-02  4.13874164e-02 -6.81097666e-03  3.25223729e-02\n",
      "  1.13953333e-02  3.53021175e-02 -2.98740081e-02  8.70844871e-02\n",
      " -7.74921849e-02 -5.14865760e-03 -4.48307656e-02  1.19365975e-02\n",
      " -1.13251545e-02  6.49723932e-02  1.69319361e-02 -5.33052199e-02\n",
      " -2.77446602e-02  6.50199875e-03 -2.01725960e-02 -6.40442362e-03\n",
      " -5.52308895e-02  1.56156756e-02  3.54719386e-02 -3.09682786e-02\n",
      " -1.03251077e-01 -1.65417716e-02  1.04272924e-01 -4.96324711e-02\n",
      " -4.14637774e-02 -2.51165777e-02 -1.09986097e-01 -1.63343046e-02\n",
      " -2.38763429e-02 -4.13739830e-02  3.54845449e-02  1.25509675e-03\n",
      "  6.51698187e-02 -2.38405932e-02  2.17610858e-02 -3.54964882e-02\n",
      " -3.11645539e-03  1.38566308e-02  1.27461832e-02 -3.37155419e-04\n",
      "  4.26194724e-03  4.37224805e-02  2.12068688e-02 -4.74627689e-03\n",
      "  5.14270626e-02 -2.24460885e-02  2.57521402e-02  1.92213263e-02\n",
      " -9.47185680e-02 -5.48141263e-02  1.52076066e-01  2.10959557e-02\n",
      "  3.70705910e-02  2.82546692e-03  5.27914539e-02 -2.61936747e-02\n",
      " -1.38949025e-02  4.20912504e-02  7.86099583e-02  4.76701622e-04\n",
      "  3.60689797e-02 -2.34178938e-02 -2.14260053e-02 -4.05512266e-02\n",
      "  2.33606305e-02  3.96905690e-02 -4.11944464e-02  5.74228689e-02\n",
      " -4.58913669e-02 -2.31523402e-02 -4.11412157e-02  4.64314371e-02\n",
      " -3.06732822e-02 -3.12650241e-02 -1.81305502e-02  5.10102175e-02\n",
      " -6.67906776e-02 -1.12753667e-01  4.42469418e-02 -2.75396090e-02\n",
      " -3.92000601e-02 -7.78408721e-02  2.17873752e-02 -7.24924281e-02\n",
      "  6.46489859e-02  2.13152394e-02  8.74037563e-04 -2.38038898e-02\n",
      " -4.39096801e-02  3.88069637e-02  7.77468532e-02  3.23707106e-34\n",
      " -2.52612941e-02  3.41512151e-02 -7.45881125e-02  6.26159608e-02\n",
      " -1.07799303e-02 -3.75766717e-02 -9.09991190e-03  7.52477720e-02\n",
      "  5.52239129e-03  1.64570492e-02 -5.29753566e-02 -1.98995322e-02\n",
      "  3.22357453e-02 -7.59624839e-02  8.67645890e-02  9.30387340e-03\n",
      " -1.76651292e-02  6.23803586e-02 -2.72998363e-02  2.82911826e-02\n",
      "  2.04400308e-02  1.28177688e-01 -1.03742294e-01  8.67593884e-02\n",
      " -1.35309128e-02  3.28688286e-02 -4.39105555e-02 -5.70199080e-03\n",
      " -6.58263266e-02 -2.82266047e-02 -1.53197264e-02 -7.35465586e-02\n",
      " -2.45342832e-02 -3.03788967e-02 -8.76193941e-02  2.39364728e-02\n",
      "  4.60261293e-02 -2.49296520e-02  3.90817272e-03 -2.87758391e-02\n",
      "  5.68682849e-02  3.27360891e-02 -5.70329130e-02  3.90080772e-02\n",
      " -4.68343645e-02 -1.40709151e-02 -7.04647973e-02 -4.22255397e-02\n",
      "  7.75481164e-02  4.24332023e-02 -3.50074843e-02  3.06135379e-02\n",
      " -1.20127290e-01 -3.26633491e-02 -1.07247354e-02 -1.00981392e-01\n",
      "  2.05558073e-02 -1.15367271e-01  1.65077914e-02 -4.05668132e-02\n",
      " -8.55142400e-02 -1.25411572e-02  7.45692253e-02 -1.45346284e-01\n",
      "  8.12425762e-02 -9.21378955e-02 -1.84136268e-03  4.44831401e-02\n",
      "  4.30682115e-03 -3.07436660e-02  5.90840401e-03 -2.19446756e-02\n",
      " -9.72911157e-03  3.92566845e-02  2.38870066e-02 -6.90441653e-02\n",
      "  5.65967746e-02  2.38647088e-02 -6.73484132e-02 -6.58002123e-02\n",
      "  2.65292022e-02 -6.06528707e-02  9.16197971e-02 -2.64470512e-03\n",
      "  2.64308583e-02  6.81605563e-02  6.02901131e-02  6.14075502e-03\n",
      "  5.05560674e-02  6.90624118e-02 -7.44455159e-02  3.23930234e-02\n",
      "  1.19900703e-02  1.43940330e-01  1.52405184e-02 -2.12866009e-08\n",
      " -9.39775184e-02 -2.78656054e-02 -5.25544882e-02  1.11419661e-02\n",
      " -1.03561692e-01 -7.05890805e-02  1.61912497e-02  5.45051359e-02\n",
      " -5.98398633e-02 -2.15389691e-02  3.85509767e-02 -1.88656542e-02\n",
      " -5.32027222e-02 -1.13321785e-02  5.07651195e-02  6.07884601e-02\n",
      " -2.82418393e-02  4.12526689e-02  3.61578055e-02  1.25972209e-02\n",
      "  3.74282934e-02  1.18428439e-01 -1.88708436e-02  1.76252276e-02\n",
      " -2.00629011e-02  1.75880231e-02 -3.91747318e-02  1.72035340e-02\n",
      "  3.70857157e-02  5.36556579e-02  3.93491611e-02  7.20074102e-02\n",
      " -3.66443098e-02 -1.34421252e-02 -4.34219167e-02  8.19856152e-02\n",
      "  6.44632280e-02 -7.93300942e-02  9.13537666e-03 -2.55013816e-02\n",
      "  5.90690970e-02  4.23957147e-02 -1.34529546e-01  4.96289805e-02\n",
      "  7.58512914e-02  2.55390201e-02  1.97976492e-02 -8.04002210e-02\n",
      "  4.70416993e-03 -2.36170590e-02  3.10665928e-02 -7.45723993e-02\n",
      "  7.71499379e-03  7.41317309e-03  4.43007238e-02  3.11509706e-02\n",
      "  5.93497902e-02 -7.99795054e-03  2.08049808e-02  1.45604527e-02\n",
      " -1.08555972e-03  1.19825989e-01  6.10035546e-02  1.50353378e-02]\n",
      "Sentence: Sentences can be embedded one by one in  a list.\n",
      "Embedding: [ 2.34562326e-02  5.04969396e-02  3.62801589e-02  8.40571001e-02\n",
      "  8.38222280e-02  6.86819851e-02  6.75586313e-02  1.95872504e-02\n",
      "  1.52937206e-03  6.59167534e-03  5.71367405e-02  1.02151884e-02\n",
      "  9.43639129e-02  7.78895919e-04  5.57758175e-02  5.33891879e-02\n",
      " -2.34669726e-02  3.58687937e-02 -1.66711789e-02 -1.08843789e-01\n",
      "  5.36137223e-02  1.10756233e-01  1.84781570e-02 -1.06742401e-02\n",
      "  4.69324738e-02  2.16549765e-02 -8.65305886e-02 -4.53591049e-02\n",
      "  1.63873471e-02  2.40868162e-02 -2.77060959e-02 -3.74498442e-02\n",
      "  9.99354757e-03  1.37798905e-01  5.72514348e-02  5.35186604e-02\n",
      "  1.30888708e-02  7.63709098e-02 -3.32987420e-02  3.68363634e-02\n",
      "  6.97016995e-03 -2.44818088e-02  1.97166707e-02 -3.94643247e-02\n",
      "  2.64263619e-02 -2.43917219e-02 -8.45640004e-02  1.97545905e-03\n",
      " -3.02784033e-02 -2.19529010e-02 -1.11278236e-01 -2.24505179e-03\n",
      " -2.86021121e-02  3.21093649e-02 -3.41771729e-03  3.66487689e-02\n",
      " -5.48484661e-02  3.01607456e-02 -2.99916230e-02 -8.08263794e-02\n",
      "  4.61398903e-03 -6.20852131e-03 -2.92639732e-02  4.78845723e-02\n",
      "  8.64439830e-02 -3.44822556e-02 -3.60890036e-03  2.36843023e-02\n",
      " -9.89452079e-02  7.38301203e-02  6.91907248e-03  7.23990193e-03\n",
      " -3.56053635e-02  1.57570299e-02 -3.82516459e-02  7.54485428e-02\n",
      "  4.69764397e-02 -6.74450472e-02  5.50501794e-02 -6.02274295e-03\n",
      " -7.59381279e-02 -6.91862553e-02  2.31363233e-02 -4.89070155e-02\n",
      "  2.79097855e-02 -1.80530604e-02  6.63264766e-02 -2.49256510e-02\n",
      " -7.17949867e-02  1.94571838e-02 -4.91898134e-02 -1.14477068e-01\n",
      "  1.30430207e-01  1.88731570e-02  2.59168055e-02  1.91455765e-03\n",
      " -4.42712009e-03 -4.33737785e-02 -3.43133919e-02  3.92626785e-02\n",
      "  1.45519525e-02  3.36262211e-02  1.75937917e-02  4.89757732e-02\n",
      " -1.11074135e-01 -8.39057118e-02 -2.36757807e-02 -9.92257819e-02\n",
      " -2.80635674e-02 -1.14719190e-01 -5.07724360e-02 -1.21307950e-02\n",
      " -4.09743749e-03 -4.77542467e-02 -3.18622254e-02 -5.18417731e-02\n",
      "  1.00784190e-02  5.58730215e-02  6.14986867e-02  4.94404808e-02\n",
      " -1.74057521e-02  1.41190300e-02  2.05280003e-03  1.79378483e-02\n",
      "  1.89321041e-02 -1.36386111e-01  1.42506938e-02 -2.30035006e-33\n",
      "  7.43086124e-03 -4.26524244e-02 -1.02692069e-02  1.39285326e-02\n",
      " -1.89134274e-02  1.86081212e-02 -4.81546186e-02  2.61902530e-02\n",
      " -9.37767029e-02  4.86200070e-03  4.30309959e-02 -2.27912199e-02\n",
      "  4.85814065e-02  9.30522531e-02  6.40039295e-02  6.42338768e-02\n",
      " -1.82279553e-02  3.63280736e-02 -5.84934000e-03 -2.32544374e-02\n",
      " -5.86852543e-02  1.77682936e-02 -4.47665825e-02 -8.44887421e-02\n",
      " -8.42233002e-02  9.25979763e-03  5.97419739e-02 -2.95801666e-02\n",
      " -7.54821226e-02  1.25554381e-02 -8.13761353e-02 -1.51116885e-02\n",
      " -1.44935977e-02 -5.76119451e-03  6.12267628e-02  2.69740075e-02\n",
      "  1.53938802e-02 -1.15823625e-02  2.55164467e-02 -3.55113298e-02\n",
      " -3.09047550e-02  2.29721572e-02  1.08077768e-02 -6.91495603e-03\n",
      "  6.40903488e-02  2.04285346e-02 -6.44224808e-02  4.20355760e-02\n",
      "  2.22384818e-02  3.81492749e-02  1.85648315e-02  3.89925875e-02\n",
      " -4.65582795e-02 -6.81159049e-02  1.04047440e-01 -4.39194636e-03\n",
      "  1.70658249e-02  5.03848530e-02  8.11258852e-02  3.58308218e-02\n",
      " -4.18341681e-02  5.80771044e-02 -5.01154689e-03 -2.46487241e-02\n",
      "  5.57437316e-02  2.02163961e-02 -5.15893959e-02  2.41515618e-02\n",
      "  4.42923754e-02  5.82633093e-02 -1.42395440e-02  1.95245277e-02\n",
      " -3.81640270e-02  2.67726947e-02 -8.35532695e-02  1.16667254e-02\n",
      " -3.55739816e-04 -9.80331153e-02 -2.17714943e-02  6.97679967e-02\n",
      " -9.90379695e-03 -1.60572469e-01  4.94299196e-02  6.80043325e-02\n",
      " -3.87471505e-02 -2.53120214e-02  6.46560416e-02 -3.52340564e-02\n",
      " -3.05988500e-03 -1.52611835e-02 -3.01798861e-02  1.68791655e-02\n",
      "  6.06986582e-02 -4.25343998e-02  2.18794737e-02 -8.20349406e-34\n",
      "  1.97171755e-02  7.16511682e-02 -4.44211736e-02  3.09453142e-04\n",
      "  3.51275541e-02  1.22672943e-02 -1.67626701e-02 -3.92125808e-02\n",
      "  7.62006221e-03  9.19555128e-03 -7.65620321e-02  3.08363456e-02\n",
      "  2.05694269e-02 -5.98649271e-02  7.65815191e-03  3.03743277e-02\n",
      " -6.32074028e-02  3.69734466e-02 -6.02560453e-02  9.38951299e-02\n",
      " -1.61640730e-03  6.18234798e-02 -7.57939089e-03  1.23016782e-01\n",
      "  1.57071333e-02  1.24655003e-02  1.36131011e-02  7.14538759e-03\n",
      " -1.04872599e-01 -8.83666985e-03  4.67149494e-03 -4.98600937e-02\n",
      " -4.56142053e-02 -2.10940256e-03 -1.98098123e-02  2.29895376e-02\n",
      "  7.12533221e-02 -7.95306861e-02 -3.50563303e-02  1.78258587e-02\n",
      "  7.54968300e-02  1.53333172e-02 -4.38045263e-02 -5.18486742e-03\n",
      "  6.87596807e-03 -7.80403316e-02 -1.27029017e-01 -4.40337770e-02\n",
      " -1.25352982e-02  8.26816857e-02 -1.37119874e-01  3.63219716e-02\n",
      " -6.54136315e-02 -2.02190056e-02 -3.50613669e-02 -1.44013623e-02\n",
      " -2.24527065e-02 -9.29975417e-03  5.17099574e-02 -5.71056567e-02\n",
      " -6.56510964e-02  4.68976684e-02  4.96112444e-02  5.62315527e-03\n",
      "  1.28392562e-01 -1.01799428e-01 -8.09403136e-02 -2.91944426e-02\n",
      " -6.41309023e-02 -8.07524621e-02  6.07690727e-03 -1.77998375e-02\n",
      " -7.22399279e-02  5.02040097e-03 -3.23373899e-02 -5.11335097e-02\n",
      "  1.87428016e-02 -5.10505587e-02 -5.54827973e-02 -7.15813562e-02\n",
      "  2.14546546e-02 -1.26460185e-02  3.28274630e-02 -4.50537466e-02\n",
      " -3.27257393e-03  1.39265051e-02  1.61140058e-02  5.98623566e-02\n",
      "  9.27933864e-03  3.23143713e-02 -7.63854682e-02 -2.88206954e-02\n",
      "  9.13242027e-02  8.85293409e-02 -7.08486661e-02 -2.29233219e-08\n",
      " -6.71488121e-02 -4.62040640e-02  2.35784706e-02  7.15207383e-02\n",
      " -3.49114425e-02 -2.32234783e-02  1.08716683e-02 -3.25037204e-02\n",
      "  6.91366289e-03 -1.91858262e-02  6.17897287e-02  6.29242808e-02\n",
      " -5.70245348e-02  4.22186591e-03  5.37953712e-02  3.44344899e-02\n",
      " -4.56024781e-02 -2.81630494e-02 -2.16048267e-02  3.74480784e-02\n",
      "  7.27643818e-02  2.84791868e-02  4.56919847e-03 -2.21459125e-03\n",
      " -1.12677030e-02  1.96438865e-03 -4.89865765e-02  4.96323332e-02\n",
      "  1.73492078e-02  8.99152309e-02  5.94953038e-02  2.10372228e-02\n",
      "  1.13805709e-02  2.25258968e-03  5.27376682e-02  2.04671137e-02\n",
      "  6.14038594e-02 -4.07888144e-02  6.48774859e-03 -6.20214157e-02\n",
      " -9.29148030e-03  1.58366766e-02 -1.20839946e-01  8.75867009e-02\n",
      "  1.04563884e-01 -6.51319139e-03 -4.26220037e-02 -1.30629182e-01\n",
      " -1.85518935e-02 -3.28313150e-02 -5.28649194e-03 -1.24127921e-02\n",
      "  5.18217124e-02 -4.54208553e-02  2.46770214e-02  1.28300413e-02\n",
      "  8.51354972e-02  6.37837546e-03  2.29973719e-02 -2.99788378e-02\n",
      "  3.60932201e-02  5.88046797e-02  7.13888258e-02  6.02300745e-03]\n",
      "Sentence: I like chimps!\n",
      "Embedding: [-5.03895283e-02 -6.14672191e-02  5.85084036e-02 -1.36396510e-03\n",
      " -4.39966768e-02 -1.29542751e-02  5.76724224e-02  1.21858856e-02\n",
      "  2.72746384e-02  1.91462427e-01  1.06477611e-01 -6.79736286e-02\n",
      "  4.52797255e-03  2.77071614e-02 -1.24746170e-02  1.10872751e-02\n",
      "  2.26032250e-02 -2.75606923e-02  3.47521827e-02  6.58257529e-02\n",
      " -1.49257764e-01 -1.98502839e-03  5.23316711e-02  2.85540223e-02\n",
      " -9.04282555e-02  4.04951386e-02 -3.66965234e-02  3.33050936e-02\n",
      " -1.38024800e-02 -1.97847374e-02 -3.90185900e-02  4.52924967e-02\n",
      " -2.46524811e-02  1.40734278e-02 -5.28035313e-03  2.14657765e-02\n",
      "  4.88234684e-02 -7.47248181e-04  6.56649917e-02  7.36807436e-02\n",
      "  2.45942529e-02  1.80621408e-02  5.26421629e-02  6.91983616e-03\n",
      "  4.30193869e-03 -4.39660549e-02 -1.67878717e-02 -3.96978594e-02\n",
      "  3.19559574e-02  3.62758264e-02  7.22987950e-02  3.82770486e-02\n",
      " -1.54527780e-02  3.94500829e-02 -8.87635574e-02  2.98357494e-02\n",
      " -3.44499126e-02 -6.49662390e-02 -1.27031598e-02  1.85289420e-02\n",
      " -1.93558633e-02  5.02249412e-02 -1.82857141e-02 -3.52413617e-02\n",
      "  4.70584333e-02  6.29997067e-03 -3.62707116e-02  5.16247377e-02\n",
      "  7.12430701e-02  3.87424715e-02  2.17272248e-02  1.39931468e-02\n",
      " -8.75555351e-02  9.91654024e-02 -3.50190401e-02  6.08499683e-02\n",
      "  2.87940297e-02 -5.55279553e-02  4.02002642e-03 -6.18098304e-02\n",
      "  3.05869691e-02 -1.34347275e-01 -3.83747257e-02 -2.72424221e-02\n",
      "  5.72041757e-02 -9.97929722e-02 -5.96362576e-02  5.04909754e-02\n",
      " -9.34253559e-02  1.74306296e-02 -3.97309549e-02  4.46862727e-03\n",
      " -3.31359133e-02 -1.01257777e-02 -3.87913659e-02 -1.42149925e-02\n",
      "  5.79872588e-03 -3.19358744e-02 -4.39845286e-02  3.46319042e-02\n",
      "  4.14509093e-03 -4.32823505e-03 -8.38485267e-03 -1.33998385e-02\n",
      "  6.40563145e-02 -1.16827311e-02 -2.12685410e-02 -2.38745892e-03\n",
      "  5.76025844e-02 -4.76685353e-02 -2.48323604e-02  1.24272676e-02\n",
      "  8.66529625e-03  3.99895683e-02  2.16092728e-02  2.60635652e-02\n",
      "  6.14136979e-02  2.36180890e-02  1.29287075e-02 -4.05122750e-02\n",
      "  2.75769606e-02  6.99955896e-02 -5.56989908e-02 -4.27023247e-02\n",
      "  1.03140743e-02 -7.34609962e-02 -4.52268198e-02 -2.55267359e-33\n",
      " -3.14963348e-02 -2.96381414e-02  1.62707884e-02 -5.77213727e-02\n",
      " -7.49109127e-03  1.04024000e-01  9.56925284e-03  1.36843501e-02\n",
      " -3.33494768e-02  1.36411767e-02 -7.71164596e-02  4.41396870e-02\n",
      " -8.96742940e-02  5.71785159e-02 -6.62337020e-02  7.58530125e-02\n",
      " -1.16916355e-02 -2.65661944e-02 -4.47013639e-02 -3.17676701e-02\n",
      " -1.10764138e-01  9.99059007e-02 -3.12930625e-03  1.14331283e-01\n",
      "  7.67265484e-02 -4.13873009e-02  3.10686082e-02 -7.89813921e-02\n",
      "  2.62702480e-02  3.65729816e-02  6.09319694e-02 -5.86013729e-03\n",
      "  6.73439875e-02 -2.46585254e-02 -6.40334710e-02 -9.14735906e-03\n",
      " -1.99770331e-02 -3.34195532e-02 -1.18793212e-02  5.76155111e-02\n",
      "  1.41913876e-01 -2.38173399e-02 -1.04535241e-02  2.92497035e-02\n",
      "  2.50194762e-02  8.88118595e-02  4.70646583e-02 -6.51798025e-02\n",
      " -1.18810944e-02 -4.49835546e-02 -8.16946030e-02  3.33049521e-02\n",
      " -3.55288712e-03  9.70981345e-02  6.09557182e-02 -2.87725683e-02\n",
      "  7.59818554e-02  5.88495918e-02 -7.23868981e-02 -3.77034023e-02\n",
      " -3.38143408e-02  4.97003756e-02  8.02539010e-03 -1.01223767e-01\n",
      "  6.47683144e-02 -2.40483228e-02  1.39391785e-02  5.51316049e-03\n",
      " -3.97145487e-02  8.58038105e-03 -1.80228651e-02 -1.46756247e-02\n",
      " -6.46481365e-02 -4.56237756e-02 -5.49628623e-02 -4.93130870e-02\n",
      "  6.11642748e-03 -1.62594263e-02 -7.00784400e-02 -4.02118973e-02\n",
      "  5.47561236e-02  5.66535909e-03 -3.83725725e-02 -4.28383425e-02\n",
      "  2.95965374e-02  5.56628741e-02 -1.23394905e-02 -6.23725019e-02\n",
      "  3.35836224e-02 -1.20125324e-01  9.34970507e-04 -4.36949506e-02\n",
      "  1.01309836e-01  1.38553954e-03 -9.65481251e-02  2.03259522e-33\n",
      " -3.08361035e-02 -7.51965642e-02  7.82578066e-03  3.43954004e-02\n",
      " -1.37807918e-03  1.39486119e-02 -2.97280923e-02  3.42815407e-02\n",
      " -1.97507646e-02  4.95158546e-02 -3.75355743e-02 -7.35878199e-02\n",
      "  1.07114920e-02 -6.93368763e-02  3.86689939e-02  1.62804145e-02\n",
      " -2.23719738e-02  4.38082255e-02  1.22680860e-02  2.88698915e-02\n",
      " -9.20813382e-02  4.33656797e-02  8.07393994e-03  6.62842989e-02\n",
      " -2.86565311e-02  5.87169006e-02 -3.34658697e-02  1.50844296e-02\n",
      "  4.10941206e-02 -1.68581062e-03 -4.13405485e-02 -5.49265835e-03\n",
      " -2.66718660e-02 -9.62639004e-02  9.03298408e-02  8.12145416e-03\n",
      " -5.27468771e-02  2.16074195e-03 -2.20485087e-02 -3.15362308e-03\n",
      " -2.72034630e-02  4.54933159e-02  1.05301082e-01  5.53803369e-02\n",
      "  2.45364849e-02  5.56701496e-02  1.32531440e-02 -2.53130142e-02\n",
      " -1.65923908e-01  7.86747709e-02 -8.87606964e-02 -7.01542646e-02\n",
      " -1.21792629e-02 -6.54759854e-02  2.74718702e-02 -7.65438052e-03\n",
      "  3.91047113e-02  2.72671953e-02  8.30627605e-03 -6.74693510e-02\n",
      " -4.82386164e-02  8.65726396e-02 -7.54879264e-04  9.32681113e-02\n",
      " -5.18589579e-02  3.05247717e-02 -4.76895422e-02  2.83688698e-02\n",
      " -6.69254288e-02 -1.56003302e-02  1.99851245e-02  2.44776122e-02\n",
      " -5.15124016e-02 -3.00863525e-03  4.33253758e-02  5.77313900e-02\n",
      "  5.54812606e-03  1.73258148e-02  6.34549710e-04 -8.21737573e-03\n",
      " -4.13725339e-02  5.67102246e-02 -5.28849326e-02  9.39597636e-02\n",
      " -4.13791044e-03  1.06951073e-01 -6.86169490e-02  6.62300363e-02\n",
      " -3.92056257e-02  4.30370942e-02  1.98719371e-02 -2.40004193e-02\n",
      "  2.75401007e-02  5.41222207e-02  2.63042077e-02 -1.42085170e-08\n",
      " -4.43897918e-02  3.07961293e-02  9.35088322e-02  1.38152409e-02\n",
      "  7.24121854e-02  3.11913379e-02 -6.53117672e-02  2.99269538e-02\n",
      " -3.54033113e-02  3.95208485e-02  9.89954546e-02  6.04506545e-02\n",
      " -4.35765684e-02  1.11937687e-01  3.30828466e-02  5.40800095e-02\n",
      "  1.52631337e-02 -1.87421665e-02  3.94093990e-02  3.30153480e-02\n",
      " -9.15745944e-02  6.12948500e-02  3.42441201e-02 -7.91178644e-03\n",
      " -3.09676789e-02 -4.25527170e-02 -5.39994016e-02 -3.32054719e-02\n",
      " -1.56531017e-02 -2.28382880e-03  1.52436346e-02  4.85041328e-02\n",
      " -7.01286346e-02  1.88124049e-02  2.72077154e-02 -7.29025751e-02\n",
      "  3.18952203e-02 -5.83889000e-02  3.55917625e-02 -5.49941547e-02\n",
      "  2.44112127e-02  9.13497359e-02 -3.58737484e-02 -6.13239035e-02\n",
      " -5.66225685e-02 -6.64727166e-02  1.35982960e-01 -5.26488796e-02\n",
      " -5.40738832e-03 -3.35669518e-02 -5.34036085e-02  2.83861096e-04\n",
      " -9.10546351e-03  1.82442833e-02  3.14711966e-03 -2.66889986e-02\n",
      " -2.70780921e-02 -3.29775661e-02  1.36963660e-02  3.54640093e-03\n",
      "  7.77155608e-02 -1.03238504e-03  1.25779472e-02  1.04688285e-02]\n"
     ]
    }
   ],
   "source": [
    "from sentence_transformers import SentenceTransformer\n",
    "embedding_model = SentenceTransformer(model_name_or_path=\"all-MiniLM-L6-v2\", device=\"cuda\")\n",
    "\n",
    "#create a list of sentences\n",
    "sentences = [\"The sentence transformer provides an easier way to create embeddings\",\n",
    "\"Sentences can be embedded one by one in  a list.\",\"I like chimps!\"]\n",
    "\n",
    "embeddings = embedding_model.encode(sentences)\n",
    "embedding_dict = dict(zip(sentences, embeddings))\n",
    "\n",
    "for sentence, embedding in embedding_dict.items():\n",
    "    print(f\"Sentence: {sentence}\")\n",
    "    print(f\"Embedding: {embedding}\")\n"
   ]
  },
  {
   "cell_type": "code",
   "execution_count": 23,
   "metadata": {},
   "outputs": [
    {
     "data": {
      "text/plain": [
       "(384,)"
      ]
     },
     "execution_count": 23,
     "metadata": {},
     "output_type": "execute_result"
    }
   ],
   "source": [
    "embeddings[0].shape"
   ]
  },
  {
   "cell_type": "code",
   "execution_count": 24,
   "metadata": {},
   "outputs": [
    {
     "data": {
      "text/plain": [
       "array([-5.49600944e-02,  7.83105660e-03,  4.53742221e-02,  1.39820976e-02,\n",
       "        6.11190312e-03,  3.69757041e-02,  5.68162575e-02,  8.16690922e-03,\n",
       "        6.46038875e-02,  3.74894068e-02, -3.10413763e-02, -6.54169694e-02,\n",
       "        1.80261582e-02,  6.76760450e-02,  4.60805856e-02, -7.25531066e-03,\n",
       "        2.34833471e-02, -2.68905889e-02,  1.29957236e-02, -7.20567480e-02,\n",
       "       -9.44685787e-02,  5.52156903e-02,  1.91131514e-02, -3.16299610e-02,\n",
       "       -1.05778761e-01, -7.45278820e-02,  8.34870897e-03,  2.31317915e-02,\n",
       "       -3.54249147e-04, -7.11231530e-02, -5.96878007e-02, -5.54633066e-02,\n",
       "        5.56221940e-02, -1.30626876e-02, -3.61372605e-02,  3.70618515e-02,\n",
       "        2.22166744e-03, -6.46472052e-02,  8.49302113e-02,  5.51789813e-02,\n",
       "        2.26267688e-02,  1.08027216e-02,  5.81755601e-02, -3.67338434e-02,\n",
       "        4.32512118e-03,  3.97136435e-02, -4.81586643e-02, -4.30390388e-02,\n",
       "        8.91654491e-02,  2.15335749e-02,  1.61640681e-02, -1.13695599e-02,\n",
       "       -2.48992108e-02, -1.93060320e-02,  7.13144429e-04, -7.61300549e-02,\n",
       "        7.05535873e-04, -2.79394374e-03,  2.87220255e-02, -1.07267961e-01,\n",
       "        2.40209084e-02,  2.52172630e-02,  8.31541047e-02,  4.93042134e-02,\n",
       "       -4.65862304e-02,  8.21735058e-03, -6.76511526e-02,  4.32643760e-03,\n",
       "       -4.95704971e-02,  2.01068874e-02, -4.73854765e-02,  4.63152416e-02,\n",
       "        2.10734420e-02,  2.06837691e-02, -6.20998740e-02,  2.73506492e-02,\n",
       "        1.20313000e-02, -5.65624563e-03,  5.58706224e-02,  3.88068892e-02,\n",
       "       -1.72147192e-02, -8.65979791e-02, -4.79585975e-02, -3.99901047e-02,\n",
       "        5.63694239e-02,  7.42409611e-03,  7.63115427e-03, -2.44431589e-02,\n",
       "       -1.36953637e-01, -6.02578595e-02,  5.68667501e-02, -7.82264248e-02,\n",
       "       -1.04917595e-02,  6.03944343e-03,  3.33752856e-02, -1.45565206e-02,\n",
       "        7.96595588e-02, -2.39041299e-02, -8.19319338e-02,  4.01981287e-02,\n",
       "        6.82569714e-03, -3.68535286e-03, -4.12449837e-02, -2.38769595e-02,\n",
       "        9.59254801e-02,  3.29386368e-02, -6.35862723e-02, -2.25207526e-02,\n",
       "        4.65457328e-02, -2.87959408e-02, -1.91543009e-02, -5.98254129e-02,\n",
       "        5.14846332e-02,  4.29321006e-02,  1.68866701e-02,  2.06657853e-02,\n",
       "       -8.81084725e-02,  1.39543880e-02, -2.76021753e-02,  4.72101346e-02,\n",
       "        6.00903258e-02,  4.61964123e-02,  5.99851459e-02, -4.39711399e-02,\n",
       "        2.04957034e-02, -4.23200615e-02,  1.92181692e-02, -5.05641981e-33,\n",
       "       -4.38571982e-02, -1.49445549e-01,  1.42569216e-02, -5.39034083e-02,\n",
       "        5.11021093e-02,  3.54335620e-03, -2.35214178e-02,  6.12249412e-02,\n",
       "       -3.37794200e-02, -4.37697768e-02,  5.57841407e-03,  3.35345976e-02,\n",
       "       -7.06644207e-02, -4.86969063e-03, -7.91716427e-02,  1.47650670e-02,\n",
       "        1.75147690e-03, -2.67025977e-02,  2.24309340e-02, -2.93509178e-02,\n",
       "       -3.27186137e-02,  9.22696963e-02,  3.13219912e-02,  5.45774400e-02,\n",
       "       -3.64613789e-03, -7.11301491e-02,  2.42386293e-02, -8.36431980e-02,\n",
       "       -1.94490124e-02,  6.69258237e-02,  2.34407932e-03, -5.81086613e-02,\n",
       "       -4.95858155e-02, -3.97896916e-02, -5.41834123e-02, -1.62331790e-01,\n",
       "       -6.83057755e-02, -1.13732651e-01, -7.54948780e-02,  9.66755524e-02,\n",
       "        1.07830368e-01, -4.98480573e-02,  2.12896653e-02,  7.83082750e-03,\n",
       "        1.20079024e-02,  5.10555170e-02,  1.11472793e-02,  5.14429733e-02,\n",
       "       -5.09402156e-02, -6.37520403e-02, -4.63540927e-02,  1.48576805e-02,\n",
       "        3.13781649e-02,  5.79340896e-03,  1.63812693e-02, -4.65570129e-02,\n",
       "        1.99233908e-02, -8.93495686e-04, -1.06337287e-01, -1.84209663e-02,\n",
       "       -8.15499108e-03,  4.84539643e-02,  5.97527586e-02, -3.75878029e-02,\n",
       "        6.72566593e-02,  1.44453216e-02, -7.03199729e-02,  4.76214178e-02,\n",
       "       -2.35914271e-02,  1.22913998e-02,  1.95271615e-02,  4.69163954e-02,\n",
       "       -6.45029219e-03, -1.08371481e-01, -7.21184611e-02, -2.84807403e-02,\n",
       "        7.67807215e-02, -2.36132573e-02, -6.97739422e-02, -8.28639567e-02,\n",
       "       -2.62784921e-02,  8.13153610e-02,  6.01355582e-02, -3.55249457e-02,\n",
       "        1.80026249e-03,  4.12517451e-02,  3.08602396e-02, -1.37925282e-01,\n",
       "       -3.96382883e-02,  2.79342430e-03, -3.31620164e-02, -3.71249132e-02,\n",
       "       -2.36930270e-02, -2.94195265e-02,  5.97201521e-04,  3.38022400e-33,\n",
       "       -4.52104285e-02, -1.21454978e-02,  8.77070799e-02,  4.17136066e-02,\n",
       "        2.41244063e-02, -6.11978956e-02,  6.38392270e-02,  3.95441316e-02,\n",
       "       -1.01737436e-02,  6.40860870e-02, -8.05489719e-02, -1.22738499e-02,\n",
       "        1.75221208e-02, -3.22027244e-02,  1.19832784e-01,  4.00542840e-02,\n",
       "       -1.15988618e-02, -5.71138486e-02,  2.08319426e-02, -7.80186951e-02,\n",
       "       -8.66118446e-02, -3.73095423e-02, -2.82100006e-03, -1.93584654e-02,\n",
       "        1.27566634e-02,  9.85823423e-02, -1.22164227e-01, -2.36942843e-02,\n",
       "        8.28758106e-02, -4.52696644e-02,  2.47298721e-02,  1.66624449e-02,\n",
       "       -2.80225314e-02, -2.82864515e-02,  7.60417897e-03,  2.18002722e-02,\n",
       "       -1.08128078e-02, -6.40086383e-02,  2.58200765e-02,  1.59007218e-02,\n",
       "        7.71203414e-02, -1.35682384e-02,  1.20291440e-02,  3.67132500e-02,\n",
       "        6.87917024e-02,  1.74665768e-02, -2.65180543e-02,  3.71758826e-02,\n",
       "        2.51802076e-02,  1.75939817e-02, -9.33493022e-03,  2.67637726e-02,\n",
       "        3.74240540e-02, -7.89473280e-02,  9.28874239e-02,  5.88733740e-02,\n",
       "        8.68418366e-02,  2.69784443e-02,  8.09529275e-02, -2.55871983e-03,\n",
       "       -2.20000185e-02,  7.65949767e-03, -2.39915326e-02,  1.48094863e-01,\n",
       "       -4.11624163e-02,  2.28909422e-02, -2.83702509e-03, -2.25433018e-02,\n",
       "       -5.38711436e-04, -5.19690663e-02,  7.22924946e-03,  3.20883319e-02,\n",
       "       -7.45337307e-02, -6.31510615e-02,  2.19588969e-02,  4.18236367e-02,\n",
       "        9.09962878e-02,  1.33735975e-02,  8.60184953e-02,  3.93631570e-02,\n",
       "        3.52126779e-03,  2.52754502e-02,  5.50691271e-03,  4.41386588e-02,\n",
       "        6.14709686e-03, -6.63164537e-03, -6.84238039e-03,  7.01528564e-02,\n",
       "        4.42563817e-02,  2.71484926e-02, -1.29470993e-02,  4.67813499e-02,\n",
       "       -6.02583922e-02, -9.13208444e-03,  7.55845681e-02, -1.53584896e-08,\n",
       "       -3.55315325e-03,  3.47466432e-02,  3.93344387e-02, -2.53866743e-02,\n",
       "        8.17901641e-02, -3.44565399e-02, -1.86920892e-02, -7.07681552e-02,\n",
       "       -6.45923764e-02,  4.67594899e-02,  8.04153904e-02,  1.78137440e-02,\n",
       "       -4.65446226e-02,  5.23922481e-02,  9.68680456e-02,  9.01235617e-04,\n",
       "        7.04625025e-02, -7.34828264e-02,  2.18108706e-02,  2.88814474e-02,\n",
       "       -8.06513876e-02, -3.54912202e-03,  2.69271317e-03, -4.87121120e-02,\n",
       "       -7.85891265e-02, -1.04503617e-01, -5.08781038e-02,  1.32969925e-02,\n",
       "        4.56696451e-02,  5.24098910e-02,  6.90322882e-03,  1.56807695e-02,\n",
       "        3.73751647e-03,  2.00063549e-02,  3.75503711e-02,  4.58804471e-03,\n",
       "       -6.42178440e-03, -6.04713410e-02,  9.40657780e-02, -3.74567099e-02,\n",
       "        7.53589869e-02,  2.13474240e-02, -3.94246494e-03, -1.14910481e-02,\n",
       "       -4.52815928e-02,  3.37237194e-02,  4.97347750e-02, -7.94535801e-02,\n",
       "       -5.06274924e-02,  1.12635335e-02, -6.33969158e-02, -1.69334281e-02,\n",
       "        4.66358326e-02,  1.12328865e-01,  5.61045147e-02, -2.13249438e-02,\n",
       "       -7.45305568e-02,  9.84970387e-03, -2.36960854e-02,  4.31105383e-02,\n",
       "        3.08117755e-02,  1.00340664e-01,  5.29931188e-02,  3.23624834e-02],\n",
       "      dtype=float32)"
      ]
     },
     "execution_count": 24,
     "metadata": {},
     "output_type": "execute_result"
    }
   ],
   "source": [
    "embedding = embedding_model.encode(\"My favourite animal is the donkey\")\n",
    "embedding"
   ]
  },
  {
   "cell_type": "code",
   "execution_count": 25,
   "metadata": {},
   "outputs": [
    {
     "data": {
      "application/vnd.jupyter.widget-view+json": {
       "model_id": "172712a0c810469581a7b176e5dedf29",
       "version_major": 2,
       "version_minor": 0
      },
      "text/plain": [
       "  0%|          | 0/249 [00:00<?, ?it/s]"
      ]
     },
     "metadata": {},
     "output_type": "display_data"
    },
    {
     "name": "stdout",
     "output_type": "stream",
     "text": [
      "CPU times: total: 922 ms\n",
      "Wall time: 1.28 s\n"
     ]
    }
   ],
   "source": [
    "%%time \n",
    "\n",
    "embedding_model.to(\"cuda\")\n",
    "\n",
    "for item in tqdm(pages_and_chunks_over_min_token_length):\n",
    "    item[\"embedding\"] = embedding_model.encode(item[\"sentence_chunk\"])\n",
    "\n"
   ]
  },
  {
   "cell_type": "code",
   "execution_count": 26,
   "metadata": {},
   "outputs": [
    {
     "name": "stdout",
     "output_type": "stream",
     "text": [
      "CPU times: total: 0 ns\n",
      "Wall time: 0 ns\n"
     ]
    },
    {
     "data": {
      "text/plain": [
       "'Deflation Hollows Deflation is the removal of loose particles from the ground by the action of wind. When deflation causes a shallow depression by persistent movements of wind, they are called as deflation hollows. Mushroom Tables Ventifacts are rocks that have been abraded, pitted, etched, grooved, or polished by wind-driven sand or ice crystals. These geomorphic features are most typically found in arid environments where there is little vegetation to interfere with aeolian particle transport, where there are frequently strong winds, and where there is a steady but not overwhelming supply of sand. Mushroom Tables / Mushroom rocks are Ventifacts in the shape of a mushroom. In deserts, a greater amount of sand and rock particles are transported close to the ground by the winds which cause more bottom erosion in overlying rocks than the top. This'"
      ]
     },
     "execution_count": 26,
     "metadata": {},
     "output_type": "execute_result"
    }
   ],
   "source": [
    "%%time \n",
    "\n",
    "text_chunks = [item[\"sentence_chunk\"] for item in pages_and_chunks_over_min_token_length]\n",
    "text_chunks[100]"
   ]
  },
  {
   "cell_type": "code",
   "execution_count": 27,
   "metadata": {},
   "outputs": [
    {
     "data": {
      "text/plain": [
       "249"
      ]
     },
     "execution_count": 27,
     "metadata": {},
     "output_type": "execute_result"
    }
   ],
   "source": [
    "len(text_chunks)"
   ]
  },
  {
   "cell_type": "code",
   "execution_count": 28,
   "metadata": {},
   "outputs": [
    {
     "name": "stdout",
     "output_type": "stream",
     "text": [
      "CPU times: total: 250 ms\n",
      "Wall time: 310 ms\n"
     ]
    },
    {
     "data": {
      "text/plain": [
       "tensor([[ 0.0561,  0.0737,  0.0419,  ..., -0.0218, -0.1246,  0.0038],\n",
       "        [-0.0754,  0.0494, -0.0252,  ...,  0.0150, -0.0143,  0.0286],\n",
       "        [ 0.0264, -0.0255,  0.0595,  ..., -0.0240, -0.0227, -0.0092],\n",
       "        ...,\n",
       "        [-0.0200,  0.0131,  0.1068,  ..., -0.0089,  0.0557, -0.0017],\n",
       "        [-0.0557,  0.0520,  0.1518,  ..., -0.0607, -0.0696, -0.0524],\n",
       "        [-0.0396,  0.0280,  0.1182,  ..., -0.0675, -0.1298, -0.0064]],\n",
       "       device='cuda:0')"
      ]
     },
     "execution_count": 28,
     "metadata": {},
     "output_type": "execute_result"
    }
   ],
   "source": [
    "%%time \n",
    "\n",
    "text_chunk_embeddings = embedding_model.encode(text_chunks, batch_size=32, convert_to_tensor=True)\n",
    "text_chunk_embeddings"
   ]
  },
  {
   "cell_type": "code",
   "execution_count": 29,
   "metadata": {},
   "outputs": [],
   "source": [
    "## Saving embeddings to file\n",
    "text_chunks_and_embeddings_df = pd.DataFrame(pages_and_chunks_over_min_token_length)\n",
    "embeddings_df_save_path = \" text_chunks_and_embeddings_df.csv\"\n",
    "text_chunks_and_embeddings_df.to_csv(embeddings_df_save_path, index=False)"
   ]
  },
  {
   "cell_type": "code",
   "execution_count": 30,
   "metadata": {},
   "outputs": [
    {
     "data": {
      "text/html": [
       "<div>\n",
       "<style scoped>\n",
       "    .dataframe tbody tr th:only-of-type {\n",
       "        vertical-align: middle;\n",
       "    }\n",
       "\n",
       "    .dataframe tbody tr th {\n",
       "        vertical-align: top;\n",
       "    }\n",
       "\n",
       "    .dataframe thead th {\n",
       "        text-align: right;\n",
       "    }\n",
       "</style>\n",
       "<table border=\"1\" class=\"dataframe\">\n",
       "  <thead>\n",
       "    <tr style=\"text-align: right;\">\n",
       "      <th></th>\n",
       "      <th>page_number</th>\n",
       "      <th>sentence_chunk</th>\n",
       "      <th>chunk_char_count</th>\n",
       "      <th>chunk_word_count</th>\n",
       "      <th>chunk_token_count</th>\n",
       "      <th>embedding</th>\n",
       "    </tr>\n",
       "  </thead>\n",
       "  <tbody>\n",
       "    <tr>\n",
       "      <th>0</th>\n",
       "      <td>0</td>\n",
       "      <td>1   IIPA2022 22 World Geography Short Answers ...</td>\n",
       "      <td>75</td>\n",
       "      <td>15</td>\n",
       "      <td>18.75</td>\n",
       "      <td>[ 5.60791939e-02  7.36621842e-02  4.18552086e-...</td>\n",
       "    </tr>\n",
       "    <tr>\n",
       "      <th>1</th>\n",
       "      <td>1</td>\n",
       "      <td>2 Contents 1. Origin of Solar System and Sun ....</td>\n",
       "      <td>3711</td>\n",
       "      <td>128</td>\n",
       "      <td>927.75</td>\n",
       "      <td>[-7.53976032e-02  4.93803062e-02 -2.51827892e-...</td>\n",
       "    </tr>\n",
       "    <tr>\n",
       "      <th>2</th>\n",
       "      <td>1</td>\n",
       "      <td>Temperature, Pressure and Density of the Earth...</td>\n",
       "      <td>879</td>\n",
       "      <td>30</td>\n",
       "      <td>219.75</td>\n",
       "      <td>[ 2.63881050e-02 -2.54815072e-02  5.94870374e-...</td>\n",
       "    </tr>\n",
       "    <tr>\n",
       "      <th>3</th>\n",
       "      <td>2</td>\n",
       "      <td>3 Types of Volcanoes ............................</td>\n",
       "      <td>4446</td>\n",
       "      <td>206</td>\n",
       "      <td>1111.50</td>\n",
       "      <td>[ 7.03721046e-02 -3.47200967e-02  5.47501445e-...</td>\n",
       "    </tr>\n",
       "    <tr>\n",
       "      <th>4</th>\n",
       "      <td>3</td>\n",
       "      <td>4 Continental Slope .............................</td>\n",
       "      <td>3865</td>\n",
       "      <td>167</td>\n",
       "      <td>966.25</td>\n",
       "      <td>[ 1.10680657e-02  4.12390829e-04 -1.85156371e-...</td>\n",
       "    </tr>\n",
       "  </tbody>\n",
       "</table>\n",
       "</div>"
      ],
      "text/plain": [
       "   page_number                                     sentence_chunk  \\\n",
       "0            0  1   IIPA2022 22 World Geography Short Answers ...   \n",
       "1            1  2 Contents 1. Origin of Solar System and Sun ....   \n",
       "2            1  Temperature, Pressure and Density of the Earth...   \n",
       "3            2  3 Types of Volcanoes ............................   \n",
       "4            3  4 Continental Slope .............................   \n",
       "\n",
       "   chunk_char_count  chunk_word_count  chunk_token_count  \\\n",
       "0                75                15              18.75   \n",
       "1              3711               128             927.75   \n",
       "2               879                30             219.75   \n",
       "3              4446               206            1111.50   \n",
       "4              3865               167             966.25   \n",
       "\n",
       "                                           embedding  \n",
       "0  [ 5.60791939e-02  7.36621842e-02  4.18552086e-...  \n",
       "1  [-7.53976032e-02  4.93803062e-02 -2.51827892e-...  \n",
       "2  [ 2.63881050e-02 -2.54815072e-02  5.94870374e-...  \n",
       "3  [ 7.03721046e-02 -3.47200967e-02  5.47501445e-...  \n",
       "4  [ 1.10680657e-02  4.12390829e-04 -1.85156371e-...  "
      ]
     },
     "execution_count": 30,
     "metadata": {},
     "output_type": "execute_result"
    }
   ],
   "source": [
    "## viewing the saved file\n",
    "\n",
    "text_chunks_and_embeddings_df_load = pd.read_csv(embeddings_df_save_path)\n",
    "text_chunks_and_embeddings_df_load.head()\n"
   ]
  },
  {
   "cell_type": "markdown",
   "metadata": {},
   "source": [
    "RAG : Search and Answer :: \n",
    "\n",
    "Retrieve relevant passages based on Query and use those passages to augment an input to an LLM so it can generate an output based on those relevant passages."
   ]
  },
  {
   "cell_type": "code",
   "execution_count": 31,
   "metadata": {},
   "outputs": [
    {
     "data": {
      "text/html": [
       "<div>\n",
       "<style scoped>\n",
       "    .dataframe tbody tr th:only-of-type {\n",
       "        vertical-align: middle;\n",
       "    }\n",
       "\n",
       "    .dataframe tbody tr th {\n",
       "        vertical-align: top;\n",
       "    }\n",
       "\n",
       "    .dataframe thead th {\n",
       "        text-align: right;\n",
       "    }\n",
       "</style>\n",
       "<table border=\"1\" class=\"dataframe\">\n",
       "  <thead>\n",
       "    <tr style=\"text-align: right;\">\n",
       "      <th></th>\n",
       "      <th>page_number</th>\n",
       "      <th>sentence_chunk</th>\n",
       "      <th>chunk_char_count</th>\n",
       "      <th>chunk_word_count</th>\n",
       "      <th>chunk_token_count</th>\n",
       "      <th>embedding</th>\n",
       "    </tr>\n",
       "  </thead>\n",
       "  <tbody>\n",
       "    <tr>\n",
       "      <th>0</th>\n",
       "      <td>0</td>\n",
       "      <td>1   IIPA2022 22 World Geography Short Answers ...</td>\n",
       "      <td>75</td>\n",
       "      <td>15</td>\n",
       "      <td>18.75</td>\n",
       "      <td>[0.0560791939, 0.0736621842, 0.0418552086, 0.0...</td>\n",
       "    </tr>\n",
       "    <tr>\n",
       "      <th>1</th>\n",
       "      <td>1</td>\n",
       "      <td>2 Contents 1. Origin of Solar System and Sun ....</td>\n",
       "      <td>3711</td>\n",
       "      <td>128</td>\n",
       "      <td>927.75</td>\n",
       "      <td>[-0.0753976032, 0.0493803062, -0.0251827892, 0...</td>\n",
       "    </tr>\n",
       "    <tr>\n",
       "      <th>2</th>\n",
       "      <td>1</td>\n",
       "      <td>Temperature, Pressure and Density of the Earth...</td>\n",
       "      <td>879</td>\n",
       "      <td>30</td>\n",
       "      <td>219.75</td>\n",
       "      <td>[0.026388105, -0.0254815072, 0.0594870374, 0.0...</td>\n",
       "    </tr>\n",
       "    <tr>\n",
       "      <th>3</th>\n",
       "      <td>2</td>\n",
       "      <td>3 Types of Volcanoes ............................</td>\n",
       "      <td>4446</td>\n",
       "      <td>206</td>\n",
       "      <td>1111.50</td>\n",
       "      <td>[0.0703721046, -0.0347200967, 0.0547501445, -0...</td>\n",
       "    </tr>\n",
       "    <tr>\n",
       "      <th>4</th>\n",
       "      <td>3</td>\n",
       "      <td>4 Continental Slope .............................</td>\n",
       "      <td>3865</td>\n",
       "      <td>167</td>\n",
       "      <td>966.25</td>\n",
       "      <td>[0.0110680657, 0.000412390829, -0.0185156371, ...</td>\n",
       "    </tr>\n",
       "  </tbody>\n",
       "</table>\n",
       "</div>"
      ],
      "text/plain": [
       "   page_number                                     sentence_chunk  \\\n",
       "0            0  1   IIPA2022 22 World Geography Short Answers ...   \n",
       "1            1  2 Contents 1. Origin of Solar System and Sun ....   \n",
       "2            1  Temperature, Pressure and Density of the Earth...   \n",
       "3            2  3 Types of Volcanoes ............................   \n",
       "4            3  4 Continental Slope .............................   \n",
       "\n",
       "   chunk_char_count  chunk_word_count  chunk_token_count  \\\n",
       "0                75                15              18.75   \n",
       "1              3711               128             927.75   \n",
       "2               879                30             219.75   \n",
       "3              4446               206            1111.50   \n",
       "4              3865               167             966.25   \n",
       "\n",
       "                                           embedding  \n",
       "0  [0.0560791939, 0.0736621842, 0.0418552086, 0.0...  \n",
       "1  [-0.0753976032, 0.0493803062, -0.0251827892, 0...  \n",
       "2  [0.026388105, -0.0254815072, 0.0594870374, 0.0...  \n",
       "3  [0.0703721046, -0.0347200967, 0.0547501445, -0...  \n",
       "4  [0.0110680657, 0.000412390829, -0.0185156371, ...  "
      ]
     },
     "execution_count": 31,
     "metadata": {},
     "output_type": "execute_result"
    }
   ],
   "source": [
    " #Simimlarity Search \n",
    "import torch \n",
    "import numpy as np \n",
    "device = \"cuda\" if torch.cuda.is_available() else \"cpu\"\n",
    "import pandas as pd\n",
    "\n",
    "text_chunks_and_embeddings_df_load[\"embedding\"] = text_chunks_and_embeddings_df_load[\"embedding\"].apply(lambda x: np.array([float(i) for i in str(x).strip(\"[]\").split()]))\n",
    "\n",
    "embeddings = torch.tensor(np.stack(text_chunks_and_embeddings_df_load[\"embedding\"].tolist(), axis=0), dtype=torch.float32).to(device)\n",
    "\n",
    "pages_and_chunks =  text_chunks_and_embeddings_df_load.to_dict(orient=\"records\")\n",
    "\n",
    "text_chunks_and_embeddings_df_load.head()"
   ]
  },
  {
   "cell_type": "code",
   "execution_count": 32,
   "metadata": {},
   "outputs": [
    {
     "data": {
      "text/plain": [
       "torch.Size([249, 384])"
      ]
     },
     "execution_count": 32,
     "metadata": {},
     "output_type": "execute_result"
    }
   ],
   "source": [
    "embeddings.shape\n",
    "\n",
    "#259 embeddings all of size 384"
   ]
  },
  {
   "cell_type": "code",
   "execution_count": 33,
   "metadata": {},
   "outputs": [
    {
     "name": "stderr",
     "output_type": "stream",
     "text": [
      "C:\\Users\\aryan\\AppData\\Local\\Packages\\PythonSoftwareFoundation.Python.3.11_qbz5n2kfra8p0\\LocalCache\\local-packages\\Python311\\site-packages\\huggingface_hub\\file_download.py:1132: FutureWarning: `resume_download` is deprecated and will be removed in version 1.0.0. Downloads always resume when possible. If you want to force a new download, use `force_download=True`.\n",
      "  warnings.warn(\n"
     ]
    }
   ],
   "source": [
    "from sentence_transformers import util, SentenceTransformer\n",
    "embedding_model = SentenceTransformer(model_name_or_path=\"all-MiniLM-L6-v2\", device=device)\n"
   ]
  },
  {
   "cell_type": "markdown",
   "metadata": {},
   "source": [
    "SEMANTIC SEARCH PIPELINE\n",
    "\n",
    "1. Defining a Query String\n",
    "2. Turn the query into an embedding. \n",
    "3. Perform a dot product or cosine simmilarity function between the text embeddings and the query embedding. \n",
    "4. Sort the results from 3 in descending order."
   ]
  },
  {
   "cell_type": "code",
   "execution_count": 34,
   "metadata": {},
   "outputs": [
    {
     "name": "stdout",
     "output_type": "stream",
     "text": [
      "query: magma\n"
     ]
    },
    {
     "data": {
      "text/plain": [
       "torch.return_types.topk(\n",
       "values=tensor([0.4164, 0.3998, 0.3970, 0.3786, 0.3774], device='cuda:0'),\n",
       "indices=tensor([ 66,  55,  64, 176,   3], device='cuda:0'))"
      ]
     },
     "execution_count": 34,
     "metadata": {},
     "output_type": "execute_result"
    }
   ],
   "source": [
    "# Defining the Query String \n",
    "\n",
    "query = \"magma\"\n",
    "print(f\"query: {query}\")\n",
    "\n",
    "# turning the query into an embedding using the same model\n",
    "\n",
    "query_embedding = embedding_model.encode(query, convert_to_tensor=True).to(\"cuda\")\n",
    "\n",
    "# getting simmilarity scores using the dot product \n",
    "\n",
    "\n",
    "dot_scores = util.dot_score(a=query_embedding, b=embeddings)[0]\n",
    "results_dot_product = torch.topk(dot_scores, k=5)\n",
    "results_dot_product"
   ]
  },
  {
   "cell_type": "code",
   "execution_count": 35,
   "metadata": {},
   "outputs": [
    {
     "data": {
      "text/plain": [
       "{'page_number': 31,\n",
       " 'sentence_chunk': 'They are characterized by the eruption of a cooler and more viscous lavas than basalt. These volcanoes often result in explosive eruptions. Along with lava, large quantities of pyroclastic materials and ashes find their way to the ground. This material accumulates in the vicinity of the vent openings and leading to the formation of layers, and this makes the mount appears as composite volcanoes. Caldera: These are the most explosive of the earth’s volcanoes. They are usually so explosive that when they erupt they tend to collapse on themselves rather than building any tall structure. The collapsed depressions are called calderas. Their explosiveness indicates that its magma chamber is large and in close vicinity. A caldera differs from a crater in such a way that a caldera is a huge depression caused by a collapse',\n",
       " 'chunk_char_count': 825,\n",
       " 'chunk_word_count': 135,\n",
       " 'chunk_token_count': 206.25,\n",
       " 'embedding': array([ 1.15415128e-02,  5.53071732e-04,  4.58008386e-02,  2.34390534e-02,\n",
       "         8.58042296e-03, -4.95388843e-02, -5.52833304e-02,  1.05462715e-01,\n",
       "         6.99015930e-02, -3.77584584e-02, -2.59698667e-02, -3.62556875e-02,\n",
       "         3.73413824e-02,  1.42471108e-03,  2.52975374e-02, -7.05171898e-02,\n",
       "        -4.35879342e-02, -3.18011604e-02,  3.40007469e-02,  3.20784077e-02,\n",
       "         4.76203002e-02,  4.92640398e-02, -1.17460310e-01,  6.30685762e-02,\n",
       "         3.78701016e-02,  1.14580445e-01, -1.90294962e-02,  2.11342494e-03,\n",
       "         3.86633165e-03,  1.14158746e-02, -1.84443928e-02, -1.03423893e-01,\n",
       "        -4.43093712e-03,  1.09865181e-02,  2.99497582e-02,  6.01669624e-02,\n",
       "        -7.55644664e-02,  6.57924190e-02,  6.65215449e-03,  1.28608933e-02,\n",
       "        -3.58811840e-02, -2.33157910e-02,  1.93089116e-02, -5.49373627e-02,\n",
       "         8.81304592e-03,  6.32144809e-02,  7.16186967e-03, -5.29050641e-02,\n",
       "        -4.91483323e-02, -1.04070827e-02,  1.85211208e-02, -3.05625908e-02,\n",
       "        -6.15150742e-02,  5.91182755e-03, -2.06912383e-02, -9.33913365e-02,\n",
       "         1.25394892e-02, -1.36222420e-02,  9.48464796e-02,  2.06400026e-02,\n",
       "         3.95459533e-02, -6.95564691e-03,  2.60273926e-02,  1.08644776e-02,\n",
       "         6.56885207e-02,  2.09875479e-02,  1.00886807e-01,  2.51954179e-02,\n",
       "        -2.10699514e-02, -1.42238056e-02,  5.40549494e-02,  7.86355734e-02,\n",
       "         2.68750563e-02,  5.32462168e-03, -3.55498642e-02,  6.19557835e-02,\n",
       "        -2.47648545e-02, -1.60614047e-02, -9.64932069e-02,  1.08662456e-01,\n",
       "         3.51664275e-02,  1.30233884e-01, -5.44270463e-02, -1.01407699e-01,\n",
       "        -8.90605897e-03,  3.25220339e-02, -1.71134248e-02, -1.35746300e-02,\n",
       "        -5.68748713e-02,  3.19815017e-02, -2.61757988e-02,  9.10718068e-02,\n",
       "        -1.18872644e-02,  5.21309376e-02,  3.17430161e-02,  2.72013862e-02,\n",
       "         4.02014218e-02, -1.97535511e-02,  6.83135912e-02, -4.10070010e-02,\n",
       "        -3.76047753e-02,  1.07195377e-02, -4.75969091e-02,  7.01602735e-03,\n",
       "        -1.31528135e-02, -5.03930748e-02, -3.31242345e-02,  2.00435128e-02,\n",
       "         2.64100805e-02,  7.99669400e-02,  9.37352702e-03, -6.33839145e-02,\n",
       "        -2.08871346e-02, -1.21764362e-01, -8.15233402e-03, -3.87859382e-02,\n",
       "        -7.80844390e-02,  6.23434298e-02, -1.00139759e-01,  4.26454004e-04,\n",
       "         1.73352845e-02, -4.63903472e-02,  3.40890810e-02, -7.82712922e-03,\n",
       "         2.96250470e-02, -4.72067222e-02, -8.38141143e-02, -2.07831662e-33,\n",
       "         1.86070651e-02,  4.71238904e-02, -7.49664456e-02,  1.06135540e-01,\n",
       "        -3.02509917e-03, -2.39244420e-02, -3.34855206e-02,  4.29112837e-03,\n",
       "         5.34087420e-03,  6.09406792e-02, -3.55769061e-02,  6.64760619e-02,\n",
       "         5.05524687e-03,  6.91360682e-02, -6.23681545e-02, -4.87657785e-02,\n",
       "         6.51090369e-02,  2.99674664e-02, -1.29369631e-01, -3.56948487e-02,\n",
       "        -2.73316400e-03, -1.55765703e-02,  3.39248627e-02,  3.38990502e-02,\n",
       "        -1.48410648e-02,  5.73580712e-03, -1.53847085e-02, -1.50516769e-02,\n",
       "        -1.56869814e-01, -4.53577377e-02,  3.83818597e-02, -6.91507310e-02,\n",
       "        -2.31943745e-02,  2.15783659e-02,  7.64466152e-02, -3.19446027e-02,\n",
       "        -2.66609490e-02,  2.31682882e-02, -3.55494097e-02, -1.14371721e-02,\n",
       "        -7.28012100e-02, -6.81703389e-02, -3.21845151e-02,  1.18317612e-01,\n",
       "         6.03900738e-02, -3.20814624e-02, -2.57351585e-02,  1.85221210e-02,\n",
       "        -5.36511652e-02, -1.00765713e-01,  5.77508239e-03, -7.52537930e-03,\n",
       "         7.02889345e-04,  3.46987545e-02,  3.70886363e-02,  2.78507955e-02,\n",
       "         4.64473432e-03, -1.04264416e-01,  1.04088848e-02,  2.67211329e-02,\n",
       "         5.63715249e-02,  3.07920352e-02, -5.08593731e-02, -3.90207544e-02,\n",
       "        -5.07901497e-02, -2.92625986e-02, -3.35312635e-02,  1.28124533e-02,\n",
       "         8.41878280e-02,  3.79231162e-02,  3.61397788e-02,  5.86824566e-02,\n",
       "        -1.86145622e-02,  2.08497560e-03,  3.18863802e-03, -4.70615849e-02,\n",
       "         9.68611054e-03, -3.52920964e-03, -2.01813672e-02,  1.31525561e-01,\n",
       "        -5.87317646e-02, -6.07030168e-02,  3.85515299e-03, -2.59580184e-02,\n",
       "        -7.42463395e-02,  3.43075804e-02,  4.49771918e-02, -2.90787574e-02,\n",
       "        -4.94827107e-02,  3.63800563e-02, -7.29981288e-02, -5.59763387e-02,\n",
       "         7.88023621e-02, -5.47682084e-02,  5.99534810e-02, -6.67270654e-34,\n",
       "         8.10054317e-02,  3.41887772e-03, -3.71125564e-02, -4.69904989e-02,\n",
       "        -1.40955774e-02,  2.05405075e-02, -9.72736347e-03,  6.25483021e-02,\n",
       "        -1.38557315e-01, -3.97175625e-02, -5.78743666e-02,  5.32294996e-02,\n",
       "         1.25444755e-02, -1.51989115e-02, -7.45327678e-03, -2.03706659e-02,\n",
       "         6.86986968e-02, -5.48654795e-02,  5.19325919e-02, -7.13040819e-04,\n",
       "        -1.75439287e-02,  3.45560871e-02, -6.36081472e-02, -8.76891240e-02,\n",
       "         5.49395978e-02, -1.53141888e-02, -1.01715229e-01, -2.92454138e-02,\n",
       "         3.05644013e-02,  2.98251165e-03, -5.51714860e-02,  5.68061545e-02,\n",
       "         4.66972403e-03,  1.01671377e-02, -6.91791028e-02,  9.52171534e-02,\n",
       "        -1.90118309e-02, -9.56970081e-02,  3.07130478e-02, -8.82584602e-02,\n",
       "         1.23177757e-02,  7.11712986e-02,  5.78510761e-03,  3.35705206e-02,\n",
       "        -4.70822044e-02,  2.47440804e-02,  1.39016792e-01,  2.12952551e-02,\n",
       "         3.25710848e-02,  4.48357202e-02,  3.48411463e-02,  2.55764835e-02,\n",
       "        -7.80473351e-02,  8.69353339e-02,  7.07903802e-02, -5.85430302e-02,\n",
       "        -6.69496283e-02, -5.57633266e-02, -6.34311214e-02, -7.38706067e-02,\n",
       "         4.47501540e-02, -5.37950732e-02,  2.74495017e-02,  1.00153238e-01,\n",
       "        -3.37059796e-02, -3.68980467e-02, -4.46697250e-02, -4.41005155e-02,\n",
       "        -1.64039768e-02,  7.57420212e-02,  1.32270409e-02,  1.36280693e-02,\n",
       "        -1.06391245e-02, -8.77710730e-02, -3.09629831e-03, -5.11274002e-02,\n",
       "        -3.99906974e-04,  2.96266321e-02,  3.56428232e-03, -6.26678616e-02,\n",
       "         1.18269352e-02,  8.77421058e-04,  4.24128724e-03,  8.36919062e-03,\n",
       "         8.22766870e-03, -1.01443660e-02,  5.45586385e-02, -1.43741919e-02,\n",
       "        -4.50717323e-02,  4.42924201e-02, -1.04838684e-02,  1.71687268e-03,\n",
       "         1.02154240e-01,  5.61055876e-02,  6.95899781e-03, -4.27861337e-08,\n",
       "         8.33983254e-03, -1.03043823e-03, -7.83225149e-03, -5.19271977e-02,\n",
       "         7.40593970e-02, -8.18205532e-03,  1.33783463e-02,  6.23495877e-02,\n",
       "         3.83343622e-02, -9.75572914e-02, -3.45737934e-02, -6.80931807e-02,\n",
       "        -3.09432633e-02, -3.37129645e-02,  8.49313438e-02,  3.80670689e-02,\n",
       "        -6.51195413e-03,  8.56126696e-02, -1.83826173e-03, -2.33512488e-03,\n",
       "        -1.81013960e-02, -2.38102246e-02, -4.04821858e-02, -2.60691233e-02,\n",
       "         5.37126288e-02,  5.09298258e-02,  6.08117655e-02, -6.46495819e-02,\n",
       "        -4.69038486e-02, -1.46680244e-03,  1.92803703e-02, -5.92108630e-02,\n",
       "        -1.56362876e-02, -9.56135467e-02,  4.10118550e-02,  1.24436907e-01,\n",
       "        -1.36829354e-02, -1.52924173e-02, -1.15888603e-02, -1.04031824e-01,\n",
       "        -4.03286256e-02, -5.78792840e-02,  2.93888953e-02,  5.57177663e-02,\n",
       "        -5.47580160e-02, -1.00357467e-02, -2.35999469e-02,  1.22683914e-02,\n",
       "         4.59863581e-02,  4.66232300e-02,  5.09020220e-03, -1.64341014e-02,\n",
       "         7.37113208e-02, -3.62422951e-02,  2.00984608e-02,  2.21790839e-02,\n",
       "         1.01825513e-01,  4.75629559e-03,  3.57794873e-02,  3.90291885e-02,\n",
       "         3.33283171e-02,  3.66365747e-03,  8.94296765e-02, -1.41052930e-02])}"
      ]
     },
     "execution_count": 35,
     "metadata": {},
     "output_type": "execute_result"
    }
   ],
   "source": [
    "#checking for working \n",
    "pages_and_chunks[66]"
   ]
  },
  {
   "cell_type": "code",
   "execution_count": null,
   "metadata": {},
   "outputs": [],
   "source": [
    "## for larger Embeddings \n",
    "\n",
    "larger_embeddings = torch.randln(100*embeddings.shape[0], 384).to(device)\n",
    "print(f\"Larger Embeddings: {larger_embeddings.shape}\")\n"
   ]
  },
  {
   "cell_type": "code",
   "execution_count": 54,
   "metadata": {},
   "outputs": [],
   "source": [
    "import textwrap\n",
    "\n",
    "def print_wrapped(text, wrap_length=80):\n",
    "        wrapped_text = textwrap.fill(text, wrap_length)\n",
    "        print(wrapped_text)"
   ]
  },
  {
   "cell_type": "code",
   "execution_count": 55,
   "metadata": {},
   "outputs": [
    {
     "name": "stdout",
     "output_type": "stream",
     "text": [
      "Query : 'magma'\n",
      "\n",
      "Results:\n",
      "Score: 0.4164\n",
      "Text:\n",
      "They are characterized by the eruption of a cooler and more viscous lavas than\n",
      "basalt. These volcanoes often result in explosive eruptions. Along with lava,\n",
      "large quantities of pyroclastic materials and ashes find their way to the\n",
      "ground. This material accumulates in the vicinity of the vent openings and\n",
      "leading to the formation of layers, and this makes the mount appears as\n",
      "composite volcanoes. Caldera: These are the most explosive of the earth’s\n",
      "volcanoes. They are usually so explosive that when they erupt they tend to\n",
      "collapse on themselves rather than building any tall structure. The collapsed\n",
      "depressions are called calderas. Their explosiveness indicates that its magma\n",
      "chamber is large and in close vicinity. A caldera differs from a crater in such\n",
      "a way that a caldera is a huge depression caused by a collapse\n",
      "Page Number: 31\n",
      "\n",
      "\n",
      "Score: 0.3998\n",
      "Text:\n",
      "27 asthenosphere is the main source of magma and it is the layer over which the\n",
      "lithospheric plates/ continental plates move (plate tectonics). The\n",
      "discontinuity between the upper mantle and the lower mantle is known as Repetti\n",
      "Discontinuity. The portion of the mantle which is just below the lithosphere and\n",
      "asthenosphere, but above the core is called as Mesosphere. Core It is the\n",
      "innermost layer surrounding the earth’s centre. The core is separated from the\n",
      "mantle by Guttenberg’s Discontinuity. It is composed mainly of iron (Fe) and\n",
      "nickel (Ni) and hence it is also called as NIFE. The core constitutes nearly 15%\n",
      "of earth’s volume and 32.5% of earth’s mass. The core is the densest layer of\n",
      "the earth with its density ranges between 9.5-14.5g/cm3. The Core consists of\n",
      "two sub-layers: the inner core and the outer core. The inner core is in solid\n",
      "state and the outer core is in the liquid state (or semi-liquid).\n",
      "Page Number: 26\n",
      "\n",
      "\n",
      "Score: 0.3970\n",
      "Text:\n",
      " The process by which solid, liquid and gaseous material escape from the\n",
      "earth’s interior to the surface of the earth is called as Volcanism. Types of\n",
      "Volcanoes Volcanoes are classified on the basis of nature of eruption and the\n",
      "form developed at the surface. Shield Volcanoes Shied Volcanoes are not very\n",
      "steep but are far and wider. They extend to great height as well as distance.\n",
      "They are the largest of all volcanoes in the world as the lava flows to a far\n",
      "distance. The Hawaiian volcanoes are the most famous examples. Shield volcanoes\n",
      "have low slopes and consist almost entirely of frozen lavas.\n",
      "Page Number: 30\n",
      "\n",
      "\n",
      "Score: 0.3786\n",
      "Text:\n",
      "90 Mineral dissolved in sea-water 1. Salt 2. Bromine 3. Magnesium 4. Gold 5.\n",
      "Zinc 6. Uranium 7. Thorium Continental Shelf and Slope Deposits  Sulfur –\n",
      "associated with marine volcanism. Ex. Gulf of Mexico – a rich source of sulfur\n",
      "Magnetite reserves are found along the circum pacific volcanic belt.\n",
      "Page Number: 89\n",
      "\n",
      "\n",
      "Score: 0.3774\n",
      "Text:\n",
      "3 Types of Volcanoes ...........................................................\n",
      "................................................................. 31\n",
      "Distribution of Earthquakes ....................................................\n",
      "........................................................... 33 Measurement of Ea\n",
      "rthquakes.......................................................................\n",
      "..................................... 34 Richter scale: ........................\n",
      "................................................................................\n",
      "......................... 35 9. Concepts of geomorphic cycles and Landscape\n",
      "development ............................................................ 36 The\n",
      "Geomorphic Cycle ...............................................................\n",
      "........................................................ 36 Stages of the\n",
      "Geomorphic Cycle ...............................................................\n",
      "...................................... 37 The Second Geomorphic Cycle ..........\n",
      "................................................................................\n",
      "............. 38 Drawbacks of the Common Theories of the Geomorphic Cycle\n",
      "...................................................... 39 10. Erosion and\n",
      "Deposition: Action of Running Water and Groundwater\n",
      "............................................... 40 Courses of a river ..........\n",
      "................................................................................\n",
      "..................................... 40 Erosion Types .........................\n",
      "................................................................................\n",
      "........................... 41 Transportation types ............................\n",
      "................................................................................\n",
      "............. 41 Erosional Landforms due to Running Water ......................\n",
      "............................................................. 42 Depositional\n",
      "Landforms due to Running Water\n",
      "..............................................................................\n",
      "43 What does Groundwater do?....................................................\n",
      ".........................................................44 11. Erosion and\n",
      "Deposition: Action of Glaciers .................................................\n",
      "...................................... 47 Erosional landforms due to Glaciers ..\n",
      "................................................................................\n",
      "................. 47 Depositional Landforms due to Glaciers ....................\n",
      "......................................................................... 48 12.\n",
      "Erosion and Deposition: Action of Wind and Waves\n",
      "......................................................................... 50\n",
      "Erosional Landforms due to Wind ................................................\n",
      "...................................................... 50 Depositional Landforms\n",
      "of Wind ........................................................................\n",
      "................................ 51 13. Action of Waves:........................\n",
      "................................................................................\n",
      "...................... 52 Erosional Landforms due to Waves .....................\n",
      "...............................................................................\n",
      "52 Depositional Landforms due to Waves .........................................\n",
      "...................................................... 53 14. Major Landforms –\n",
      "Mountains, Plateaus, and Plains\n",
      "........................................................................ 54\n",
      "External Process ...............................................................\n",
      "................................................................. 54 Internal\n",
      "Process ........................................................................\n",
      "......................................................... 54 Types of Landforms \n",
      "................................................................................\n",
      "........................................... 54 15. Ocean Floor .................\n",
      "................................................................................\n",
      ".................................... 57 Oceanic Topography .....................\n",
      "................................................................................\n",
      "..................... 57 Continental Shelf .....................................\n",
      "................................................................................\n",
      "...... 57\n",
      "Page Number: 2\n",
      "\n",
      "\n"
     ]
    }
   ],
   "source": [
    "print(f\"Query : '{query}'\\n\")\n",
    "print(\"Results:\")\n",
    "\n",
    "for score, idx in zip(results_dot_product[0], results_dot_product[1]):\n",
    "    print(f\"Score: {score:.4f}\")\n",
    "    print(\"Text:\")\n",
    "    print_wrapped(pages_and_chunks[idx][\"sentence_chunk\"])\n",
    "    print(f\"Page Number: {pages_and_chunks[idx]['page_number']}\")\n",
    "    print(\"\\n\")"
   ]
  },
  {
   "cell_type": "markdown",
   "metadata": {},
   "source": [
    "Automatically returning the page number for our related query and depiction of the most relevant page from the pdf"
   ]
  },
  {
   "cell_type": "code",
   "execution_count": 65,
   "metadata": {},
   "outputs": [
    {
     "data": {
      "image/png": "[encoded data removed]",
      "text/plain": [
       "<Figure size 1300x1000 with 1 Axes>"
      ]
     },
     "metadata": {},
     "output_type": "display_data"
    }
   ],
   "source": [
    "doc = fitz.open(pdf_path)\n",
    "page = doc.load_page(30)\n",
    "img = page.get_pixmap(dpi=300)\n",
    "img.save(\"output_filename.png\")\n",
    "doc.close()\n",
    "\n",
    "img_array = np.frombuffer(img.samples_mv, \n",
    "dtype=np.uint8).reshape(img.h, img.w, img.n)\n",
    "\n",
    "import matplotlib.pyplot as plt \n",
    "plt.figure(figsize=(13,10))\n",
    "plt.imshow(img_array)\n",
    "plt.title(f\"Query: {query} | Most relevant page to our query\")\n",
    "plt.axis(\"off\")\n",
    "plt.show()"
   ]
  },
  {
   "cell_type": "markdown",
   "metadata": {},
   "source": [
    "Cosine Simmilarity : Vectors that are aligned in the direction have a value close to 1. \n",
    "Vectors that are opposite in direction have a value close to -1"
   ]
  },
  {
   "cell_type": "code",
   "execution_count": 74,
   "metadata": {},
   "outputs": [
    {
     "name": "stdout",
     "output_type": "stream",
     "text": [
      "tensor(30.)\n",
      "tensor(-30.)\n",
      "tensor(50.)\n",
      "tensor(1.0000)\n",
      "tensor(-1.0000)\n",
      "tensor(0.7128)\n"
     ]
    }
   ],
   "source": [
    "# def dot_product(vector1, vector2):\n",
    "#     return torch.dot(vector1, vector2)\n",
    "\n",
    "# def cosine_simm(vector1, vector2):\n",
    "#     dot_prod = torch.dot(vector1, vector2)\n",
    "#     norm_vect_1 = torch.sqrt(torch.sum(vector1**2))\n",
    "#     norm_vect_2 = torch.sqrt(torch.sum(vector2**2))\n",
    "\n",
    "#     return dot_prod/ (norm_vect_1*norm_vect_2)\n",
    "\n",
    "# vector1 = torch.tensor([1,2,3,4], dtype=torch.float32)\n",
    "# vector2 = torch.tensor([1,2,3,4], dtype=torch.float32)\n",
    "# vector3 = torch.tensor([-1,-2,-3,-4], dtype=torch.float32)\n",
    "# vector4 = torch.tensor([9,7,5,3], dtype=torch.float32)\n",
    "\n",
    "# print(dot_product(vector1,vector2))\n",
    "# print(dot_product(vector1,vector3))\n",
    "# print(dot_product(vector1,vector4))\n",
    "\n",
    "\n",
    "\n",
    "# print(cosine_simm(vector1,vector2))\n",
    "# print(cosine_simm(vector1,vector3))\n",
    "# print(cosine_simm(vector1,vector4))\n",
    "\n",
    "\n"
   ]
  },
  {
   "cell_type": "code",
   "execution_count": 85,
   "metadata": {},
   "outputs": [],
   "source": [
    "from timeit import default_timer as timer"
   ]
  },
  {
   "cell_type": "code",
   "execution_count": 90,
   "metadata": {},
   "outputs": [],
   "source": [
    "def retreive_relevant_resource(query: str,\n",
    "                                embeddings: torch.tensor,\n",
    "                                model: SentenceTransformer=embedding_model,\n",
    "                                n_resources_to_return: int=5,\n",
    "                                print_time: bool=True):\n",
    "            #Embed query \n",
    "            query_embedding = model.encode(query, convert_to_tensor=True)\n",
    "            start_time = timer()\n",
    "            dot_scores = util.dot_score(query_embedding, embeddings)[0]\n",
    "            end_time = timer()\n",
    "\n",
    "            if print_time:\n",
    "                print(f\"[INFO] Time taken to get scores on: ({len(embeddings)} embeddings: {end_time-start_time:.5f}) seconds.\")\n",
    "\n",
    "            scores, indices = torch.topk(input=dot_scores, k = n_resources_to_return)\n",
    "\n",
    "            return scores, indices\n",
    "\n",
    "def print_top_results_and_scores(query: str, \n",
    "                embeddings: torch.tensor,\n",
    "                pages_and_chunks: list[dict]=pages_and_chunks,\n",
    "                n_resources_to_return: int=5):\n",
    "                scores , indices = retreive_relevant_resource(query=query, embeddings=embeddings, n_resources_to_return=n_resources_to_return)\n"
   ]
  },
  {
   "cell_type": "markdown",
   "metadata": {},
   "source": [
    "LLM : Local Generation\n",
    "\n",
    "Goes from text input to text output."
   ]
  },
  {
   "cell_type": "code",
   "execution_count": 92,
   "metadata": {},
   "outputs": [
    {
     "name": "stdout",
     "output_type": "stream",
     "text": [
      "Avalailable : 8\n"
     ]
    }
   ],
   "source": [
    "# Get GPU available memory \n",
    "\n",
    "gpu_memory_bytes = torch.cuda.get_device_properties(0).total_memory\n",
    "gpu_memory_gb = round(gpu_memory_bytes/(2**30))\n",
    "print(f\"Avalailable : {gpu_memory_gb}\")"
   ]
  },
  {
   "cell_type": "code",
   "execution_count": null,
   "metadata": {},
   "outputs": [],
   "source": []
  }
 ],
 "metadata": {
  "kernelspec": {
   "display_name": "Python 3",
   "language": "python",
   "name": "python3"
  },
  "language_info": {
   "codemirror_mode": {
    "name": "ipython",
    "version": 3
   },
   "file_extension": ".py",
   "mimetype": "text/x-python",
   "name": "python",
   "nbconvert_exporter": "python",
   "pygments_lexer": "ipython3",
   "version": "3.11.9"
  }
 },
 "nbformat": 4,
 "nbformat_minor": 2
}
