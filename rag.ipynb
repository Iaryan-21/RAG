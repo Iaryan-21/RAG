{
 "cells": [
  {
   "cell_type": "code",
   "execution_count": 105,
   "metadata": {},
   "outputs": [],
   "source": [
    "import os \n",
    "import requests"
   ]
  },
  {
   "cell_type": "code",
   "execution_count": 106,
   "metadata": {},
   "outputs": [
    {
     "name": "stdout",
     "output_type": "stream",
     "text": [
      "[INFO] File {pdf_path} already exists.\n"
     ]
    }
   ],
   "source": [
    "pdf_path = \"world_geo.pdf\"\n",
    "if not os.path.exists(pdf_path):\n",
    "    print('[INFO] The file does not exist, Downloading...')\n",
    "    url  = \"https://www.iipa.org.in/upload/world_geo.pdf\"\n",
    "    filename = pdf_path \n",
    "    response = requests.get(url)\n",
    "    if response.status_code == 200:\n",
    "        with open(filename, \"wb\") as file:\n",
    "            file.write(response.content)\n",
    "            print(f\"[INFO] The file has been downloaded as  {filename}\")\n",
    "    else:\n",
    "        print(f\"[INFO] Failed to download the file. Status Code: {response.status_code}\")\n",
    "else:\n",
    "    print(\"[INFO] File {pdf_path} already exists.\")"
   ]
  },
  {
   "cell_type": "markdown",
   "metadata": {},
   "source": [
    "PREPROCESS "
   ]
  },
  {
   "cell_type": "code",
   "execution_count": 107,
   "metadata": {},
   "outputs": [
    {
     "data": {
      "application/vnd.jupyter.widget-view+json": {
       "model_id": "06318c6123fe4c14b3b7af00d9310156",
       "version_major": 2,
       "version_minor": 0
      },
      "text/plain": [
       "0it [00:00, ?it/s]"
      ]
     },
     "metadata": {},
     "output_type": "display_data"
    },
    {
     "data": {
      "text/plain": [
       "[{'page_number': 0,\n",
       "  'page_char_count': 80,\n",
       "  'page_word_count': 20,\n",
       "  'page_sentence_count': 1,\n",
       "  'page_token_count': 20.0,\n",
       "  'text': '1      IIPA2022  22 World Geography  Short Answers PKP-03 by Dr Amit Kumar Singh'},\n",
       " {'page_number': 1,\n",
       "  'page_char_count': 4596,\n",
       "  'page_word_count': 163,\n",
       "  'page_sentence_count': 43,\n",
       "  'page_token_count': 1149.0,\n",
       "  'text': '2  Contents 1.  Origin of Solar System and Sun ........................................................................................................... 6 2. Stars, Sun & Planets ............................................................................................................................. 8 Sun Statistics ....................................................................................................................................... 8 Solar Eclipse ........................................................................................................................................ 9 Lunar Eclipse ....................................................................................................................................... 9 The Planets .......................................................................................................................................... 9 3. Latitudes and Longitudes ................................................................................................................... 11 Latitudes ........................................................................................................................................... 11 Heat Zones ........................................................................................................................................ 12 Longitudes ......................................................................................................................................... 13 Time Zones ........................................................................................................................................ 14 4. Motions of the Earth:  Rotation and Revolution. ................................................................................ 15 Rotation ............................................................................................................................................ 15 The Coriolis Force. ............................................................................................................................. 15 Revolution ......................................................................................................................................... 15 Summer solstice ................................................................................................................................ 16 Winter solstice................................................................................................................................... 17 Equinox ............................................................................................................................................. 17 Effects of revolution .......................................................................................................................... 17 5. Geomorphic Processes: Endogenic Forces and Evolution of Landforms .............................................. 18 Endogenic Forces ............................................................................................................................... 18 Forces of Compression: ............................................................................................................... 20 Exogenic Forces ................................................................................................................................. 20 6. Origin of the Earth ............................................................................................................................. 21 7. Interior Structure of the Earth ........................................................................................................... 24 8. Temperature, Pressure and Density of the Earth’s Interior ................................................................. 28 8. Volcanoes .......................................................................................................................................... 29 Causes of earthquakes ....................................................................................................................... 29 Natural forces .................................................................................................................................... 30 Tectonics ............................................................................................................................................... 30 Wadati–Benioff zone ......................................................................................................................... 31'}]"
      ]
     },
     "execution_count": 107,
     "metadata": {},
     "output_type": "execute_result"
    }
   ],
   "source": [
    "import fitz \n",
    "from tqdm.auto import tqdm \n",
    "\n",
    "def text_formatter(text: str) -> str:\n",
    "    cleaned_text = text.replace(\"\\n\", \"\").strip()\n",
    "    return cleaned_text \n",
    "\n",
    "def o_r_pdf(pdf_path: str) -> list[dict]:\n",
    "    doc = fitz.open(pdf_path)\n",
    "    pages_and_text = []\n",
    "    for page_number, page in tqdm(enumerate(doc)):\n",
    "        text = page.get_text()\n",
    "        text = text_formatter(text=text)\n",
    "        pages_and_text.append({\"page_number\": page_number,\n",
    "        \"page_char_count\" : len(text),\n",
    "        \"page_word_count\" : len(text.split(\" \")),\n",
    "        \"page_sentence_count\" : len(text.split(\". \")),\n",
    "        \"page_token_count\" : len(text) / 4,\n",
    "        \"text\": text}) # One token = 4 characters\n",
    "\n",
    "    return pages_and_text\n",
    "\n",
    "pages_and_text = o_r_pdf(pdf_path = pdf_path)\n",
    "pages_and_text[:2]"
   ]
  },
  {
   "cell_type": "code",
   "execution_count": 108,
   "metadata": {},
   "outputs": [
    {
     "data": {
      "text/plain": [
       "[{'page_number': 37,\n",
       "  'page_char_count': 2328,\n",
       "  'page_word_count': 389,\n",
       "  'page_sentence_count': 17,\n",
       "  'page_token_count': 582.0,\n",
       "  'text': \"38  decline. When the height difference between the uplands and the valley bottoms reaches the maximum, slope decline becomes an important phenomenon. The slope of the upland begins to decline faster than the incision or dissection by any river stream. This effectively leads to the decrease in the relief features of height and the difference between the uplands and the bottom of valleys starts to lessen and diminish gradually. The Old Age Stage The stage following the mature stage is the old age' stage of relief development. In old age, the initially uplifted terrain feature gradually diminishes or reduces to a surface known as the peneplain. During the old age, which is the latest stage in the process, the erosion has been acting upon the terrain so long that although the terrain was at a significant height when uplifted, it is now reduced to a lowland which is known as the peneplain. The peneplain is usually at sea level and sometimes is reduced so much that it drowns around the nearest water bodies. Although some of the peneplains may be submerged, some may maintain the residual height from the initial upliftment. The Second Geomorphic Cycle Following old age, the second geomorphic cycle starts again with the upliftment of the terrain. One of the important factors according to this theory of Davis geomorphic cycle which explains the concepts of geomorphic cycles and landscape development, is the contribution of time in the process of erosion. Time plays an important role according to the theory in the entire of erosion But, there are certain cases when during any of the stages of the geomorphic cycle to upliftment can start before completion of old age. This event when it occurs is known as rejuvenation. It may or may not be a common phenomenon for a particular relief structure. This is because according to Davis, the full geomorphic cycle was a rare or special case as there are continuous geological changes taking place throughout the world which can cause changes in the stages of the geomorphic cycle. This theory of the evolution of landscapes applies to hilltops, valleys, mountains, and river drainage systems. Based on this theory, it is assumed that once the stage of any landform is known, the history of the landform development can be known according to the established principles\"},\n",
       " {'page_number': 103,\n",
       "  'page_char_count': 1470,\n",
       "  'page_word_count': 251,\n",
       "  'page_sentence_count': 17,\n",
       "  'page_token_count': 367.5,\n",
       "  'text': '104  \\uf0b7 This is what we call as terrestrial radiation. This energy heats up the atmosphere from bottom to top. \\uf0b7 It should be noted that the atmosphere is transparent to short waves and opaque to long waves. \\uf0b7 The long-wave radiation is absorbed by the atmospheric gases particularly by carbon dioxide and other greenhouse gases. Thus, the atmosphere is indirectly heated by the terrestrial radiation. \\uf0b7 The atmosphere, in turn, radiates and transmits heat to space. Finally, the amount of heat received from the sun is returned to space, thereby maintaining a constant temperature at the earth’s surface and in the atmosphere. 2. Conduction (transfer of heat by contact) \\uf0b7 Conduction is the process of heat transfer from a warmer object to a cooler object when they come in contact with each other. \\uf0b7 The flow of heat energy continues till the temperature of both the objects become equal or the contact is broken. \\uf0b7 The conduction in the atmosphere occurs at the zone of contact between the atmosphere and the earth’s surface. \\uf0b7 Conduction is important in heating the lower layers of the atmosphere. 3. Convection (vertical transfer of heat) \\uf0b7 Transfer of heat by the movement of a mass or substance from one place to another, generally vertical, is called convection. \\uf0b7 The air of the lower layers of the atmosphere gets heated either by the earth’s radiation or by conduction. The heating of the air leads to its expansion. Its density decreases and it moves upwards.'},\n",
       " {'page_number': 106,\n",
       "  'page_char_count': 1055,\n",
       "  'page_word_count': 173,\n",
       "  'page_sentence_count': 8,\n",
       "  'page_token_count': 263.75,\n",
       "  'text': '107  \\uf0b7 It is a reflection coefficient and has a value less than one. \\uf0b7 When the solar radiation passes through the atmosphere, some amount of it is reflected, scattered and absorbed. \\uf0b7 The reflected amount of radiation is called as the albedo of the earth. \\uf0b7 The value of albedo will be different for different surfaces.  \\uf0b7 Because of the effect of albedo, highly developed areas such as urban cities can experience higher average temperatures than the surrounding suburban or rural areas, a phenomenon known as the “Urban Heat Island Effect”. \\uf0b7 The higher average temperature can be attributed to less vegetation, higher population densities, and more infrastructures with dark surfaces (asphalt roads, brick buildings, etc.). Variation in the net budget at the earth’s surface \\uf0b7 Although the earth as a whole maintains a balance between the insolation and the terrestrial radiation, this is not true what we observe at different latitudes. \\uf0b7 As we have discussed earlier, there are variations in the amount of insolation received at different latitudes.'}]"
      ]
     },
     "execution_count": 108,
     "metadata": {},
     "output_type": "execute_result"
    }
   ],
   "source": [
    "import random \n",
    "\n",
    "random.sample(pages_and_text, k=3)"
   ]
  },
  {
   "cell_type": "code",
   "execution_count": 109,
   "metadata": {},
   "outputs": [
    {
     "data": {
      "text/html": [
       "<div>\n",
       "<style scoped>\n",
       "    .dataframe tbody tr th:only-of-type {\n",
       "        vertical-align: middle;\n",
       "    }\n",
       "\n",
       "    .dataframe tbody tr th {\n",
       "        vertical-align: top;\n",
       "    }\n",
       "\n",
       "    .dataframe thead th {\n",
       "        text-align: right;\n",
       "    }\n",
       "</style>\n",
       "<table border=\"1\" class=\"dataframe\">\n",
       "  <thead>\n",
       "    <tr style=\"text-align: right;\">\n",
       "      <th></th>\n",
       "      <th>page_number</th>\n",
       "      <th>page_char_count</th>\n",
       "      <th>page_word_count</th>\n",
       "      <th>page_sentence_count</th>\n",
       "      <th>page_token_count</th>\n",
       "      <th>text</th>\n",
       "    </tr>\n",
       "  </thead>\n",
       "  <tbody>\n",
       "    <tr>\n",
       "      <th>0</th>\n",
       "      <td>0</td>\n",
       "      <td>80</td>\n",
       "      <td>20</td>\n",
       "      <td>1</td>\n",
       "      <td>20.0</td>\n",
       "      <td>1      IIPA2022  22 World Geography  Short Ans...</td>\n",
       "    </tr>\n",
       "    <tr>\n",
       "      <th>1</th>\n",
       "      <td>1</td>\n",
       "      <td>4596</td>\n",
       "      <td>163</td>\n",
       "      <td>43</td>\n",
       "      <td>1149.0</td>\n",
       "      <td>2  Contents 1.  Origin of Solar System and Sun...</td>\n",
       "    </tr>\n",
       "    <tr>\n",
       "      <th>2</th>\n",
       "      <td>2</td>\n",
       "      <td>4448</td>\n",
       "      <td>208</td>\n",
       "      <td>40</td>\n",
       "      <td>1112.0</td>\n",
       "      <td>3  Types of Volcanoes ...........................</td>\n",
       "    </tr>\n",
       "    <tr>\n",
       "      <th>3</th>\n",
       "      <td>3</td>\n",
       "      <td>4560</td>\n",
       "      <td>203</td>\n",
       "      <td>44</td>\n",
       "      <td>1140.0</td>\n",
       "      <td>4  Continental Slope ............................</td>\n",
       "    </tr>\n",
       "    <tr>\n",
       "      <th>4</th>\n",
       "      <td>4</td>\n",
       "      <td>3474</td>\n",
       "      <td>178</td>\n",
       "      <td>31</td>\n",
       "      <td>868.5</td>\n",
       "      <td>5  Insolation or Incoming Solar Radiation .......</td>\n",
       "    </tr>\n",
       "  </tbody>\n",
       "</table>\n",
       "</div>"
      ],
      "text/plain": [
       "   page_number  page_char_count  page_word_count  page_sentence_count  \\\n",
       "0            0               80               20                    1   \n",
       "1            1             4596              163                   43   \n",
       "2            2             4448              208                   40   \n",
       "3            3             4560              203                   44   \n",
       "4            4             3474              178                   31   \n",
       "\n",
       "   page_token_count                                               text  \n",
       "0              20.0  1      IIPA2022  22 World Geography  Short Ans...  \n",
       "1            1149.0  2  Contents 1.  Origin of Solar System and Sun...  \n",
       "2            1112.0  3  Types of Volcanoes ...........................  \n",
       "3            1140.0  4  Continental Slope ............................  \n",
       "4             868.5  5  Insolation or Incoming Solar Radiation .......  "
      ]
     },
     "execution_count": 109,
     "metadata": {},
     "output_type": "execute_result"
    }
   ],
   "source": [
    "import pandas as pd \n",
    "\n",
    "df = pd.DataFrame(pages_and_text)\n",
    "df.head()"
   ]
  },
  {
   "cell_type": "code",
   "execution_count": 110,
   "metadata": {},
   "outputs": [
    {
     "data": {
      "text/html": [
       "<div>\n",
       "<style scoped>\n",
       "    .dataframe tbody tr th:only-of-type {\n",
       "        vertical-align: middle;\n",
       "    }\n",
       "\n",
       "    .dataframe tbody tr th {\n",
       "        vertical-align: top;\n",
       "    }\n",
       "\n",
       "    .dataframe thead th {\n",
       "        text-align: right;\n",
       "    }\n",
       "</style>\n",
       "<table border=\"1\" class=\"dataframe\">\n",
       "  <thead>\n",
       "    <tr style=\"text-align: right;\">\n",
       "      <th></th>\n",
       "      <th>page_number</th>\n",
       "      <th>page_char_count</th>\n",
       "      <th>page_word_count</th>\n",
       "      <th>page_sentence_count</th>\n",
       "      <th>page_token_count</th>\n",
       "    </tr>\n",
       "  </thead>\n",
       "  <tbody>\n",
       "    <tr>\n",
       "      <th>count</th>\n",
       "      <td>129.00</td>\n",
       "      <td>129.00</td>\n",
       "      <td>129.00</td>\n",
       "      <td>129.00</td>\n",
       "      <td>129.00</td>\n",
       "    </tr>\n",
       "    <tr>\n",
       "      <th>mean</th>\n",
       "      <td>64.00</td>\n",
       "      <td>1655.45</td>\n",
       "      <td>262.89</td>\n",
       "      <td>16.95</td>\n",
       "      <td>413.86</td>\n",
       "    </tr>\n",
       "    <tr>\n",
       "      <th>std</th>\n",
       "      <td>37.38</td>\n",
       "      <td>732.36</td>\n",
       "      <td>96.85</td>\n",
       "      <td>7.75</td>\n",
       "      <td>183.09</td>\n",
       "    </tr>\n",
       "    <tr>\n",
       "      <th>min</th>\n",
       "      <td>0.00</td>\n",
       "      <td>80.00</td>\n",
       "      <td>20.00</td>\n",
       "      <td>1.00</td>\n",
       "      <td>20.00</td>\n",
       "    </tr>\n",
       "    <tr>\n",
       "      <th>25%</th>\n",
       "      <td>32.00</td>\n",
       "      <td>1146.00</td>\n",
       "      <td>189.00</td>\n",
       "      <td>12.00</td>\n",
       "      <td>286.50</td>\n",
       "    </tr>\n",
       "    <tr>\n",
       "      <th>50%</th>\n",
       "      <td>64.00</td>\n",
       "      <td>1699.00</td>\n",
       "      <td>264.00</td>\n",
       "      <td>16.00</td>\n",
       "      <td>424.75</td>\n",
       "    </tr>\n",
       "    <tr>\n",
       "      <th>75%</th>\n",
       "      <td>96.00</td>\n",
       "      <td>2055.00</td>\n",
       "      <td>341.00</td>\n",
       "      <td>21.00</td>\n",
       "      <td>513.75</td>\n",
       "    </tr>\n",
       "    <tr>\n",
       "      <th>max</th>\n",
       "      <td>128.00</td>\n",
       "      <td>4596.00</td>\n",
       "      <td>424.00</td>\n",
       "      <td>44.00</td>\n",
       "      <td>1149.00</td>\n",
       "    </tr>\n",
       "  </tbody>\n",
       "</table>\n",
       "</div>"
      ],
      "text/plain": [
       "       page_number  page_char_count  page_word_count  page_sentence_count  \\\n",
       "count       129.00           129.00           129.00               129.00   \n",
       "mean         64.00          1655.45           262.89                16.95   \n",
       "std          37.38           732.36            96.85                 7.75   \n",
       "min           0.00            80.00            20.00                 1.00   \n",
       "25%          32.00          1146.00           189.00                12.00   \n",
       "50%          64.00          1699.00           264.00                16.00   \n",
       "75%          96.00          2055.00           341.00                21.00   \n",
       "max         128.00          4596.00           424.00                44.00   \n",
       "\n",
       "       page_token_count  \n",
       "count            129.00  \n",
       "mean             413.86  \n",
       "std              183.09  \n",
       "min               20.00  \n",
       "25%              286.50  \n",
       "50%              424.75  \n",
       "75%              513.75  \n",
       "max             1149.00  "
      ]
     },
     "execution_count": 110,
     "metadata": {},
     "output_type": "execute_result"
    }
   ],
   "source": [
    "df.describe().round(2)"
   ]
  },
  {
   "cell_type": "code",
   "execution_count": 111,
   "metadata": {},
   "outputs": [
    {
     "data": {
      "text/plain": [
       "[I am a shitty person., I am a good man., I am ugly.]"
      ]
     },
     "execution_count": 111,
     "metadata": {},
     "output_type": "execute_result"
    }
   ],
   "source": [
    "from spacy.lang.en import English\n",
    "\n",
    "nlp = English()\n",
    "#Adding a sentencizer pipeline\n",
    "nlp.add_pipe(\"sentencizer\")\n",
    "\n",
    "#Creating a documnet instance as an example\n",
    "\n",
    "doc = nlp(\"I am a shitty person. I am a good man. I am ugly.\")\n",
    "assert len(list(doc.sents)) == 3\n",
    "\n",
    "list(doc.sents)\n"
   ]
  },
  {
   "cell_type": "code",
   "execution_count": 112,
   "metadata": {},
   "outputs": [
    {
     "data": {
      "text/plain": [
       "{'page_number': 0,\n",
       " 'page_char_count': 80,\n",
       " 'page_word_count': 20,\n",
       " 'page_sentence_count': 1,\n",
       " 'page_token_count': 20.0,\n",
       " 'text': '1      IIPA2022  22 World Geography  Short Answers PKP-03 by Dr Amit Kumar Singh'}"
      ]
     },
     "execution_count": 112,
     "metadata": {},
     "output_type": "execute_result"
    }
   ],
   "source": [
    "pages_and_text[0]"
   ]
  },
  {
   "cell_type": "code",
   "execution_count": 113,
   "metadata": {},
   "outputs": [
    {
     "data": {
      "application/vnd.jupyter.widget-view+json": {
       "model_id": "59e85e276eff44b5b55a45e61628a2ef",
       "version_major": 2,
       "version_minor": 0
      },
      "text/plain": [
       "  0%|          | 0/129 [00:00<?, ?it/s]"
      ]
     },
     "metadata": {},
     "output_type": "display_data"
    }
   ],
   "source": [
    "for item in tqdm(pages_and_text):\n",
    "    item[\"sentences\"] = list(nlp(item[\"text\"]).sents)\n",
    "\n",
    "    item[\"sentences\"] = [str(sentence) for sentence in item[\"sentences\"]]\n",
    "\n",
    "    item[\"page_sentence_count_spacy\"] = len(item[\"sentences\"])\n"
   ]
  },
  {
   "cell_type": "code",
   "execution_count": 114,
   "metadata": {},
   "outputs": [
    {
     "data": {
      "text/plain": [
       "[{'page_number': 126,\n",
       "  'page_char_count': 2170,\n",
       "  'page_word_count': 362,\n",
       "  'page_sentence_count': 22,\n",
       "  'page_token_count': 542.5,\n",
       "  'text': \"127  Greenhouse gases come from both human and natural sources. Gases like carbon dioxide, methane, and nitrous oxide naturally occur in the atmosphere. Others, such as chlorofluorocarbons (CFCs), are only produced by human activity. When short-wave radiation from the sun reaches Earth, most of it passes straight through and hits the surface. The Earth absorbs most of this radiation and gives off longer-wavelength infrared radiation. The greenhouse gases absorb some of this infrared radiation, instead of it passing straight out into space. The atmosphere then emits radiation in all directions, sending some of it back to the surface, causing the planet to heat up. This process is known as the 'greenhouse effect'. The greenhouse effect is critical to our survival. In fact, without greenhouse gases, Earth would be about 30 degrees colder than it is today. Without greenhouse gases and their warming effect, we wouldn't be able to survive. However, since the Industrial Revolution, we've been adding more and more greenhouse gases into the air, trapping even more heat. Instead of keeping Earth at a warm, stable temperature, the greenhouse effect is heating the planet at a much faster rate. We call this the 'enhanced greenhouse effect' and it's the main cause of climate change. Human causes of climate change Humans cause climate change by releasing carbon dioxide and other greenhouse gases into the air. Today, there is more carbon dioxide in the atmosphere than there ever has been in at least the past 2 million years. During the 20th and 21st century, the level of carbon dioxide rose by 40%. We produce greenhouse gases in lots of different ways: \\uf0b7 Burning fossil fuels – Fossil fuels such as oil, gas, and coal contain carbon dioxide that has been 'locked away' in the ground for thousands of years. When we take these out of the land and burn them, we release the stored carbon dioxide into the air. \\uf0b7 Deforestation – Forests remove and store carbon dioxide from the atmosphere. Cutting them down means that carbon dioxide builds up quicker since there are no trees to absorb it. Not only that, trees release the carbon they stored when we burn them.\",\n",
       "  'sentences': ['127  Greenhouse gases come from both human and natural sources.',\n",
       "   'Gases like carbon dioxide, methane, and nitrous oxide naturally occur in the atmosphere.',\n",
       "   'Others, such as chlorofluorocarbons (CFCs), are only produced by human activity.',\n",
       "   'When short-wave radiation from the sun reaches Earth, most of it passes straight through and hits the surface.',\n",
       "   'The Earth absorbs most of this radiation and gives off longer-wavelength infrared radiation.',\n",
       "   'The greenhouse gases absorb some of this infrared radiation, instead of it passing straight out into space.',\n",
       "   'The atmosphere then emits radiation in all directions, sending some of it back to the surface, causing the planet to heat up.',\n",
       "   \"This process is known as the 'greenhouse effect'.\",\n",
       "   'The greenhouse effect is critical to our survival.',\n",
       "   'In fact, without greenhouse gases, Earth would be about 30 degrees colder than it is today.',\n",
       "   \"Without greenhouse gases and their warming effect, we wouldn't be able to survive.\",\n",
       "   \"However, since the Industrial Revolution, we've been adding more and more greenhouse gases into the air, trapping even more heat.\",\n",
       "   'Instead of keeping Earth at a warm, stable temperature, the greenhouse effect is heating the planet at a much faster rate.',\n",
       "   \"We call this the 'enhanced greenhouse effect' and it's the main cause of climate change.\",\n",
       "   'Human causes of climate change Humans cause climate change by releasing carbon dioxide and other greenhouse gases into the air.',\n",
       "   'Today, there is more carbon dioxide in the atmosphere than there ever has been in at least the past 2 million years.',\n",
       "   'During the 20th and 21st century, the level of carbon dioxide rose by 40%.',\n",
       "   \"We produce greenhouse gases in lots of different ways: \\uf0b7 Burning fossil fuels – Fossil fuels such as oil, gas, and coal contain carbon dioxide that has been 'locked away' in the ground for thousands of years.\",\n",
       "   'When we take these out of the land and burn them, we release the stored carbon dioxide into the air.',\n",
       "   '\\uf0b7 Deforestation – Forests remove and store carbon dioxide from the atmosphere.',\n",
       "   'Cutting them down means that carbon dioxide builds up quicker since there are no trees to absorb it.',\n",
       "   'Not only that, trees release the carbon they stored when we burn them.'],\n",
       "  'page_sentence_count_spacy': 22}]"
      ]
     },
     "execution_count": 114,
     "metadata": {},
     "output_type": "execute_result"
    }
   ],
   "source": [
    "random.sample(pages_and_text, k=1)"
   ]
  },
  {
   "cell_type": "code",
   "execution_count": 115,
   "metadata": {},
   "outputs": [
    {
     "data": {
      "text/html": [
       "<div>\n",
       "<style scoped>\n",
       "    .dataframe tbody tr th:only-of-type {\n",
       "        vertical-align: middle;\n",
       "    }\n",
       "\n",
       "    .dataframe tbody tr th {\n",
       "        vertical-align: top;\n",
       "    }\n",
       "\n",
       "    .dataframe thead th {\n",
       "        text-align: right;\n",
       "    }\n",
       "</style>\n",
       "<table border=\"1\" class=\"dataframe\">\n",
       "  <thead>\n",
       "    <tr style=\"text-align: right;\">\n",
       "      <th></th>\n",
       "      <th>page_number</th>\n",
       "      <th>page_char_count</th>\n",
       "      <th>page_word_count</th>\n",
       "      <th>page_sentence_count</th>\n",
       "      <th>page_token_count</th>\n",
       "      <th>page_sentence_count_spacy</th>\n",
       "    </tr>\n",
       "  </thead>\n",
       "  <tbody>\n",
       "    <tr>\n",
       "      <th>count</th>\n",
       "      <td>129.00</td>\n",
       "      <td>129.00</td>\n",
       "      <td>129.00</td>\n",
       "      <td>129.00</td>\n",
       "      <td>129.00</td>\n",
       "      <td>129.00</td>\n",
       "    </tr>\n",
       "    <tr>\n",
       "      <th>mean</th>\n",
       "      <td>64.00</td>\n",
       "      <td>1655.45</td>\n",
       "      <td>262.89</td>\n",
       "      <td>16.95</td>\n",
       "      <td>413.86</td>\n",
       "      <td>15.51</td>\n",
       "    </tr>\n",
       "    <tr>\n",
       "      <th>std</th>\n",
       "      <td>37.38</td>\n",
       "      <td>732.36</td>\n",
       "      <td>96.85</td>\n",
       "      <td>7.75</td>\n",
       "      <td>183.09</td>\n",
       "      <td>6.25</td>\n",
       "    </tr>\n",
       "    <tr>\n",
       "      <th>min</th>\n",
       "      <td>0.00</td>\n",
       "      <td>80.00</td>\n",
       "      <td>20.00</td>\n",
       "      <td>1.00</td>\n",
       "      <td>20.00</td>\n",
       "      <td>1.00</td>\n",
       "    </tr>\n",
       "    <tr>\n",
       "      <th>25%</th>\n",
       "      <td>32.00</td>\n",
       "      <td>1146.00</td>\n",
       "      <td>189.00</td>\n",
       "      <td>12.00</td>\n",
       "      <td>286.50</td>\n",
       "      <td>10.00</td>\n",
       "    </tr>\n",
       "    <tr>\n",
       "      <th>50%</th>\n",
       "      <td>64.00</td>\n",
       "      <td>1699.00</td>\n",
       "      <td>264.00</td>\n",
       "      <td>16.00</td>\n",
       "      <td>424.75</td>\n",
       "      <td>16.00</td>\n",
       "    </tr>\n",
       "    <tr>\n",
       "      <th>75%</th>\n",
       "      <td>96.00</td>\n",
       "      <td>2055.00</td>\n",
       "      <td>341.00</td>\n",
       "      <td>21.00</td>\n",
       "      <td>513.75</td>\n",
       "      <td>20.00</td>\n",
       "    </tr>\n",
       "    <tr>\n",
       "      <th>max</th>\n",
       "      <td>128.00</td>\n",
       "      <td>4596.00</td>\n",
       "      <td>424.00</td>\n",
       "      <td>44.00</td>\n",
       "      <td>1149.00</td>\n",
       "      <td>31.00</td>\n",
       "    </tr>\n",
       "  </tbody>\n",
       "</table>\n",
       "</div>"
      ],
      "text/plain": [
       "       page_number  page_char_count  page_word_count  page_sentence_count  \\\n",
       "count       129.00           129.00           129.00               129.00   \n",
       "mean         64.00          1655.45           262.89                16.95   \n",
       "std          37.38           732.36            96.85                 7.75   \n",
       "min           0.00            80.00            20.00                 1.00   \n",
       "25%          32.00          1146.00           189.00                12.00   \n",
       "50%          64.00          1699.00           264.00                16.00   \n",
       "75%          96.00          2055.00           341.00                21.00   \n",
       "max         128.00          4596.00           424.00                44.00   \n",
       "\n",
       "       page_token_count  page_sentence_count_spacy  \n",
       "count            129.00                     129.00  \n",
       "mean             413.86                      15.51  \n",
       "std              183.09                       6.25  \n",
       "min               20.00                       1.00  \n",
       "25%              286.50                      10.00  \n",
       "50%              424.75                      16.00  \n",
       "75%              513.75                      20.00  \n",
       "max             1149.00                      31.00  "
      ]
     },
     "execution_count": 115,
     "metadata": {},
     "output_type": "execute_result"
    }
   ],
   "source": [
    "df = pd.DataFrame(pages_and_text)\n",
    "df.describe().round(2)"
   ]
  },
  {
   "cell_type": "markdown",
   "metadata": {},
   "source": [
    "CHUNKING : Splitting sentecnces in groups of 10 or less"
   ]
  },
  {
   "cell_type": "code",
   "execution_count": 116,
   "metadata": {},
   "outputs": [
    {
     "data": {
      "text/plain": [
       "[[0, 1, 2, 3, 4, 5, 6, 7, 8, 9],\n",
       " [10, 11, 12, 13, 14, 15, 16, 17, 18, 19],\n",
       " [20, 21, 22, 23, 24, 25, 26, 27, 28, 29],\n",
       " [30, 31, 32, 33, 34, 35, 36, 37, 38, 39],\n",
       " [40, 41, 42, 43, 44, 45, 46, 47, 48, 49],\n",
       " [50, 51, 52, 53, 54, 55, 56, 57, 58, 59],\n",
       " [60, 61, 62, 63, 64, 65, 66, 67, 68, 69]]"
      ]
     },
     "execution_count": 116,
     "metadata": {},
     "output_type": "execute_result"
    }
   ],
   "source": [
    "num_sentence_chunk_size = 10 \n",
    "def split_list(input_list: list, slice_size: int = num_sentence_chunk_size) -> list[list[str]]:\n",
    "    return [input_list[i:i+slice_size] for i in range(0, len(input_list), slice_size)]\n",
    "\n",
    "text_list = list(range(70))\n",
    "split_list(text_list)\n"
   ]
  },
  {
   "cell_type": "code",
   "execution_count": 117,
   "metadata": {},
   "outputs": [
    {
     "data": {
      "application/vnd.jupyter.widget-view+json": {
       "model_id": "f3dcf671eb134c34820897b5e3af9af1",
       "version_major": 2,
       "version_minor": 0
      },
      "text/plain": [
       "  0%|          | 0/129 [00:00<?, ?it/s]"
      ]
     },
     "metadata": {},
     "output_type": "display_data"
    }
   ],
   "source": [
    "for item in tqdm(pages_and_text):\n",
    "    item[\"sentence_chunks\"] = split_list(input_list=item[\"sentences\"], slice_size=num_sentence_chunk_size)\n",
    "    item[\"num_chunks\"] = len(item[\"sentence_chunks\"])"
   ]
  },
  {
   "cell_type": "code",
   "execution_count": 118,
   "metadata": {},
   "outputs": [
    {
     "data": {
      "text/plain": [
       "[{'page_number': 108,\n",
       "  'page_char_count': 1699,\n",
       "  'page_word_count': 287,\n",
       "  'page_sentence_count': 18,\n",
       "  'page_token_count': 424.75,\n",
       "  'text': '109  28. Atmospheric Circulation and Weather System  Variying temperature on earth plays an important role in the uneven distribution over the surface of the earth. Air expands when heated and gets compressed when cooled. This results in variations in the atmospheric pressure. The result is that it causes the movement of air from high pressure to low pressure, setting the air in motion. You already know that air in horizontal motion is wind. Atmospheric pressure also determines when the air will rise or sink. The wind redistributes the heat and moisture across the planet, thereby, maintaining a constant temperature for the planet as a whole. The vertical rising of moist air cools it down to form the clouds and bring precipitation. Atmospheric Pressure Atmospheric pressure also determines when the air will rise or sink. The wind redistributes the heat and moisture across the planet, thereby, maintaining a constant temperature for the planet as a whole. The vertical rising of moist air cools it down to form the clouds and bring precipitation The weight of a column of air contained in a unit area from the mean sea level to the top of the atmosphere is called the atmospheric pressure.  The atmospheric pressure is expressed in units of milibar. At sea level the average atmospheric pressure is 1,013.2 milibar.  Due to gravity the air at the surface is denser and hence has higher pressure. Air pressure is measured with the help of a mercury barometer or the aneroid barometer.The pressure decreases with height. At any elevation it varies from place to place and its variation is the primary cause of air motion, i.e. wind which moves from high pressure areas to low pressure areas.',\n",
       "  'sentences': ['109  28.',\n",
       "   'Atmospheric Circulation and Weather System  Variying temperature on earth plays an important role in the uneven distribution over the surface of the earth.',\n",
       "   'Air expands when heated and gets compressed when cooled.',\n",
       "   'This results in variations in the atmospheric pressure.',\n",
       "   'The result is that it causes the movement of air from high pressure to low pressure, setting the air in motion.',\n",
       "   'You already know that air in horizontal motion is wind.',\n",
       "   'Atmospheric pressure also determines when the air will rise or sink.',\n",
       "   'The wind redistributes the heat and moisture across the planet, thereby, maintaining a constant temperature for the planet as a whole.',\n",
       "   'The vertical rising of moist air cools it down to form the clouds and bring precipitation.',\n",
       "   'Atmospheric Pressure Atmospheric pressure also determines when the air will rise or sink.',\n",
       "   'The wind redistributes the heat and moisture across the planet, thereby, maintaining a constant temperature for the planet as a whole.',\n",
       "   'The vertical rising of moist air cools it down to form the clouds and bring precipitation The weight of a column of air contained in a unit area from the mean sea level to the top of the atmosphere is called the atmospheric pressure.',\n",
       "   ' The atmospheric pressure is expressed in units of milibar.',\n",
       "   'At sea level the average atmospheric pressure is 1,013.2 milibar.',\n",
       "   ' Due to gravity the air at the surface is denser and hence has higher pressure.',\n",
       "   'Air pressure is measured with the help of a mercury barometer or the aneroid barometer.',\n",
       "   'The pressure decreases with height.',\n",
       "   'At any elevation it varies from place to place and its variation is the primary cause of air motion, i.e. wind which moves from high pressure areas to low pressure areas.'],\n",
       "  'page_sentence_count_spacy': 18,\n",
       "  'sentence_chunks': [['109  28.',\n",
       "    'Atmospheric Circulation and Weather System  Variying temperature on earth plays an important role in the uneven distribution over the surface of the earth.',\n",
       "    'Air expands when heated and gets compressed when cooled.',\n",
       "    'This results in variations in the atmospheric pressure.',\n",
       "    'The result is that it causes the movement of air from high pressure to low pressure, setting the air in motion.',\n",
       "    'You already know that air in horizontal motion is wind.',\n",
       "    'Atmospheric pressure also determines when the air will rise or sink.',\n",
       "    'The wind redistributes the heat and moisture across the planet, thereby, maintaining a constant temperature for the planet as a whole.',\n",
       "    'The vertical rising of moist air cools it down to form the clouds and bring precipitation.',\n",
       "    'Atmospheric Pressure Atmospheric pressure also determines when the air will rise or sink.'],\n",
       "   ['The wind redistributes the heat and moisture across the planet, thereby, maintaining a constant temperature for the planet as a whole.',\n",
       "    'The vertical rising of moist air cools it down to form the clouds and bring precipitation The weight of a column of air contained in a unit area from the mean sea level to the top of the atmosphere is called the atmospheric pressure.',\n",
       "    ' The atmospheric pressure is expressed in units of milibar.',\n",
       "    'At sea level the average atmospheric pressure is 1,013.2 milibar.',\n",
       "    ' Due to gravity the air at the surface is denser and hence has higher pressure.',\n",
       "    'Air pressure is measured with the help of a mercury barometer or the aneroid barometer.',\n",
       "    'The pressure decreases with height.',\n",
       "    'At any elevation it varies from place to place and its variation is the primary cause of air motion, i.e. wind which moves from high pressure areas to low pressure areas.']],\n",
       "  'num_chunks': 2}]"
      ]
     },
     "execution_count": 118,
     "metadata": {},
     "output_type": "execute_result"
    }
   ],
   "source": [
    "random.sample(pages_and_text, k = 1)"
   ]
  },
  {
   "cell_type": "code",
   "execution_count": 119,
   "metadata": {},
   "outputs": [
    {
     "data": {
      "text/html": [
       "<div>\n",
       "<style scoped>\n",
       "    .dataframe tbody tr th:only-of-type {\n",
       "        vertical-align: middle;\n",
       "    }\n",
       "\n",
       "    .dataframe tbody tr th {\n",
       "        vertical-align: top;\n",
       "    }\n",
       "\n",
       "    .dataframe thead th {\n",
       "        text-align: right;\n",
       "    }\n",
       "</style>\n",
       "<table border=\"1\" class=\"dataframe\">\n",
       "  <thead>\n",
       "    <tr style=\"text-align: right;\">\n",
       "      <th></th>\n",
       "      <th>page_number</th>\n",
       "      <th>page_char_count</th>\n",
       "      <th>page_word_count</th>\n",
       "      <th>page_sentence_count</th>\n",
       "      <th>page_token_count</th>\n",
       "      <th>page_sentence_count_spacy</th>\n",
       "      <th>num_chunks</th>\n",
       "    </tr>\n",
       "  </thead>\n",
       "  <tbody>\n",
       "    <tr>\n",
       "      <th>count</th>\n",
       "      <td>129.00</td>\n",
       "      <td>129.00</td>\n",
       "      <td>129.00</td>\n",
       "      <td>129.00</td>\n",
       "      <td>129.00</td>\n",
       "      <td>129.00</td>\n",
       "      <td>129.00</td>\n",
       "    </tr>\n",
       "    <tr>\n",
       "      <th>mean</th>\n",
       "      <td>64.00</td>\n",
       "      <td>1655.45</td>\n",
       "      <td>262.89</td>\n",
       "      <td>16.95</td>\n",
       "      <td>413.86</td>\n",
       "      <td>15.51</td>\n",
       "      <td>1.97</td>\n",
       "    </tr>\n",
       "    <tr>\n",
       "      <th>std</th>\n",
       "      <td>37.38</td>\n",
       "      <td>732.36</td>\n",
       "      <td>96.85</td>\n",
       "      <td>7.75</td>\n",
       "      <td>183.09</td>\n",
       "      <td>6.25</td>\n",
       "      <td>0.71</td>\n",
       "    </tr>\n",
       "    <tr>\n",
       "      <th>min</th>\n",
       "      <td>0.00</td>\n",
       "      <td>80.00</td>\n",
       "      <td>20.00</td>\n",
       "      <td>1.00</td>\n",
       "      <td>20.00</td>\n",
       "      <td>1.00</td>\n",
       "      <td>1.00</td>\n",
       "    </tr>\n",
       "    <tr>\n",
       "      <th>25%</th>\n",
       "      <td>32.00</td>\n",
       "      <td>1146.00</td>\n",
       "      <td>189.00</td>\n",
       "      <td>12.00</td>\n",
       "      <td>286.50</td>\n",
       "      <td>10.00</td>\n",
       "      <td>1.00</td>\n",
       "    </tr>\n",
       "    <tr>\n",
       "      <th>50%</th>\n",
       "      <td>64.00</td>\n",
       "      <td>1699.00</td>\n",
       "      <td>264.00</td>\n",
       "      <td>16.00</td>\n",
       "      <td>424.75</td>\n",
       "      <td>16.00</td>\n",
       "      <td>2.00</td>\n",
       "    </tr>\n",
       "    <tr>\n",
       "      <th>75%</th>\n",
       "      <td>96.00</td>\n",
       "      <td>2055.00</td>\n",
       "      <td>341.00</td>\n",
       "      <td>21.00</td>\n",
       "      <td>513.75</td>\n",
       "      <td>20.00</td>\n",
       "      <td>2.00</td>\n",
       "    </tr>\n",
       "    <tr>\n",
       "      <th>max</th>\n",
       "      <td>128.00</td>\n",
       "      <td>4596.00</td>\n",
       "      <td>424.00</td>\n",
       "      <td>44.00</td>\n",
       "      <td>1149.00</td>\n",
       "      <td>31.00</td>\n",
       "      <td>4.00</td>\n",
       "    </tr>\n",
       "  </tbody>\n",
       "</table>\n",
       "</div>"
      ],
      "text/plain": [
       "       page_number  page_char_count  page_word_count  page_sentence_count  \\\n",
       "count       129.00           129.00           129.00               129.00   \n",
       "mean         64.00          1655.45           262.89                16.95   \n",
       "std          37.38           732.36            96.85                 7.75   \n",
       "min           0.00            80.00            20.00                 1.00   \n",
       "25%          32.00          1146.00           189.00                12.00   \n",
       "50%          64.00          1699.00           264.00                16.00   \n",
       "75%          96.00          2055.00           341.00                21.00   \n",
       "max         128.00          4596.00           424.00                44.00   \n",
       "\n",
       "       page_token_count  page_sentence_count_spacy  num_chunks  \n",
       "count            129.00                     129.00      129.00  \n",
       "mean             413.86                      15.51        1.97  \n",
       "std              183.09                       6.25        0.71  \n",
       "min               20.00                       1.00        1.00  \n",
       "25%              286.50                      10.00        1.00  \n",
       "50%              424.75                      16.00        2.00  \n",
       "75%              513.75                      20.00        2.00  \n",
       "max             1149.00                      31.00        4.00  "
      ]
     },
     "execution_count": 119,
     "metadata": {},
     "output_type": "execute_result"
    }
   ],
   "source": [
    "df = pd.DataFrame(pages_and_text)\n",
    "df.describe().round(2)"
   ]
  },
  {
   "cell_type": "code",
   "execution_count": 120,
   "metadata": {},
   "outputs": [
    {
     "data": {
      "application/vnd.jupyter.widget-view+json": {
       "model_id": "b261adc610ac4dfb985a059720cea230",
       "version_major": 2,
       "version_minor": 0
      },
      "text/plain": [
       "  0%|          | 0/129 [00:00<?, ?it/s]"
      ]
     },
     "metadata": {},
     "output_type": "display_data"
    },
    {
     "data": {
      "text/plain": [
       "254"
      ]
     },
     "execution_count": 120,
     "metadata": {},
     "output_type": "execute_result"
    }
   ],
   "source": [
    "import re \n",
    "\n",
    "pages_and_chunks = []\n",
    "for item in tqdm(pages_and_text):\n",
    "    for sentence_chunk in item[\"sentence_chunks\"]:\n",
    "        chunk_dict = {}\n",
    "        chunk_dict[\"page_number\"] = item[\"page_number\"]\n",
    "\n",
    "        # join the sentences together into paragraph like structure aka join the list of sentences into one paragraph \n",
    "\n",
    "        joined_sentence_chunk = \"\".join(sentence_chunk).replace(\"  \",\" \").strip()\n",
    "        joined_sentence_chunk = re.sub(r'\\.([A-Z])', r'. \\1', joined_sentence_chunk)\n",
    "\n",
    "        chunk_dict[\"sentence_chunk\"] = joined_sentence_chunk\n",
    "\n",
    "        chunk_dict[\"chunk_char_count\"] = len(joined_sentence_chunk)\n",
    "        chunk_dict[\"chunk_word_count\"] = len([word for word in joined_sentence_chunk.split(\" \")])\n",
    "        chunk_dict[\"chunk_token_count\"] = len(joined_sentence_chunk) / 4\n",
    "\n",
    "        pages_and_chunks.append(chunk_dict)\n",
    "\n",
    "len(pages_and_chunks)"
   ]
  },
  {
   "cell_type": "code",
   "execution_count": 121,
   "metadata": {},
   "outputs": [
    {
     "data": {
      "text/plain": [
       "[{'page_number': 12,\n",
       "  'sentence_chunk': 'They form semi-circles. They are also drawn at an interval of 10. These meridians of longitude and parallels of latitude form a network which is called grid. Unlike the parallels of latitudes, the meridians of longitudes are equal in length. As one go from the equator to the poles the distance between two meridians decreases. There was an agreement world over that the longitude passing through Greenwich Observatory near the city of London will be considered as the Prime Meridian. It is considered to be 00 Longitude and from it we count 1800 eastward as well as 1800 westward. It is interesting that 1800 east and 1800 west meridians are the same line. To',\n",
       "  'chunk_char_count': 660,\n",
       "  'chunk_word_count': 114,\n",
       "  'chunk_token_count': 165.0}]"
      ]
     },
     "execution_count": 121,
     "metadata": {},
     "output_type": "execute_result"
    }
   ],
   "source": [
    "random.sample(pages_and_chunks, k=1)"
   ]
  },
  {
   "cell_type": "code",
   "execution_count": 122,
   "metadata": {},
   "outputs": [
    {
     "data": {
      "text/html": [
       "<div>\n",
       "<style scoped>\n",
       "    .dataframe tbody tr th:only-of-type {\n",
       "        vertical-align: middle;\n",
       "    }\n",
       "\n",
       "    .dataframe tbody tr th {\n",
       "        vertical-align: top;\n",
       "    }\n",
       "\n",
       "    .dataframe thead th {\n",
       "        text-align: right;\n",
       "    }\n",
       "</style>\n",
       "<table border=\"1\" class=\"dataframe\">\n",
       "  <thead>\n",
       "    <tr style=\"text-align: right;\">\n",
       "      <th></th>\n",
       "      <th>page_number</th>\n",
       "      <th>chunk_char_count</th>\n",
       "      <th>chunk_word_count</th>\n",
       "      <th>chunk_token_count</th>\n",
       "    </tr>\n",
       "  </thead>\n",
       "  <tbody>\n",
       "    <tr>\n",
       "      <th>count</th>\n",
       "      <td>254.00</td>\n",
       "      <td>254.00</td>\n",
       "      <td>254.00</td>\n",
       "      <td>254.00</td>\n",
       "    </tr>\n",
       "    <tr>\n",
       "      <th>mean</th>\n",
       "      <td>62.39</td>\n",
       "      <td>838.00</td>\n",
       "      <td>131.24</td>\n",
       "      <td>209.50</td>\n",
       "    </tr>\n",
       "    <tr>\n",
       "      <th>std</th>\n",
       "      <td>37.55</td>\n",
       "      <td>527.47</td>\n",
       "      <td>60.81</td>\n",
       "      <td>131.87</td>\n",
       "    </tr>\n",
       "    <tr>\n",
       "      <th>min</th>\n",
       "      <td>0.00</td>\n",
       "      <td>5.00</td>\n",
       "      <td>1.00</td>\n",
       "      <td>1.25</td>\n",
       "    </tr>\n",
       "    <tr>\n",
       "      <th>25%</th>\n",
       "      <td>29.25</td>\n",
       "      <td>600.50</td>\n",
       "      <td>95.25</td>\n",
       "      <td>150.12</td>\n",
       "    </tr>\n",
       "    <tr>\n",
       "      <th>50%</th>\n",
       "      <td>61.00</td>\n",
       "      <td>832.50</td>\n",
       "      <td>137.50</td>\n",
       "      <td>208.12</td>\n",
       "    </tr>\n",
       "    <tr>\n",
       "      <th>75%</th>\n",
       "      <td>94.00</td>\n",
       "      <td>1050.25</td>\n",
       "      <td>174.00</td>\n",
       "      <td>262.56</td>\n",
       "    </tr>\n",
       "    <tr>\n",
       "      <th>max</th>\n",
       "      <td>128.00</td>\n",
       "      <td>4446.00</td>\n",
       "      <td>321.00</td>\n",
       "      <td>1111.50</td>\n",
       "    </tr>\n",
       "  </tbody>\n",
       "</table>\n",
       "</div>"
      ],
      "text/plain": [
       "       page_number  chunk_char_count  chunk_word_count  chunk_token_count\n",
       "count       254.00            254.00            254.00             254.00\n",
       "mean         62.39            838.00            131.24             209.50\n",
       "std          37.55            527.47             60.81             131.87\n",
       "min           0.00              5.00              1.00               1.25\n",
       "25%          29.25            600.50             95.25             150.12\n",
       "50%          61.00            832.50            137.50             208.12\n",
       "75%          94.00           1050.25            174.00             262.56\n",
       "max         128.00           4446.00            321.00            1111.50"
      ]
     },
     "execution_count": 122,
     "metadata": {},
     "output_type": "execute_result"
    }
   ],
   "source": [
    "df = pd.DataFrame(pages_and_chunks)\n",
    "df.describe().round(2)"
   ]
  },
  {
   "cell_type": "code",
   "execution_count": 123,
   "metadata": {},
   "outputs": [
    {
     "name": "stdout",
     "output_type": "stream",
     "text": [
      "Processing row 188: {'page_number': 93, 'sentence_chunk': 'It is largely responsible', 'chunk_char_count': 25, 'chunk_word_count': 4, 'chunk_token_count': 6.25}\n",
      "Processing row 173: {'page_number': 85, 'sentence_chunk': 'It is the layer of the ocean', 'chunk_char_count': 28, 'chunk_word_count': 7, 'chunk_token_count': 7.0}\n",
      "Processing row 145: {'page_number': 70, 'sentence_chunk': 'wide.', 'chunk_char_count': 5, 'chunk_word_count': 1, 'chunk_token_count': 1.25}\n",
      "Processing row 117: {'page_number': 56, 'sentence_chunk': 'The deepest section is less than 55m (180 feet) underwater.', 'chunk_char_count': 59, 'chunk_word_count': 10, 'chunk_token_count': 14.75}\n",
      "Processing row 17: {'page_number': 8, 'sentence_chunk': 'The earth is the only planet where some special', 'chunk_char_count': 47, 'chunk_word_count': 9, 'chunk_token_count': 11.75}\n"
     ]
    }
   ],
   "source": [
    "min_token_length = 15\n",
    "for index, row in df[df[\"chunk_token_count\"] <= min_token_length].sample(5).iterrows():\n",
    "    # Example processing code\n",
    "    print(f\"Processing row {index}: {row.to_dict()}\")"
   ]
  },
  {
   "cell_type": "code",
   "execution_count": 124,
   "metadata": {},
   "outputs": [
    {
     "data": {
      "text/plain": [
       "[{'page_number': 0,\n",
       "  'sentence_chunk': '1   IIPA2022 22 World Geography Short Answers PKP-03 by Dr Amit Kumar Singh',\n",
       "  'chunk_char_count': 75,\n",
       "  'chunk_word_count': 15,\n",
       "  'chunk_token_count': 18.75},\n",
       " {'page_number': 1,\n",
       "  'sentence_chunk': '2 Contents 1. Origin of Solar System and Sun ........................................................................................................... 6 2. Stars, Sun & Planets ............................................................................................................................. 8 Sun Statistics ....................................................................................................................................... 8 Solar Eclipse ........................................................................................................................................ 9 Lunar Eclipse ....................................................................................................................................... 9 The Planets .......................................................................................................................................... 9 3. Latitudes and Longitudes ................................................................................................................... 11 Latitudes ........................................................................................................................................... 11 Heat Zones ........................................................................................................................................ 12 Longitudes ......................................................................................................................................... 13 Time Zones ........................................................................................................................................ 14 4. Motions of the Earth: Rotation and Revolution. ................................................................................15 Rotation ............................................................................................................................................ 15 The Coriolis Force. .............................................................................................................................15 Revolution ......................................................................................................................................... 15 Summer solstice ................................................................................................................................ 16 Winter solstice................................................................................................................................... 17 Equinox ............................................................................................................................................. 17 Effects of revolution .......................................................................................................................... 17 5. Geomorphic Processes: Endogenic Forces and Evolution of Landforms .............................................. 18 Endogenic Forces ............................................................................................................................... 18 Forces of Compression: ............................................................................................................... 20 Exogenic Forces ................................................................................................................................. 20 6. Origin of the Earth ............................................................................................................................. 21 7. Interior Structure of the Earth ........................................................................................................... 24 8.',\n",
       "  'chunk_char_count': 3711,\n",
       "  'chunk_word_count': 128,\n",
       "  'chunk_token_count': 927.75}]"
      ]
     },
     "execution_count": 124,
     "metadata": {},
     "output_type": "execute_result"
    }
   ],
   "source": [
    "pages_and_chunks_over_min_token_length = df[df[\"chunk_token_count\"] > min_token_length].to_dict(orient=\"records\")\n",
    "pages_and_chunks_over_min_token_length[:2]"
   ]
  },
  {
   "cell_type": "code",
   "execution_count": 125,
   "metadata": {},
   "outputs": [
    {
     "data": {
      "text/plain": [
       "[{'page_number': 98,\n",
       "  'sentence_chunk': '99 26. Insolation and Heat Balance of the Earth The atmosphere is essential for the survival of plant and animal life. They also require the optimum temperature to keep themselves warm and grow. In this article, we are going to discuss in details about some of the topics like insolation, terrestrial radiation, heat budget of the earth, albedo, etc. Insolation or Incoming Solar Radiation \\uf0b7 As we all know, the sun is the primary source of energy for the earth. The sun radiates its energy in all directions into space in short wavelengths, which is known as solar radiation.\\uf0b7 The earth’s surface receives only a part of this radiated energy (2 units out of 1,00,00,00,000 units of energy radiated by the sun).\\uf0b7 The energy received by the earth’s surface in the form of short waves is termed as Incoming Solar Radiation or Insolation.\\uf0b7 The amount of insolation received on the earth’s surface is far less than that is radiated from the sun because of the small size of the earth and its distance from the sun.\\uf0b7 Moreover, water vapour, dust particles, ozone and other gases present in the atmosphere absorb a small amount of solar radiation.',\n",
       "  'chunk_char_count': 1141,\n",
       "  'chunk_word_count': 196,\n",
       "  'chunk_token_count': 285.25}]"
      ]
     },
     "execution_count": 125,
     "metadata": {},
     "output_type": "execute_result"
    }
   ],
   "source": [
    "random.sample(pages_and_chunks_over_min_token_length, k=1)"
   ]
  },
  {
   "cell_type": "markdown",
   "metadata": {},
   "source": [
    "Embedding : \n",
    "\n",
    "A useful numerical representation and it is a learned representation. \n",
    "\n",
    "\n",
    "{\n",
    "    the: 0,\n",
    "    a : 1,\n",
    "    ...\n",
    "}"
   ]
  },
  {
   "cell_type": "code",
   "execution_count": 126,
   "metadata": {},
   "outputs": [
    {
     "name": "stderr",
     "output_type": "stream",
     "text": [
      "C:\\Users\\aryan\\AppData\\Local\\Packages\\PythonSoftwareFoundation.Python.3.11_qbz5n2kfra8p0\\LocalCache\\local-packages\\Python311\\site-packages\\huggingface_hub\\file_download.py:1132: FutureWarning: `resume_download` is deprecated and will be removed in version 1.0.0. Downloads always resume when possible. If you want to force a new download, use `force_download=True`.\n",
      "  warnings.warn(\n"
     ]
    },
    {
     "name": "stdout",
     "output_type": "stream",
     "text": [
      "Sentence: The sentence transformer provides an easier way to create embeddings\n",
      "Embedding: [-6.87679201e-02 -3.37028950e-02  3.68130989e-02  1.77186299e-02\n",
      "  4.59097028e-02  7.25906417e-02 -2.06882395e-02  5.50199710e-02\n",
      "  9.44427997e-02 -4.44253236e-02  5.07963374e-02  1.03461444e-02\n",
      "  1.73806529e-02  6.51760772e-02  1.94573663e-02  8.53721723e-02\n",
      "  1.59757342e-02  1.02003135e-01 -7.83813596e-02 -1.06738113e-01\n",
      "  6.44138968e-03  3.28693874e-02  2.74742004e-02 -6.96152002e-02\n",
      "  5.03769144e-02  6.34706244e-02 -3.52961123e-02  1.27846748e-02\n",
      "  7.83551186e-02 -6.58562314e-03 -1.30270229e-04 -5.40848039e-02\n",
      " -4.96062152e-02  9.75598395e-02 -3.67665216e-02  2.29739249e-02\n",
      "  4.46881577e-02  7.04804584e-02 -4.62974198e-02 -1.74799338e-02\n",
      "  2.25367267e-02  6.00746088e-03  6.89678416e-02  5.03606573e-02\n",
      "  4.12279367e-02 -3.38686816e-02 -4.16970365e-02 -9.08160862e-03\n",
      " -2.03304663e-02  1.73994489e-02 -4.90085185e-02 -2.83182859e-02\n",
      " -9.14116317e-05  6.86822906e-02 -4.36346792e-02  3.69178839e-02\n",
      " -6.90460717e-03 -3.20158079e-02  2.52354122e-03 -6.85855821e-02\n",
      " -4.81875949e-02 -9.25179292e-03  1.03308130e-02  1.69749241e-02\n",
      " -1.78921726e-02 -1.13739530e-02  3.19042057e-02  5.38398288e-02\n",
      " -5.49549572e-02  6.68595508e-02 -7.65900984e-02  5.46231028e-03\n",
      " -1.15826361e-01  9.60020069e-03 -3.74539308e-02  7.58873811e-03\n",
      "  4.65456918e-02 -1.15772821e-01  8.94280449e-02 -2.34374637e-03\n",
      "  1.73093881e-02 -1.20466305e-02  3.93723436e-02  3.37575749e-02\n",
      "  8.00869614e-02 -8.22894927e-03  2.39798911e-02 -3.51164080e-02\n",
      " -6.94097057e-02  3.77035066e-02 -4.85910997e-02 -9.18819308e-02\n",
      "  5.83603904e-02  4.40987246e-03 -1.20912418e-02 -1.27744842e-02\n",
      " -3.97725850e-02 -5.00577502e-04  1.40865864e-02  5.66038489e-02\n",
      "  1.56822428e-02 -2.10517570e-02  9.34684202e-02 -8.01689103e-02\n",
      " -1.12757288e-01 -7.87602663e-02 -2.69982908e-02 -2.18163859e-02\n",
      " -3.66850570e-02 -4.73496020e-02 -3.21253240e-02  1.76445544e-02\n",
      " -2.15696972e-02 -3.85149121e-02  3.16064060e-02 -4.57879677e-02\n",
      " -3.12289931e-02 -7.00653205e-03  4.54271212e-02 -1.14641699e-03\n",
      "  2.64526661e-02  8.82452577e-02 -7.63642713e-02  5.18464856e-02\n",
      " -2.81736953e-03 -2.06319764e-02  2.71378327e-02 -1.00582790e-33\n",
      " -1.07749533e-02  4.13874164e-02 -6.81097666e-03  3.25223729e-02\n",
      "  1.13953333e-02  3.53021175e-02 -2.98740081e-02  8.70844871e-02\n",
      " -7.74921849e-02 -5.14865760e-03 -4.48307656e-02  1.19365975e-02\n",
      " -1.13251545e-02  6.49723932e-02  1.69319361e-02 -5.33052199e-02\n",
      " -2.77446602e-02  6.50199875e-03 -2.01725960e-02 -6.40442362e-03\n",
      " -5.52308895e-02  1.56156756e-02  3.54719386e-02 -3.09682786e-02\n",
      " -1.03251077e-01 -1.65417716e-02  1.04272924e-01 -4.96324711e-02\n",
      " -4.14637774e-02 -2.51165777e-02 -1.09986097e-01 -1.63343046e-02\n",
      " -2.38763429e-02 -4.13739830e-02  3.54845449e-02  1.25509675e-03\n",
      "  6.51698187e-02 -2.38405932e-02  2.17610858e-02 -3.54964882e-02\n",
      " -3.11645539e-03  1.38566308e-02  1.27461832e-02 -3.37155419e-04\n",
      "  4.26194724e-03  4.37224805e-02  2.12068688e-02 -4.74627689e-03\n",
      "  5.14270626e-02 -2.24460885e-02  2.57521402e-02  1.92213263e-02\n",
      " -9.47185680e-02 -5.48141263e-02  1.52076066e-01  2.10959557e-02\n",
      "  3.70705910e-02  2.82546692e-03  5.27914539e-02 -2.61936747e-02\n",
      " -1.38949025e-02  4.20912504e-02  7.86099583e-02  4.76701622e-04\n",
      "  3.60689797e-02 -2.34178938e-02 -2.14260053e-02 -4.05512266e-02\n",
      "  2.33606305e-02  3.96905690e-02 -4.11944464e-02  5.74228689e-02\n",
      " -4.58913669e-02 -2.31523402e-02 -4.11412157e-02  4.64314371e-02\n",
      " -3.06732822e-02 -3.12650241e-02 -1.81305502e-02  5.10102175e-02\n",
      " -6.67906776e-02 -1.12753667e-01  4.42469418e-02 -2.75396090e-02\n",
      " -3.92000601e-02 -7.78408721e-02  2.17873752e-02 -7.24924281e-02\n",
      "  6.46489859e-02  2.13152394e-02  8.74037563e-04 -2.38038898e-02\n",
      " -4.39096801e-02  3.88069637e-02  7.77468532e-02  3.23707106e-34\n",
      " -2.52612941e-02  3.41512151e-02 -7.45881125e-02  6.26159608e-02\n",
      " -1.07799303e-02 -3.75766717e-02 -9.09991190e-03  7.52477720e-02\n",
      "  5.52239129e-03  1.64570492e-02 -5.29753566e-02 -1.98995322e-02\n",
      "  3.22357453e-02 -7.59624839e-02  8.67645890e-02  9.30387340e-03\n",
      " -1.76651292e-02  6.23803586e-02 -2.72998363e-02  2.82911826e-02\n",
      "  2.04400308e-02  1.28177688e-01 -1.03742294e-01  8.67593884e-02\n",
      " -1.35309128e-02  3.28688286e-02 -4.39105555e-02 -5.70199080e-03\n",
      " -6.58263266e-02 -2.82266047e-02 -1.53197264e-02 -7.35465586e-02\n",
      " -2.45342832e-02 -3.03788967e-02 -8.76193941e-02  2.39364728e-02\n",
      "  4.60261293e-02 -2.49296520e-02  3.90817272e-03 -2.87758391e-02\n",
      "  5.68682849e-02  3.27360891e-02 -5.70329130e-02  3.90080772e-02\n",
      " -4.68343645e-02 -1.40709151e-02 -7.04647973e-02 -4.22255397e-02\n",
      "  7.75481164e-02  4.24332023e-02 -3.50074843e-02  3.06135379e-02\n",
      " -1.20127290e-01 -3.26633491e-02 -1.07247354e-02 -1.00981392e-01\n",
      "  2.05558073e-02 -1.15367271e-01  1.65077914e-02 -4.05668132e-02\n",
      " -8.55142400e-02 -1.25411572e-02  7.45692253e-02 -1.45346284e-01\n",
      "  8.12425762e-02 -9.21378955e-02 -1.84136268e-03  4.44831401e-02\n",
      "  4.30682115e-03 -3.07436660e-02  5.90840401e-03 -2.19446756e-02\n",
      " -9.72911157e-03  3.92566845e-02  2.38870066e-02 -6.90441653e-02\n",
      "  5.65967746e-02  2.38647088e-02 -6.73484132e-02 -6.58002123e-02\n",
      "  2.65292022e-02 -6.06528707e-02  9.16197971e-02 -2.64470512e-03\n",
      "  2.64308583e-02  6.81605563e-02  6.02901131e-02  6.14075502e-03\n",
      "  5.05560674e-02  6.90624118e-02 -7.44455159e-02  3.23930234e-02\n",
      "  1.19900703e-02  1.43940330e-01  1.52405184e-02 -2.12866009e-08\n",
      " -9.39775184e-02 -2.78656054e-02 -5.25544882e-02  1.11419661e-02\n",
      " -1.03561692e-01 -7.05890805e-02  1.61912497e-02  5.45051359e-02\n",
      " -5.98398633e-02 -2.15389691e-02  3.85509767e-02 -1.88656542e-02\n",
      " -5.32027222e-02 -1.13321785e-02  5.07651195e-02  6.07884601e-02\n",
      " -2.82418393e-02  4.12526689e-02  3.61578055e-02  1.25972209e-02\n",
      "  3.74282934e-02  1.18428439e-01 -1.88708436e-02  1.76252276e-02\n",
      " -2.00629011e-02  1.75880231e-02 -3.91747318e-02  1.72035340e-02\n",
      "  3.70857157e-02  5.36556579e-02  3.93491611e-02  7.20074102e-02\n",
      " -3.66443098e-02 -1.34421252e-02 -4.34219167e-02  8.19856152e-02\n",
      "  6.44632280e-02 -7.93300942e-02  9.13537666e-03 -2.55013816e-02\n",
      "  5.90690970e-02  4.23957147e-02 -1.34529546e-01  4.96289805e-02\n",
      "  7.58512914e-02  2.55390201e-02  1.97976492e-02 -8.04002210e-02\n",
      "  4.70416993e-03 -2.36170590e-02  3.10665928e-02 -7.45723993e-02\n",
      "  7.71499379e-03  7.41317309e-03  4.43007238e-02  3.11509706e-02\n",
      "  5.93497902e-02 -7.99795054e-03  2.08049808e-02  1.45604527e-02\n",
      " -1.08555972e-03  1.19825989e-01  6.10035546e-02  1.50353378e-02]\n",
      "Sentence: Sentences can be embedded one by one in  a list.\n",
      "Embedding: [ 2.34562326e-02  5.04969396e-02  3.62801589e-02  8.40571001e-02\n",
      "  8.38222280e-02  6.86819851e-02  6.75586313e-02  1.95872504e-02\n",
      "  1.52937206e-03  6.59167534e-03  5.71367405e-02  1.02151884e-02\n",
      "  9.43639129e-02  7.78895919e-04  5.57758175e-02  5.33891879e-02\n",
      " -2.34669726e-02  3.58687937e-02 -1.66711789e-02 -1.08843789e-01\n",
      "  5.36137223e-02  1.10756233e-01  1.84781570e-02 -1.06742401e-02\n",
      "  4.69324738e-02  2.16549765e-02 -8.65305886e-02 -4.53591049e-02\n",
      "  1.63873471e-02  2.40868162e-02 -2.77060959e-02 -3.74498442e-02\n",
      "  9.99354757e-03  1.37798905e-01  5.72514348e-02  5.35186604e-02\n",
      "  1.30888708e-02  7.63709098e-02 -3.32987420e-02  3.68363634e-02\n",
      "  6.97016995e-03 -2.44818088e-02  1.97166707e-02 -3.94643247e-02\n",
      "  2.64263619e-02 -2.43917219e-02 -8.45640004e-02  1.97545905e-03\n",
      " -3.02784033e-02 -2.19529010e-02 -1.11278236e-01 -2.24505179e-03\n",
      " -2.86021121e-02  3.21093649e-02 -3.41771729e-03  3.66487689e-02\n",
      " -5.48484661e-02  3.01607456e-02 -2.99916230e-02 -8.08263794e-02\n",
      "  4.61398903e-03 -6.20852131e-03 -2.92639732e-02  4.78845723e-02\n",
      "  8.64439830e-02 -3.44822556e-02 -3.60890036e-03  2.36843023e-02\n",
      " -9.89452079e-02  7.38301203e-02  6.91907248e-03  7.23990193e-03\n",
      " -3.56053635e-02  1.57570299e-02 -3.82516459e-02  7.54485428e-02\n",
      "  4.69764397e-02 -6.74450472e-02  5.50501794e-02 -6.02274295e-03\n",
      " -7.59381279e-02 -6.91862553e-02  2.31363233e-02 -4.89070155e-02\n",
      "  2.79097855e-02 -1.80530604e-02  6.63264766e-02 -2.49256510e-02\n",
      " -7.17949867e-02  1.94571838e-02 -4.91898134e-02 -1.14477068e-01\n",
      "  1.30430207e-01  1.88731570e-02  2.59168055e-02  1.91455765e-03\n",
      " -4.42712009e-03 -4.33737785e-02 -3.43133919e-02  3.92626785e-02\n",
      "  1.45519525e-02  3.36262211e-02  1.75937917e-02  4.89757732e-02\n",
      " -1.11074135e-01 -8.39057118e-02 -2.36757807e-02 -9.92257819e-02\n",
      " -2.80635674e-02 -1.14719190e-01 -5.07724360e-02 -1.21307950e-02\n",
      " -4.09743749e-03 -4.77542467e-02 -3.18622254e-02 -5.18417731e-02\n",
      "  1.00784190e-02  5.58730215e-02  6.14986867e-02  4.94404808e-02\n",
      " -1.74057521e-02  1.41190300e-02  2.05280003e-03  1.79378483e-02\n",
      "  1.89321041e-02 -1.36386111e-01  1.42506938e-02 -2.30035006e-33\n",
      "  7.43086124e-03 -4.26524244e-02 -1.02692069e-02  1.39285326e-02\n",
      " -1.89134274e-02  1.86081212e-02 -4.81546186e-02  2.61902530e-02\n",
      " -9.37767029e-02  4.86200070e-03  4.30309959e-02 -2.27912199e-02\n",
      "  4.85814065e-02  9.30522531e-02  6.40039295e-02  6.42338768e-02\n",
      " -1.82279553e-02  3.63280736e-02 -5.84934000e-03 -2.32544374e-02\n",
      " -5.86852543e-02  1.77682936e-02 -4.47665825e-02 -8.44887421e-02\n",
      " -8.42233002e-02  9.25979763e-03  5.97419739e-02 -2.95801666e-02\n",
      " -7.54821226e-02  1.25554381e-02 -8.13761353e-02 -1.51116885e-02\n",
      " -1.44935977e-02 -5.76119451e-03  6.12267628e-02  2.69740075e-02\n",
      "  1.53938802e-02 -1.15823625e-02  2.55164467e-02 -3.55113298e-02\n",
      " -3.09047550e-02  2.29721572e-02  1.08077768e-02 -6.91495603e-03\n",
      "  6.40903488e-02  2.04285346e-02 -6.44224808e-02  4.20355760e-02\n",
      "  2.22384818e-02  3.81492749e-02  1.85648315e-02  3.89925875e-02\n",
      " -4.65582795e-02 -6.81159049e-02  1.04047440e-01 -4.39194636e-03\n",
      "  1.70658249e-02  5.03848530e-02  8.11258852e-02  3.58308218e-02\n",
      " -4.18341681e-02  5.80771044e-02 -5.01154689e-03 -2.46487241e-02\n",
      "  5.57437316e-02  2.02163961e-02 -5.15893959e-02  2.41515618e-02\n",
      "  4.42923754e-02  5.82633093e-02 -1.42395440e-02  1.95245277e-02\n",
      " -3.81640270e-02  2.67726947e-02 -8.35532695e-02  1.16667254e-02\n",
      " -3.55739816e-04 -9.80331153e-02 -2.17714943e-02  6.97679967e-02\n",
      " -9.90379695e-03 -1.60572469e-01  4.94299196e-02  6.80043325e-02\n",
      " -3.87471505e-02 -2.53120214e-02  6.46560416e-02 -3.52340564e-02\n",
      " -3.05988500e-03 -1.52611835e-02 -3.01798861e-02  1.68791655e-02\n",
      "  6.06986582e-02 -4.25343998e-02  2.18794737e-02 -8.20349406e-34\n",
      "  1.97171755e-02  7.16511682e-02 -4.44211736e-02  3.09453142e-04\n",
      "  3.51275541e-02  1.22672943e-02 -1.67626701e-02 -3.92125808e-02\n",
      "  7.62006221e-03  9.19555128e-03 -7.65620321e-02  3.08363456e-02\n",
      "  2.05694269e-02 -5.98649271e-02  7.65815191e-03  3.03743277e-02\n",
      " -6.32074028e-02  3.69734466e-02 -6.02560453e-02  9.38951299e-02\n",
      " -1.61640730e-03  6.18234798e-02 -7.57939089e-03  1.23016782e-01\n",
      "  1.57071333e-02  1.24655003e-02  1.36131011e-02  7.14538759e-03\n",
      " -1.04872599e-01 -8.83666985e-03  4.67149494e-03 -4.98600937e-02\n",
      " -4.56142053e-02 -2.10940256e-03 -1.98098123e-02  2.29895376e-02\n",
      "  7.12533221e-02 -7.95306861e-02 -3.50563303e-02  1.78258587e-02\n",
      "  7.54968300e-02  1.53333172e-02 -4.38045263e-02 -5.18486742e-03\n",
      "  6.87596807e-03 -7.80403316e-02 -1.27029017e-01 -4.40337770e-02\n",
      " -1.25352982e-02  8.26816857e-02 -1.37119874e-01  3.63219716e-02\n",
      " -6.54136315e-02 -2.02190056e-02 -3.50613669e-02 -1.44013623e-02\n",
      " -2.24527065e-02 -9.29975417e-03  5.17099574e-02 -5.71056567e-02\n",
      " -6.56510964e-02  4.68976684e-02  4.96112444e-02  5.62315527e-03\n",
      "  1.28392562e-01 -1.01799428e-01 -8.09403136e-02 -2.91944426e-02\n",
      " -6.41309023e-02 -8.07524621e-02  6.07690727e-03 -1.77998375e-02\n",
      " -7.22399279e-02  5.02040097e-03 -3.23373899e-02 -5.11335097e-02\n",
      "  1.87428016e-02 -5.10505587e-02 -5.54827973e-02 -7.15813562e-02\n",
      "  2.14546546e-02 -1.26460185e-02  3.28274630e-02 -4.50537466e-02\n",
      " -3.27257393e-03  1.39265051e-02  1.61140058e-02  5.98623566e-02\n",
      "  9.27933864e-03  3.23143713e-02 -7.63854682e-02 -2.88206954e-02\n",
      "  9.13242027e-02  8.85293409e-02 -7.08486661e-02 -2.29233219e-08\n",
      " -6.71488121e-02 -4.62040640e-02  2.35784706e-02  7.15207383e-02\n",
      " -3.49114425e-02 -2.32234783e-02  1.08716683e-02 -3.25037204e-02\n",
      "  6.91366289e-03 -1.91858262e-02  6.17897287e-02  6.29242808e-02\n",
      " -5.70245348e-02  4.22186591e-03  5.37953712e-02  3.44344899e-02\n",
      " -4.56024781e-02 -2.81630494e-02 -2.16048267e-02  3.74480784e-02\n",
      "  7.27643818e-02  2.84791868e-02  4.56919847e-03 -2.21459125e-03\n",
      " -1.12677030e-02  1.96438865e-03 -4.89865765e-02  4.96323332e-02\n",
      "  1.73492078e-02  8.99152309e-02  5.94953038e-02  2.10372228e-02\n",
      "  1.13805709e-02  2.25258968e-03  5.27376682e-02  2.04671137e-02\n",
      "  6.14038594e-02 -4.07888144e-02  6.48774859e-03 -6.20214157e-02\n",
      " -9.29148030e-03  1.58366766e-02 -1.20839946e-01  8.75867009e-02\n",
      "  1.04563884e-01 -6.51319139e-03 -4.26220037e-02 -1.30629182e-01\n",
      " -1.85518935e-02 -3.28313150e-02 -5.28649194e-03 -1.24127921e-02\n",
      "  5.18217124e-02 -4.54208553e-02  2.46770214e-02  1.28300413e-02\n",
      "  8.51354972e-02  6.37837546e-03  2.29973719e-02 -2.99788378e-02\n",
      "  3.60932201e-02  5.88046797e-02  7.13888258e-02  6.02300745e-03]\n",
      "Sentence: I like chimps!\n",
      "Embedding: [-5.03895283e-02 -6.14672191e-02  5.85084036e-02 -1.36396510e-03\n",
      " -4.39966768e-02 -1.29542751e-02  5.76724224e-02  1.21858856e-02\n",
      "  2.72746384e-02  1.91462427e-01  1.06477611e-01 -6.79736286e-02\n",
      "  4.52797255e-03  2.77071614e-02 -1.24746170e-02  1.10872751e-02\n",
      "  2.26032250e-02 -2.75606923e-02  3.47521827e-02  6.58257529e-02\n",
      " -1.49257764e-01 -1.98502839e-03  5.23316711e-02  2.85540223e-02\n",
      " -9.04282555e-02  4.04951386e-02 -3.66965234e-02  3.33050936e-02\n",
      " -1.38024800e-02 -1.97847374e-02 -3.90185900e-02  4.52924967e-02\n",
      " -2.46524811e-02  1.40734278e-02 -5.28035313e-03  2.14657765e-02\n",
      "  4.88234684e-02 -7.47248181e-04  6.56649917e-02  7.36807436e-02\n",
      "  2.45942529e-02  1.80621408e-02  5.26421629e-02  6.91983616e-03\n",
      "  4.30193869e-03 -4.39660549e-02 -1.67878717e-02 -3.96978594e-02\n",
      "  3.19559574e-02  3.62758264e-02  7.22987950e-02  3.82770486e-02\n",
      " -1.54527780e-02  3.94500829e-02 -8.87635574e-02  2.98357494e-02\n",
      " -3.44499126e-02 -6.49662390e-02 -1.27031598e-02  1.85289420e-02\n",
      " -1.93558633e-02  5.02249412e-02 -1.82857141e-02 -3.52413617e-02\n",
      "  4.70584333e-02  6.29997067e-03 -3.62707116e-02  5.16247377e-02\n",
      "  7.12430701e-02  3.87424715e-02  2.17272248e-02  1.39931468e-02\n",
      " -8.75555351e-02  9.91654024e-02 -3.50190401e-02  6.08499683e-02\n",
      "  2.87940297e-02 -5.55279553e-02  4.02002642e-03 -6.18098304e-02\n",
      "  3.05869691e-02 -1.34347275e-01 -3.83747257e-02 -2.72424221e-02\n",
      "  5.72041757e-02 -9.97929722e-02 -5.96362576e-02  5.04909754e-02\n",
      " -9.34253559e-02  1.74306296e-02 -3.97309549e-02  4.46862727e-03\n",
      " -3.31359133e-02 -1.01257777e-02 -3.87913659e-02 -1.42149925e-02\n",
      "  5.79872588e-03 -3.19358744e-02 -4.39845286e-02  3.46319042e-02\n",
      "  4.14509093e-03 -4.32823505e-03 -8.38485267e-03 -1.33998385e-02\n",
      "  6.40563145e-02 -1.16827311e-02 -2.12685410e-02 -2.38745892e-03\n",
      "  5.76025844e-02 -4.76685353e-02 -2.48323604e-02  1.24272676e-02\n",
      "  8.66529625e-03  3.99895683e-02  2.16092728e-02  2.60635652e-02\n",
      "  6.14136979e-02  2.36180890e-02  1.29287075e-02 -4.05122750e-02\n",
      "  2.75769606e-02  6.99955896e-02 -5.56989908e-02 -4.27023247e-02\n",
      "  1.03140743e-02 -7.34609962e-02 -4.52268198e-02 -2.55267359e-33\n",
      " -3.14963348e-02 -2.96381414e-02  1.62707884e-02 -5.77213727e-02\n",
      " -7.49109127e-03  1.04024000e-01  9.56925284e-03  1.36843501e-02\n",
      " -3.33494768e-02  1.36411767e-02 -7.71164596e-02  4.41396870e-02\n",
      " -8.96742940e-02  5.71785159e-02 -6.62337020e-02  7.58530125e-02\n",
      " -1.16916355e-02 -2.65661944e-02 -4.47013639e-02 -3.17676701e-02\n",
      " -1.10764138e-01  9.99059007e-02 -3.12930625e-03  1.14331283e-01\n",
      "  7.67265484e-02 -4.13873009e-02  3.10686082e-02 -7.89813921e-02\n",
      "  2.62702480e-02  3.65729816e-02  6.09319694e-02 -5.86013729e-03\n",
      "  6.73439875e-02 -2.46585254e-02 -6.40334710e-02 -9.14735906e-03\n",
      " -1.99770331e-02 -3.34195532e-02 -1.18793212e-02  5.76155111e-02\n",
      "  1.41913876e-01 -2.38173399e-02 -1.04535241e-02  2.92497035e-02\n",
      "  2.50194762e-02  8.88118595e-02  4.70646583e-02 -6.51798025e-02\n",
      " -1.18810944e-02 -4.49835546e-02 -8.16946030e-02  3.33049521e-02\n",
      " -3.55288712e-03  9.70981345e-02  6.09557182e-02 -2.87725683e-02\n",
      "  7.59818554e-02  5.88495918e-02 -7.23868981e-02 -3.77034023e-02\n",
      " -3.38143408e-02  4.97003756e-02  8.02539010e-03 -1.01223767e-01\n",
      "  6.47683144e-02 -2.40483228e-02  1.39391785e-02  5.51316049e-03\n",
      " -3.97145487e-02  8.58038105e-03 -1.80228651e-02 -1.46756247e-02\n",
      " -6.46481365e-02 -4.56237756e-02 -5.49628623e-02 -4.93130870e-02\n",
      "  6.11642748e-03 -1.62594263e-02 -7.00784400e-02 -4.02118973e-02\n",
      "  5.47561236e-02  5.66535909e-03 -3.83725725e-02 -4.28383425e-02\n",
      "  2.95965374e-02  5.56628741e-02 -1.23394905e-02 -6.23725019e-02\n",
      "  3.35836224e-02 -1.20125324e-01  9.34970507e-04 -4.36949506e-02\n",
      "  1.01309836e-01  1.38553954e-03 -9.65481251e-02  2.03259522e-33\n",
      " -3.08361035e-02 -7.51965642e-02  7.82578066e-03  3.43954004e-02\n",
      " -1.37807918e-03  1.39486119e-02 -2.97280923e-02  3.42815407e-02\n",
      " -1.97507646e-02  4.95158546e-02 -3.75355743e-02 -7.35878199e-02\n",
      "  1.07114920e-02 -6.93368763e-02  3.86689939e-02  1.62804145e-02\n",
      " -2.23719738e-02  4.38082255e-02  1.22680860e-02  2.88698915e-02\n",
      " -9.20813382e-02  4.33656797e-02  8.07393994e-03  6.62842989e-02\n",
      " -2.86565311e-02  5.87169006e-02 -3.34658697e-02  1.50844296e-02\n",
      "  4.10941206e-02 -1.68581062e-03 -4.13405485e-02 -5.49265835e-03\n",
      " -2.66718660e-02 -9.62639004e-02  9.03298408e-02  8.12145416e-03\n",
      " -5.27468771e-02  2.16074195e-03 -2.20485087e-02 -3.15362308e-03\n",
      " -2.72034630e-02  4.54933159e-02  1.05301082e-01  5.53803369e-02\n",
      "  2.45364849e-02  5.56701496e-02  1.32531440e-02 -2.53130142e-02\n",
      " -1.65923908e-01  7.86747709e-02 -8.87606964e-02 -7.01542646e-02\n",
      " -1.21792629e-02 -6.54759854e-02  2.74718702e-02 -7.65438052e-03\n",
      "  3.91047113e-02  2.72671953e-02  8.30627605e-03 -6.74693510e-02\n",
      " -4.82386164e-02  8.65726396e-02 -7.54879264e-04  9.32681113e-02\n",
      " -5.18589579e-02  3.05247717e-02 -4.76895422e-02  2.83688698e-02\n",
      " -6.69254288e-02 -1.56003302e-02  1.99851245e-02  2.44776122e-02\n",
      " -5.15124016e-02 -3.00863525e-03  4.33253758e-02  5.77313900e-02\n",
      "  5.54812606e-03  1.73258148e-02  6.34549710e-04 -8.21737573e-03\n",
      " -4.13725339e-02  5.67102246e-02 -5.28849326e-02  9.39597636e-02\n",
      " -4.13791044e-03  1.06951073e-01 -6.86169490e-02  6.62300363e-02\n",
      " -3.92056257e-02  4.30370942e-02  1.98719371e-02 -2.40004193e-02\n",
      "  2.75401007e-02  5.41222207e-02  2.63042077e-02 -1.42085170e-08\n",
      " -4.43897918e-02  3.07961293e-02  9.35088322e-02  1.38152409e-02\n",
      "  7.24121854e-02  3.11913379e-02 -6.53117672e-02  2.99269538e-02\n",
      " -3.54033113e-02  3.95208485e-02  9.89954546e-02  6.04506545e-02\n",
      " -4.35765684e-02  1.11937687e-01  3.30828466e-02  5.40800095e-02\n",
      "  1.52631337e-02 -1.87421665e-02  3.94093990e-02  3.30153480e-02\n",
      " -9.15745944e-02  6.12948500e-02  3.42441201e-02 -7.91178644e-03\n",
      " -3.09676789e-02 -4.25527170e-02 -5.39994016e-02 -3.32054719e-02\n",
      " -1.56531017e-02 -2.28382880e-03  1.52436346e-02  4.85041328e-02\n",
      " -7.01286346e-02  1.88124049e-02  2.72077154e-02 -7.29025751e-02\n",
      "  3.18952203e-02 -5.83889000e-02  3.55917625e-02 -5.49941547e-02\n",
      "  2.44112127e-02  9.13497359e-02 -3.58737484e-02 -6.13239035e-02\n",
      " -5.66225685e-02 -6.64727166e-02  1.35982960e-01 -5.26488796e-02\n",
      " -5.40738832e-03 -3.35669518e-02 -5.34036085e-02  2.83861096e-04\n",
      " -9.10546351e-03  1.82442833e-02  3.14711966e-03 -2.66889986e-02\n",
      " -2.70780921e-02 -3.29775661e-02  1.36963660e-02  3.54640093e-03\n",
      "  7.77155608e-02 -1.03238504e-03  1.25779472e-02  1.04688285e-02]\n"
     ]
    }
   ],
   "source": [
    "from sentence_transformers import SentenceTransformer\n",
    "embedding_model = SentenceTransformer(model_name_or_path=\"all-MiniLM-L6-v2\", device=\"cuda\")\n",
    "\n",
    "#create a list of sentences\n",
    "sentences = [\"The sentence transformer provides an easier way to create embeddings\",\n",
    "\"Sentences can be embedded one by one in  a list.\",\"I like chimps!\"]\n",
    "\n",
    "embeddings = embedding_model.encode(sentences)\n",
    "embedding_dict = dict(zip(sentences, embeddings))\n",
    "\n",
    "for sentence, embedding in embedding_dict.items():\n",
    "    print(f\"Sentence: {sentence}\")\n",
    "    print(f\"Embedding: {embedding}\")\n"
   ]
  },
  {
   "cell_type": "code",
   "execution_count": 127,
   "metadata": {},
   "outputs": [
    {
     "data": {
      "text/plain": [
       "(384,)"
      ]
     },
     "execution_count": 127,
     "metadata": {},
     "output_type": "execute_result"
    }
   ],
   "source": [
    "embeddings[0].shape"
   ]
  },
  {
   "cell_type": "code",
   "execution_count": 128,
   "metadata": {},
   "outputs": [
    {
     "data": {
      "text/plain": [
       "array([-5.49600944e-02,  7.83105660e-03,  4.53742221e-02,  1.39820976e-02,\n",
       "        6.11190312e-03,  3.69757041e-02,  5.68162575e-02,  8.16690922e-03,\n",
       "        6.46038875e-02,  3.74894068e-02, -3.10413763e-02, -6.54169694e-02,\n",
       "        1.80261582e-02,  6.76760450e-02,  4.60805856e-02, -7.25531066e-03,\n",
       "        2.34833471e-02, -2.68905889e-02,  1.29957236e-02, -7.20567480e-02,\n",
       "       -9.44685787e-02,  5.52156903e-02,  1.91131514e-02, -3.16299610e-02,\n",
       "       -1.05778761e-01, -7.45278820e-02,  8.34870897e-03,  2.31317915e-02,\n",
       "       -3.54249147e-04, -7.11231530e-02, -5.96878007e-02, -5.54633066e-02,\n",
       "        5.56221940e-02, -1.30626876e-02, -3.61372605e-02,  3.70618515e-02,\n",
       "        2.22166744e-03, -6.46472052e-02,  8.49302113e-02,  5.51789813e-02,\n",
       "        2.26267688e-02,  1.08027216e-02,  5.81755601e-02, -3.67338434e-02,\n",
       "        4.32512118e-03,  3.97136435e-02, -4.81586643e-02, -4.30390388e-02,\n",
       "        8.91654491e-02,  2.15335749e-02,  1.61640681e-02, -1.13695599e-02,\n",
       "       -2.48992108e-02, -1.93060320e-02,  7.13144429e-04, -7.61300549e-02,\n",
       "        7.05535873e-04, -2.79394374e-03,  2.87220255e-02, -1.07267961e-01,\n",
       "        2.40209084e-02,  2.52172630e-02,  8.31541047e-02,  4.93042134e-02,\n",
       "       -4.65862304e-02,  8.21735058e-03, -6.76511526e-02,  4.32643760e-03,\n",
       "       -4.95704971e-02,  2.01068874e-02, -4.73854765e-02,  4.63152416e-02,\n",
       "        2.10734420e-02,  2.06837691e-02, -6.20998740e-02,  2.73506492e-02,\n",
       "        1.20313000e-02, -5.65624563e-03,  5.58706224e-02,  3.88068892e-02,\n",
       "       -1.72147192e-02, -8.65979791e-02, -4.79585975e-02, -3.99901047e-02,\n",
       "        5.63694239e-02,  7.42409611e-03,  7.63115427e-03, -2.44431589e-02,\n",
       "       -1.36953637e-01, -6.02578595e-02,  5.68667501e-02, -7.82264248e-02,\n",
       "       -1.04917595e-02,  6.03944343e-03,  3.33752856e-02, -1.45565206e-02,\n",
       "        7.96595588e-02, -2.39041299e-02, -8.19319338e-02,  4.01981287e-02,\n",
       "        6.82569714e-03, -3.68535286e-03, -4.12449837e-02, -2.38769595e-02,\n",
       "        9.59254801e-02,  3.29386368e-02, -6.35862723e-02, -2.25207526e-02,\n",
       "        4.65457328e-02, -2.87959408e-02, -1.91543009e-02, -5.98254129e-02,\n",
       "        5.14846332e-02,  4.29321006e-02,  1.68866701e-02,  2.06657853e-02,\n",
       "       -8.81084725e-02,  1.39543880e-02, -2.76021753e-02,  4.72101346e-02,\n",
       "        6.00903258e-02,  4.61964123e-02,  5.99851459e-02, -4.39711399e-02,\n",
       "        2.04957034e-02, -4.23200615e-02,  1.92181692e-02, -5.05641981e-33,\n",
       "       -4.38571982e-02, -1.49445549e-01,  1.42569216e-02, -5.39034083e-02,\n",
       "        5.11021093e-02,  3.54335620e-03, -2.35214178e-02,  6.12249412e-02,\n",
       "       -3.37794200e-02, -4.37697768e-02,  5.57841407e-03,  3.35345976e-02,\n",
       "       -7.06644207e-02, -4.86969063e-03, -7.91716427e-02,  1.47650670e-02,\n",
       "        1.75147690e-03, -2.67025977e-02,  2.24309340e-02, -2.93509178e-02,\n",
       "       -3.27186137e-02,  9.22696963e-02,  3.13219912e-02,  5.45774400e-02,\n",
       "       -3.64613789e-03, -7.11301491e-02,  2.42386293e-02, -8.36431980e-02,\n",
       "       -1.94490124e-02,  6.69258237e-02,  2.34407932e-03, -5.81086613e-02,\n",
       "       -4.95858155e-02, -3.97896916e-02, -5.41834123e-02, -1.62331790e-01,\n",
       "       -6.83057755e-02, -1.13732651e-01, -7.54948780e-02,  9.66755524e-02,\n",
       "        1.07830368e-01, -4.98480573e-02,  2.12896653e-02,  7.83082750e-03,\n",
       "        1.20079024e-02,  5.10555170e-02,  1.11472793e-02,  5.14429733e-02,\n",
       "       -5.09402156e-02, -6.37520403e-02, -4.63540927e-02,  1.48576805e-02,\n",
       "        3.13781649e-02,  5.79340896e-03,  1.63812693e-02, -4.65570129e-02,\n",
       "        1.99233908e-02, -8.93495686e-04, -1.06337287e-01, -1.84209663e-02,\n",
       "       -8.15499108e-03,  4.84539643e-02,  5.97527586e-02, -3.75878029e-02,\n",
       "        6.72566593e-02,  1.44453216e-02, -7.03199729e-02,  4.76214178e-02,\n",
       "       -2.35914271e-02,  1.22913998e-02,  1.95271615e-02,  4.69163954e-02,\n",
       "       -6.45029219e-03, -1.08371481e-01, -7.21184611e-02, -2.84807403e-02,\n",
       "        7.67807215e-02, -2.36132573e-02, -6.97739422e-02, -8.28639567e-02,\n",
       "       -2.62784921e-02,  8.13153610e-02,  6.01355582e-02, -3.55249457e-02,\n",
       "        1.80026249e-03,  4.12517451e-02,  3.08602396e-02, -1.37925282e-01,\n",
       "       -3.96382883e-02,  2.79342430e-03, -3.31620164e-02, -3.71249132e-02,\n",
       "       -2.36930270e-02, -2.94195265e-02,  5.97201521e-04,  3.38022400e-33,\n",
       "       -4.52104285e-02, -1.21454978e-02,  8.77070799e-02,  4.17136066e-02,\n",
       "        2.41244063e-02, -6.11978956e-02,  6.38392270e-02,  3.95441316e-02,\n",
       "       -1.01737436e-02,  6.40860870e-02, -8.05489719e-02, -1.22738499e-02,\n",
       "        1.75221208e-02, -3.22027244e-02,  1.19832784e-01,  4.00542840e-02,\n",
       "       -1.15988618e-02, -5.71138486e-02,  2.08319426e-02, -7.80186951e-02,\n",
       "       -8.66118446e-02, -3.73095423e-02, -2.82100006e-03, -1.93584654e-02,\n",
       "        1.27566634e-02,  9.85823423e-02, -1.22164227e-01, -2.36942843e-02,\n",
       "        8.28758106e-02, -4.52696644e-02,  2.47298721e-02,  1.66624449e-02,\n",
       "       -2.80225314e-02, -2.82864515e-02,  7.60417897e-03,  2.18002722e-02,\n",
       "       -1.08128078e-02, -6.40086383e-02,  2.58200765e-02,  1.59007218e-02,\n",
       "        7.71203414e-02, -1.35682384e-02,  1.20291440e-02,  3.67132500e-02,\n",
       "        6.87917024e-02,  1.74665768e-02, -2.65180543e-02,  3.71758826e-02,\n",
       "        2.51802076e-02,  1.75939817e-02, -9.33493022e-03,  2.67637726e-02,\n",
       "        3.74240540e-02, -7.89473280e-02,  9.28874239e-02,  5.88733740e-02,\n",
       "        8.68418366e-02,  2.69784443e-02,  8.09529275e-02, -2.55871983e-03,\n",
       "       -2.20000185e-02,  7.65949767e-03, -2.39915326e-02,  1.48094863e-01,\n",
       "       -4.11624163e-02,  2.28909422e-02, -2.83702509e-03, -2.25433018e-02,\n",
       "       -5.38711436e-04, -5.19690663e-02,  7.22924946e-03,  3.20883319e-02,\n",
       "       -7.45337307e-02, -6.31510615e-02,  2.19588969e-02,  4.18236367e-02,\n",
       "        9.09962878e-02,  1.33735975e-02,  8.60184953e-02,  3.93631570e-02,\n",
       "        3.52126779e-03,  2.52754502e-02,  5.50691271e-03,  4.41386588e-02,\n",
       "        6.14709686e-03, -6.63164537e-03, -6.84238039e-03,  7.01528564e-02,\n",
       "        4.42563817e-02,  2.71484926e-02, -1.29470993e-02,  4.67813499e-02,\n",
       "       -6.02583922e-02, -9.13208444e-03,  7.55845681e-02, -1.53584896e-08,\n",
       "       -3.55315325e-03,  3.47466432e-02,  3.93344387e-02, -2.53866743e-02,\n",
       "        8.17901641e-02, -3.44565399e-02, -1.86920892e-02, -7.07681552e-02,\n",
       "       -6.45923764e-02,  4.67594899e-02,  8.04153904e-02,  1.78137440e-02,\n",
       "       -4.65446226e-02,  5.23922481e-02,  9.68680456e-02,  9.01235617e-04,\n",
       "        7.04625025e-02, -7.34828264e-02,  2.18108706e-02,  2.88814474e-02,\n",
       "       -8.06513876e-02, -3.54912202e-03,  2.69271317e-03, -4.87121120e-02,\n",
       "       -7.85891265e-02, -1.04503617e-01, -5.08781038e-02,  1.32969925e-02,\n",
       "        4.56696451e-02,  5.24098910e-02,  6.90322882e-03,  1.56807695e-02,\n",
       "        3.73751647e-03,  2.00063549e-02,  3.75503711e-02,  4.58804471e-03,\n",
       "       -6.42178440e-03, -6.04713410e-02,  9.40657780e-02, -3.74567099e-02,\n",
       "        7.53589869e-02,  2.13474240e-02, -3.94246494e-03, -1.14910481e-02,\n",
       "       -4.52815928e-02,  3.37237194e-02,  4.97347750e-02, -7.94535801e-02,\n",
       "       -5.06274924e-02,  1.12635335e-02, -6.33969158e-02, -1.69334281e-02,\n",
       "        4.66358326e-02,  1.12328865e-01,  5.61045147e-02, -2.13249438e-02,\n",
       "       -7.45305568e-02,  9.84970387e-03, -2.36960854e-02,  4.31105383e-02,\n",
       "        3.08117755e-02,  1.00340664e-01,  5.29931188e-02,  3.23624834e-02],\n",
       "      dtype=float32)"
      ]
     },
     "execution_count": 128,
     "metadata": {},
     "output_type": "execute_result"
    }
   ],
   "source": [
    "embedding = embedding_model.encode(\"My favourite animal is the donkey\")\n",
    "embedding"
   ]
  },
  {
   "cell_type": "code",
   "execution_count": 129,
   "metadata": {},
   "outputs": [
    {
     "data": {
      "application/vnd.jupyter.widget-view+json": {
       "model_id": "d159a6899da44d2ab4227e505c1c6c73",
       "version_major": 2,
       "version_minor": 0
      },
      "text/plain": [
       "  0%|          | 0/249 [00:00<?, ?it/s]"
      ]
     },
     "metadata": {},
     "output_type": "display_data"
    },
    {
     "name": "stdout",
     "output_type": "stream",
     "text": [
      "CPU times: total: 1.31 s\n",
      "Wall time: 1.5 s\n"
     ]
    }
   ],
   "source": [
    "%%time \n",
    "\n",
    "embedding_model.to(\"cuda\")\n",
    "\n",
    "for item in tqdm(pages_and_chunks_over_min_token_length):\n",
    "    item[\"embedding\"] = embedding_model.encode(item[\"sentence_chunk\"])\n",
    "\n"
   ]
  },
  {
   "cell_type": "code",
   "execution_count": 130,
   "metadata": {},
   "outputs": [
    {
     "name": "stdout",
     "output_type": "stream",
     "text": [
      "CPU times: total: 0 ns\n",
      "Wall time: 0 ns\n"
     ]
    },
    {
     "data": {
      "text/plain": [
       "'Deflation Hollows Deflation is the removal of loose particles from the ground by the action of wind. When deflation causes a shallow depression by persistent movements of wind, they are called as deflation hollows. Mushroom Tables Ventifacts are rocks that have been abraded, pitted, etched, grooved, or polished by wind-driven sand or ice crystals. These geomorphic features are most typically found in arid environments where there is little vegetation to interfere with aeolian particle transport, where there are frequently strong winds, and where there is a steady but not overwhelming supply of sand. Mushroom Tables / Mushroom rocks are Ventifacts in the shape of a mushroom. In deserts, a greater amount of sand and rock particles are transported close to the ground by the winds which cause more bottom erosion in overlying rocks than the top. This'"
      ]
     },
     "execution_count": 130,
     "metadata": {},
     "output_type": "execute_result"
    }
   ],
   "source": [
    "%%time \n",
    "\n",
    "text_chunks = [item[\"sentence_chunk\"] for item in pages_and_chunks_over_min_token_length]\n",
    "text_chunks[100]"
   ]
  },
  {
   "cell_type": "code",
   "execution_count": 131,
   "metadata": {},
   "outputs": [
    {
     "data": {
      "text/plain": [
       "249"
      ]
     },
     "execution_count": 131,
     "metadata": {},
     "output_type": "execute_result"
    }
   ],
   "source": [
    "len(text_chunks)"
   ]
  },
  {
   "cell_type": "code",
   "execution_count": 132,
   "metadata": {},
   "outputs": [
    {
     "name": "stdout",
     "output_type": "stream",
     "text": [
      "CPU times: total: 188 ms\n",
      "Wall time: 288 ms\n"
     ]
    },
    {
     "data": {
      "text/plain": [
       "tensor([[ 0.0561,  0.0737,  0.0419,  ..., -0.0218, -0.1246,  0.0038],\n",
       "        [-0.0754,  0.0494, -0.0252,  ...,  0.0150, -0.0143,  0.0286],\n",
       "        [ 0.0264, -0.0255,  0.0595,  ..., -0.0240, -0.0227, -0.0092],\n",
       "        ...,\n",
       "        [-0.0200,  0.0131,  0.1068,  ..., -0.0089,  0.0557, -0.0017],\n",
       "        [-0.0557,  0.0520,  0.1518,  ..., -0.0607, -0.0696, -0.0524],\n",
       "        [-0.0396,  0.0280,  0.1182,  ..., -0.0675, -0.1298, -0.0064]],\n",
       "       device='cuda:0')"
      ]
     },
     "execution_count": 132,
     "metadata": {},
     "output_type": "execute_result"
    }
   ],
   "source": [
    "%%time \n",
    "\n",
    "text_chunk_embeddings = embedding_model.encode(text_chunks, batch_size=32, convert_to_tensor=True)\n",
    "text_chunk_embeddings"
   ]
  },
  {
   "cell_type": "code",
   "execution_count": 133,
   "metadata": {},
   "outputs": [],
   "source": [
    "## Saving embeddings to file\n",
    "text_chunks_and_embeddings_df = pd.DataFrame(pages_and_chunks_over_min_token_length)\n",
    "embeddings_df_save_path = \" text_chunks_and_embeddings_df.csv\"\n",
    "text_chunks_and_embeddings_df.to_csv(embeddings_df_save_path, index=False)"
   ]
  },
  {
   "cell_type": "code",
   "execution_count": 134,
   "metadata": {},
   "outputs": [
    {
     "data": {
      "text/html": [
       "<div>\n",
       "<style scoped>\n",
       "    .dataframe tbody tr th:only-of-type {\n",
       "        vertical-align: middle;\n",
       "    }\n",
       "\n",
       "    .dataframe tbody tr th {\n",
       "        vertical-align: top;\n",
       "    }\n",
       "\n",
       "    .dataframe thead th {\n",
       "        text-align: right;\n",
       "    }\n",
       "</style>\n",
       "<table border=\"1\" class=\"dataframe\">\n",
       "  <thead>\n",
       "    <tr style=\"text-align: right;\">\n",
       "      <th></th>\n",
       "      <th>page_number</th>\n",
       "      <th>sentence_chunk</th>\n",
       "      <th>chunk_char_count</th>\n",
       "      <th>chunk_word_count</th>\n",
       "      <th>chunk_token_count</th>\n",
       "      <th>embedding</th>\n",
       "    </tr>\n",
       "  </thead>\n",
       "  <tbody>\n",
       "    <tr>\n",
       "      <th>0</th>\n",
       "      <td>0</td>\n",
       "      <td>1   IIPA2022 22 World Geography Short Answers ...</td>\n",
       "      <td>75</td>\n",
       "      <td>15</td>\n",
       "      <td>18.75</td>\n",
       "      <td>[ 5.60791939e-02  7.36621842e-02  4.18552086e-...</td>\n",
       "    </tr>\n",
       "    <tr>\n",
       "      <th>1</th>\n",
       "      <td>1</td>\n",
       "      <td>2 Contents 1. Origin of Solar System and Sun ....</td>\n",
       "      <td>3711</td>\n",
       "      <td>128</td>\n",
       "      <td>927.75</td>\n",
       "      <td>[-7.53976032e-02  4.93803062e-02 -2.51827892e-...</td>\n",
       "    </tr>\n",
       "    <tr>\n",
       "      <th>2</th>\n",
       "      <td>1</td>\n",
       "      <td>Temperature, Pressure and Density of the Earth...</td>\n",
       "      <td>879</td>\n",
       "      <td>30</td>\n",
       "      <td>219.75</td>\n",
       "      <td>[ 2.63881050e-02 -2.54815072e-02  5.94870374e-...</td>\n",
       "    </tr>\n",
       "    <tr>\n",
       "      <th>3</th>\n",
       "      <td>2</td>\n",
       "      <td>3 Types of Volcanoes ............................</td>\n",
       "      <td>4446</td>\n",
       "      <td>206</td>\n",
       "      <td>1111.50</td>\n",
       "      <td>[ 7.03721046e-02 -3.47200967e-02  5.47501445e-...</td>\n",
       "    </tr>\n",
       "    <tr>\n",
       "      <th>4</th>\n",
       "      <td>3</td>\n",
       "      <td>4 Continental Slope .............................</td>\n",
       "      <td>3865</td>\n",
       "      <td>167</td>\n",
       "      <td>966.25</td>\n",
       "      <td>[ 1.10680657e-02  4.12390829e-04 -1.85156371e-...</td>\n",
       "    </tr>\n",
       "  </tbody>\n",
       "</table>\n",
       "</div>"
      ],
      "text/plain": [
       "   page_number                                     sentence_chunk  \\\n",
       "0            0  1   IIPA2022 22 World Geography Short Answers ...   \n",
       "1            1  2 Contents 1. Origin of Solar System and Sun ....   \n",
       "2            1  Temperature, Pressure and Density of the Earth...   \n",
       "3            2  3 Types of Volcanoes ............................   \n",
       "4            3  4 Continental Slope .............................   \n",
       "\n",
       "   chunk_char_count  chunk_word_count  chunk_token_count  \\\n",
       "0                75                15              18.75   \n",
       "1              3711               128             927.75   \n",
       "2               879                30             219.75   \n",
       "3              4446               206            1111.50   \n",
       "4              3865               167             966.25   \n",
       "\n",
       "                                           embedding  \n",
       "0  [ 5.60791939e-02  7.36621842e-02  4.18552086e-...  \n",
       "1  [-7.53976032e-02  4.93803062e-02 -2.51827892e-...  \n",
       "2  [ 2.63881050e-02 -2.54815072e-02  5.94870374e-...  \n",
       "3  [ 7.03721046e-02 -3.47200967e-02  5.47501445e-...  \n",
       "4  [ 1.10680657e-02  4.12390829e-04 -1.85156371e-...  "
      ]
     },
     "execution_count": 134,
     "metadata": {},
     "output_type": "execute_result"
    }
   ],
   "source": [
    "## viewing the saved file\n",
    "\n",
    "text_chunks_and_embeddings_df_load = pd.read_csv(embeddings_df_save_path)\n",
    "text_chunks_and_embeddings_df_load.head()\n"
   ]
  },
  {
   "cell_type": "markdown",
   "metadata": {},
   "source": [
    "RAG : Search and Answer :: \n",
    "\n",
    "Retrieve relevant passages based on Query and use those passages to augment an input to an LLM so it can generate an output based on those relevant passages."
   ]
  },
  {
   "cell_type": "code",
   "execution_count": 140,
   "metadata": {},
   "outputs": [
    {
     "data": {
      "text/html": [
       "<div>\n",
       "<style scoped>\n",
       "    .dataframe tbody tr th:only-of-type {\n",
       "        vertical-align: middle;\n",
       "    }\n",
       "\n",
       "    .dataframe tbody tr th {\n",
       "        vertical-align: top;\n",
       "    }\n",
       "\n",
       "    .dataframe thead th {\n",
       "        text-align: right;\n",
       "    }\n",
       "</style>\n",
       "<table border=\"1\" class=\"dataframe\">\n",
       "  <thead>\n",
       "    <tr style=\"text-align: right;\">\n",
       "      <th></th>\n",
       "      <th>page_number</th>\n",
       "      <th>sentence_chunk</th>\n",
       "      <th>chunk_char_count</th>\n",
       "      <th>chunk_word_count</th>\n",
       "      <th>chunk_token_count</th>\n",
       "      <th>embedding</th>\n",
       "    </tr>\n",
       "  </thead>\n",
       "  <tbody>\n",
       "    <tr>\n",
       "      <th>0</th>\n",
       "      <td>0</td>\n",
       "      <td>1   IIPA2022 22 World Geography Short Answers ...</td>\n",
       "      <td>75</td>\n",
       "      <td>15</td>\n",
       "      <td>18.75</td>\n",
       "      <td>[0.0560791939, 0.0736621842, 0.0418552086, 0.0...</td>\n",
       "    </tr>\n",
       "    <tr>\n",
       "      <th>1</th>\n",
       "      <td>1</td>\n",
       "      <td>2 Contents 1. Origin of Solar System and Sun ....</td>\n",
       "      <td>3711</td>\n",
       "      <td>128</td>\n",
       "      <td>927.75</td>\n",
       "      <td>[-0.0753976032, 0.0493803062, -0.0251827892, 0...</td>\n",
       "    </tr>\n",
       "    <tr>\n",
       "      <th>2</th>\n",
       "      <td>1</td>\n",
       "      <td>Temperature, Pressure and Density of the Earth...</td>\n",
       "      <td>879</td>\n",
       "      <td>30</td>\n",
       "      <td>219.75</td>\n",
       "      <td>[0.026388105, -0.0254815072, 0.0594870374, 0.0...</td>\n",
       "    </tr>\n",
       "    <tr>\n",
       "      <th>3</th>\n",
       "      <td>2</td>\n",
       "      <td>3 Types of Volcanoes ............................</td>\n",
       "      <td>4446</td>\n",
       "      <td>206</td>\n",
       "      <td>1111.50</td>\n",
       "      <td>[0.0703721046, -0.0347200967, 0.0547501445, -0...</td>\n",
       "    </tr>\n",
       "    <tr>\n",
       "      <th>4</th>\n",
       "      <td>3</td>\n",
       "      <td>4 Continental Slope .............................</td>\n",
       "      <td>3865</td>\n",
       "      <td>167</td>\n",
       "      <td>966.25</td>\n",
       "      <td>[0.0110680657, 0.000412390829, -0.0185156371, ...</td>\n",
       "    </tr>\n",
       "  </tbody>\n",
       "</table>\n",
       "</div>"
      ],
      "text/plain": [
       "   page_number                                     sentence_chunk  \\\n",
       "0            0  1   IIPA2022 22 World Geography Short Answers ...   \n",
       "1            1  2 Contents 1. Origin of Solar System and Sun ....   \n",
       "2            1  Temperature, Pressure and Density of the Earth...   \n",
       "3            2  3 Types of Volcanoes ............................   \n",
       "4            3  4 Continental Slope .............................   \n",
       "\n",
       "   chunk_char_count  chunk_word_count  chunk_token_count  \\\n",
       "0                75                15              18.75   \n",
       "1              3711               128             927.75   \n",
       "2               879                30             219.75   \n",
       "3              4446               206            1111.50   \n",
       "4              3865               167             966.25   \n",
       "\n",
       "                                           embedding  \n",
       "0  [0.0560791939, 0.0736621842, 0.0418552086, 0.0...  \n",
       "1  [-0.0753976032, 0.0493803062, -0.0251827892, 0...  \n",
       "2  [0.026388105, -0.0254815072, 0.0594870374, 0.0...  \n",
       "3  [0.0703721046, -0.0347200967, 0.0547501445, -0...  \n",
       "4  [0.0110680657, 0.000412390829, -0.0185156371, ...  "
      ]
     },
     "execution_count": 140,
     "metadata": {},
     "output_type": "execute_result"
    }
   ],
   "source": [
    " #Simimlarity Search \n",
    "import torch \n",
    "import numpy as np \n",
    "device = \"cuda\" if torch.cuda.is_available() else \"cpu\"\n",
    "import pandas as pd\n",
    "\n",
    "text_chunks_and_embeddings_df_load[\"embedding\"] = text_chunks_and_embeddings_df_load[\"embedding\"].apply(lambda x: np.array([float(i) for i in str(x).strip(\"[]\").split()]))\n",
    "\n",
    "embeddings = torch.tensor(np.stack(text_chunks_and_embeddings_df_load[\"embedding\"].tolist(), axis=0), dtype=torch.float32).to(device)\n",
    "\n",
    "pages_and_chunks =  text_chunks_and_embeddings_df_load.to_dict(orient=\"records\")\n",
    "\n",
    "text_chunks_and_embeddings_df_load.head()"
   ]
  },
  {
   "cell_type": "code",
   "execution_count": 141,
   "metadata": {},
   "outputs": [
    {
     "data": {
      "text/plain": [
       "torch.Size([249, 384])"
      ]
     },
     "execution_count": 141,
     "metadata": {},
     "output_type": "execute_result"
    }
   ],
   "source": [
    "embeddings.shape\n",
    "\n",
    "#259 embeddings all of size 384"
   ]
  },
  {
   "cell_type": "code",
   "execution_count": 142,
   "metadata": {},
   "outputs": [
    {
     "name": "stderr",
     "output_type": "stream",
     "text": [
      "C:\\Users\\aryan\\AppData\\Local\\Packages\\PythonSoftwareFoundation.Python.3.11_qbz5n2kfra8p0\\LocalCache\\local-packages\\Python311\\site-packages\\huggingface_hub\\file_download.py:1132: FutureWarning: `resume_download` is deprecated and will be removed in version 1.0.0. Downloads always resume when possible. If you want to force a new download, use `force_download=True`.\n",
      "  warnings.warn(\n"
     ]
    }
   ],
   "source": [
    "from sentence_transformers import util, SentenceTransformer\n",
    "embedding_model = SentenceTransformer(model_name_or_path=\"all-MiniLM-L6-v2\", device=device)\n"
   ]
  },
  {
   "cell_type": "markdown",
   "metadata": {},
   "source": [
    "SEMANTIC SEARCH PIPELINE\n",
    "\n",
    "1. Defining a Query String\n",
    "2. Turn the query into an embedding. \n",
    "3. Perform a dot product or cosine simmilarity function between the text embeddings and the query embedding. \n",
    "4. Sort the results from 3 in descending order."
   ]
  },
  {
   "cell_type": "code",
   "execution_count": 147,
   "metadata": {},
   "outputs": [
    {
     "name": "stdout",
     "output_type": "stream",
     "text": [
      "query: rivers and lakes\n"
     ]
    },
    {
     "data": {
      "text/plain": [
       "torch.return_types.topk(\n",
       "values=tensor([0.5441, 0.4873, 0.4794, 0.4749, 0.4547], device='cuda:0'),\n",
       "indices=tensor([ 80, 106,  79,  78,  87], device='cuda:0'))"
      ]
     },
     "execution_count": 147,
     "metadata": {},
     "output_type": "execute_result"
    }
   ],
   "source": [
    "# Defining the Query String \n",
    "\n",
    "query = \"rivers and lakes\"\n",
    "print(f\"query: {query}\")\n",
    "\n",
    "# turning the query into an embedding using the same model\n",
    "\n",
    "query_embedding = embedding_model.encode(query, convert_to_tensor=True).to(\"cuda\")\n",
    "\n",
    "# getting simmilarity scores using the dot product \n",
    "\n",
    "\n",
    "dot_scores = util.dot_score(a=query_embedding, b=embeddings)[0]\n",
    "results_dot_product = torch.topk(dot_scores, k=5)\n",
    "results_dot_product"
   ]
  },
  {
   "cell_type": "code",
   "execution_count": 148,
   "metadata": {},
   "outputs": [
    {
     "data": {
      "text/plain": [
       "{'page_number': 40,\n",
       " 'sentence_chunk': '41 many tributaries. The work of river predominantly becomes transportation of the eroded materials from the upper course (little deposition too). Landforms like alluvial fans, piedmont alluvial plains, meanders etc.can be seen at this stage. Lower Course/ Stage of Old (Deposition dominates): The river starts to flow through a broad, level plain with heavy debris brought down from upper and middle courses. Vertical erosion has almost stopped and lateral erosion still goes on. The work of the river is mainly deposition, building up its bed and forming an extensive flood plain. Landforms like braided channels, floodplains, levees, meanders, oxbow lakes, deltas etc.can be seen at this stage. Running water: erosion, transportation, and deposition Erosion occurs when overland flow moves soil particles downslope.',\n",
       " 'chunk_char_count': 818,\n",
       " 'chunk_word_count': 122,\n",
       " 'chunk_token_count': 204.5,\n",
       " 'embedding': array([ 4.39054668e-02, -2.59029903e-02,  1.08097903e-01, -6.16278686e-02,\n",
       "        -1.81720387e-02, -3.74521092e-02, -6.04323223e-02,  1.51325355e-03,\n",
       "        -2.20710738e-03, -1.96547285e-02, -9.90003869e-02, -4.92873378e-02,\n",
       "        -4.05813456e-02,  3.45032550e-02, -7.68540651e-02,  9.35777614e-04,\n",
       "        -4.68016341e-02,  1.02304034e-02,  1.28057841e-02, -2.01113764e-02,\n",
       "         8.68882388e-02,  3.09772063e-02, -8.86629298e-02,  1.73173239e-03,\n",
       "         4.22911309e-02,  5.21041080e-02, -2.58545727e-02,  2.16917917e-02,\n",
       "         4.84780781e-02, -1.05684131e-01, -3.97158600e-02,  6.51598573e-02,\n",
       "        -4.93326411e-02, -9.49281082e-03,  2.32798252e-02,  3.33952755e-02,\n",
       "        -2.12011691e-02,  4.89632301e-02, -1.23137534e-02,  4.75491770e-02,\n",
       "         2.31981575e-02, -4.10305299e-02,  1.92643646e-02, -8.07920005e-03,\n",
       "         7.95276649e-03,  1.24110570e-02,  7.91264176e-02, -7.33483061e-02,\n",
       "        -9.08386037e-02, -1.66134734e-03,  6.78491667e-02, -7.98458159e-02,\n",
       "        -4.23470996e-02,  1.10378511e-01, -5.76100871e-02, -4.40613180e-02,\n",
       "         2.73165456e-03, -2.87743956e-02, -2.87107378e-02,  5.67992218e-02,\n",
       "        -1.57389957e-02, -2.84030512e-02, -7.53481686e-02, -2.84280051e-02,\n",
       "        -1.62185188e-02,  3.19434367e-02, -2.43075844e-02,  4.76432145e-02,\n",
       "         1.11091062e-02, -1.99508499e-02,  5.50863072e-02,  1.00877052e-02,\n",
       "        -3.54667157e-02, -4.39256690e-02, -1.33765610e-02, -1.14056647e-01,\n",
       "         2.01454479e-02,  6.47208989e-02,  1.32054547e-02, -1.10824667e-01,\n",
       "         1.70149989e-02,  5.08010834e-02,  5.67888804e-02, -7.26167634e-02,\n",
       "        -4.34472635e-02,  6.59940988e-02, -2.00857520e-02, -2.70940233e-02,\n",
       "         1.39137916e-02, -2.63528842e-02, -4.49377708e-02,  3.64301726e-02,\n",
       "        -4.67638783e-02, -4.06370088e-02,  6.01267293e-02,  8.43222812e-02,\n",
       "         1.40560986e-02, -4.17546220e-02,  1.23587273e-01, -4.11051000e-03,\n",
       "        -2.44428664e-02, -1.91415399e-02,  8.30594897e-02,  3.00325751e-02,\n",
       "         3.12979035e-02, -2.02839589e-03, -1.88778415e-02,  4.91791628e-02,\n",
       "         1.23963254e-02,  3.61360349e-02,  1.62038126e-03, -3.14359404e-02,\n",
       "         9.79522802e-03,  5.84799834e-02,  4.06469144e-02, -4.44063433e-02,\n",
       "        -3.37052643e-02,  2.60746144e-02, -1.31529987e-01,  2.77154427e-02,\n",
       "        -4.37244847e-02, -3.08466319e-04, -5.27642109e-03,  3.73846479e-02,\n",
       "         6.04428463e-02,  4.74207774e-02, -1.12138418e-02,  8.42944519e-34,\n",
       "         6.11120425e-02, -1.07719883e-01, -6.41852804e-03,  4.39286530e-02,\n",
       "        -2.23204140e-02, -3.45933177e-02,  2.27489732e-02,  1.34391701e-02,\n",
       "         7.45424349e-03,  3.10180020e-02, -1.19977724e-02, -5.17137200e-02,\n",
       "        -6.96941763e-02,  1.42418519e-01, -1.60454633e-03, -1.03244424e-01,\n",
       "         1.44346664e-02, -3.94076444e-02, -2.16743555e-02,  1.89745855e-02,\n",
       "        -1.89894643e-02,  4.37178556e-03, -5.65585047e-02, -6.04006797e-02,\n",
       "         1.98557898e-02, -6.52019456e-02, -1.18378326e-02,  2.81360168e-02,\n",
       "        -3.80062759e-02,  9.41462058e-04,  4.26881574e-02, -5.81973605e-02,\n",
       "        -4.48128358e-02,  6.15585875e-03, -3.82703543e-02,  1.91961005e-02,\n",
       "         1.95005145e-02,  4.26715724e-02,  6.73093647e-02,  4.18602750e-02,\n",
       "         1.87547579e-02, -1.62159093e-02, -5.76843098e-02,  1.06994631e-02,\n",
       "         1.07554309e-02, -4.11013104e-02,  6.97761104e-02,  2.03971211e-02,\n",
       "        -3.28997150e-02,  3.53321023e-02,  4.55041416e-02, -6.67597493e-03,\n",
       "         2.69054435e-02,  5.24450839e-03,  3.11542451e-02,  4.27299663e-02,\n",
       "        -6.75820187e-02, -1.73032768e-02, -7.21208677e-02,  8.61863568e-02,\n",
       "         4.64409664e-02,  4.75178547e-02, -4.26795259e-02,  1.16254892e-02,\n",
       "         4.76202294e-02,  1.77850854e-02,  4.01649810e-02,  8.92110169e-02,\n",
       "         4.88342717e-02, -4.23354842e-02, -1.29736736e-01, -4.58046049e-02,\n",
       "        -4.74198014e-02,  3.99657898e-02,  3.06335315e-02,  2.56466051e-03,\n",
       "         1.61820073e-02, -7.41632981e-03,  4.45159376e-02,  7.68512785e-02,\n",
       "        -5.93041182e-02,  2.29327120e-02, -1.45849073e-02, -9.10469238e-03,\n",
       "         4.76871431e-02,  3.06185316e-02,  1.32384263e-02, -1.39078349e-01,\n",
       "         2.20758910e-03,  6.95592258e-03, -3.11420225e-02,  1.16168177e-02,\n",
       "         4.31593731e-02,  3.60093787e-02,  9.69516560e-02, -2.50065338e-33,\n",
       "         4.33039814e-02,  4.80869822e-02, -8.20098445e-02,  5.52872233e-02,\n",
       "        -1.57785434e-02, -4.81134281e-02,  7.21874684e-02,  4.22536358e-02,\n",
       "         2.71199923e-02, -6.84276735e-03, -7.87473768e-02,  9.32490751e-02,\n",
       "        -8.06516930e-02,  4.95542074e-03,  1.00510931e-02, -6.91835433e-02,\n",
       "         4.32745889e-02,  3.61096114e-02,  2.64978372e-02, -7.19463527e-02,\n",
       "        -7.78545588e-02,  2.00009160e-02, -1.53316371e-03, -1.08170845e-01,\n",
       "         1.61029696e-02,  2.15486176e-02, -8.83319005e-02, -4.35657725e-02,\n",
       "         2.60687079e-02, -1.69343296e-02,  3.57035846e-02, -2.78598256e-02,\n",
       "         7.24313781e-02, -6.53529093e-02, -1.18765309e-01, -2.39318758e-02,\n",
       "         2.93041244e-02, -5.11504598e-02,  4.23839092e-02, -4.57464010e-02,\n",
       "         5.07041626e-02,  1.92998021e-04,  1.40586808e-01, -3.65939103e-02,\n",
       "        -1.63223613e-02,  2.76633389e-02, -4.59176628e-03,  6.80340305e-02,\n",
       "        -5.00666834e-02,  9.20613855e-03,  1.34437066e-02,  4.70571667e-02,\n",
       "        -2.78306268e-02,  5.65860048e-02,  4.86684516e-02, -5.27338870e-02,\n",
       "         1.66136205e-01,  2.67123207e-02, -7.85118490e-02, -2.25751605e-02,\n",
       "         6.54084980e-03,  3.15308720e-02, -6.86317235e-02, -3.10843010e-02,\n",
       "         6.82523847e-02, -3.89608962e-04, -1.35997180e-02, -1.57896411e-02,\n",
       "        -1.71715301e-02, -2.28904118e-03, -4.35339175e-02, -9.72315017e-03,\n",
       "        -5.29878922e-02, -9.50578004e-02,  6.42881021e-02, -2.04240158e-02,\n",
       "        -3.34878452e-02,  4.33426909e-02,  2.33755223e-02, -2.86157299e-02,\n",
       "        -8.71387869e-03,  5.34905307e-02, -8.52573011e-03, -1.43313706e-02,\n",
       "         2.28836890e-02, -2.07348000e-02, -5.22885583e-02, -1.23740114e-01,\n",
       "         6.14800155e-02,  5.23068607e-02,  2.38066372e-02, -1.14644542e-01,\n",
       "        -1.57957952e-02,  3.98947001e-02, -3.50161344e-02, -4.18989465e-08,\n",
       "         1.14958817e-02,  4.37302701e-02,  2.25172583e-02, -5.52792214e-02,\n",
       "         3.54407355e-02, -2.24379636e-02,  5.91649264e-02,  1.26697287e-01,\n",
       "         7.66933337e-02, -6.65875599e-02, -5.09674139e-02, -6.67293649e-03,\n",
       "         1.38495723e-03, -3.82755464e-03,  1.36075228e-01, -2.99272500e-02,\n",
       "         2.19062939e-02, -3.69870663e-02, -7.39015862e-02, -7.68244788e-02,\n",
       "         1.71678304e-03, -4.90738191e-02, -8.91308039e-02,  8.25609565e-02,\n",
       "        -1.04331374e-02, -7.84704536e-02,  2.71074716e-02,  4.18543853e-02,\n",
       "         3.10128368e-02, -2.34144926e-02,  4.32644114e-02,  9.56833884e-02,\n",
       "         1.60239562e-02,  1.79191970e-03,  1.04857996e-01,  1.64720491e-02,\n",
       "        -2.03126222e-02, -1.69748422e-02,  3.32390741e-02,  4.71959040e-02,\n",
       "         2.20464971e-02, -5.29899355e-03,  3.79236601e-02, -3.87572981e-02,\n",
       "         8.03838447e-02,  3.96869890e-03, -5.49197309e-02, -1.40278563e-02,\n",
       "         3.61610278e-02, -5.31378090e-02, -4.82261702e-02,  4.72756922e-02,\n",
       "         4.97047752e-02,  1.15961403e-01,  3.68983857e-02,  3.14913578e-02,\n",
       "        -1.73312780e-02, -9.97039452e-02,  2.30422663e-03, -3.75717808e-03,\n",
       "         3.78464088e-02, -6.76179072e-03,  4.98051122e-02, -1.95800588e-02])}"
      ]
     },
     "execution_count": 148,
     "metadata": {},
     "output_type": "execute_result"
    }
   ],
   "source": [
    "#checking for working \n",
    "pages_and_chunks[80]"
   ]
  },
  {
   "cell_type": "code",
   "execution_count": null,
   "metadata": {},
   "outputs": [],
   "source": []
  }
 ],
 "metadata": {
  "kernelspec": {
   "display_name": "Python 3",
   "language": "python",
   "name": "python3"
  },
  "language_info": {
   "codemirror_mode": {
    "name": "ipython",
    "version": 3
   },
   "file_extension": ".py",
   "mimetype": "text/x-python",
   "name": "python",
   "nbconvert_exporter": "python",
   "pygments_lexer": "ipython3",
   "version": "3.11.9"
  }
 },
 "nbformat": 4,
 "nbformat_minor": 2
}
